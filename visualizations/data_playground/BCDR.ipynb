{
 "cells": [
  {
   "cell_type": "code",
   "execution_count": 2,
   "id": "4d8ce842-0273-4061-8848-53c1c7b8d339",
   "metadata": {
    "tags": []
   },
   "outputs": [
    {
     "name": "stdout",
     "output_type": "stream",
     "text": [
      "Total clients selected by status (Normal): 230\n",
      "Total clients selected by status (Benign): 174\n",
      "Total clients selected by status (Malignant): 55\n"
     ]
    }
   ],
   "source": [
    "import os\n",
    "import numpy as np\n",
    "from PIL import Image\n",
    "from src.data_handling.mmg_detection_datasets import *\n",
    "from src.visualizations.plot_image import plot_image_opencv_fit_window\n",
    "from src.data_augmentation.breast_density.data.resize_image import *\n",
    "import torch\n",
    "\n",
    "from src.preprocessing.histogram_standardization import get_hist_stand_landmarks, apply_hist_stand_landmarks\n",
    "\n",
    "pathologies = None #['mass', 'calcifications', 'suspicious_calcifications', 'architectural_distortion'] # None to select all\n",
    "status = ['Normal', 'Benign', 'Malignant'] #['Normal'] \n",
    "# Resize images keeping aspect ratio\n",
    "\n",
    "# Call to the BCDR Dataloader\n",
    "CSV_PATH = \"/home/lidia-garrucho/datasets/BCDR\"\n",
    "DATASET_PATH = \"/home/lidia-garrucho/datasets/BCDR\"\n",
    "csv_path = [os.path.join(CSV_PATH,'cropped/BCDR-D01_dataset/dataset_info.csv'),\n",
    "            os.path.join(CSV_PATH,'cropped/BCDR-D02_dataset/dataset_info.csv'),\n",
    "            os.path.join(CSV_PATH,'cropped/BCDR-DN01_dataset/dataset_info.csv')]\n",
    "dataset_path = [os.path.join(DATASET_PATH,'cropped/BCDR-D01_dataset'),\n",
    "                os.path.join(DATASET_PATH,'cropped/BCDR-D02_dataset'),\n",
    "                os.path.join(DATASET_PATH,'cropped/BCDR-DN01_dataset')]\n",
    "bcdr_clients = BCDRDataset(csv_path, dataset_path, detection=False, load_max=-1, \n",
    "                    cropped_to_breast=True)\n",
    "\n",
    "for status in ['Normal', 'Benign', 'Malignant']:\n",
    "    clients_selected = bcdr_clients.get_clients_by_status(status)\n",
    "    print(f'Total clients selected by status ({status}): {len(clients_selected)}')"
   ]
  },
  {
   "cell_type": "code",
   "execution_count": 4,
   "id": "4649a33f-47e0-425c-9915-49fbf7a66883",
   "metadata": {},
   "outputs": [
    {
     "data": {
      "text/plain": [
       "229"
      ]
     },
     "execution_count": 4,
     "metadata": {},
     "output_type": "execute_result"
    }
   ],
   "source": [
    "174+55"
   ]
  },
  {
   "cell_type": "code",
   "execution_count": 3,
   "id": "03e22c0e-dbb8-4d01-a0ba-a64a84e1892f",
   "metadata": {},
   "outputs": [
    {
     "name": "stdout",
     "output_type": "stream",
     "text": [
      "Printing status Normal:\n",
      "620\n",
      "Printing status Benign:\n",
      "439\n",
      "Printing status Malignant:\n",
      "105\n"
     ]
    }
   ],
   "source": [
    "csv_path = '/home/lidia-garrucho/datasets/INBREAST/INbreast_updated_cropped_breast.csv'\n",
    "dataset_path = '/home/lidia-garrucho/datasets/INBREAST/AllPNG_cropped'\n",
    "inbreast_clients = INBreastDataset(csv_path, dataset_path, detection=False, load_max=-1, \n",
    "                                cropped_to_breast=True)\n",
    "\n",
    "images_benign, images_normal, images_malignant = [], [], []\n",
    "for c in bcdr_clients:\n",
    "    for lists, status in zip([images_normal, images_benign, images_malignant], ['Normal', 'Benign', 'Malignant']):\n",
    "        client_images_by_status = c.get_images_by_status(status=[status])\n",
    "        for image in client_images_by_status:\n",
    "            lists.append(image)\n",
    "       \n",
    "count_dict = {'Normal':0,'Benign':0, 'Malignant':0}      \n",
    "for l, status in zip([images_normal, images_benign, images_malignant], ['Normal', 'Benign', 'Malignant']):\n",
    "    print(f'Printing status {status}:')\n",
    "    for i in l:\n",
    "        # print(i.status)\n",
    "        count_dict[status]+=1\n",
    "    print(count_dict[status])\n",
    "    \n",
    "# for l, status in zip([images_normal, images_benign, images_malignant], ['Normal', 'Benign', 'Malignant']):\n",
    "#     print(f'Printing status {status}:')\n",
    "#     for i in l:\n",
    "#         print(i.status)      "
   ]
  },
  {
   "cell_type": "code",
   "execution_count": 5,
   "id": "9fbbdfb5-0ed6-4c0f-a7a6-702801233030",
   "metadata": {},
   "outputs": [
    {
     "data": {
      "text/plain": [
       "544"
      ]
     },
     "execution_count": 5,
     "metadata": {},
     "output_type": "execute_result"
    }
   ],
   "source": [
    "105+439"
   ]
  }
 ],
 "metadata": {
  "kernelspec": {
   "display_name": "Python 3",
   "language": "python",
   "name": "python3"
  },
  "language_info": {
   "codemirror_mode": {
    "name": "ipython",
    "version": 3
   },
   "file_extension": ".py",
   "mimetype": "text/x-python",
   "name": "python",
   "nbconvert_exporter": "python",
   "pygments_lexer": "ipython3",
   "version": "3.7.6"
  }
 },
 "nbformat": 4,
 "nbformat_minor": 5
}
