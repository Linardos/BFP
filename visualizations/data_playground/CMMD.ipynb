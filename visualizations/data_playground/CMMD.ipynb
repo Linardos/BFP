{
 "cells": [
  {
   "cell_type": "code",
   "execution_count": 2,
   "id": "4d8ce842-0273-4061-8848-53c1c7b8d339",
   "metadata": {
    "tags": []
   },
   "outputs": [],
   "source": [
    "import os\n",
    "import numpy as np\n",
    "from PIL import Image\n",
    "from src.data_handling.mmg_detection_datasets import *\n",
    "from src.visualizations.plot_image import plot_image_opencv_fit_window\n",
    "from src.data_augmentation.breast_density.data.resize_image import *\n",
    "import torch\n",
    "\n",
    "from src.preprocessing.histogram_standardization import get_hist_stand_landmarks, apply_hist_stand_landmarks\n",
    "\n",
    "\n",
    "\n",
    "pathologies = None #['mass', 'calcifications', 'suspicious_calcifications', 'architectural_distortion'] # None to select all\n",
    "status = ['Normal', 'Benign', 'Malignant'] #['Normal'] \n",
    "# Resize images keeping aspect ratio\n",
    "\n",
    "# Call to the OPTIMAM Dataloader\n",
    "csv_path = '/home/akis-linardos/Datasets/CMMD/info.csv'\n"
   ]
  },
  {
   "cell_type": "code",
   "execution_count": 3,
   "id": "3222ff35-188a-49c2-bbb3-c37802c7a993",
   "metadata": {},
   "outputs": [],
   "source": [
    "csv = pd.read_csv(csv_path, index_col=[0])\n",
    "# csv=csv.drop(['Unnamed: 0.1', 'Unnamed: 0.1.1', 'Unnamed: 0.1.1.1', 'Unnamed: 0.1.1.1.1'],axis=1)\n",
    "# csv.to_csv(csv_path)\n"
   ]
  },
  {
   "cell_type": "code",
   "execution_count": 4,
   "id": "ac86cc22-1384-4e9f-a790-fff97db1e432",
   "metadata": {},
   "outputs": [
    {
     "data": {
      "text/html": [
       "<div>\n",
       "<style scoped>\n",
       "    .dataframe tbody tr th:only-of-type {\n",
       "        vertical-align: middle;\n",
       "    }\n",
       "\n",
       "    .dataframe tbody tr th {\n",
       "        vertical-align: top;\n",
       "    }\n",
       "\n",
       "    .dataframe thead th {\n",
       "        text-align: right;\n",
       "    }\n",
       "</style>\n",
       "<table border=\"1\" class=\"dataframe\">\n",
       "  <thead>\n",
       "    <tr style=\"text-align: right;\">\n",
       "      <th></th>\n",
       "      <th>series_id</th>\n",
       "      <th>Collection</th>\n",
       "      <th>3rd Party Analysis</th>\n",
       "      <th>Data Description URI</th>\n",
       "      <th>patient_id</th>\n",
       "      <th>study_id</th>\n",
       "      <th>Study Description</th>\n",
       "      <th>Study Date</th>\n",
       "      <th>Series Description</th>\n",
       "      <th>manufacturer</th>\n",
       "      <th>...</th>\n",
       "      <th>SOP Class UID</th>\n",
       "      <th>Number of Images</th>\n",
       "      <th>File Size</th>\n",
       "      <th>scan_path</th>\n",
       "      <th>Download Timestamp</th>\n",
       "      <th>status</th>\n",
       "      <th>pathology</th>\n",
       "      <th>laterality</th>\n",
       "      <th>view</th>\n",
       "      <th>image_id</th>\n",
       "    </tr>\n",
       "  </thead>\n",
       "  <tbody>\n",
       "    <tr>\n",
       "      <th>0</th>\n",
       "      <td>1.3.6.1.4.1.14519.5.2.1.1239.1759.292560899611...</td>\n",
       "      <td>CMMD</td>\n",
       "      <td>NO</td>\n",
       "      <td>https://doi.org/10.7937/tcia.eqde4b16</td>\n",
       "      <td>D1-0003</td>\n",
       "      <td>1.3.6.1.4.1.14519.5.2.1.1239.1759.113089024322...</td>\n",
       "      <td>NaN</td>\n",
       "      <td>07-18-2011</td>\n",
       "      <td>NaN</td>\n",
       "      <td>NaN</td>\n",
       "      <td>...</td>\n",
       "      <td>1.2.840.10008.5.1.4.1.1.1.2</td>\n",
       "      <td>2</td>\n",
       "      <td>8.79 MB</td>\n",
       "      <td>CMMD/D1-0003/07-18-2011-NA-NA-25491/1.000000-N...</td>\n",
       "      <td>2022-02-22T14:26:56.454</td>\n",
       "      <td>Benign</td>\n",
       "      <td>calcification</td>\n",
       "      <td>L</td>\n",
       "      <td>CC</td>\n",
       "      <td>0</td>\n",
       "    </tr>\n",
       "    <tr>\n",
       "      <th>1</th>\n",
       "      <td>1.3.6.1.4.1.14519.5.2.1.1239.1759.292560899611...</td>\n",
       "      <td>CMMD</td>\n",
       "      <td>NO</td>\n",
       "      <td>https://doi.org/10.7937/tcia.eqde4b16</td>\n",
       "      <td>D1-0003</td>\n",
       "      <td>1.3.6.1.4.1.14519.5.2.1.1239.1759.113089024322...</td>\n",
       "      <td>NaN</td>\n",
       "      <td>07-18-2011</td>\n",
       "      <td>NaN</td>\n",
       "      <td>NaN</td>\n",
       "      <td>...</td>\n",
       "      <td>1.2.840.10008.5.1.4.1.1.1.2</td>\n",
       "      <td>2</td>\n",
       "      <td>8.79 MB</td>\n",
       "      <td>CMMD/D1-0003/07-18-2011-NA-NA-25491/1.000000-N...</td>\n",
       "      <td>2022-02-22T14:26:56.454</td>\n",
       "      <td>Benign</td>\n",
       "      <td>calcification</td>\n",
       "      <td>L</td>\n",
       "      <td>MLO</td>\n",
       "      <td>1</td>\n",
       "    </tr>\n",
       "    <tr>\n",
       "      <th>2</th>\n",
       "      <td>1.3.6.1.4.1.14519.5.2.1.1239.1759.623006463861...</td>\n",
       "      <td>CMMD</td>\n",
       "      <td>NO</td>\n",
       "      <td>https://doi.org/10.7937/tcia.eqde4b16</td>\n",
       "      <td>D1-0001</td>\n",
       "      <td>1.3.6.1.4.1.14519.5.2.1.1239.1759.335790956129...</td>\n",
       "      <td>NaN</td>\n",
       "      <td>07-18-2010</td>\n",
       "      <td>NaN</td>\n",
       "      <td>NaN</td>\n",
       "      <td>...</td>\n",
       "      <td>1.2.840.10008.5.1.4.1.1.1.2</td>\n",
       "      <td>2</td>\n",
       "      <td>8.79 MB</td>\n",
       "      <td>CMMD/D1-0001/07-18-2010-NA-NA-79377/1.000000-N...</td>\n",
       "      <td>2022-02-22T14:26:57.31</td>\n",
       "      <td>Benign</td>\n",
       "      <td>calcification</td>\n",
       "      <td>R</td>\n",
       "      <td>CC</td>\n",
       "      <td>2</td>\n",
       "    </tr>\n",
       "    <tr>\n",
       "      <th>3</th>\n",
       "      <td>1.3.6.1.4.1.14519.5.2.1.1239.1759.623006463861...</td>\n",
       "      <td>CMMD</td>\n",
       "      <td>NO</td>\n",
       "      <td>https://doi.org/10.7937/tcia.eqde4b16</td>\n",
       "      <td>D1-0001</td>\n",
       "      <td>1.3.6.1.4.1.14519.5.2.1.1239.1759.335790956129...</td>\n",
       "      <td>NaN</td>\n",
       "      <td>07-18-2010</td>\n",
       "      <td>NaN</td>\n",
       "      <td>NaN</td>\n",
       "      <td>...</td>\n",
       "      <td>1.2.840.10008.5.1.4.1.1.1.2</td>\n",
       "      <td>2</td>\n",
       "      <td>8.79 MB</td>\n",
       "      <td>CMMD/D1-0001/07-18-2010-NA-NA-79377/1.000000-N...</td>\n",
       "      <td>2022-02-22T14:26:57.31</td>\n",
       "      <td>Benign</td>\n",
       "      <td>calcification</td>\n",
       "      <td>R</td>\n",
       "      <td>MLO</td>\n",
       "      <td>3</td>\n",
       "    </tr>\n",
       "    <tr>\n",
       "      <th>4</th>\n",
       "      <td>1.3.6.1.4.1.14519.5.2.1.1239.1759.411712488433...</td>\n",
       "      <td>CMMD</td>\n",
       "      <td>NO</td>\n",
       "      <td>https://doi.org/10.7937/tcia.eqde4b16</td>\n",
       "      <td>D1-0005</td>\n",
       "      <td>1.3.6.1.4.1.14519.5.2.1.1239.1759.249693111563...</td>\n",
       "      <td>NaN</td>\n",
       "      <td>07-18-2011</td>\n",
       "      <td>NaN</td>\n",
       "      <td>NaN</td>\n",
       "      <td>...</td>\n",
       "      <td>1.2.840.10008.5.1.4.1.1.1.2</td>\n",
       "      <td>2</td>\n",
       "      <td>8.79 MB</td>\n",
       "      <td>CMMD/D1-0005/07-18-2011-NA-NA-52347/1.000000-N...</td>\n",
       "      <td>2022-02-22T14:27:01.533</td>\n",
       "      <td>Benign</td>\n",
       "      <td>calcification</td>\n",
       "      <td>R</td>\n",
       "      <td>CC</td>\n",
       "      <td>4</td>\n",
       "    </tr>\n",
       "    <tr>\n",
       "      <th>...</th>\n",
       "      <td>...</td>\n",
       "      <td>...</td>\n",
       "      <td>...</td>\n",
       "      <td>...</td>\n",
       "      <td>...</td>\n",
       "      <td>...</td>\n",
       "      <td>...</td>\n",
       "      <td>...</td>\n",
       "      <td>...</td>\n",
       "      <td>...</td>\n",
       "      <td>...</td>\n",
       "      <td>...</td>\n",
       "      <td>...</td>\n",
       "      <td>...</td>\n",
       "      <td>...</td>\n",
       "      <td>...</td>\n",
       "      <td>...</td>\n",
       "      <td>...</td>\n",
       "      <td>...</td>\n",
       "      <td>...</td>\n",
       "      <td>...</td>\n",
       "    </tr>\n",
       "    <tr>\n",
       "      <th>5193</th>\n",
       "      <td>1.3.6.1.4.1.14519.5.2.1.1239.1759.311460119741...</td>\n",
       "      <td>CMMD</td>\n",
       "      <td>NO</td>\n",
       "      <td>https://doi.org/10.7937/tcia.eqde4b16</td>\n",
       "      <td>D2-0749</td>\n",
       "      <td>1.3.6.1.4.1.14519.5.2.1.1239.1759.134277145908...</td>\n",
       "      <td>NaN</td>\n",
       "      <td>07-17-2012</td>\n",
       "      <td>NaN</td>\n",
       "      <td>NaN</td>\n",
       "      <td>...</td>\n",
       "      <td>1.2.840.10008.5.1.4.1.1.1.2</td>\n",
       "      <td>4</td>\n",
       "      <td>17.57 MB</td>\n",
       "      <td>CMMD/D2-0749/07-17-2012-NA-NA-85032/1.000000-N...</td>\n",
       "      <td>2022-02-22T15:51:25.901</td>\n",
       "      <td>Malignant</td>\n",
       "      <td>mass</td>\n",
       "      <td>L</td>\n",
       "      <td>MLO</td>\n",
       "      <td>5193</td>\n",
       "    </tr>\n",
       "    <tr>\n",
       "      <th>5194</th>\n",
       "      <td>1.3.6.1.4.1.14519.5.2.1.1239.1759.242283723072...</td>\n",
       "      <td>CMMD</td>\n",
       "      <td>NO</td>\n",
       "      <td>https://doi.org/10.7937/tcia.eqde4b16</td>\n",
       "      <td>D2-0748</td>\n",
       "      <td>1.3.6.1.4.1.14519.5.2.1.1239.1759.194867387180...</td>\n",
       "      <td>NaN</td>\n",
       "      <td>07-18-2011</td>\n",
       "      <td>NaN</td>\n",
       "      <td>NaN</td>\n",
       "      <td>...</td>\n",
       "      <td>1.2.840.10008.5.1.4.1.1.1.2</td>\n",
       "      <td>4</td>\n",
       "      <td>17.57 MB</td>\n",
       "      <td>CMMD/D2-0748/07-18-2011-NA-NA-50416/1.000000-N...</td>\n",
       "      <td>2022-02-22T15:51:30.918</td>\n",
       "      <td>Malignant</td>\n",
       "      <td>mass</td>\n",
       "      <td>R</td>\n",
       "      <td>CC</td>\n",
       "      <td>5194</td>\n",
       "    </tr>\n",
       "    <tr>\n",
       "      <th>5195</th>\n",
       "      <td>1.3.6.1.4.1.14519.5.2.1.1239.1759.242283723072...</td>\n",
       "      <td>CMMD</td>\n",
       "      <td>NO</td>\n",
       "      <td>https://doi.org/10.7937/tcia.eqde4b16</td>\n",
       "      <td>D2-0748</td>\n",
       "      <td>1.3.6.1.4.1.14519.5.2.1.1239.1759.194867387180...</td>\n",
       "      <td>NaN</td>\n",
       "      <td>07-18-2011</td>\n",
       "      <td>NaN</td>\n",
       "      <td>NaN</td>\n",
       "      <td>...</td>\n",
       "      <td>1.2.840.10008.5.1.4.1.1.1.2</td>\n",
       "      <td>4</td>\n",
       "      <td>17.57 MB</td>\n",
       "      <td>CMMD/D2-0748/07-18-2011-NA-NA-50416/1.000000-N...</td>\n",
       "      <td>2022-02-22T15:51:30.918</td>\n",
       "      <td>Malignant</td>\n",
       "      <td>mass</td>\n",
       "      <td>R</td>\n",
       "      <td>MLO</td>\n",
       "      <td>5195</td>\n",
       "    </tr>\n",
       "    <tr>\n",
       "      <th>5196</th>\n",
       "      <td>1.3.6.1.4.1.14519.5.2.1.1239.1759.242283723072...</td>\n",
       "      <td>CMMD</td>\n",
       "      <td>NO</td>\n",
       "      <td>https://doi.org/10.7937/tcia.eqde4b16</td>\n",
       "      <td>D2-0748</td>\n",
       "      <td>1.3.6.1.4.1.14519.5.2.1.1239.1759.194867387180...</td>\n",
       "      <td>NaN</td>\n",
       "      <td>07-18-2011</td>\n",
       "      <td>NaN</td>\n",
       "      <td>NaN</td>\n",
       "      <td>...</td>\n",
       "      <td>1.2.840.10008.5.1.4.1.1.1.2</td>\n",
       "      <td>4</td>\n",
       "      <td>17.57 MB</td>\n",
       "      <td>CMMD/D2-0748/07-18-2011-NA-NA-50416/1.000000-N...</td>\n",
       "      <td>2022-02-22T15:51:30.918</td>\n",
       "      <td>Malignant</td>\n",
       "      <td>mass</td>\n",
       "      <td>R</td>\n",
       "      <td>CC</td>\n",
       "      <td>5196</td>\n",
       "    </tr>\n",
       "    <tr>\n",
       "      <th>5197</th>\n",
       "      <td>1.3.6.1.4.1.14519.5.2.1.1239.1759.242283723072...</td>\n",
       "      <td>CMMD</td>\n",
       "      <td>NO</td>\n",
       "      <td>https://doi.org/10.7937/tcia.eqde4b16</td>\n",
       "      <td>D2-0748</td>\n",
       "      <td>1.3.6.1.4.1.14519.5.2.1.1239.1759.194867387180...</td>\n",
       "      <td>NaN</td>\n",
       "      <td>07-18-2011</td>\n",
       "      <td>NaN</td>\n",
       "      <td>NaN</td>\n",
       "      <td>...</td>\n",
       "      <td>1.2.840.10008.5.1.4.1.1.1.2</td>\n",
       "      <td>4</td>\n",
       "      <td>17.57 MB</td>\n",
       "      <td>CMMD/D2-0748/07-18-2011-NA-NA-50416/1.000000-N...</td>\n",
       "      <td>2022-02-22T15:51:30.918</td>\n",
       "      <td>Malignant</td>\n",
       "      <td>mass</td>\n",
       "      <td>R</td>\n",
       "      <td>MLO</td>\n",
       "      <td>5197</td>\n",
       "    </tr>\n",
       "  </tbody>\n",
       "</table>\n",
       "<p>5198 rows × 22 columns</p>\n",
       "</div>"
      ],
      "text/plain": [
       "                                              series_id Collection  \\\n",
       "0     1.3.6.1.4.1.14519.5.2.1.1239.1759.292560899611...       CMMD   \n",
       "1     1.3.6.1.4.1.14519.5.2.1.1239.1759.292560899611...       CMMD   \n",
       "2     1.3.6.1.4.1.14519.5.2.1.1239.1759.623006463861...       CMMD   \n",
       "3     1.3.6.1.4.1.14519.5.2.1.1239.1759.623006463861...       CMMD   \n",
       "4     1.3.6.1.4.1.14519.5.2.1.1239.1759.411712488433...       CMMD   \n",
       "...                                                 ...        ...   \n",
       "5193  1.3.6.1.4.1.14519.5.2.1.1239.1759.311460119741...       CMMD   \n",
       "5194  1.3.6.1.4.1.14519.5.2.1.1239.1759.242283723072...       CMMD   \n",
       "5195  1.3.6.1.4.1.14519.5.2.1.1239.1759.242283723072...       CMMD   \n",
       "5196  1.3.6.1.4.1.14519.5.2.1.1239.1759.242283723072...       CMMD   \n",
       "5197  1.3.6.1.4.1.14519.5.2.1.1239.1759.242283723072...       CMMD   \n",
       "\n",
       "     3rd Party Analysis                   Data Description URI patient_id  \\\n",
       "0                    NO  https://doi.org/10.7937/tcia.eqde4b16    D1-0003   \n",
       "1                    NO  https://doi.org/10.7937/tcia.eqde4b16    D1-0003   \n",
       "2                    NO  https://doi.org/10.7937/tcia.eqde4b16    D1-0001   \n",
       "3                    NO  https://doi.org/10.7937/tcia.eqde4b16    D1-0001   \n",
       "4                    NO  https://doi.org/10.7937/tcia.eqde4b16    D1-0005   \n",
       "...                 ...                                    ...        ...   \n",
       "5193                 NO  https://doi.org/10.7937/tcia.eqde4b16    D2-0749   \n",
       "5194                 NO  https://doi.org/10.7937/tcia.eqde4b16    D2-0748   \n",
       "5195                 NO  https://doi.org/10.7937/tcia.eqde4b16    D2-0748   \n",
       "5196                 NO  https://doi.org/10.7937/tcia.eqde4b16    D2-0748   \n",
       "5197                 NO  https://doi.org/10.7937/tcia.eqde4b16    D2-0748   \n",
       "\n",
       "                                               study_id  Study Description  \\\n",
       "0     1.3.6.1.4.1.14519.5.2.1.1239.1759.113089024322...                NaN   \n",
       "1     1.3.6.1.4.1.14519.5.2.1.1239.1759.113089024322...                NaN   \n",
       "2     1.3.6.1.4.1.14519.5.2.1.1239.1759.335790956129...                NaN   \n",
       "3     1.3.6.1.4.1.14519.5.2.1.1239.1759.335790956129...                NaN   \n",
       "4     1.3.6.1.4.1.14519.5.2.1.1239.1759.249693111563...                NaN   \n",
       "...                                                 ...                ...   \n",
       "5193  1.3.6.1.4.1.14519.5.2.1.1239.1759.134277145908...                NaN   \n",
       "5194  1.3.6.1.4.1.14519.5.2.1.1239.1759.194867387180...                NaN   \n",
       "5195  1.3.6.1.4.1.14519.5.2.1.1239.1759.194867387180...                NaN   \n",
       "5196  1.3.6.1.4.1.14519.5.2.1.1239.1759.194867387180...                NaN   \n",
       "5197  1.3.6.1.4.1.14519.5.2.1.1239.1759.194867387180...                NaN   \n",
       "\n",
       "      Study Date  Series Description  manufacturer  ...  \\\n",
       "0     07-18-2011                 NaN           NaN  ...   \n",
       "1     07-18-2011                 NaN           NaN  ...   \n",
       "2     07-18-2010                 NaN           NaN  ...   \n",
       "3     07-18-2010                 NaN           NaN  ...   \n",
       "4     07-18-2011                 NaN           NaN  ...   \n",
       "...          ...                 ...           ...  ...   \n",
       "5193  07-17-2012                 NaN           NaN  ...   \n",
       "5194  07-18-2011                 NaN           NaN  ...   \n",
       "5195  07-18-2011                 NaN           NaN  ...   \n",
       "5196  07-18-2011                 NaN           NaN  ...   \n",
       "5197  07-18-2011                 NaN           NaN  ...   \n",
       "\n",
       "                    SOP Class UID Number of Images File Size  \\\n",
       "0     1.2.840.10008.5.1.4.1.1.1.2                2   8.79 MB   \n",
       "1     1.2.840.10008.5.1.4.1.1.1.2                2   8.79 MB   \n",
       "2     1.2.840.10008.5.1.4.1.1.1.2                2   8.79 MB   \n",
       "3     1.2.840.10008.5.1.4.1.1.1.2                2   8.79 MB   \n",
       "4     1.2.840.10008.5.1.4.1.1.1.2                2   8.79 MB   \n",
       "...                           ...              ...       ...   \n",
       "5193  1.2.840.10008.5.1.4.1.1.1.2                4  17.57 MB   \n",
       "5194  1.2.840.10008.5.1.4.1.1.1.2                4  17.57 MB   \n",
       "5195  1.2.840.10008.5.1.4.1.1.1.2                4  17.57 MB   \n",
       "5196  1.2.840.10008.5.1.4.1.1.1.2                4  17.57 MB   \n",
       "5197  1.2.840.10008.5.1.4.1.1.1.2                4  17.57 MB   \n",
       "\n",
       "                                              scan_path  \\\n",
       "0     CMMD/D1-0003/07-18-2011-NA-NA-25491/1.000000-N...   \n",
       "1     CMMD/D1-0003/07-18-2011-NA-NA-25491/1.000000-N...   \n",
       "2     CMMD/D1-0001/07-18-2010-NA-NA-79377/1.000000-N...   \n",
       "3     CMMD/D1-0001/07-18-2010-NA-NA-79377/1.000000-N...   \n",
       "4     CMMD/D1-0005/07-18-2011-NA-NA-52347/1.000000-N...   \n",
       "...                                                 ...   \n",
       "5193  CMMD/D2-0749/07-17-2012-NA-NA-85032/1.000000-N...   \n",
       "5194  CMMD/D2-0748/07-18-2011-NA-NA-50416/1.000000-N...   \n",
       "5195  CMMD/D2-0748/07-18-2011-NA-NA-50416/1.000000-N...   \n",
       "5196  CMMD/D2-0748/07-18-2011-NA-NA-50416/1.000000-N...   \n",
       "5197  CMMD/D2-0748/07-18-2011-NA-NA-50416/1.000000-N...   \n",
       "\n",
       "           Download Timestamp     status      pathology laterality view  \\\n",
       "0     2022-02-22T14:26:56.454     Benign  calcification          L   CC   \n",
       "1     2022-02-22T14:26:56.454     Benign  calcification          L  MLO   \n",
       "2      2022-02-22T14:26:57.31     Benign  calcification          R   CC   \n",
       "3      2022-02-22T14:26:57.31     Benign  calcification          R  MLO   \n",
       "4     2022-02-22T14:27:01.533     Benign  calcification          R   CC   \n",
       "...                       ...        ...            ...        ...  ...   \n",
       "5193  2022-02-22T15:51:25.901  Malignant           mass          L  MLO   \n",
       "5194  2022-02-22T15:51:30.918  Malignant           mass          R   CC   \n",
       "5195  2022-02-22T15:51:30.918  Malignant           mass          R  MLO   \n",
       "5196  2022-02-22T15:51:30.918  Malignant           mass          R   CC   \n",
       "5197  2022-02-22T15:51:30.918  Malignant           mass          R  MLO   \n",
       "\n",
       "     image_id  \n",
       "0           0  \n",
       "1           1  \n",
       "2           2  \n",
       "3           3  \n",
       "4           4  \n",
       "...       ...  \n",
       "5193     5193  \n",
       "5194     5194  \n",
       "5195     5195  \n",
       "5196     5196  \n",
       "5197     5197  \n",
       "\n",
       "[5198 rows x 22 columns]"
      ]
     },
     "execution_count": 4,
     "metadata": {},
     "output_type": "execute_result"
    }
   ],
   "source": [
    "csv"
   ]
  },
  {
   "cell_type": "code",
   "execution_count": 9,
   "id": "9260b6df-b646-475c-a27a-3665a9db7a59",
   "metadata": {},
   "outputs": [
    {
     "data": {
      "text/plain": [
       "'D1-0003/07-18-2011-NA-NA-25491/1.000000-NA-24283/1-2.dcm'"
      ]
     },
     "execution_count": 9,
     "metadata": {},
     "output_type": "execute_result"
    }
   ],
   "source": [
    "csv['scan_path'][0]"
   ]
  },
  {
   "cell_type": "code",
   "execution_count": 8,
   "id": "257567d2-c81e-439a-b6c6-83178e639672",
   "metadata": {},
   "outputs": [],
   "source": []
  },
  {
   "cell_type": "code",
   "execution_count": 10,
   "id": "00ca9a95-73ff-4c27-b01d-51a34c63b709",
   "metadata": {},
   "outputs": [
    {
     "name": "stderr",
     "output_type": "stream",
     "text": [
      "/home/akis-linardos/BFP/docker/fl_env/lib/python3.7/site-packages/ipykernel_launcher.py:6: SettingWithCopyWarning: \n",
      "A value is trying to be set on a copy of a slice from a DataFrame\n",
      "\n",
      "See the caveats in the documentation: https://pandas.pydata.org/pandas-docs/stable/user_guide/indexing.html#returning-a-view-versus-a-copy\n",
      "  \n",
      "/home/akis-linardos/BFP/docker/fl_env/lib/python3.7/site-packages/ipykernel_launcher.py:7: SettingWithCopyWarning: \n",
      "A value is trying to be set on a copy of a slice from a DataFrame\n",
      "\n",
      "See the caveats in the documentation: https://pandas.pydata.org/pandas-docs/stable/user_guide/indexing.html#returning-a-view-versus-a-copy\n",
      "  import sys\n"
     ]
    },
    {
     "name": "stdout",
     "output_type": "stream",
     "text": [
      "Total clients selected by status (Normal): 0\n",
      "Total clients selected by status (Benign): 479\n",
      "Total clients selected by status (Malignant): 1295\n"
     ]
    }
   ],
   "source": [
    "import pandas as pd\n",
    "csv_path = '/home/akis-linardos/Datasets/CMMD/info.csv'\n",
    "csv = pd.read_csv(csv_path, index_col=[0])\n",
    "\n",
    "csv['image_id'] = range(0,len(csv))\n",
    "csv['status'][csv['status']=='benign']='Benign'\n",
    "csv['status'][csv['status']=='malignant']='Malignant'\n",
    "csv['scan_path']=csv['scan_path'].str.replace('CMMD/' , '')\n",
    "# csv['ACR']=[0]*len(csv)\n",
    "# csv['BIRADS']=[1]*len(csv)\n",
    "csv=csv.rename(columns={'client_id':'patient_id', 'image_filepath':'scan_path'})\n",
    "csv.to_csv(csv_path)\n",
    "\n",
    "dataset_path = '/home/akis-linardos/Datasets/CMMD'\n",
    "cmmd_clients = CMMDDataset(csv_path, dataset_path, load_max=-1)\n",
    "ROOT_DATA_PATH = '/home/akis-linardos/Datasets'\n",
    "# Call to the OPTIMAM Dataloader\n",
    "\n",
    "for status in ['Normal', 'Benign', 'Malignant']:\n",
    "    clients_selected = cmmd_clients.get_clients_by_status(status)\n",
    "    print(f'Total clients selected by status ({status}): {len(clients_selected)}')"
   ]
  },
  {
   "cell_type": "markdown",
   "id": "d8d8fcdc-7a13-4397-8387-dbd98766b832",
   "metadata": {},
   "source": [
    "# Data Loader playground:"
   ]
  },
  {
   "cell_type": "code",
   "execution_count": 6,
   "id": "b9e8f373-813e-49a9-a373-eb71ae71dc58",
   "metadata": {},
   "outputs": [
    {
     "name": "stdout",
     "output_type": "stream",
     "text": [
      "Total images selected by status (benign): 1108\n",
      "Total images selected by status (malignant): 1108\n"
     ]
    }
   ],
   "source": [
    "subjects = CMMDDataset(csv_path, dataset_path, load_max=-1)\n",
    "images_benign, images_normal, images_malignant = [], [], []\n",
    "for c in subjects:\n",
    "    for imlist, status in zip([images_normal, images_benign, images_malignant], ['Normal', 'Benign', 'Malignant']):\n",
    "        client_images_by_status = c.get_images_by_status(status=[status])\n",
    "        for image in client_images_by_status:\n",
    "            imlist.append(image)\n",
    "# images_benign, images_normal, images_malignant = [], [], []\n",
    "# Balance the dataset\n",
    "balance_to_min_index = min([len(images_benign), len(images_malignant)])\n",
    "images_benign = images_benign[:balance_to_min_index]\n",
    "images_malignant = images_malignant[:balance_to_min_index]\n",
    "total_images = images_benign + images_malignant\n",
    "for ims, status in zip([images_benign, images_malignant], ['benign', 'malignant']):\n",
    "    print(f'Total images selected by status ({status}): {len(ims)}')"
   ]
  },
  {
   "cell_type": "code",
   "execution_count": 7,
   "id": "525800dc-a46e-4e12-969d-aaa776f5302f",
   "metadata": {},
   "outputs": [],
   "source": [
    "import random\n",
    "random.shuffle(total_images) \n",
    "\n",
    "# Data Split\n",
    "training_images = total_images[:int(0.8*len(total_images))]\n",
    "validation_images = total_images[int(0.8*len(total_images)):]\n",
    "test_images = total_images[int(0.8*len(total_images)):]\n",
    "\n",
    "images = validation_images"
   ]
  },
  {
   "cell_type": "code",
   "execution_count": 8,
   "id": "dbd2a996-f6f6-4e34-aa99-62676e27f332",
   "metadata": {},
   "outputs": [],
   "source": [
    "import pydicom as dicom\n",
    "\n",
    "image=images[0]\n",
    "\n",
    "if image.status=='Malignant' or image.status=='Interval Cancer':\n",
    "    label = np.single(1)\n",
    "elif image.status=='Benign' or image.status=='Normal':\n",
    "    label = np.single(0)\n",
    "# label = np.single(1) if image.status=='Malignant' else np.single(0)\n",
    "# status = image.status # ['Benign', 'Malignant', 'Interval Cancer', 'Normal']\n",
    "manufacturer = image.manufacturer # ['HOLOGIC, Inc.', 'Philips Digital Mammography Sweden AB', 'GE MEDICAL SYSTEMS', 'Philips Medical Systems', 'SIEMENS']\n",
    "# view = image.view # MLO_VIEW = ['MLO','LMLO','RMLO', 'LMO', 'ML'] CC_VIEW = ['CC','LCC','RCC', 'XCCL', 'XCCM']\n",
    "# laterality = image.laterality # L R\n",
    "if \".dcm\" in image.path:\n",
    "    # If this doesn't work. Check Lidia's https://gitlab.com/eucanimage/BreastCancer/-/blob/master/src/preprocessing/mmg_utils.py\n",
    "    img_dcm = dicom.dcmread(image.path)\n",
    "    img_np = img_dcm.pixel_array\n",
    "else:\n",
    "    img_pil = Image.open(image.path).convert('RGB')\n",
    "    img_np = np.array(img_pil)"
   ]
  },
  {
   "cell_type": "code",
   "execution_count": 26,
   "id": "23926b27-2cd1-4ab6-9ee2-9756b7bf81fa",
   "metadata": {},
   "outputs": [
    {
     "data": {
      "text/plain": [
       "(2294, 1914)"
      ]
     },
     "execution_count": 26,
     "metadata": {},
     "output_type": "execute_result"
    }
   ],
   "source": [
    "img_np.shape"
   ]
  },
  {
   "cell_type": "code",
   "execution_count": 46,
   "id": "3dd915a2-58e6-43d6-ad59-b31fb9ffd087",
   "metadata": {},
   "outputs": [
    {
     "name": "stdout",
     "output_type": "stream",
     "text": [
      "(2294, 1914)\n"
     ]
    },
    {
     "data": {
      "image/png": "[encoded data removed]",
      "text/plain": [
       "<Figure size 576x396 with 1 Axes>"
      ]
     },
     "metadata": {},
     "output_type": "display_data"
    }
   ],
   "source": [
    "import matplotlib.pyplot as plt\n",
    "plt.style.use('seaborn')\n",
    "plt.imshow(img_np, cmap='gray')\n",
    "plt.grid(False)\n",
    "print(img_np.shape)"
   ]
  },
  {
   "cell_type": "code",
   "execution_count": 47,
   "id": "39208ca9-4f84-466b-93bd-a629f49745c4",
   "metadata": {},
   "outputs": [],
   "source": [
    "def crop_new(arr):\n",
    "\n",
    "    mask = arr != 0\n",
    "    n = mask.ndim\n",
    "    dims = range(n)\n",
    "    slices = [None]*n\n",
    "\n",
    "    for i in dims:\n",
    "        mask_i = mask.any(tuple([*dims[:i], *dims[i+1:]]))\n",
    "        slices[i] = (mask_i.argmax(), len(mask_i) - mask_i[::-1].argmax())\n",
    "\n",
    "    return arr[[slice(*s) for s in slices]]"
   ]
  },
  {
   "cell_type": "code",
   "execution_count": 50,
   "id": "b5e3c475-8619-43fe-a937-1a410a6fdfaa",
   "metadata": {},
   "outputs": [
    {
     "name": "stderr",
     "output_type": "stream",
     "text": [
      "/home/akis-linardos/BFP/docker/fl_env/lib/python3.7/site-packages/ipykernel_launcher.py:12: FutureWarning: Using a non-tuple sequence for multidimensional indexing is deprecated; use `arr[tuple(seq)]` instead of `arr[seq]`. In the future this will be interpreted as an array index, `arr[np.array(seq)]`, which will result either in an error or a different result.\n",
      "  if sys.path[0] == '':\n"
     ]
    }
   ],
   "source": [
    "img_np = crop_new(img_np)"
   ]
  },
  {
   "cell_type": "code",
   "execution_count": 51,
   "id": "9c7e3a5a-ff0a-4a28-b03c-39f6d61d8742",
   "metadata": {},
   "outputs": [],
   "source": [
    "rescale_height = 224\n",
    "rescale_width = 224\n",
    "scale_size = (rescale_height, rescale_width)\n",
    "# CROP!\n",
    "img_np = np.uint8(img_np) if img_np.dtype != np.uint8 else img_np.copy()\n",
    "rescaled_img, scale_factor = imrescale(img_np, scale_size, return_scale=True, backend='pillow')\n",
    "image = rescaled_img"
   ]
  },
  {
   "cell_type": "code",
   "execution_count": 52,
   "id": "f8fee318-20fa-4347-a1c3-68d2f0519ae7",
   "metadata": {},
   "outputs": [
    {
     "data": {
      "text/plain": [
       "(224, 75)"
      ]
     },
     "execution_count": 52,
     "metadata": {},
     "output_type": "execute_result"
    }
   ],
   "source": [
    "image.shape"
   ]
  },
  {
   "cell_type": "code",
   "execution_count": 55,
   "id": "e0781a13-d11d-4375-8876-7f779ff8504a",
   "metadata": {},
   "outputs": [],
   "source": [
    "from pathlib import Path\n",
    "HOME_PATH = Path.home()\n",
    "LANDMARKS = os.environ['landmarks']# CONFIG['paths']['landmarks']\n",
    "image = torch.from_numpy(image)"
   ]
  },
  {
   "cell_type": "code",
   "execution_count": 56,
   "id": "52f26049-2092-4089-9fcc-806651648ab7",
   "metadata": {},
   "outputs": [
    {
     "data": {
      "text/plain": [
       "array([[35.93587 , 35.93587 , 40.56335 , ..., 17.56217 , 17.56217 ,\n",
       "        17.56217 ],\n",
       "       [37.671177, 37.671177, 43.911335, ..., 17.56217 , 17.56217 ,\n",
       "        17.56217 ],\n",
       "       [37.671177, 37.09274 , 41.83417 , ..., 17.56217 , 17.56217 ,\n",
       "        17.56217 ],\n",
       "       ...,\n",
       "       [28.90854 , 30.25528 , 32.94876 , ..., 17.56217 , 17.56217 ,\n",
       "        17.56217 ],\n",
       "       [30.25528 , 30.92865 , 32.27539 , ..., 17.56217 , 17.56217 ,\n",
       "        17.56217 ],\n",
       "       [30.25528 , 31.60202 , 32.27539 , ..., 17.56217 , 17.56217 ,\n",
       "        17.56217 ]], dtype=float32)"
      ]
     },
     "execution_count": 56,
     "metadata": {},
     "output_type": "execute_result"
    }
   ],
   "source": [
    "landmarks_values = torch.load(HOME_PATH / LANDMARKS)\n",
    "apply_hist_stand_landmarks(image, landmarks_values)"
   ]
  },
  {
   "cell_type": "code",
   "execution_count": 23,
   "id": "4ae89ffc-bb44-448a-b149-b3cf05a6b367",
   "metadata": {},
   "outputs": [
    {
     "data": {
      "text/plain": [
       "<matplotlib.image.AxesImage at 0x7f43513e9810>"
      ]
     },
     "execution_count": 23,
     "metadata": {},
     "output_type": "execute_result"
    },
    {
     "data": {
      "image/png": "[encoded data removed]",
      "text/plain": [
       "<Figure size 576x396 with 1 Axes>"
      ]
     },
     "metadata": {},
     "output_type": "display_data"
    }
   ],
   "source": [
    "plt.imshow(image, cmap='gray')"
   ]
  },
  {
   "cell_type": "code",
   "execution_count": 25,
   "id": "562e5ee5-958a-4de4-8500-76128a1d63e8",
   "metadata": {},
   "outputs": [
    {
     "data": {
      "text/plain": [
       "(224, 187)"
      ]
     },
     "execution_count": 25,
     "metadata": {},
     "output_type": "execute_result"
    }
   ],
   "source": [
    "image.shape"
   ]
  },
  {
   "cell_type": "code",
   "execution_count": 40,
   "id": "adcd0e17-261e-459c-b969-c7467b751094",
   "metadata": {},
   "outputs": [],
   "source": [
    "a = np.zeros((30, 30, 30, 20),dtype=np.uint8)\n",
    "a[2:-2, 2:-2, 2:-2, 2:-2] = np.random.randint(0,255,(26,26,26,16),dtype=np.uint8)"
   ]
  },
  {
   "cell_type": "code",
   "execution_count": 44,
   "id": "c7def349-fbde-4029-a517-6a02c712444c",
   "metadata": {},
   "outputs": [
    {
     "name": "stderr",
     "output_type": "stream",
     "text": [
      "/home/akis-linardos/BFP/docker/fl_env/lib/python3.7/site-packages/ipykernel_launcher.py:12: FutureWarning: Using a non-tuple sequence for multidimensional indexing is deprecated; use `arr[tuple(seq)]` instead of `arr[seq]`. In the future this will be interpreted as an array index, `arr[np.array(seq)]`, which will result either in an error or a different result.\n",
      "  if sys.path[0] == '':\n"
     ]
    },
    {
     "data": {
      "text/plain": [
       "<matplotlib.image.AxesImage at 0x7f43513a2b90>"
      ]
     },
     "execution_count": 44,
     "metadata": {},
     "output_type": "execute_result"
    },
    {
     "data": {
      "image/png": "[encoded data removed]",
      "text/plain": [
       "<Figure size 576x396 with 1 Axes>"
      ]
     },
     "metadata": {},
     "output_type": "display_data"
    }
   ],
   "source": [
    "plt.imshow(crop_new(image))"
   ]
  },
  {
   "cell_type": "code",
   "execution_count": 45,
   "id": "16fe0b7d-300c-48b1-ae7b-1f00aea56cb7",
   "metadata": {},
   "outputs": [
    {
     "name": "stderr",
     "output_type": "stream",
     "text": [
      "/home/akis-linardos/BFP/docker/fl_env/lib/python3.7/site-packages/ipykernel_launcher.py:12: FutureWarning: Using a non-tuple sequence for multidimensional indexing is deprecated; use `arr[tuple(seq)]` instead of `arr[seq]`. In the future this will be interpreted as an array index, `arr[np.array(seq)]`, which will result either in an error or a different result.\n",
      "  if sys.path[0] == '':\n"
     ]
    },
    {
     "data": {
      "text/plain": [
       "(224, 76)"
      ]
     },
     "execution_count": 45,
     "metadata": {},
     "output_type": "execute_result"
    }
   ],
   "source": [
    "crop_new(image).shape"
   ]
  },
  {
   "cell_type": "code",
   "execution_count": 29,
   "id": "7d69882b-5b9d-442c-a715-9b775fbe5af8",
   "metadata": {},
   "outputs": [
    {
     "ename": "TypeError",
     "evalue": "can't assign a numpy.ndarray to a torch.FloatTensor",
     "output_type": "error",
     "traceback": [
      "\u001b[0;31m---------------------------------------------------------------------------\u001b[0m",
      "\u001b[0;31mTypeError\u001b[0m                                 Traceback (most recent call last)",
      "\u001b[0;32m/tmp/ipykernel_38759/1724035890.py\u001b[0m in \u001b[0;36m<module>\u001b[0;34m\u001b[0m\n\u001b[1;32m      1\u001b[0m \u001b[0mpaddedimg\u001b[0m \u001b[0;34m=\u001b[0m \u001b[0mtorch\u001b[0m\u001b[0;34m.\u001b[0m\u001b[0mzeros\u001b[0m\u001b[0;34m(\u001b[0m\u001b[0;36m224\u001b[0m\u001b[0;34m,\u001b[0m\u001b[0;36m187\u001b[0m\u001b[0;34m)\u001b[0m\u001b[0;34m\u001b[0m\u001b[0;34m\u001b[0m\u001b[0m\n\u001b[1;32m      2\u001b[0m \u001b[0mh\u001b[0m\u001b[0;34m,\u001b[0m\u001b[0mw\u001b[0m \u001b[0;34m=\u001b[0m \u001b[0mimage\u001b[0m\u001b[0;34m.\u001b[0m\u001b[0mshape\u001b[0m\u001b[0;34m\u001b[0m\u001b[0;34m\u001b[0m\u001b[0m\n\u001b[0;32m----> 3\u001b[0;31m \u001b[0mpaddedimg\u001b[0m\u001b[0;34m[\u001b[0m\u001b[0;34m-\u001b[0m\u001b[0mh\u001b[0m\u001b[0;34m:\u001b[0m\u001b[0;34m,\u001b[0m\u001b[0;34m-\u001b[0m\u001b[0mw\u001b[0m\u001b[0;34m:\u001b[0m\u001b[0;34m]\u001b[0m\u001b[0;34m=\u001b[0m\u001b[0mimage\u001b[0m\u001b[0;34m\u001b[0m\u001b[0;34m\u001b[0m\u001b[0m\n\u001b[0m",
      "\u001b[0;31mTypeError\u001b[0m: can't assign a numpy.ndarray to a torch.FloatTensor"
     ]
    }
   ],
   "source": [
    "paddedimg = torch.zeros(224,187)\n",
    "h,w = image.shape\n",
    "paddedimg[-h:,-w:]=image"
   ]
  },
  {
   "cell_type": "code",
   "execution_count": 38,
   "id": "9be12a23-dfc8-4e80-98bf-8e8ec826db61",
   "metadata": {},
   "outputs": [
    {
     "data": {
      "text/plain": [
       "<src.data_handling.mmg_detection_datasets.CMMDImage at 0x7fecf8ecd9d0>"
      ]
     },
     "execution_count": 38,
     "metadata": {},
     "output_type": "execute_result"
    }
   ],
   "source": [
    "images_benign[0]"
   ]
  },
  {
   "cell_type": "code",
   "execution_count": 16,
   "id": "31397be4-97d6-49ef-ad18-1769adb6d770",
   "metadata": {},
   "outputs": [
    {
     "data": {
      "text/plain": [
       "1774"
      ]
     },
     "execution_count": 16,
     "metadata": {},
     "output_type": "execute_result"
    }
   ],
   "source": [
    "479+1295"
   ]
  },
  {
   "cell_type": "code",
   "execution_count": 41,
   "id": "cda9c898-1722-41a8-bacd-dd2c69d639f0",
   "metadata": {},
   "outputs": [
    {
     "data": {
      "text/plain": [
       "5198"
      ]
     },
     "execution_count": 41,
     "metadata": {},
     "output_type": "execute_result"
    }
   ],
   "source": [
    "cmmd_clients.total_images()"
   ]
  },
  {
   "cell_type": "code",
   "execution_count": 15,
   "id": "03e22c0e-dbb8-4d01-a0ba-a64a84e1892f",
   "metadata": {},
   "outputs": [
    {
     "name": "stdout",
     "output_type": "stream",
     "text": [
      "Printing status Normal:\n",
      "0\n",
      "Printing status Benign:\n",
      "1108\n",
      "Printing status Malignant:\n",
      "4090\n"
     ]
    }
   ],
   "source": [
    "images_benign, images_normal, images_malignant = [], [], []\n",
    "for c in cmmd_clients:\n",
    "    for lists, status in zip([images_normal, images_benign, images_malignant], ['Normal', 'Benign', 'Malignant']):\n",
    "        client_images_by_status = c.get_images_by_status(status=[status])\n",
    "        for image in client_images_by_status:\n",
    "            lists.append(image)\n",
    "count_dict = {'Normal':0,'Benign':0, 'Malignant':0}      \n",
    "for l, status in zip([images_normal, images_benign, images_malignant], ['Normal', 'Benign', 'Malignant']):\n",
    "    print(f'Printing status {status}:')\n",
    "    for i in l:\n",
    "        # print(i.status)\n",
    "        count_dict[status]+=1\n",
    "    print(count_dict[status])"
   ]
  }
 ],
 "metadata": {
  "kernelspec": {
   "display_name": "Python 3",
   "language": "python",
   "name": "python3"
  },
  "language_info": {
   "codemirror_mode": {
    "name": "ipython",
    "version": 3
   },
   "file_extension": ".py",
   "mimetype": "text/x-python",
   "name": "python",
   "nbconvert_exporter": "python",
   "pygments_lexer": "ipython3",
   "version": "3.7.6"
  }
 },
 "nbformat": 4,
 "nbformat_minor": 5
}
