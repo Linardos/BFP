{
 "cells": [
  {
   "cell_type": "markdown",
   "id": "c6923fcd-faf6-441e-bb21-e920a95c28be",
   "metadata": {},
   "source": [
    "## UNCOMMENT LINE 91 IN DATALOADER BEFORE RUNNING THIS"
   ]
  },
  {
   "cell_type": "code",
   "execution_count": 1,
   "id": "4d8ce842-0273-4061-8848-53c1c7b8d339",
   "metadata": {
    "tags": []
   },
   "outputs": [
    {
     "data": {
      "text/plain": [
       "<torch._C.Generator at 0x7fe76434a950>"
      ]
     },
     "execution_count": 1,
     "metadata": {},
     "output_type": "execute_result"
    }
   ],
   "source": [
    "from collections import OrderedDict\n",
    "\n",
    "import yaml\n",
    "import torch\n",
    "import torch.nn as nn\n",
    "import torch.nn.functional as F\n",
    "import torchvision.transforms as transforms\n",
    "from torch.utils.data import DataLoader\n",
    "# from torchvision.datasets import CIFAR10\n",
    "import flwr as fl\n",
    "from datetime import datetime\n",
    "import importlib\n",
    "import os\n",
    "from pathlib import Path\n",
    "from tqdm import tqdm\n",
    "import numpy as np\n",
    "import pickle\n",
    "import sys\n",
    "\n",
    "sys.path.append(str(Path().absolute().parent.parent))\n",
    "\n",
    "from src.models import nets\n",
    "from src.data_loader import ALLDataset\n",
    "torch.manual_seed(42)"
   ]
  },
  {
   "cell_type": "code",
   "execution_count": 2,
   "id": "0ece6bfc-83e1-41e4-91a5-dc36fc32d161",
   "metadata": {},
   "outputs": [],
   "source": [
    "optimam_path=\"/home/lidia-garrucho/datasets/OPTIMAM/png_screening_cropped_fixed/images\"\n",
    "jarv_csv=\"/home/akis-linardos/Datasets/OPTIMAM/jarv_info.csv\"\n",
    "stge_csv=\"/home/akis-linardos/Datasets/OPTIMAM/stge_info.csv\"\n",
    "\n",
    "inbreast_path=\"/home/lidia-garrucho/datasets/INBREAST/AllPNG_cropped\"\n",
    "inbreast_csv=\"/home/lidia-garrucho/datasets/INBREAST/INbreast_updated_cropped_breast.csv\"\n",
    "\n",
    "bcdr_path=\"/home/lidia-garrucho/datasets/BCDR\"\n",
    "bcdr_csv=\"/home/lidia-garrucho/datasets/BCDR\"\n",
    "\n",
    "cmmd_path='/home/akis-linardos/Datasets/CMMD'\n",
    "cmmd_csv='/home/akis-linardos/Datasets/CMMD/info.csv'"
   ]
  },
  {
   "cell_type": "code",
   "execution_count": 3,
   "id": "e6e8990c-9e8c-4640-a389-206cad5606e1",
   "metadata": {},
   "outputs": [
    {
     "name": "stdout",
     "output_type": "stream",
     "text": [
      "Total images selected by status (benign): 4190\n",
      "Total images selected by status (malignant): 4190\n",
      "Total images selected by status (benign): 5350\n",
      "Total images selected by status (malignant): 5350\n",
      "Total images selected by status (benign): 100\n",
      "Total images selected by status (malignant): 100\n",
      "Total images selected by status (benign): 105\n",
      "Total images selected by status (malignant): 105\n",
      "Total images selected by status (benign): 1108\n",
      "Total images selected by status (malignant): 1108\n"
     ]
    }
   ],
   "source": [
    "jarv_loader = DataLoader(ALLDataset(optimam_path, jarv_csv, mode='train', data_loader_type='optimam', load_max=-1, batch_size=10))\n",
    "stge_loader = DataLoader(ALLDataset(optimam_path, stge_csv, mode='train', data_loader_type='optimam', load_max=-1, batch_size=10))\n",
    "inbreast_loader = DataLoader(ALLDataset(inbreast_path, inbreast_csv, mode='train', data_loader_type='inbreast', load_max=-1, batch_size=10))\n",
    "bcdr_loader = DataLoader(ALLDataset(bcdr_path, bcdr_csv, mode='train', data_loader_type='bcdr', load_max=-1, batch_size=10))\n",
    "cmmd_loader = DataLoader(ALLDataset(cmmd_path, cmmd_csv, mode='train', data_loader_type='cmmd', load_max=-1, batch_size=10))"
   ]
  },
  {
   "cell_type": "code",
   "execution_count": 15,
   "id": "13ef5c4b-2e5b-491f-be5a-2e726bc28d2b",
   "metadata": {},
   "outputs": [],
   "source": []
  },
  {
   "cell_type": "code",
   "execution_count": 29,
   "id": "d2bdfbc0-5d4b-4854-b780-8c72562409cb",
   "metadata": {},
   "outputs": [
    {
     "data": {
      "text/plain": [
       "[1.0, 3292.75, 1710.0]"
      ]
     },
     "execution_count": 29,
     "metadata": {},
     "output_type": "execute_result"
    }
   ],
   "source": [
    "list(average_dimensions)"
   ]
  },
  {
   "cell_type": "code",
   "execution_count": 36,
   "id": "45940748-2f5b-4b38-a162-18711ab1aab9",
   "metadata": {},
   "outputs": [],
   "source": [
    "def dimension_average(dataloader):\n",
    "    dimensions = []\n",
    "    for i, img in tqdm(enumerate(dataloader)):\n",
    "        dimensions.append(list(img.shape))\n",
    "\n",
    "    average_dimensions = list(np.mean(dimensions, axis=0))\n",
    "    return average_dimensions"
   ]
  },
  {
   "cell_type": "code",
   "execution_count": 49,
   "id": "bac0882d-4bf9-4c25-9d8a-0ff6e2f4faad",
   "metadata": {},
   "outputs": [],
   "source": [
    "jarv_dimension_avg = [3145.54892601432, 1595.1573687350835] #dimension_average(jarv_loader)"
   ]
  },
  {
   "cell_type": "code",
   "execution_count": 50,
   "id": "aa6150dc-27ff-4728-a776-b6ad8fe02474",
   "metadata": {},
   "outputs": [],
   "source": [
    "stge_dimension_avg = [3173.9568925233643, 1592.497429906542] #dimension_average(stge_loader)"
   ]
  },
  {
   "cell_type": "code",
   "execution_count": 51,
   "id": "41d60227-f3e6-4f47-a218-94f41303e4d8",
   "metadata": {},
   "outputs": [],
   "source": [
    "inbr_dimension_avg = [3142.09375, 1505.7125] #dimension_average(inbreast_loader)"
   ]
  },
  {
   "cell_type": "code",
   "execution_count": 52,
   "id": "298a3f96-e494-47d6-b01d-72ae800e68e0",
   "metadata": {},
   "outputs": [],
   "source": [
    "bcdr_dimension_avg = [3241.4583333333335, 1530.779761904762] #dimension_average(bcdr_loader)"
   ]
  },
  {
   "cell_type": "code",
   "execution_count": 53,
   "id": "3fc9e9a9-bede-42bf-a6ac-6ecc9af4ca93",
   "metadata": {},
   "outputs": [],
   "source": [
    "cmmd_dimension_avg = [2070.081264108352, 794.3656884875846] # Don't ask"
   ]
  },
  {
   "cell_type": "code",
   "execution_count": 54,
   "id": "aa3780ba-cd66-4370-bef9-583abba41662",
   "metadata": {},
   "outputs": [],
   "source": [
    "import pandas as pd"
   ]
  },
  {
   "cell_type": "code",
   "execution_count": 55,
   "id": "9fbbdfb5-0ed6-4c0f-a7a6-702801233030",
   "metadata": {},
   "outputs": [],
   "source": [
    "dimension_DF_stats = pd.DataFrame(np.array([jarv_dimension_avg, stge_dimension_avg, inbr_dimension_avg, bcdr_dimension_avg, cmmd_dimension_avg]), columns=['Height', 'Width'], index=['OPTIMAM(jarv)', 'OPTIMAM(stge)', 'InBreast', 'BCDR', 'CMMD'])"
   ]
  },
  {
   "cell_type": "code",
   "execution_count": 56,
   "id": "a75fc4a7-1f49-483e-a94a-5d19b665c3cf",
   "metadata": {},
   "outputs": [
    {
     "data": {
      "text/html": [
       "<div>\n",
       "<style scoped>\n",
       "    .dataframe tbody tr th:only-of-type {\n",
       "        vertical-align: middle;\n",
       "    }\n",
       "\n",
       "    .dataframe tbody tr th {\n",
       "        vertical-align: top;\n",
       "    }\n",
       "\n",
       "    .dataframe thead th {\n",
       "        text-align: right;\n",
       "    }\n",
       "</style>\n",
       "<table border=\"1\" class=\"dataframe\">\n",
       "  <thead>\n",
       "    <tr style=\"text-align: right;\">\n",
       "      <th></th>\n",
       "      <th>Height</th>\n",
       "      <th>Width</th>\n",
       "    </tr>\n",
       "  </thead>\n",
       "  <tbody>\n",
       "    <tr>\n",
       "      <th>OPTIMAM(jarv)</th>\n",
       "      <td>3145.548926</td>\n",
       "      <td>1595.157369</td>\n",
       "    </tr>\n",
       "    <tr>\n",
       "      <th>OPTIMAM(stge)</th>\n",
       "      <td>3173.956893</td>\n",
       "      <td>1592.497430</td>\n",
       "    </tr>\n",
       "    <tr>\n",
       "      <th>InBreast</th>\n",
       "      <td>3142.093750</td>\n",
       "      <td>1505.712500</td>\n",
       "    </tr>\n",
       "    <tr>\n",
       "      <th>BCDR</th>\n",
       "      <td>3241.458333</td>\n",
       "      <td>1530.779762</td>\n",
       "    </tr>\n",
       "    <tr>\n",
       "      <th>CMMD</th>\n",
       "      <td>2070.081264</td>\n",
       "      <td>794.365688</td>\n",
       "    </tr>\n",
       "  </tbody>\n",
       "</table>\n",
       "</div>"
      ],
      "text/plain": [
       "                    Height        Width\n",
       "OPTIMAM(jarv)  3145.548926  1595.157369\n",
       "OPTIMAM(stge)  3173.956893  1592.497430\n",
       "InBreast       3142.093750  1505.712500\n",
       "BCDR           3241.458333  1530.779762\n",
       "CMMD           2070.081264   794.365688"
      ]
     },
     "execution_count": 56,
     "metadata": {},
     "output_type": "execute_result"
    }
   ],
   "source": [
    "dimension_DF_stats"
   ]
  }
 ],
 "metadata": {
  "kernelspec": {
   "display_name": "Python 3",
   "language": "python",
   "name": "python3"
  },
  "language_info": {
   "codemirror_mode": {
    "name": "ipython",
    "version": 3
   },
   "file_extension": ".py",
   "mimetype": "text/x-python",
   "name": "python",
   "nbconvert_exporter": "python",
   "pygments_lexer": "ipython3",
   "version": "3.7.6"
  }
 },
 "nbformat": 4,
 "nbformat_minor": 5
}
