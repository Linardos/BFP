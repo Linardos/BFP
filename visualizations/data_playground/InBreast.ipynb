{
 "cells": [
  {
   "cell_type": "code",
   "execution_count": 1,
   "id": "4d8ce842-0273-4061-8848-53c1c7b8d339",
   "metadata": {
    "tags": []
   },
   "outputs": [
    {
     "name": "stdout",
     "output_type": "stream",
     "text": [
      "Total clients selected by status (Normal): 29\n",
      "Total clients selected by status (Benign): 85\n",
      "Total clients selected by status (Malignant): 49\n"
     ]
    }
   ],
   "source": [
    "import os\n",
    "import numpy as np\n",
    "from PIL import Image\n",
    "from src.data_handling.mmg_detection_datasets import *\n",
    "from src.visualizations.plot_image import plot_image_opencv_fit_window\n",
    "from src.data_augmentation.breast_density.data.resize_image import *\n",
    "import torch\n",
    "\n",
    "from src.preprocessing.histogram_standardization import get_hist_stand_landmarks, apply_hist_stand_landmarks\n",
    "\n",
    "\n",
    "\n",
    "pathologies = None #['mass', 'calcifications', 'suspicious_calcifications', 'architectural_distortion'] # None to select all\n",
    "status = ['Normal', 'Benign', 'Malignant'] #['Normal'] \n",
    "# Resize images keeping aspect ratio\n",
    "\n",
    "# Call to the OPTIMAM Dataloader\n",
    "csv_path = '/home/lidia-garrucho/datasets/INBREAST/INbreast_updated_cropped_breast.csv'\n",
    "dataset_path = '/home/lidia-garrucho/datasets/INBREAST/AllPNG_cropped'\n",
    "inbreast_clients = INBreastDataset(csv_path, dataset_path, detection=False, load_max=-1, \n",
    "                                cropped_to_breast=True)\n",
    "\n",
    "\n",
    "for status in ['Normal', 'Benign', 'Malignant']:\n",
    "    clients_selected = inbreast_clients.get_clients_by_status(status)\n",
    "    print(f'Total clients selected by status ({status}): {len(clients_selected)}')"
   ]
  },
  {
   "cell_type": "code",
   "execution_count": 10,
   "id": "0b9d9f66-fd2a-4a0b-8bd4-b19bb76ebc94",
   "metadata": {},
   "outputs": [
    {
     "data": {
      "text/plain": [
       "134"
      ]
     },
     "execution_count": 10,
     "metadata": {},
     "output_type": "execute_result"
    }
   ],
   "source": [
    "85+49"
   ]
  },
  {
   "cell_type": "code",
   "execution_count": 2,
   "id": "5d59e5d6-8b0f-494e-b595-6757b3262b51",
   "metadata": {},
   "outputs": [
    {
     "data": {
      "text/html": [
       "<div>\n",
       "<style scoped>\n",
       "    .dataframe tbody tr th:only-of-type {\n",
       "        vertical-align: middle;\n",
       "    }\n",
       "\n",
       "    .dataframe tbody tr th {\n",
       "        vertical-align: top;\n",
       "    }\n",
       "\n",
       "    .dataframe thead th {\n",
       "        text-align: right;\n",
       "    }\n",
       "</style>\n",
       "<table border=\"1\" class=\"dataframe\">\n",
       "  <thead>\n",
       "    <tr style=\"text-align: right;\">\n",
       "      <th></th>\n",
       "      <th>patient_id</th>\n",
       "      <th>laterality</th>\n",
       "      <th>view</th>\n",
       "      <th>acquisition_date</th>\n",
       "      <th>image_id</th>\n",
       "      <th>ACR</th>\n",
       "      <th>BIRADS</th>\n",
       "      <th>scan_path</th>\n",
       "      <th>calcification_mask</th>\n",
       "      <th>mass_mask</th>\n",
       "      <th>...</th>\n",
       "      <th>mass_0_y1</th>\n",
       "      <th>mass_0_y2</th>\n",
       "      <th>mass_1_x1</th>\n",
       "      <th>mass_1_x2</th>\n",
       "      <th>mass_1_y1</th>\n",
       "      <th>mass_1_y2</th>\n",
       "      <th>mass_2_x1</th>\n",
       "      <th>mass_2_x2</th>\n",
       "      <th>mass_2_y1</th>\n",
       "      <th>mass_2_y2</th>\n",
       "    </tr>\n",
       "  </thead>\n",
       "  <tbody>\n",
       "    <tr>\n",
       "      <th>0</th>\n",
       "      <td>61b13c59bcba149e</td>\n",
       "      <td>R</td>\n",
       "      <td>CC</td>\n",
       "      <td>201001</td>\n",
       "      <td>22678622</td>\n",
       "      <td>4</td>\n",
       "      <td>1</td>\n",
       "      <td>61b13c59bcba149e/RIGHT_CC/scan_0.nii.gz</td>\n",
       "      <td>NaN</td>\n",
       "      <td>NaN</td>\n",
       "      <td>...</td>\n",
       "      <td>NaN</td>\n",
       "      <td>NaN</td>\n",
       "      <td>NaN</td>\n",
       "      <td>NaN</td>\n",
       "      <td>NaN</td>\n",
       "      <td>NaN</td>\n",
       "      <td>NaN</td>\n",
       "      <td>NaN</td>\n",
       "      <td>NaN</td>\n",
       "      <td>NaN</td>\n",
       "    </tr>\n",
       "    <tr>\n",
       "      <th>1</th>\n",
       "      <td>61b13c59bcba149e</td>\n",
       "      <td>L</td>\n",
       "      <td>CC</td>\n",
       "      <td>201001</td>\n",
       "      <td>22678646</td>\n",
       "      <td>4</td>\n",
       "      <td>3</td>\n",
       "      <td>61b13c59bcba149e/LEFT_CC/scan_0.nii.gz</td>\n",
       "      <td>NaN</td>\n",
       "      <td>61b13c59bcba149e/LEFT_CC/s0_mask_mass.nii.gz</td>\n",
       "      <td>...</td>\n",
       "      <td>827.0</td>\n",
       "      <td>1153.0</td>\n",
       "      <td>NaN</td>\n",
       "      <td>NaN</td>\n",
       "      <td>NaN</td>\n",
       "      <td>NaN</td>\n",
       "      <td>NaN</td>\n",
       "      <td>NaN</td>\n",
       "      <td>NaN</td>\n",
       "      <td>NaN</td>\n",
       "    </tr>\n",
       "    <tr>\n",
       "      <th>2</th>\n",
       "      <td>61b13c59bcba149e</td>\n",
       "      <td>R</td>\n",
       "      <td>MLO</td>\n",
       "      <td>201001</td>\n",
       "      <td>22678670</td>\n",
       "      <td>4</td>\n",
       "      <td>1</td>\n",
       "      <td>61b13c59bcba149e/RIGHT_MLO/scan_0.nii.gz</td>\n",
       "      <td>NaN</td>\n",
       "      <td>NaN</td>\n",
       "      <td>...</td>\n",
       "      <td>NaN</td>\n",
       "      <td>NaN</td>\n",
       "      <td>NaN</td>\n",
       "      <td>NaN</td>\n",
       "      <td>NaN</td>\n",
       "      <td>NaN</td>\n",
       "      <td>NaN</td>\n",
       "      <td>NaN</td>\n",
       "      <td>NaN</td>\n",
       "      <td>NaN</td>\n",
       "    </tr>\n",
       "    <tr>\n",
       "      <th>3</th>\n",
       "      <td>61b13c59bcba149e</td>\n",
       "      <td>L</td>\n",
       "      <td>MLO</td>\n",
       "      <td>201001</td>\n",
       "      <td>22678694</td>\n",
       "      <td>4</td>\n",
       "      <td>3</td>\n",
       "      <td>61b13c59bcba149e/LEFT_MLO/scan_0.nii.gz</td>\n",
       "      <td>NaN</td>\n",
       "      <td>61b13c59bcba149e/LEFT_MLO/s0_mask_mass.nii.gz</td>\n",
       "      <td>...</td>\n",
       "      <td>2209.0</td>\n",
       "      <td>2458.0</td>\n",
       "      <td>NaN</td>\n",
       "      <td>NaN</td>\n",
       "      <td>NaN</td>\n",
       "      <td>NaN</td>\n",
       "      <td>NaN</td>\n",
       "      <td>NaN</td>\n",
       "      <td>NaN</td>\n",
       "      <td>NaN</td>\n",
       "    </tr>\n",
       "    <tr>\n",
       "      <th>4</th>\n",
       "      <td>6bd24a0a42c19ce1</td>\n",
       "      <td>R</td>\n",
       "      <td>CC</td>\n",
       "      <td>201001</td>\n",
       "      <td>22614074</td>\n",
       "      <td>2</td>\n",
       "      <td>5</td>\n",
       "      <td>6bd24a0a42c19ce1/RIGHT_CC/scan_0.nii.gz</td>\n",
       "      <td>6bd24a0a42c19ce1/RIGHT_CC/s0_mask_calc.nii.gz</td>\n",
       "      <td>6bd24a0a42c19ce1/RIGHT_CC/s0_mask_mass.nii.gz</td>\n",
       "      <td>...</td>\n",
       "      <td>1479.0</td>\n",
       "      <td>1883.0</td>\n",
       "      <td>NaN</td>\n",
       "      <td>NaN</td>\n",
       "      <td>NaN</td>\n",
       "      <td>NaN</td>\n",
       "      <td>NaN</td>\n",
       "      <td>NaN</td>\n",
       "      <td>NaN</td>\n",
       "      <td>NaN</td>\n",
       "    </tr>\n",
       "    <tr>\n",
       "      <th>...</th>\n",
       "      <td>...</td>\n",
       "      <td>...</td>\n",
       "      <td>...</td>\n",
       "      <td>...</td>\n",
       "      <td>...</td>\n",
       "      <td>...</td>\n",
       "      <td>...</td>\n",
       "      <td>...</td>\n",
       "      <td>...</td>\n",
       "      <td>...</td>\n",
       "      <td>...</td>\n",
       "      <td>...</td>\n",
       "      <td>...</td>\n",
       "      <td>...</td>\n",
       "      <td>...</td>\n",
       "      <td>...</td>\n",
       "      <td>...</td>\n",
       "      <td>...</td>\n",
       "      <td>...</td>\n",
       "      <td>...</td>\n",
       "      <td>...</td>\n",
       "    </tr>\n",
       "    <tr>\n",
       "      <th>405</th>\n",
       "      <td>45c7f44839fd9e68</td>\n",
       "      <td>L</td>\n",
       "      <td>MLO</td>\n",
       "      <td>201001</td>\n",
       "      <td>22613848</td>\n",
       "      <td>2</td>\n",
       "      <td>1</td>\n",
       "      <td>45c7f44839fd9e68/LEFT_MLO/scan_0.nii.gz</td>\n",
       "      <td>NaN</td>\n",
       "      <td>NaN</td>\n",
       "      <td>...</td>\n",
       "      <td>NaN</td>\n",
       "      <td>NaN</td>\n",
       "      <td>NaN</td>\n",
       "      <td>NaN</td>\n",
       "      <td>NaN</td>\n",
       "      <td>NaN</td>\n",
       "      <td>NaN</td>\n",
       "      <td>NaN</td>\n",
       "      <td>NaN</td>\n",
       "      <td>NaN</td>\n",
       "    </tr>\n",
       "    <tr>\n",
       "      <th>406</th>\n",
       "      <td>f0f1a133837b5137</td>\n",
       "      <td>L</td>\n",
       "      <td>MLO</td>\n",
       "      <td>200802</td>\n",
       "      <td>24055725</td>\n",
       "      <td>4</td>\n",
       "      <td>2</td>\n",
       "      <td>f0f1a133837b5137/LEFT_MLO/scan_0.nii.gz</td>\n",
       "      <td>f0f1a133837b5137/LEFT_MLO/s0_mask_calc.nii.gz</td>\n",
       "      <td>NaN</td>\n",
       "      <td>...</td>\n",
       "      <td>NaN</td>\n",
       "      <td>NaN</td>\n",
       "      <td>NaN</td>\n",
       "      <td>NaN</td>\n",
       "      <td>NaN</td>\n",
       "      <td>NaN</td>\n",
       "      <td>NaN</td>\n",
       "      <td>NaN</td>\n",
       "      <td>NaN</td>\n",
       "      <td>NaN</td>\n",
       "    </tr>\n",
       "    <tr>\n",
       "      <th>407</th>\n",
       "      <td>f0f1a133837b5137</td>\n",
       "      <td>R</td>\n",
       "      <td>MLO</td>\n",
       "      <td>200802</td>\n",
       "      <td>24055752</td>\n",
       "      <td>4</td>\n",
       "      <td>2</td>\n",
       "      <td>f0f1a133837b5137/RIGHT_MLO/scan_0.nii.gz</td>\n",
       "      <td>f0f1a133837b5137/RIGHT_MLO/s0_mask_calc.nii.gz</td>\n",
       "      <td>NaN</td>\n",
       "      <td>...</td>\n",
       "      <td>NaN</td>\n",
       "      <td>NaN</td>\n",
       "      <td>NaN</td>\n",
       "      <td>NaN</td>\n",
       "      <td>NaN</td>\n",
       "      <td>NaN</td>\n",
       "      <td>NaN</td>\n",
       "      <td>NaN</td>\n",
       "      <td>NaN</td>\n",
       "      <td>NaN</td>\n",
       "    </tr>\n",
       "    <tr>\n",
       "      <th>408</th>\n",
       "      <td>f0f1a133837b5137</td>\n",
       "      <td>L</td>\n",
       "      <td>CC</td>\n",
       "      <td>200802</td>\n",
       "      <td>24055779</td>\n",
       "      <td>4</td>\n",
       "      <td>2</td>\n",
       "      <td>f0f1a133837b5137/LEFT_CC/scan_0.nii.gz</td>\n",
       "      <td>f0f1a133837b5137/LEFT_CC/s0_mask_calc.nii.gz</td>\n",
       "      <td>NaN</td>\n",
       "      <td>...</td>\n",
       "      <td>NaN</td>\n",
       "      <td>NaN</td>\n",
       "      <td>NaN</td>\n",
       "      <td>NaN</td>\n",
       "      <td>NaN</td>\n",
       "      <td>NaN</td>\n",
       "      <td>NaN</td>\n",
       "      <td>NaN</td>\n",
       "      <td>NaN</td>\n",
       "      <td>NaN</td>\n",
       "    </tr>\n",
       "    <tr>\n",
       "      <th>409</th>\n",
       "      <td>f0f1a133837b5137</td>\n",
       "      <td>R</td>\n",
       "      <td>CC</td>\n",
       "      <td>200802</td>\n",
       "      <td>24055806</td>\n",
       "      <td>4</td>\n",
       "      <td>2</td>\n",
       "      <td>f0f1a133837b5137/RIGHT_CC/scan_0.nii.gz</td>\n",
       "      <td>f0f1a133837b5137/RIGHT_CC/s0_mask_calc.nii.gz</td>\n",
       "      <td>NaN</td>\n",
       "      <td>...</td>\n",
       "      <td>NaN</td>\n",
       "      <td>NaN</td>\n",
       "      <td>NaN</td>\n",
       "      <td>NaN</td>\n",
       "      <td>NaN</td>\n",
       "      <td>NaN</td>\n",
       "      <td>NaN</td>\n",
       "      <td>NaN</td>\n",
       "      <td>NaN</td>\n",
       "      <td>NaN</td>\n",
       "    </tr>\n",
       "  </tbody>\n",
       "</table>\n",
       "<p>410 rows × 33 columns</p>\n",
       "</div>"
      ],
      "text/plain": [
       "           patient_id laterality view  acquisition_date  image_id  ACR BIRADS  \\\n",
       "0    61b13c59bcba149e          R   CC            201001  22678622    4      1   \n",
       "1    61b13c59bcba149e          L   CC            201001  22678646    4      3   \n",
       "2    61b13c59bcba149e          R  MLO            201001  22678670    4      1   \n",
       "3    61b13c59bcba149e          L  MLO            201001  22678694    4      3   \n",
       "4    6bd24a0a42c19ce1          R   CC            201001  22614074    2      5   \n",
       "..                ...        ...  ...               ...       ...  ...    ...   \n",
       "405  45c7f44839fd9e68          L  MLO            201001  22613848    2      1   \n",
       "406  f0f1a133837b5137          L  MLO            200802  24055725    4      2   \n",
       "407  f0f1a133837b5137          R  MLO            200802  24055752    4      2   \n",
       "408  f0f1a133837b5137          L   CC            200802  24055779    4      2   \n",
       "409  f0f1a133837b5137          R   CC            200802  24055806    4      2   \n",
       "\n",
       "                                    scan_path  \\\n",
       "0     61b13c59bcba149e/RIGHT_CC/scan_0.nii.gz   \n",
       "1      61b13c59bcba149e/LEFT_CC/scan_0.nii.gz   \n",
       "2    61b13c59bcba149e/RIGHT_MLO/scan_0.nii.gz   \n",
       "3     61b13c59bcba149e/LEFT_MLO/scan_0.nii.gz   \n",
       "4     6bd24a0a42c19ce1/RIGHT_CC/scan_0.nii.gz   \n",
       "..                                        ...   \n",
       "405   45c7f44839fd9e68/LEFT_MLO/scan_0.nii.gz   \n",
       "406   f0f1a133837b5137/LEFT_MLO/scan_0.nii.gz   \n",
       "407  f0f1a133837b5137/RIGHT_MLO/scan_0.nii.gz   \n",
       "408    f0f1a133837b5137/LEFT_CC/scan_0.nii.gz   \n",
       "409   f0f1a133837b5137/RIGHT_CC/scan_0.nii.gz   \n",
       "\n",
       "                                 calcification_mask  \\\n",
       "0                                               NaN   \n",
       "1                                               NaN   \n",
       "2                                               NaN   \n",
       "3                                               NaN   \n",
       "4     6bd24a0a42c19ce1/RIGHT_CC/s0_mask_calc.nii.gz   \n",
       "..                                              ...   \n",
       "405                                             NaN   \n",
       "406   f0f1a133837b5137/LEFT_MLO/s0_mask_calc.nii.gz   \n",
       "407  f0f1a133837b5137/RIGHT_MLO/s0_mask_calc.nii.gz   \n",
       "408    f0f1a133837b5137/LEFT_CC/s0_mask_calc.nii.gz   \n",
       "409   f0f1a133837b5137/RIGHT_CC/s0_mask_calc.nii.gz   \n",
       "\n",
       "                                         mass_mask  ... mass_0_y1 mass_0_y2  \\\n",
       "0                                              NaN  ...       NaN       NaN   \n",
       "1     61b13c59bcba149e/LEFT_CC/s0_mask_mass.nii.gz  ...     827.0    1153.0   \n",
       "2                                              NaN  ...       NaN       NaN   \n",
       "3    61b13c59bcba149e/LEFT_MLO/s0_mask_mass.nii.gz  ...    2209.0    2458.0   \n",
       "4    6bd24a0a42c19ce1/RIGHT_CC/s0_mask_mass.nii.gz  ...    1479.0    1883.0   \n",
       "..                                             ...  ...       ...       ...   \n",
       "405                                            NaN  ...       NaN       NaN   \n",
       "406                                            NaN  ...       NaN       NaN   \n",
       "407                                            NaN  ...       NaN       NaN   \n",
       "408                                            NaN  ...       NaN       NaN   \n",
       "409                                            NaN  ...       NaN       NaN   \n",
       "\n",
       "    mass_1_x1  mass_1_x2  mass_1_y1  mass_1_y2  mass_2_x1  mass_2_x2  \\\n",
       "0         NaN        NaN        NaN        NaN        NaN        NaN   \n",
       "1         NaN        NaN        NaN        NaN        NaN        NaN   \n",
       "2         NaN        NaN        NaN        NaN        NaN        NaN   \n",
       "3         NaN        NaN        NaN        NaN        NaN        NaN   \n",
       "4         NaN        NaN        NaN        NaN        NaN        NaN   \n",
       "..        ...        ...        ...        ...        ...        ...   \n",
       "405       NaN        NaN        NaN        NaN        NaN        NaN   \n",
       "406       NaN        NaN        NaN        NaN        NaN        NaN   \n",
       "407       NaN        NaN        NaN        NaN        NaN        NaN   \n",
       "408       NaN        NaN        NaN        NaN        NaN        NaN   \n",
       "409       NaN        NaN        NaN        NaN        NaN        NaN   \n",
       "\n",
       "     mass_2_y1  mass_2_y2  \n",
       "0          NaN        NaN  \n",
       "1          NaN        NaN  \n",
       "2          NaN        NaN  \n",
       "3          NaN        NaN  \n",
       "4          NaN        NaN  \n",
       "..         ...        ...  \n",
       "405        NaN        NaN  \n",
       "406        NaN        NaN  \n",
       "407        NaN        NaN  \n",
       "408        NaN        NaN  \n",
       "409        NaN        NaN  \n",
       "\n",
       "[410 rows x 33 columns]"
      ]
     },
     "execution_count": 2,
     "metadata": {},
     "output_type": "execute_result"
    }
   ],
   "source": [
    "import pandas as pd\n",
    "pd.read_csv(csv_path)"
   ]
  },
  {
   "cell_type": "code",
   "execution_count": 3,
   "id": "bec089e5-8777-4792-b0fd-78e660318cf1",
   "metadata": {},
   "outputs": [],
   "source": [
    "clients_selected = inbreast_clients.get_clients_by_status(status=\"Benign\")"
   ]
  },
  {
   "cell_type": "code",
   "execution_count": 4,
   "id": "aabd527a-97b7-4671-88a0-085ee3e49ca2",
   "metadata": {},
   "outputs": [],
   "source": [
    "# for c in clients_selected:\n",
    "#     for s in c.studies:\n",
    "#         for image in s.images:\n",
    "#             # print(image.__dir__())\n",
    "#             print(image.status)"
   ]
  },
  {
   "cell_type": "code",
   "execution_count": 5,
   "id": "1758c20b-7249-4db5-a6cb-71d1ea148bbe",
   "metadata": {},
   "outputs": [],
   "source": [
    "inbreast_clients = INBreastDataset(csv_path, dataset_path, detection=False, load_max=-1, \n",
    "                                cropped_to_breast=True)"
   ]
  },
  {
   "cell_type": "code",
   "execution_count": 6,
   "id": "2bf95c4a-5eff-4e13-b104-7f6a4d34c1d6",
   "metadata": {},
   "outputs": [
    {
     "data": {
      "text/plain": [
       "[<src.data_handling.mmg_detection_datasets.INBreastImage at 0x7f7311655f50>,\n",
       " <src.data_handling.mmg_detection_datasets.INBreastImage at 0x7f7311655ed0>]"
      ]
     },
     "execution_count": 6,
     "metadata": {},
     "output_type": "execute_result"
    }
   ],
   "source": [
    "inbreast_clients[0].get_images_by_status(['Benign']) #, 'Benign', 'Malignant'])"
   ]
  },
  {
   "cell_type": "code",
   "execution_count": 8,
   "id": "03e22c0e-dbb8-4d01-a0ba-a64a84e1892f",
   "metadata": {},
   "outputs": [
    {
     "name": "stdout",
     "output_type": "stream",
     "text": [
      "Printing status Normal:\n",
      "67\n",
      "Printing status Benign:\n",
      "242\n",
      "Printing status Malignant:\n",
      "100\n"
     ]
    }
   ],
   "source": [
    "csv_path = '/home/lidia-garrucho/datasets/INBREAST/INbreast_updated_cropped_breast.csv'\n",
    "dataset_path = '/home/lidia-garrucho/datasets/INBREAST/AllPNG_cropped'\n",
    "inbreast_clients = INBreastDataset(csv_path, dataset_path, detection=False, load_max=-1, \n",
    "                                cropped_to_breast=True)\n",
    "\n",
    "images_benign, images_normal, images_malignant = [], [], []\n",
    "for c in inbreast_clients:\n",
    "    for lists, status in zip([images_normal, images_benign, images_malignant], ['Normal', 'Benign', 'Malignant']):\n",
    "        client_images_by_status = c.get_images_by_status(status=[status])\n",
    "        for image in client_images_by_status:\n",
    "            lists.append(image)\n",
    "       \n",
    "count_dict = {'Normal':0,'Benign':0, 'Malignant':0}      \n",
    "for l, status in zip([images_normal, images_benign, images_malignant], ['Normal', 'Benign', 'Malignant']):\n",
    "    print(f'Printing status {status}:')\n",
    "    for i in l:\n",
    "        # print(i.status)\n",
    "        count_dict[status]+=1\n",
    "    print(count_dict[status])\n",
    "    \n",
    "# for l, status in zip([images_normal, images_benign, images_malignant], ['Normal', 'Benign', 'Malignant']):\n",
    "#     print(f'Printing status {status}:')\n",
    "#     for i in l:\n",
    "#         print(i.status)      "
   ]
  },
  {
   "cell_type": "markdown",
   "id": "2d2cc973-49cf-447e-bae2-d672b571e895",
   "metadata": {},
   "source": [
    "# Data Loader playground"
   ]
  },
  {
   "cell_type": "code",
   "execution_count": 12,
   "id": "c010d0e0-21af-4947-a6f3-3f58d4da1d1b",
   "metadata": {},
   "outputs": [
    {
     "name": "stdout",
     "output_type": "stream",
     "text": [
      "Total images selected by status (benign): 100\n",
      "Total images selected by status (malignant): 100\n"
     ]
    }
   ],
   "source": [
    "subjects = INBreastDataset(csv_path, dataset_path, load_max=-1)\n",
    "images_benign, images_normal, images_malignant = [], [], []\n",
    "for c in subjects:\n",
    "    for imlist, status in zip([images_normal, images_benign, images_malignant], ['Normal', 'Benign', 'Malignant']):\n",
    "        client_images_by_status = c.get_images_by_status(status=[status])\n",
    "        for image in client_images_by_status:\n",
    "            imlist.append(image)\n",
    "# images_benign, images_normal, images_malignant = [], [], []\n",
    "# Balance the dataset\n",
    "balance_to_min_index = min([len(images_benign), len(images_malignant)])\n",
    "images_benign = images_benign[:balance_to_min_index]\n",
    "images_malignant = images_malignant[:balance_to_min_index]\n",
    "total_images = images_benign + images_malignant\n",
    "for ims, status in zip([images_benign, images_malignant], ['benign', 'malignant']):\n",
    "    print(f'Total images selected by status ({status}): {len(ims)}')"
   ]
  },
  {
   "cell_type": "code",
   "execution_count": 13,
   "id": "d872a3b3-3488-473d-a6ea-7a768838b8e1",
   "metadata": {},
   "outputs": [],
   "source": [
    "import random\n",
    "random.shuffle(total_images) \n",
    "\n",
    "# Data Split\n",
    "training_images = total_images[:int(0.8*len(total_images))]\n",
    "validation_images = total_images[int(0.8*len(total_images)):]\n",
    "test_images = total_images[int(0.8*len(total_images)):]\n",
    "\n",
    "images = validation_images"
   ]
  },
  {
   "cell_type": "code",
   "execution_count": 43,
   "id": "9ae58119-499e-4560-89eb-485063a273c7",
   "metadata": {},
   "outputs": [],
   "source": [
    "import pydicom as dicom\n",
    "\n",
    "image=images[0]\n",
    "\n",
    "if image.status=='Malignant' or image.status=='Interval Cancer':\n",
    "    label = np.single(1)\n",
    "elif image.status=='Benign' or image.status=='Normal':\n",
    "    label = np.single(0)\n",
    "# label = np.single(1) if image.status=='Malignant' else np.single(0)\n",
    "# status = image.status # ['Benign', 'Malignant', 'Interval Cancer', 'Normal']\n",
    "manufacturer = image.manufacturer # ['HOLOGIC, Inc.', 'Philips Digital Mammography Sweden AB', 'GE MEDICAL SYSTEMS', 'Philips Medical Systems', 'SIEMENS']\n",
    "# view = image.view # MLO_VIEW = ['MLO','LMLO','RMLO', 'LMO', 'ML'] CC_VIEW = ['CC','LCC','RCC', 'XCCL', 'XCCM']\n",
    "# laterality = image.laterality # L R\n",
    "if \".dcm\" in image.path:\n",
    "    # If this doesn't work. Check Lidia's https://gitlab.com/eucanimage/BreastCancer/-/blob/master/src/preprocessing/mmg_utils.py\n",
    "    img_dcm = dicom.dcmread(image.path)\n",
    "    img_np = img_dcm.pixel_array\n",
    "else:\n",
    "    img_pil = Image.open(image.path).convert('RGB')\n",
    "    img_np = np.array(img_pil)"
   ]
  },
  {
   "cell_type": "code",
   "execution_count": 38,
   "id": "821aa14f-5d10-4e23-a76a-47cd82dfd301",
   "metadata": {},
   "outputs": [
    {
     "data": {
      "image/png": "[encoded data removed]",
      "text/plain": [
       "<Figure size 576x396 with 1 Axes>"
      ]
     },
     "metadata": {},
     "output_type": "display_data"
    }
   ],
   "source": [
    "import matplotlib.pyplot as plt\n",
    "plt.style.use('seaborn')\n",
    "plt.imshow(img_np, cmap='gray')\n",
    "plt.grid(False)"
   ]
  },
  {
   "cell_type": "code",
   "execution_count": 44,
   "id": "c0a13343-8487-4a0a-9001-0c57d7fc48f6",
   "metadata": {},
   "outputs": [],
   "source": [
    "channelwhat = img_np.transpose(2,0,1)[0]"
   ]
  },
  {
   "cell_type": "code",
   "execution_count": 46,
   "id": "6a2a5351-f78e-4955-91f5-91b96e6c7c35",
   "metadata": {},
   "outputs": [
    {
     "data": {
      "text/plain": [
       "(2529, 848)"
      ]
     },
     "execution_count": 46,
     "metadata": {},
     "output_type": "execute_result"
    }
   ],
   "source": [
    "channelwhat.shape"
   ]
  },
  {
   "cell_type": "code",
   "execution_count": 45,
   "id": "7ab9e1f1-3659-4da5-a13a-178e4d2d6fd4",
   "metadata": {},
   "outputs": [
    {
     "data": {
      "image/png": "[encoded data removed]",
      "text/plain": [
       "<Figure size 576x396 with 1 Axes>"
      ]
     },
     "metadata": {},
     "output_type": "display_data"
    }
   ],
   "source": [
    "import matplotlib.pyplot as plt\n",
    "plt.style.use('seaborn')\n",
    "plt.imshow(channelwhat, cmap='gray')\n",
    "plt.grid(False)"
   ]
  },
  {
   "cell_type": "code",
   "execution_count": 15,
   "id": "a8277e83-e549-464a-8bed-97f18db19a27",
   "metadata": {},
   "outputs": [
    {
     "data": {
      "text/plain": [
       "(2529, 848, 3)"
      ]
     },
     "execution_count": 15,
     "metadata": {},
     "output_type": "execute_result"
    }
   ],
   "source": [
    "img_np.shape"
   ]
  },
  {
   "cell_type": "code",
   "execution_count": 16,
   "id": "bdcadbd0-fd0d-4707-80d9-674721341030",
   "metadata": {},
   "outputs": [],
   "source": [
    "def crop_new(arr):\n",
    "\n",
    "    mask = arr != 0\n",
    "    n = mask.ndim\n",
    "    dims = range(n)\n",
    "    slices = [None]*n\n",
    "\n",
    "    for i in dims:\n",
    "        mask_i = mask.any(tuple([*dims[:i], *dims[i+1:]]))\n",
    "        slices[i] = (mask_i.argmax(), len(mask_i) - mask_i[::-1].argmax())\n",
    "\n",
    "    return arr[[slice(*s) for s in slices]]"
   ]
  },
  {
   "cell_type": "code",
   "execution_count": 17,
   "id": "92093cfe-e1dd-4227-8375-f55144111ae0",
   "metadata": {},
   "outputs": [
    {
     "name": "stderr",
     "output_type": "stream",
     "text": [
      "/home/akis-linardos/BFP/docker/fl_env/lib/python3.7/site-packages/ipykernel_launcher.py:12: FutureWarning: Using a non-tuple sequence for multidimensional indexing is deprecated; use `arr[tuple(seq)]` instead of `arr[seq]`. In the future this will be interpreted as an array index, `arr[np.array(seq)]`, which will result either in an error or a different result.\n",
      "  if sys.path[0] == '':\n"
     ]
    }
   ],
   "source": [
    "cropped_img = crop_new(img_np)"
   ]
  },
  {
   "cell_type": "code",
   "execution_count": 18,
   "id": "bfdfe4b7-106c-4135-a683-c3eb5918a325",
   "metadata": {},
   "outputs": [
    {
     "data": {
      "text/plain": [
       "(2529, 848, 3)"
      ]
     },
     "execution_count": 18,
     "metadata": {},
     "output_type": "execute_result"
    }
   ],
   "source": [
    "cropped_img.shape"
   ]
  },
  {
   "cell_type": "code",
   "execution_count": 32,
   "id": "b0091f49-83e8-43fd-a941-a135c033fa4a",
   "metadata": {},
   "outputs": [
    {
     "data": {
      "text/plain": [
       "(3, 2529, 848)"
      ]
     },
     "execution_count": 32,
     "metadata": {},
     "output_type": "execute_result"
    }
   ],
   "source": [
    "img_np.transpose(2,0,1).shape"
   ]
  },
  {
   "cell_type": "code",
   "execution_count": 35,
   "id": "012567ea-a3c6-4766-8699-64f10767b9e6",
   "metadata": {},
   "outputs": [
    {
     "name": "stdout",
     "output_type": "stream",
     "text": [
      "(2529, 848)\n",
      "(2529, 848)\n",
      "(2529, 848)\n"
     ]
    },
    {
     "name": "stderr",
     "output_type": "stream",
     "text": [
      "/home/akis-linardos/BFP/docker/fl_env/lib/python3.7/site-packages/ipykernel_launcher.py:12: FutureWarning: Using a non-tuple sequence for multidimensional indexing is deprecated; use `arr[tuple(seq)]` instead of `arr[seq]`. In the future this will be interpreted as an array index, `arr[np.array(seq)]`, which will result either in an error or a different result.\n",
      "  if sys.path[0] == '':\n"
     ]
    }
   ],
   "source": [
    "for c in img_np.transpose(2,0,1):\n",
    "    print(crop_new(c).shape)"
   ]
  },
  {
   "cell_type": "code",
   "execution_count": 20,
   "id": "3da3f6f0-cd6b-45a4-94a0-fbaac990c84b",
   "metadata": {},
   "outputs": [],
   "source": [
    "scale_size = (224, 224)"
   ]
  },
  {
   "cell_type": "code",
   "execution_count": 21,
   "id": "bddabc1d-2fbe-476a-9ade-11e116796c24",
   "metadata": {},
   "outputs": [],
   "source": [
    "img_np = np.uint8(img_np) if img_np.dtype != np.uint8 else img_np.copy()\n",
    "rescaled_img, scale_factor = imrescale(img_np, scale_size, return_scale=True, backend='pillow')\n",
    "if len(rescaled_img.shape) > 2:\n",
    "    image = torch.from_numpy(rescaled_img).permute(2,0,1)"
   ]
  },
  {
   "cell_type": "code",
   "execution_count": 23,
   "id": "ee196e38-05f1-4b5e-9f55-af394cc26971",
   "metadata": {},
   "outputs": [
    {
     "ename": "TypeError",
     "evalue": "any() received an invalid combination of arguments - got (tuple), but expected one of:\n * ()\n      didn't match because some of the arguments have invalid types: (!tuple!)\n * (int dim, bool keepdim)\n * (name dim, bool keepdim)\n",
     "output_type": "error",
     "traceback": [
      "\u001b[0;31m---------------------------------------------------------------------------\u001b[0m",
      "\u001b[0;31mTypeError\u001b[0m                                 Traceback (most recent call last)",
      "\u001b[0;32m/tmp/ipykernel_5577/3990004664.py\u001b[0m in \u001b[0;36m<module>\u001b[0;34m\u001b[0m\n\u001b[0;32m----> 1\u001b[0;31m \u001b[0mcrop_new\u001b[0m\u001b[0;34m(\u001b[0m\u001b[0mimage\u001b[0m\u001b[0;34m)\u001b[0m\u001b[0;34m.\u001b[0m\u001b[0mshape\u001b[0m\u001b[0;34m\u001b[0m\u001b[0;34m\u001b[0m\u001b[0m\n\u001b[0m",
      "\u001b[0;32m/tmp/ipykernel_5577/1184958942.py\u001b[0m in \u001b[0;36mcrop_new\u001b[0;34m(arr)\u001b[0m\n\u001b[1;32m      7\u001b[0m \u001b[0;34m\u001b[0m\u001b[0m\n\u001b[1;32m      8\u001b[0m     \u001b[0;32mfor\u001b[0m \u001b[0mi\u001b[0m \u001b[0;32min\u001b[0m \u001b[0mdims\u001b[0m\u001b[0;34m:\u001b[0m\u001b[0;34m\u001b[0m\u001b[0;34m\u001b[0m\u001b[0m\n\u001b[0;32m----> 9\u001b[0;31m         \u001b[0mmask_i\u001b[0m \u001b[0;34m=\u001b[0m \u001b[0mmask\u001b[0m\u001b[0;34m.\u001b[0m\u001b[0many\u001b[0m\u001b[0;34m(\u001b[0m\u001b[0mtuple\u001b[0m\u001b[0;34m(\u001b[0m\u001b[0;34m[\u001b[0m\u001b[0;34m*\u001b[0m\u001b[0mdims\u001b[0m\u001b[0;34m[\u001b[0m\u001b[0;34m:\u001b[0m\u001b[0mi\u001b[0m\u001b[0;34m]\u001b[0m\u001b[0;34m,\u001b[0m \u001b[0;34m*\u001b[0m\u001b[0mdims\u001b[0m\u001b[0;34m[\u001b[0m\u001b[0mi\u001b[0m\u001b[0;34m+\u001b[0m\u001b[0;36m1\u001b[0m\u001b[0;34m:\u001b[0m\u001b[0;34m]\u001b[0m\u001b[0;34m]\u001b[0m\u001b[0;34m)\u001b[0m\u001b[0;34m)\u001b[0m\u001b[0;34m\u001b[0m\u001b[0;34m\u001b[0m\u001b[0m\n\u001b[0m\u001b[1;32m     10\u001b[0m         \u001b[0mslices\u001b[0m\u001b[0;34m[\u001b[0m\u001b[0mi\u001b[0m\u001b[0;34m]\u001b[0m \u001b[0;34m=\u001b[0m \u001b[0;34m(\u001b[0m\u001b[0mmask_i\u001b[0m\u001b[0;34m.\u001b[0m\u001b[0margmax\u001b[0m\u001b[0;34m(\u001b[0m\u001b[0;34m)\u001b[0m\u001b[0;34m,\u001b[0m \u001b[0mlen\u001b[0m\u001b[0;34m(\u001b[0m\u001b[0mmask_i\u001b[0m\u001b[0;34m)\u001b[0m \u001b[0;34m-\u001b[0m \u001b[0mmask_i\u001b[0m\u001b[0;34m[\u001b[0m\u001b[0;34m:\u001b[0m\u001b[0;34m:\u001b[0m\u001b[0;34m-\u001b[0m\u001b[0;36m1\u001b[0m\u001b[0;34m]\u001b[0m\u001b[0;34m.\u001b[0m\u001b[0margmax\u001b[0m\u001b[0;34m(\u001b[0m\u001b[0;34m)\u001b[0m\u001b[0;34m)\u001b[0m\u001b[0;34m\u001b[0m\u001b[0;34m\u001b[0m\u001b[0m\n\u001b[1;32m     11\u001b[0m \u001b[0;34m\u001b[0m\u001b[0m\n",
      "\u001b[0;31mTypeError\u001b[0m: any() received an invalid combination of arguments - got (tuple), but expected one of:\n * ()\n      didn't match because some of the arguments have invalid types: (!tuple!)\n * (int dim, bool keepdim)\n * (name dim, bool keepdim)\n"
     ]
    }
   ],
   "source": [
    "crop_new(image).shape"
   ]
  }
 ],
 "metadata": {
  "kernelspec": {
   "display_name": "Python 3",
   "language": "python",
   "name": "python3"
  },
  "language_info": {
   "codemirror_mode": {
    "name": "ipython",
    "version": 3
   },
   "file_extension": ".py",
   "mimetype": "text/x-python",
   "name": "python",
   "nbconvert_exporter": "python",
   "pygments_lexer": "ipython3",
   "version": "3.7.6"
  }
 },
 "nbformat": 4,
 "nbformat_minor": 5
}
