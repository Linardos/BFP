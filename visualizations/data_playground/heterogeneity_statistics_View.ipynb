{
 "cells": [
  {
   "cell_type": "code",
   "execution_count": 1,
   "id": "4d8ce842-0273-4061-8848-53c1c7b8d339",
   "metadata": {
    "tags": []
   },
   "outputs": [],
   "source": [
    "import os\n",
    "import numpy as np\n",
    "import pandas as pd\n",
    "from PIL import Image"
   ]
  },
  {
   "cell_type": "code",
   "execution_count": 2,
   "id": "a7478c74-0a20-4af6-bbcd-19d9bdae467e",
   "metadata": {},
   "outputs": [],
   "source": [
    "jarv_csv=\"/home/akis-linardos/Datasets/OPTIMAM/jarv_info.csv\"\n",
    "stge_csv=\"/home/akis-linardos/Datasets/OPTIMAM/stge_info.csv\"\n",
    "inbreast_csv=\"/home/lidia-garrucho/datasets/INBREAST/INbreast_updated_cropped_breast.csv\"\n",
    "cmmd_csv='/home/akis-linardos/Datasets/CMMD/info.csv'\n",
    "bcdr_d01_csv=\"/home/lidia-garrucho/datasets/BCDR/cropped/BCDR-D01_dataset/dataset_info.csv\"\n",
    "bcdr_d02_csv=\"/home/lidia-garrucho/datasets/BCDR/cropped/BCDR-D02_dataset/dataset_info.csv\"\n",
    "bcdr_dn01_csv=\"/home/lidia-garrucho/datasets/BCDR/cropped/BCDR-DN01_dataset/dataset_info.csv\"\n",
    "\n",
    "b_d01_csv=pd.read_csv(bcdr_d01_csv)\n",
    "b_d02_csv=pd.read_csv(bcdr_d02_csv)\n",
    "b_dn01_csv=pd.read_csv(bcdr_dn01_csv)\n",
    "j_csv=pd.read_csv(jarv_csv)\n",
    "s_csv=pd.read_csv(stge_csv)\n",
    "i_csv=pd.read_csv(inbreast_csv)\n",
    "c_csv=pd.read_csv(cmmd_csv)"
   ]
  },
  {
   "cell_type": "code",
   "execution_count": 8,
   "id": "aaa4f190-dcbe-4350-8415-4483126836e2",
   "metadata": {},
   "outputs": [],
   "source": [
    "jarv = j_csv[['view','status']]\n",
    "stge = s_csv[['view','status']]\n",
    "inbr = i_csv[['view','BIRADS']]\n",
    "bcd1 = b_d01_csv[['view', 'classification']]\n",
    "bcd2 = b_d02_csv[['view', 'classification']]\n",
    "cmmd = c_csv[['view','status']]"
   ]
  },
  {
   "cell_type": "code",
   "execution_count": 9,
   "id": "89d26bce-f36a-4130-9b55-f570eac35e21",
   "metadata": {},
   "outputs": [
    {
     "data": {
      "text/plain": [
       "view            MLO\n",
       "status    Malignant\n",
       "Name: 0, dtype: object"
      ]
     },
     "execution_count": 9,
     "metadata": {},
     "output_type": "execute_result"
    }
   ],
   "source": [
    "jarv.iloc[0]"
   ]
  },
  {
   "cell_type": "code",
   "execution_count": 10,
   "id": "6eeca39a-ac42-49f6-a5ae-96e26b9a37e2",
   "metadata": {},
   "outputs": [
    {
     "data": {
      "text/plain": [
       "view          CC\n",
       "status    Benign\n",
       "Name: 0, dtype: object"
      ]
     },
     "execution_count": 10,
     "metadata": {},
     "output_type": "execute_result"
    }
   ],
   "source": [
    "stge.iloc[0]"
   ]
  },
  {
   "cell_type": "code",
   "execution_count": 11,
   "id": "fb0dcc14-6638-4d0f-baa7-d989e971098d",
   "metadata": {},
   "outputs": [
    {
     "data": {
      "text/html": [
       "<div>\n",
       "<style scoped>\n",
       "    .dataframe tbody tr th:only-of-type {\n",
       "        vertical-align: middle;\n",
       "    }\n",
       "\n",
       "    .dataframe tbody tr th {\n",
       "        vertical-align: top;\n",
       "    }\n",
       "\n",
       "    .dataframe thead th {\n",
       "        text-align: right;\n",
       "    }\n",
       "</style>\n",
       "<table border=\"1\" class=\"dataframe\">\n",
       "  <thead>\n",
       "    <tr style=\"text-align: right;\">\n",
       "      <th></th>\n",
       "      <th>view</th>\n",
       "      <th>BIRADS</th>\n",
       "    </tr>\n",
       "  </thead>\n",
       "  <tbody>\n",
       "    <tr>\n",
       "      <th>0</th>\n",
       "      <td>CC</td>\n",
       "      <td>1</td>\n",
       "    </tr>\n",
       "    <tr>\n",
       "      <th>1</th>\n",
       "      <td>CC</td>\n",
       "      <td>3</td>\n",
       "    </tr>\n",
       "    <tr>\n",
       "      <th>2</th>\n",
       "      <td>MLO</td>\n",
       "      <td>1</td>\n",
       "    </tr>\n",
       "    <tr>\n",
       "      <th>3</th>\n",
       "      <td>MLO</td>\n",
       "      <td>3</td>\n",
       "    </tr>\n",
       "    <tr>\n",
       "      <th>4</th>\n",
       "      <td>CC</td>\n",
       "      <td>5</td>\n",
       "    </tr>\n",
       "    <tr>\n",
       "      <th>...</th>\n",
       "      <td>...</td>\n",
       "      <td>...</td>\n",
       "    </tr>\n",
       "    <tr>\n",
       "      <th>405</th>\n",
       "      <td>MLO</td>\n",
       "      <td>1</td>\n",
       "    </tr>\n",
       "    <tr>\n",
       "      <th>406</th>\n",
       "      <td>MLO</td>\n",
       "      <td>2</td>\n",
       "    </tr>\n",
       "    <tr>\n",
       "      <th>407</th>\n",
       "      <td>MLO</td>\n",
       "      <td>2</td>\n",
       "    </tr>\n",
       "    <tr>\n",
       "      <th>408</th>\n",
       "      <td>CC</td>\n",
       "      <td>2</td>\n",
       "    </tr>\n",
       "    <tr>\n",
       "      <th>409</th>\n",
       "      <td>CC</td>\n",
       "      <td>2</td>\n",
       "    </tr>\n",
       "  </tbody>\n",
       "</table>\n",
       "<p>410 rows × 2 columns</p>\n",
       "</div>"
      ],
      "text/plain": [
       "    view BIRADS\n",
       "0     CC      1\n",
       "1     CC      3\n",
       "2    MLO      1\n",
       "3    MLO      3\n",
       "4     CC      5\n",
       "..   ...    ...\n",
       "405  MLO      1\n",
       "406  MLO      2\n",
       "407  MLO      2\n",
       "408   CC      2\n",
       "409   CC      2\n",
       "\n",
       "[410 rows x 2 columns]"
      ]
     },
     "execution_count": 11,
     "metadata": {},
     "output_type": "execute_result"
    }
   ],
   "source": [
    "inbr"
   ]
  },
  {
   "cell_type": "code",
   "execution_count": 12,
   "id": "f0e954a6-fce4-430b-b0f2-f5cb033c329d",
   "metadata": {},
   "outputs": [],
   "source": [
    "def view_stats(dataset_pd, label='status'):\n",
    "    r_benign, r_malign, l_benign, l_malign = 0, 0, 0, 0\n",
    "    for row in dataset_pd.iterrows():\n",
    "        if (row[1][label]=='Normal' or row[1][label]=='Interval Cancer'):\n",
    "            continue\n",
    "\n",
    "        if (row[1]['view']=='MLO')  and (row[1][label]=='Malignant' or row[1][label]=='Malign'):\n",
    "            l_malign += 1\n",
    "        elif (row[1]['view']=='CC') and (row[1][label]=='Malignant' or row[1][label]=='Malign'):\n",
    "            r_malign += 1\n",
    "        elif (row[1]['view']=='MLO')  and (row[1][label]=='Benign' or row[1][label]=='Benign'):\n",
    "            l_benign += 1\n",
    "        elif (row[1]['view']=='CC') and (row[1][label]=='Benign' or row[1][label]=='Benign'):\n",
    "            r_benign += 1\n",
    "        else:\n",
    "            print(\"ERROR One of the two not recognized: {} {}\".format(row[1]['view'], row[1][label]))\n",
    "            break\n",
    "    ml = l_malign/(l_malign+r_malign)\n",
    "    mr = r_malign/(l_malign+r_malign)\n",
    "    bl = l_benign/(l_benign+r_benign)\n",
    "    br = r_benign/(l_benign+r_benign)\n",
    "    return [ml, mr, bl, br]"
   ]
  },
  {
   "cell_type": "code",
   "execution_count": 13,
   "id": "091067e2-1a67-41bf-b991-5453f2cc9a16",
   "metadata": {},
   "outputs": [],
   "source": [
    "def view_stats_inbreast(dataset_pd, label='BIRADS'):\n",
    "    r_benign, r_malign, l_benign, l_malign = 0, 0, 0, 0\n",
    "    for row in dataset_pd.iterrows():\n",
    "        if (row[1][label]=='1'):\n",
    "            continue\n",
    "\n",
    "        if (row[1]['view']=='MLO') and (row[1][label] == '4' or row[1][label]== '5' or row[1][label]=='6'):\n",
    "            l_malign += 1\n",
    "        elif (row[1]['view']=='CC') and (row[1][label] == '4' or row[1][label]== '5' or row[1][label]=='6'):\n",
    "            r_malign += 1\n",
    "        elif (row[1]['view']=='MLO') and (row[1][label]=='2' or row[1][label]=='3'):\n",
    "            l_benign += 1\n",
    "        elif (row[1]['view']=='CC') and (row[1][label]=='2' or row[1][label]=='3'):\n",
    "            r_benign += 1\n",
    "        else:\n",
    "            print(\"ERROR One of the two not recognized: {} {}\".format(row[1]['view'], row[1][label]))\n",
    "            break\n",
    "    ml = l_malign/(l_malign+r_malign)\n",
    "    mr = r_malign/(l_malign+r_malign)\n",
    "    bl = l_benign/(l_benign+r_benign)\n",
    "    br = r_benign/(l_benign+r_benign)\n",
    "    return [ml, mr, bl, br]"
   ]
  },
  {
   "cell_type": "code",
   "execution_count": 15,
   "id": "c139b351-f560-4f30-8215-514d4f517582",
   "metadata": {},
   "outputs": [
    {
     "name": "stdout",
     "output_type": "stream",
     "text": [
      "ERROR One of the two not recognized: XCCM Malignant\n"
     ]
    },
    {
     "data": {
      "text/plain": [
       "[0.5023809523809524,\n",
       " 0.4976190476190476,\n",
       " 0.4975845410628019,\n",
       " 0.5024154589371981]"
      ]
     },
     "execution_count": 15,
     "metadata": {},
     "output_type": "execute_result"
    }
   ],
   "source": [
    "view_stats(stge)"
   ]
  },
  {
   "cell_type": "code",
   "execution_count": 17,
   "id": "9e17c991-deaf-4b3c-b16b-7012172c77cc",
   "metadata": {},
   "outputs": [],
   "source": [
    "bcdr = pd.concat([bcd1, bcd2])"
   ]
  },
  {
   "cell_type": "code",
   "execution_count": 21,
   "id": "babede70-c67d-4ed9-9eb8-2eacbad73d1b",
   "metadata": {},
   "outputs": [
    {
     "name": "stdout",
     "output_type": "stream",
     "text": [
      "ERROR One of the two not recognized: XCCM Malignant\n",
      "ERROR One of the two not recognized: XCCL Malignant\n",
      "ERROR One of the two not recognized: MLO 4a\n"
     ]
    }
   ],
   "source": [
    "view_DF_stats = pd.DataFrame(np.array([view_stats(stge), view_stats(jarv), view_stats_inbreast(inbr, label='BIRADS')\n",
    ", view_stats(bcdr, 'classification'), view_stats(cmmd)]), columns=['MLO+Malignant', 'CC+Malignant', 'MLO+Benign', 'CC+Benign'], index=['OPTIMAM(jarv)', 'OPTIMAM(stge)', 'InBreast', 'BCDR', 'CMMD'])"
   ]
  },
  {
   "cell_type": "code",
   "execution_count": 22,
   "id": "60e6205c-b226-4d31-a442-e7308f0041ff",
   "metadata": {},
   "outputs": [
    {
     "data": {
      "text/html": [
       "<div>\n",
       "<style scoped>\n",
       "    .dataframe tbody tr th:only-of-type {\n",
       "        vertical-align: middle;\n",
       "    }\n",
       "\n",
       "    .dataframe tbody tr th {\n",
       "        vertical-align: top;\n",
       "    }\n",
       "\n",
       "    .dataframe thead th {\n",
       "        text-align: right;\n",
       "    }\n",
       "</style>\n",
       "<table border=\"1\" class=\"dataframe\">\n",
       "  <thead>\n",
       "    <tr style=\"text-align: right;\">\n",
       "      <th></th>\n",
       "      <th>MLO+Malignant</th>\n",
       "      <th>CC+Malignant</th>\n",
       "      <th>MLO+Benign</th>\n",
       "      <th>CC+Benign</th>\n",
       "    </tr>\n",
       "  </thead>\n",
       "  <tbody>\n",
       "    <tr>\n",
       "      <th>OPTIMAM(jarv)</th>\n",
       "      <td>0.502381</td>\n",
       "      <td>0.497619</td>\n",
       "      <td>0.497585</td>\n",
       "      <td>0.502415</td>\n",
       "    </tr>\n",
       "    <tr>\n",
       "      <th>OPTIMAM(stge)</th>\n",
       "      <td>0.506098</td>\n",
       "      <td>0.493902</td>\n",
       "      <td>0.503185</td>\n",
       "      <td>0.496815</td>\n",
       "    </tr>\n",
       "    <tr>\n",
       "      <th>InBreast</th>\n",
       "      <td>0.500000</td>\n",
       "      <td>0.500000</td>\n",
       "      <td>0.600000</td>\n",
       "      <td>0.400000</td>\n",
       "    </tr>\n",
       "    <tr>\n",
       "      <th>BCDR</th>\n",
       "      <td>0.514019</td>\n",
       "      <td>0.485981</td>\n",
       "      <td>0.513238</td>\n",
       "      <td>0.486762</td>\n",
       "    </tr>\n",
       "    <tr>\n",
       "      <th>CMMD</th>\n",
       "      <td>0.500000</td>\n",
       "      <td>0.500000</td>\n",
       "      <td>0.500000</td>\n",
       "      <td>0.500000</td>\n",
       "    </tr>\n",
       "  </tbody>\n",
       "</table>\n",
       "</div>"
      ],
      "text/plain": [
       "               MLO+Malignant  CC+Malignant  MLO+Benign  CC+Benign\n",
       "OPTIMAM(jarv)       0.502381      0.497619    0.497585   0.502415\n",
       "OPTIMAM(stge)       0.506098      0.493902    0.503185   0.496815\n",
       "InBreast            0.500000      0.500000    0.600000   0.400000\n",
       "BCDR                0.514019      0.485981    0.513238   0.486762\n",
       "CMMD                0.500000      0.500000    0.500000   0.500000"
      ]
     },
     "execution_count": 22,
     "metadata": {},
     "output_type": "execute_result"
    }
   ],
   "source": [
    "view_DF_stats"
   ]
  }
 ],
 "metadata": {
  "kernelspec": {
   "display_name": "Python 3",
   "language": "python",
   "name": "python3"
  },
  "language_info": {
   "codemirror_mode": {
    "name": "ipython",
    "version": 3
   },
   "file_extension": ".py",
   "mimetype": "text/x-python",
   "name": "python",
   "nbconvert_exporter": "python",
   "pygments_lexer": "ipython3",
   "version": "3.7.6"
  }
 },
 "nbformat": 4,
 "nbformat_minor": 5
}
