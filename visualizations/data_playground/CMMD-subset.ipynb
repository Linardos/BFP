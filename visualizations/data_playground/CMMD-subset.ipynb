{
 "cells": [
  {
   "cell_type": "code",
   "execution_count": 42,
   "id": "4d8ce842-0273-4061-8848-53c1c7b8d339",
   "metadata": {
    "tags": []
   },
   "outputs": [],
   "source": [
    "import os\n",
    "import numpy as np\n",
    "from PIL import Image\n",
    "from src.data_handling.mmg_detection_datasets import *\n",
    "from src.visualizations.plot_image import plot_image_opencv_fit_window\n",
    "from src.data_augmentation.breast_density.data.resize_image import *\n",
    "import torch\n",
    "\n",
    "from src.preprocessing.histogram_standardization import get_hist_stand_landmarks, apply_hist_stand_landmarks\n",
    "\n",
    "\n",
    "\n",
    "pathologies = None #['mass', 'calcifications', 'suspicious_calcifications', 'architectural_distortion'] # None to select all\n",
    "status = ['Normal', 'Benign', 'Malignant'] #['Normal'] \n",
    "# Resize images keeping aspect ratio\n",
    "\n",
    "# Call to the OPTIMAM Dataloader\n",
    "csv_path = '/home/akis-linardos/Datasets/CMMD_subset/info.csv'\n",
    "subset_csv_path = '/home/akis-linardos/Datasets/CMMD_subset/info.csv'"
   ]
  },
  {
   "cell_type": "code",
   "execution_count": 33,
   "id": "3222ff35-188a-49c2-bbb3-c37802c7a993",
   "metadata": {},
   "outputs": [],
   "source": [
    "csv = pd.read_csv(csv_path, index_col=[0])\n",
    "# csv=csv.drop(['Unnamed: 0.1', 'Unnamed: 0.1.1', 'Unnamed: 0.1.1.1', 'Unnamed: 0.1.1.1.1'],axis=1)\n",
    "# csv.to_csv(csv_path)\n"
   ]
  },
  {
   "cell_type": "code",
   "execution_count": 34,
   "id": "ac86cc22-1384-4e9f-a790-fff97db1e432",
   "metadata": {},
   "outputs": [],
   "source": [
    "ben_sub = csv[csv['status']=='Benign'][:50]\n",
    "mal_sub = csv[csv['status']=='Malignant'][:50]\n",
    "subset_csv = pd.concat([ben_sub, mal_sub], ignore_index=True, sort=False)"
   ]
  },
  {
   "cell_type": "code",
   "execution_count": 35,
   "id": "adba24a5-7cfb-4e44-bec0-e2f7efe88cac",
   "metadata": {},
   "outputs": [],
   "source": [
    "subset_csv.to_csv(subset_csv_path)"
   ]
  },
  {
   "cell_type": "code",
   "execution_count": 37,
   "id": "264e2cf6-ed8f-4dad-ac1c-35b8eb275776",
   "metadata": {},
   "outputs": [
    {
     "data": {
      "text/html": [
       "<div>\n",
       "<style scoped>\n",
       "    .dataframe tbody tr th:only-of-type {\n",
       "        vertical-align: middle;\n",
       "    }\n",
       "\n",
       "    .dataframe tbody tr th {\n",
       "        vertical-align: top;\n",
       "    }\n",
       "\n",
       "    .dataframe thead th {\n",
       "        text-align: right;\n",
       "    }\n",
       "</style>\n",
       "<table border=\"1\" class=\"dataframe\">\n",
       "  <thead>\n",
       "    <tr style=\"text-align: right;\">\n",
       "      <th></th>\n",
       "      <th>series_id</th>\n",
       "      <th>Collection</th>\n",
       "      <th>3rd Party Analysis</th>\n",
       "      <th>Data Description URI</th>\n",
       "      <th>patient_id</th>\n",
       "      <th>study_id</th>\n",
       "      <th>Study Description</th>\n",
       "      <th>Study Date</th>\n",
       "      <th>Series Description</th>\n",
       "      <th>manufacturer</th>\n",
       "      <th>...</th>\n",
       "      <th>SOP Class UID</th>\n",
       "      <th>Number of Images</th>\n",
       "      <th>File Size</th>\n",
       "      <th>scan_path</th>\n",
       "      <th>Download Timestamp</th>\n",
       "      <th>status</th>\n",
       "      <th>pathology</th>\n",
       "      <th>laterality</th>\n",
       "      <th>view</th>\n",
       "      <th>image_id</th>\n",
       "    </tr>\n",
       "  </thead>\n",
       "  <tbody>\n",
       "    <tr>\n",
       "      <th>0</th>\n",
       "      <td>1.3.6.1.4.1.14519.5.2.1.1239.1759.292560899611...</td>\n",
       "      <td>CMMD</td>\n",
       "      <td>NO</td>\n",
       "      <td>https://doi.org/10.7937/tcia.eqde4b16</td>\n",
       "      <td>D1-0003</td>\n",
       "      <td>1.3.6.1.4.1.14519.5.2.1.1239.1759.113089024322...</td>\n",
       "      <td>NaN</td>\n",
       "      <td>07-18-2011</td>\n",
       "      <td>NaN</td>\n",
       "      <td>NaN</td>\n",
       "      <td>...</td>\n",
       "      <td>1.2.840.10008.5.1.4.1.1.1.2</td>\n",
       "      <td>2</td>\n",
       "      <td>8.79 MB</td>\n",
       "      <td>CMMD/D1-0003/07-18-2011-NA-NA-25491/1.000000-N...</td>\n",
       "      <td>2022-02-22T14:26:56.454</td>\n",
       "      <td>Benign</td>\n",
       "      <td>calcification</td>\n",
       "      <td>L</td>\n",
       "      <td>CC</td>\n",
       "      <td>0</td>\n",
       "    </tr>\n",
       "    <tr>\n",
       "      <th>1</th>\n",
       "      <td>1.3.6.1.4.1.14519.5.2.1.1239.1759.292560899611...</td>\n",
       "      <td>CMMD</td>\n",
       "      <td>NO</td>\n",
       "      <td>https://doi.org/10.7937/tcia.eqde4b16</td>\n",
       "      <td>D1-0003</td>\n",
       "      <td>1.3.6.1.4.1.14519.5.2.1.1239.1759.113089024322...</td>\n",
       "      <td>NaN</td>\n",
       "      <td>07-18-2011</td>\n",
       "      <td>NaN</td>\n",
       "      <td>NaN</td>\n",
       "      <td>...</td>\n",
       "      <td>1.2.840.10008.5.1.4.1.1.1.2</td>\n",
       "      <td>2</td>\n",
       "      <td>8.79 MB</td>\n",
       "      <td>CMMD/D1-0003/07-18-2011-NA-NA-25491/1.000000-N...</td>\n",
       "      <td>2022-02-22T14:26:56.454</td>\n",
       "      <td>Benign</td>\n",
       "      <td>calcification</td>\n",
       "      <td>L</td>\n",
       "      <td>MLO</td>\n",
       "      <td>1</td>\n",
       "    </tr>\n",
       "    <tr>\n",
       "      <th>2</th>\n",
       "      <td>1.3.6.1.4.1.14519.5.2.1.1239.1759.623006463861...</td>\n",
       "      <td>CMMD</td>\n",
       "      <td>NO</td>\n",
       "      <td>https://doi.org/10.7937/tcia.eqde4b16</td>\n",
       "      <td>D1-0001</td>\n",
       "      <td>1.3.6.1.4.1.14519.5.2.1.1239.1759.335790956129...</td>\n",
       "      <td>NaN</td>\n",
       "      <td>07-18-2010</td>\n",
       "      <td>NaN</td>\n",
       "      <td>NaN</td>\n",
       "      <td>...</td>\n",
       "      <td>1.2.840.10008.5.1.4.1.1.1.2</td>\n",
       "      <td>2</td>\n",
       "      <td>8.79 MB</td>\n",
       "      <td>CMMD/D1-0001/07-18-2010-NA-NA-79377/1.000000-N...</td>\n",
       "      <td>2022-02-22T14:26:57.31</td>\n",
       "      <td>Benign</td>\n",
       "      <td>calcification</td>\n",
       "      <td>R</td>\n",
       "      <td>CC</td>\n",
       "      <td>2</td>\n",
       "    </tr>\n",
       "    <tr>\n",
       "      <th>3</th>\n",
       "      <td>1.3.6.1.4.1.14519.5.2.1.1239.1759.623006463861...</td>\n",
       "      <td>CMMD</td>\n",
       "      <td>NO</td>\n",
       "      <td>https://doi.org/10.7937/tcia.eqde4b16</td>\n",
       "      <td>D1-0001</td>\n",
       "      <td>1.3.6.1.4.1.14519.5.2.1.1239.1759.335790956129...</td>\n",
       "      <td>NaN</td>\n",
       "      <td>07-18-2010</td>\n",
       "      <td>NaN</td>\n",
       "      <td>NaN</td>\n",
       "      <td>...</td>\n",
       "      <td>1.2.840.10008.5.1.4.1.1.1.2</td>\n",
       "      <td>2</td>\n",
       "      <td>8.79 MB</td>\n",
       "      <td>CMMD/D1-0001/07-18-2010-NA-NA-79377/1.000000-N...</td>\n",
       "      <td>2022-02-22T14:26:57.31</td>\n",
       "      <td>Benign</td>\n",
       "      <td>calcification</td>\n",
       "      <td>R</td>\n",
       "      <td>MLO</td>\n",
       "      <td>3</td>\n",
       "    </tr>\n",
       "    <tr>\n",
       "      <th>4</th>\n",
       "      <td>1.3.6.1.4.1.14519.5.2.1.1239.1759.411712488433...</td>\n",
       "      <td>CMMD</td>\n",
       "      <td>NO</td>\n",
       "      <td>https://doi.org/10.7937/tcia.eqde4b16</td>\n",
       "      <td>D1-0005</td>\n",
       "      <td>1.3.6.1.4.1.14519.5.2.1.1239.1759.249693111563...</td>\n",
       "      <td>NaN</td>\n",
       "      <td>07-18-2011</td>\n",
       "      <td>NaN</td>\n",
       "      <td>NaN</td>\n",
       "      <td>...</td>\n",
       "      <td>1.2.840.10008.5.1.4.1.1.1.2</td>\n",
       "      <td>2</td>\n",
       "      <td>8.79 MB</td>\n",
       "      <td>CMMD/D1-0005/07-18-2011-NA-NA-52347/1.000000-N...</td>\n",
       "      <td>2022-02-22T14:27:01.533</td>\n",
       "      <td>Benign</td>\n",
       "      <td>calcification</td>\n",
       "      <td>R</td>\n",
       "      <td>CC</td>\n",
       "      <td>4</td>\n",
       "    </tr>\n",
       "    <tr>\n",
       "      <th>...</th>\n",
       "      <td>...</td>\n",
       "      <td>...</td>\n",
       "      <td>...</td>\n",
       "      <td>...</td>\n",
       "      <td>...</td>\n",
       "      <td>...</td>\n",
       "      <td>...</td>\n",
       "      <td>...</td>\n",
       "      <td>...</td>\n",
       "      <td>...</td>\n",
       "      <td>...</td>\n",
       "      <td>...</td>\n",
       "      <td>...</td>\n",
       "      <td>...</td>\n",
       "      <td>...</td>\n",
       "      <td>...</td>\n",
       "      <td>...</td>\n",
       "      <td>...</td>\n",
       "      <td>...</td>\n",
       "      <td>...</td>\n",
       "      <td>...</td>\n",
       "    </tr>\n",
       "    <tr>\n",
       "      <th>95</th>\n",
       "      <td>1.3.6.1.4.1.14519.5.2.1.1239.1759.274348560214...</td>\n",
       "      <td>CMMD</td>\n",
       "      <td>NO</td>\n",
       "      <td>https://doi.org/10.7937/tcia.eqde4b16</td>\n",
       "      <td>D1-0091</td>\n",
       "      <td>1.3.6.1.4.1.14519.5.2.1.1239.1759.204758927278...</td>\n",
       "      <td>NaN</td>\n",
       "      <td>07-18-2010</td>\n",
       "      <td>NaN</td>\n",
       "      <td>NaN</td>\n",
       "      <td>...</td>\n",
       "      <td>1.2.840.10008.5.1.4.1.1.1.2</td>\n",
       "      <td>2</td>\n",
       "      <td>8.79 MB</td>\n",
       "      <td>CMMD/D1-0091/07-18-2010-NA-NA-16258/1.000000-N...</td>\n",
       "      <td>2022-02-22T14:29:38.768</td>\n",
       "      <td>Malignant</td>\n",
       "      <td>calcification</td>\n",
       "      <td>L</td>\n",
       "      <td>MLO</td>\n",
       "      <td>141</td>\n",
       "    </tr>\n",
       "    <tr>\n",
       "      <th>96</th>\n",
       "      <td>1.3.6.1.4.1.14519.5.2.1.1239.1759.155861235739...</td>\n",
       "      <td>CMMD</td>\n",
       "      <td>NO</td>\n",
       "      <td>https://doi.org/10.7937/tcia.eqde4b16</td>\n",
       "      <td>D1-0101</td>\n",
       "      <td>1.3.6.1.4.1.14519.5.2.1.1239.1759.131657589342...</td>\n",
       "      <td>NaN</td>\n",
       "      <td>07-18-2010</td>\n",
       "      <td>NaN</td>\n",
       "      <td>NaN</td>\n",
       "      <td>...</td>\n",
       "      <td>1.2.840.10008.5.1.4.1.1.1.2</td>\n",
       "      <td>2</td>\n",
       "      <td>8.79 MB</td>\n",
       "      <td>CMMD/D1-0101/07-18-2010-NA-NA-36396/1.000000-N...</td>\n",
       "      <td>2022-02-22T14:29:42.648</td>\n",
       "      <td>Malignant</td>\n",
       "      <td>calcification</td>\n",
       "      <td>R</td>\n",
       "      <td>CC</td>\n",
       "      <td>146</td>\n",
       "    </tr>\n",
       "    <tr>\n",
       "      <th>97</th>\n",
       "      <td>1.3.6.1.4.1.14519.5.2.1.1239.1759.155861235739...</td>\n",
       "      <td>CMMD</td>\n",
       "      <td>NO</td>\n",
       "      <td>https://doi.org/10.7937/tcia.eqde4b16</td>\n",
       "      <td>D1-0101</td>\n",
       "      <td>1.3.6.1.4.1.14519.5.2.1.1239.1759.131657589342...</td>\n",
       "      <td>NaN</td>\n",
       "      <td>07-18-2010</td>\n",
       "      <td>NaN</td>\n",
       "      <td>NaN</td>\n",
       "      <td>...</td>\n",
       "      <td>1.2.840.10008.5.1.4.1.1.1.2</td>\n",
       "      <td>2</td>\n",
       "      <td>8.79 MB</td>\n",
       "      <td>CMMD/D1-0101/07-18-2010-NA-NA-36396/1.000000-N...</td>\n",
       "      <td>2022-02-22T14:29:42.648</td>\n",
       "      <td>Malignant</td>\n",
       "      <td>calcification</td>\n",
       "      <td>R</td>\n",
       "      <td>MLO</td>\n",
       "      <td>147</td>\n",
       "    </tr>\n",
       "    <tr>\n",
       "      <th>98</th>\n",
       "      <td>1.3.6.1.4.1.14519.5.2.1.1239.1759.512773095947...</td>\n",
       "      <td>CMMD</td>\n",
       "      <td>NO</td>\n",
       "      <td>https://doi.org/10.7937/tcia.eqde4b16</td>\n",
       "      <td>D1-0103</td>\n",
       "      <td>1.3.6.1.4.1.14519.5.2.1.1239.1759.478649296439...</td>\n",
       "      <td>NaN</td>\n",
       "      <td>07-18-2010</td>\n",
       "      <td>NaN</td>\n",
       "      <td>NaN</td>\n",
       "      <td>...</td>\n",
       "      <td>1.2.840.10008.5.1.4.1.1.1.2</td>\n",
       "      <td>2</td>\n",
       "      <td>8.79 MB</td>\n",
       "      <td>CMMD/D1-0103/07-18-2010-NA-NA-79651/1.000000-N...</td>\n",
       "      <td>2022-02-22T14:29:46.501</td>\n",
       "      <td>Malignant</td>\n",
       "      <td>calcification</td>\n",
       "      <td>L</td>\n",
       "      <td>CC</td>\n",
       "      <td>148</td>\n",
       "    </tr>\n",
       "    <tr>\n",
       "      <th>99</th>\n",
       "      <td>1.3.6.1.4.1.14519.5.2.1.1239.1759.512773095947...</td>\n",
       "      <td>CMMD</td>\n",
       "      <td>NO</td>\n",
       "      <td>https://doi.org/10.7937/tcia.eqde4b16</td>\n",
       "      <td>D1-0103</td>\n",
       "      <td>1.3.6.1.4.1.14519.5.2.1.1239.1759.478649296439...</td>\n",
       "      <td>NaN</td>\n",
       "      <td>07-18-2010</td>\n",
       "      <td>NaN</td>\n",
       "      <td>NaN</td>\n",
       "      <td>...</td>\n",
       "      <td>1.2.840.10008.5.1.4.1.1.1.2</td>\n",
       "      <td>2</td>\n",
       "      <td>8.79 MB</td>\n",
       "      <td>CMMD/D1-0103/07-18-2010-NA-NA-79651/1.000000-N...</td>\n",
       "      <td>2022-02-22T14:29:46.501</td>\n",
       "      <td>Malignant</td>\n",
       "      <td>calcification</td>\n",
       "      <td>L</td>\n",
       "      <td>MLO</td>\n",
       "      <td>149</td>\n",
       "    </tr>\n",
       "  </tbody>\n",
       "</table>\n",
       "<p>100 rows × 22 columns</p>\n",
       "</div>"
      ],
      "text/plain": [
       "                                            series_id Collection  \\\n",
       "0   1.3.6.1.4.1.14519.5.2.1.1239.1759.292560899611...       CMMD   \n",
       "1   1.3.6.1.4.1.14519.5.2.1.1239.1759.292560899611...       CMMD   \n",
       "2   1.3.6.1.4.1.14519.5.2.1.1239.1759.623006463861...       CMMD   \n",
       "3   1.3.6.1.4.1.14519.5.2.1.1239.1759.623006463861...       CMMD   \n",
       "4   1.3.6.1.4.1.14519.5.2.1.1239.1759.411712488433...       CMMD   \n",
       "..                                                ...        ...   \n",
       "95  1.3.6.1.4.1.14519.5.2.1.1239.1759.274348560214...       CMMD   \n",
       "96  1.3.6.1.4.1.14519.5.2.1.1239.1759.155861235739...       CMMD   \n",
       "97  1.3.6.1.4.1.14519.5.2.1.1239.1759.155861235739...       CMMD   \n",
       "98  1.3.6.1.4.1.14519.5.2.1.1239.1759.512773095947...       CMMD   \n",
       "99  1.3.6.1.4.1.14519.5.2.1.1239.1759.512773095947...       CMMD   \n",
       "\n",
       "   3rd Party Analysis                   Data Description URI patient_id  \\\n",
       "0                  NO  https://doi.org/10.7937/tcia.eqde4b16    D1-0003   \n",
       "1                  NO  https://doi.org/10.7937/tcia.eqde4b16    D1-0003   \n",
       "2                  NO  https://doi.org/10.7937/tcia.eqde4b16    D1-0001   \n",
       "3                  NO  https://doi.org/10.7937/tcia.eqde4b16    D1-0001   \n",
       "4                  NO  https://doi.org/10.7937/tcia.eqde4b16    D1-0005   \n",
       "..                ...                                    ...        ...   \n",
       "95                 NO  https://doi.org/10.7937/tcia.eqde4b16    D1-0091   \n",
       "96                 NO  https://doi.org/10.7937/tcia.eqde4b16    D1-0101   \n",
       "97                 NO  https://doi.org/10.7937/tcia.eqde4b16    D1-0101   \n",
       "98                 NO  https://doi.org/10.7937/tcia.eqde4b16    D1-0103   \n",
       "99                 NO  https://doi.org/10.7937/tcia.eqde4b16    D1-0103   \n",
       "\n",
       "                                             study_id  Study Description  \\\n",
       "0   1.3.6.1.4.1.14519.5.2.1.1239.1759.113089024322...                NaN   \n",
       "1   1.3.6.1.4.1.14519.5.2.1.1239.1759.113089024322...                NaN   \n",
       "2   1.3.6.1.4.1.14519.5.2.1.1239.1759.335790956129...                NaN   \n",
       "3   1.3.6.1.4.1.14519.5.2.1.1239.1759.335790956129...                NaN   \n",
       "4   1.3.6.1.4.1.14519.5.2.1.1239.1759.249693111563...                NaN   \n",
       "..                                                ...                ...   \n",
       "95  1.3.6.1.4.1.14519.5.2.1.1239.1759.204758927278...                NaN   \n",
       "96  1.3.6.1.4.1.14519.5.2.1.1239.1759.131657589342...                NaN   \n",
       "97  1.3.6.1.4.1.14519.5.2.1.1239.1759.131657589342...                NaN   \n",
       "98  1.3.6.1.4.1.14519.5.2.1.1239.1759.478649296439...                NaN   \n",
       "99  1.3.6.1.4.1.14519.5.2.1.1239.1759.478649296439...                NaN   \n",
       "\n",
       "    Study Date  Series Description  manufacturer  ...  \\\n",
       "0   07-18-2011                 NaN           NaN  ...   \n",
       "1   07-18-2011                 NaN           NaN  ...   \n",
       "2   07-18-2010                 NaN           NaN  ...   \n",
       "3   07-18-2010                 NaN           NaN  ...   \n",
       "4   07-18-2011                 NaN           NaN  ...   \n",
       "..         ...                 ...           ...  ...   \n",
       "95  07-18-2010                 NaN           NaN  ...   \n",
       "96  07-18-2010                 NaN           NaN  ...   \n",
       "97  07-18-2010                 NaN           NaN  ...   \n",
       "98  07-18-2010                 NaN           NaN  ...   \n",
       "99  07-18-2010                 NaN           NaN  ...   \n",
       "\n",
       "                  SOP Class UID Number of Images File Size  \\\n",
       "0   1.2.840.10008.5.1.4.1.1.1.2                2   8.79 MB   \n",
       "1   1.2.840.10008.5.1.4.1.1.1.2                2   8.79 MB   \n",
       "2   1.2.840.10008.5.1.4.1.1.1.2                2   8.79 MB   \n",
       "3   1.2.840.10008.5.1.4.1.1.1.2                2   8.79 MB   \n",
       "4   1.2.840.10008.5.1.4.1.1.1.2                2   8.79 MB   \n",
       "..                          ...              ...       ...   \n",
       "95  1.2.840.10008.5.1.4.1.1.1.2                2   8.79 MB   \n",
       "96  1.2.840.10008.5.1.4.1.1.1.2                2   8.79 MB   \n",
       "97  1.2.840.10008.5.1.4.1.1.1.2                2   8.79 MB   \n",
       "98  1.2.840.10008.5.1.4.1.1.1.2                2   8.79 MB   \n",
       "99  1.2.840.10008.5.1.4.1.1.1.2                2   8.79 MB   \n",
       "\n",
       "                                            scan_path  \\\n",
       "0   CMMD/D1-0003/07-18-2011-NA-NA-25491/1.000000-N...   \n",
       "1   CMMD/D1-0003/07-18-2011-NA-NA-25491/1.000000-N...   \n",
       "2   CMMD/D1-0001/07-18-2010-NA-NA-79377/1.000000-N...   \n",
       "3   CMMD/D1-0001/07-18-2010-NA-NA-79377/1.000000-N...   \n",
       "4   CMMD/D1-0005/07-18-2011-NA-NA-52347/1.000000-N...   \n",
       "..                                                ...   \n",
       "95  CMMD/D1-0091/07-18-2010-NA-NA-16258/1.000000-N...   \n",
       "96  CMMD/D1-0101/07-18-2010-NA-NA-36396/1.000000-N...   \n",
       "97  CMMD/D1-0101/07-18-2010-NA-NA-36396/1.000000-N...   \n",
       "98  CMMD/D1-0103/07-18-2010-NA-NA-79651/1.000000-N...   \n",
       "99  CMMD/D1-0103/07-18-2010-NA-NA-79651/1.000000-N...   \n",
       "\n",
       "         Download Timestamp     status      pathology laterality view image_id  \n",
       "0   2022-02-22T14:26:56.454     Benign  calcification          L   CC        0  \n",
       "1   2022-02-22T14:26:56.454     Benign  calcification          L  MLO        1  \n",
       "2    2022-02-22T14:26:57.31     Benign  calcification          R   CC        2  \n",
       "3    2022-02-22T14:26:57.31     Benign  calcification          R  MLO        3  \n",
       "4   2022-02-22T14:27:01.533     Benign  calcification          R   CC        4  \n",
       "..                      ...        ...            ...        ...  ...      ...  \n",
       "95  2022-02-22T14:29:38.768  Malignant  calcification          L  MLO      141  \n",
       "96  2022-02-22T14:29:42.648  Malignant  calcification          R   CC      146  \n",
       "97  2022-02-22T14:29:42.648  Malignant  calcification          R  MLO      147  \n",
       "98  2022-02-22T14:29:46.501  Malignant  calcification          L   CC      148  \n",
       "99  2022-02-22T14:29:46.501  Malignant  calcification          L  MLO      149  \n",
       "\n",
       "[100 rows x 22 columns]"
      ]
     },
     "execution_count": 37,
     "metadata": {},
     "output_type": "execute_result"
    }
   ],
   "source": [
    "subset_csv"
   ]
  },
  {
   "cell_type": "code",
   "execution_count": null,
   "id": "2be805e1-6da0-4157-b505-0a5083a95a18",
   "metadata": {},
   "outputs": [],
   "source": [
    "from distutils.dir_util import copy_tree\n",
    "for patient_id in subset_csv['patient_id']:\n",
    "    from_directory = \"/home/akis-linardos/Datasets/CMMD/\"+patient_id\n",
    "    to_directory = '/home/akis-linardos/Datasets/CMMD_subset/'+patient_id\n",
    "    \n",
    "\n",
    "\n",
    "    copy_tree(from_directory, to_directory)\n",
    "    # break"
   ]
  },
  {
   "cell_type": "code",
   "execution_count": 36,
   "id": "525800dc-a46e-4e12-969d-aaa776f5302f",
   "metadata": {},
   "outputs": [
    {
     "name": "stdout",
     "output_type": "stream",
     "text": [
      "Total clients selected by status (Normal): 0\n",
      "Total clients selected by status (Benign): 24\n",
      "Total clients selected by status (Malignant): 24\n"
     ]
    }
   ],
   "source": [
    "import pandas as pd\n",
    "\n",
    "dataset_path = '/home/akis-linardos/Datasets'\n",
    "cmmd_clients = CMMDDataset(subset_csv_path, dataset_path, load_max=-1)\n",
    "ROOT_DATA_PATH = '/home/akis-linardos/Datasets'\n",
    "# Call to the OPTIMAM Dataloader\n",
    "\n",
    "for status in ['Normal', 'Benign', 'Malignant']:\n",
    "    clients_selected = cmmd_clients.get_clients_by_status(status)\n",
    "    print(f'Total clients selected by status ({status}): {len(clients_selected)}')"
   ]
  },
  {
   "cell_type": "code",
   "execution_count": null,
   "id": "4ae89ffc-bb44-448a-b149-b3cf05a6b367",
   "metadata": {},
   "outputs": [
    {
     "data": {
      "text/plain": [
       "<matplotlib.image.AxesImage at 0x7f43513e9810>"
      ]
     },
     "execution_count": 23,
     "metadata": {},
     "output_type": "execute_result"
    },
    {
     "data": {
      "image/png": "[encoded data removed]",
      "text/plain": [
       "<Figure size 576x396 with 1 Axes>"
      ]
     },
     "metadata": {},
     "output_type": "display_data"
    }
   ],
   "source": [
    "plt.imshow(image, cmap='gray')"
   ]
  },
  {
   "cell_type": "code",
   "execution_count": null,
   "id": "562e5ee5-958a-4de4-8500-76128a1d63e8",
   "metadata": {},
   "outputs": [
    {
     "data": {
      "text/plain": [
       "(224, 187)"
      ]
     },
     "execution_count": 25,
     "metadata": {},
     "output_type": "execute_result"
    }
   ],
   "source": [
    "image.shape"
   ]
  },
  {
   "cell_type": "code",
   "execution_count": null,
   "id": "adcd0e17-261e-459c-b969-c7467b751094",
   "metadata": {},
   "outputs": [],
   "source": [
    "a = np.zeros((30, 30, 30, 20),dtype=np.uint8)\n",
    "a[2:-2, 2:-2, 2:-2, 2:-2] = np.random.randint(0,255,(26,26,26,16),dtype=np.uint8)"
   ]
  },
  {
   "cell_type": "code",
   "execution_count": null,
   "id": "c7def349-fbde-4029-a517-6a02c712444c",
   "metadata": {},
   "outputs": [
    {
     "name": "stderr",
     "output_type": "stream",
     "text": [
      "/home/akis-linardos/BFP/docker/fl_env/lib/python3.7/site-packages/ipykernel_launcher.py:12: FutureWarning: Using a non-tuple sequence for multidimensional indexing is deprecated; use `arr[tuple(seq)]` instead of `arr[seq]`. In the future this will be interpreted as an array index, `arr[np.array(seq)]`, which will result either in an error or a different result.\n",
      "  if sys.path[0] == '':\n"
     ]
    },
    {
     "data": {
      "text/plain": [
       "<matplotlib.image.AxesImage at 0x7f43513a2b90>"
      ]
     },
     "execution_count": 44,
     "metadata": {},
     "output_type": "execute_result"
    },
    {
     "data": {
      "image/png": "[encoded data removed]",
      "text/plain": [
       "<Figure size 576x396 with 1 Axes>"
      ]
     },
     "metadata": {},
     "output_type": "display_data"
    }
   ],
   "source": [
    "plt.imshow(crop_new(image))"
   ]
  },
  {
   "cell_type": "code",
   "execution_count": null,
   "id": "16fe0b7d-300c-48b1-ae7b-1f00aea56cb7",
   "metadata": {},
   "outputs": [
    {
     "name": "stderr",
     "output_type": "stream",
     "text": [
      "/home/akis-linardos/BFP/docker/fl_env/lib/python3.7/site-packages/ipykernel_launcher.py:12: FutureWarning: Using a non-tuple sequence for multidimensional indexing is deprecated; use `arr[tuple(seq)]` instead of `arr[seq]`. In the future this will be interpreted as an array index, `arr[np.array(seq)]`, which will result either in an error or a different result.\n",
      "  if sys.path[0] == '':\n"
     ]
    },
    {
     "data": {
      "text/plain": [
       "(224, 76)"
      ]
     },
     "execution_count": 45,
     "metadata": {},
     "output_type": "execute_result"
    }
   ],
   "source": [
    "crop_new(image).shape"
   ]
  },
  {
   "cell_type": "code",
   "execution_count": null,
   "id": "7d69882b-5b9d-442c-a715-9b775fbe5af8",
   "metadata": {},
   "outputs": [
    {
     "ename": "TypeError",
     "evalue": "can't assign a numpy.ndarray to a torch.FloatTensor",
     "output_type": "error",
     "traceback": [
      "\u001b[0;31m---------------------------------------------------------------------------\u001b[0m",
      "\u001b[0;31mTypeError\u001b[0m                                 Traceback (most recent call last)",
      "\u001b[0;32m/tmp/ipykernel_38759/1724035890.py\u001b[0m in \u001b[0;36m<module>\u001b[0;34m\u001b[0m\n\u001b[1;32m      1\u001b[0m \u001b[0mpaddedimg\u001b[0m \u001b[0;34m=\u001b[0m \u001b[0mtorch\u001b[0m\u001b[0;34m.\u001b[0m\u001b[0mzeros\u001b[0m\u001b[0;34m(\u001b[0m\u001b[0;36m224\u001b[0m\u001b[0;34m,\u001b[0m\u001b[0;36m187\u001b[0m\u001b[0;34m)\u001b[0m\u001b[0;34m\u001b[0m\u001b[0;34m\u001b[0m\u001b[0m\n\u001b[1;32m      2\u001b[0m \u001b[0mh\u001b[0m\u001b[0;34m,\u001b[0m\u001b[0mw\u001b[0m \u001b[0;34m=\u001b[0m \u001b[0mimage\u001b[0m\u001b[0;34m.\u001b[0m\u001b[0mshape\u001b[0m\u001b[0;34m\u001b[0m\u001b[0;34m\u001b[0m\u001b[0m\n\u001b[0;32m----> 3\u001b[0;31m \u001b[0mpaddedimg\u001b[0m\u001b[0;34m[\u001b[0m\u001b[0;34m-\u001b[0m\u001b[0mh\u001b[0m\u001b[0;34m:\u001b[0m\u001b[0;34m,\u001b[0m\u001b[0;34m-\u001b[0m\u001b[0mw\u001b[0m\u001b[0;34m:\u001b[0m\u001b[0;34m]\u001b[0m\u001b[0;34m=\u001b[0m\u001b[0mimage\u001b[0m\u001b[0;34m\u001b[0m\u001b[0;34m\u001b[0m\u001b[0m\n\u001b[0m",
      "\u001b[0;31mTypeError\u001b[0m: can't assign a numpy.ndarray to a torch.FloatTensor"
     ]
    }
   ],
   "source": [
    "paddedimg = torch.zeros(224,187)\n",
    "h,w = image.shape\n",
    "paddedimg[-h:,-w:]=image"
   ]
  },
  {
   "cell_type": "code",
   "execution_count": null,
   "id": "9be12a23-dfc8-4e80-98bf-8e8ec826db61",
   "metadata": {},
   "outputs": [
    {
     "data": {
      "text/plain": [
       "<src.data_handling.mmg_detection_datasets.CMMDImage at 0x7fecf8ecd9d0>"
      ]
     },
     "execution_count": 38,
     "metadata": {},
     "output_type": "execute_result"
    }
   ],
   "source": [
    "images_benign[0]"
   ]
  },
  {
   "cell_type": "code",
   "execution_count": null,
   "id": "31397be4-97d6-49ef-ad18-1769adb6d770",
   "metadata": {},
   "outputs": [
    {
     "data": {
      "text/plain": [
       "1774"
      ]
     },
     "execution_count": 16,
     "metadata": {},
     "output_type": "execute_result"
    }
   ],
   "source": [
    "479+1295"
   ]
  },
  {
   "cell_type": "code",
   "execution_count": null,
   "id": "cda9c898-1722-41a8-bacd-dd2c69d639f0",
   "metadata": {},
   "outputs": [
    {
     "data": {
      "text/plain": [
       "5198"
      ]
     },
     "execution_count": 41,
     "metadata": {},
     "output_type": "execute_result"
    }
   ],
   "source": [
    "cmmd_clients.total_images()"
   ]
  },
  {
   "cell_type": "code",
   "execution_count": null,
   "id": "03e22c0e-dbb8-4d01-a0ba-a64a84e1892f",
   "metadata": {},
   "outputs": [
    {
     "name": "stdout",
     "output_type": "stream",
     "text": [
      "Printing status Normal:\n",
      "0\n",
      "Printing status Benign:\n",
      "1108\n",
      "Printing status Malignant:\n",
      "4090\n"
     ]
    }
   ],
   "source": [
    "images_benign, images_normal, images_malignant = [], [], []\n",
    "for c in cmmd_clients:\n",
    "    for lists, status in zip([images_normal, images_benign, images_malignant], ['Normal', 'Benign', 'Malignant']):\n",
    "        client_images_by_status = c.get_images_by_status(status=[status])\n",
    "        for image in client_images_by_status:\n",
    "            lists.append(image)\n",
    "count_dict = {'Normal':0,'Benign':0, 'Malignant':0}      \n",
    "for l, status in zip([images_normal, images_benign, images_malignant], ['Normal', 'Benign', 'Malignant']):\n",
    "    print(f'Printing status {status}:')\n",
    "    for i in l:\n",
    "        # print(i.status)\n",
    "        count_dict[status]+=1\n",
    "    print(count_dict[status])"
   ]
  }
 ],
 "metadata": {
  "kernelspec": {
   "display_name": "Python 3",
   "language": "python",
   "name": "python3"
  },
  "language_info": {
   "codemirror_mode": {
    "name": "ipython",
    "version": 3
   },
   "file_extension": ".py",
   "mimetype": "text/x-python",
   "name": "python",
   "nbconvert_exporter": "python",
   "pygments_lexer": "ipython3",
   "version": "3.7.6"
  }
 },
 "nbformat": 4,
 "nbformat_minor": 5
}
