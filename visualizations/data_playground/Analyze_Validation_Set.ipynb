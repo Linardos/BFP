{
 "cells": [
  {
   "cell_type": "code",
   "execution_count": 23,
   "id": "4d8ce842-0273-4061-8848-53c1c7b8d339",
   "metadata": {
    "tags": []
   },
   "outputs": [
    {
     "data": {
      "text/plain": [
       "<torch._C.Generator at 0x7fac8011f910>"
      ]
     },
     "execution_count": 23,
     "metadata": {},
     "output_type": "execute_result"
    }
   ],
   "source": [
    "from collections import OrderedDict\n",
    "\n",
    "import yaml\n",
    "import torch\n",
    "import torch.nn as nn\n",
    "import torch.nn.functional as F\n",
    "import torchvision.transforms as transforms\n",
    "from torch.utils.data import DataLoader\n",
    "# from torchvision.datasets import CIFAR10\n",
    "import flwr as fl\n",
    "from datetime import datetime\n",
    "import importlib\n",
    "import os\n",
    "from pathlib import Path\n",
    "from tqdm import tqdm\n",
    "import numpy as np\n",
    "import pickle\n",
    "import sys\n",
    "import pandas as pd\n",
    "sys.path.append(str(Path().absolute().parent.parent))\n",
    "\n",
    "from src.models import nets\n",
    "from src.data_loader import ALLDataset\n",
    "torch.manual_seed(42)"
   ]
  },
  {
   "cell_type": "code",
   "execution_count": 27,
   "id": "607cd39d-ed65-4cde-a573-b56024f98f21",
   "metadata": {},
   "outputs": [],
   "source": [
    "with open('image_ids.pkl', 'rb') as handle:\n",
    "    image_ids = pickle.load(handle)"
   ]
  },
  {
   "cell_type": "code",
   "execution_count": 35,
   "id": "70786e60-400c-4c99-983c-4082fc6a4bdb",
   "metadata": {},
   "outputs": [
    {
     "data": {
      "text/plain": [
       "1676"
      ]
     },
     "execution_count": 35,
     "metadata": {},
     "output_type": "execute_result"
    }
   ],
   "source": [
    "len(image_ids['jarv']['val'])"
   ]
  },
  {
   "cell_type": "code",
   "execution_count": 36,
   "id": "19b09587-ccf6-49b5-bfcf-c0eb84fbca6d",
   "metadata": {},
   "outputs": [],
   "source": [
    "with open('image_ids_per_center/centralized_image_ids.pkl', 'rb') as handle:\n",
    "    centralized_image_ids_dict = pickle.load(handle)\n",
    "with open('image_ids_per_center/federated_image_ids.pkl', 'rb') as handle:\n",
    "    federated_image_ids_dict = pickle.load(handle)"
   ]
  },
  {
   "cell_type": "code",
   "execution_count": 40,
   "id": "4951b99f-e011-4c69-a880-c02a22245470",
   "metadata": {},
   "outputs": [
    {
     "data": {
      "text/plain": [
       "1676"
      ]
     },
     "execution_count": 40,
     "metadata": {},
     "output_type": "execute_result"
    }
   ],
   "source": [
    "len(federated_image_ids_dict['jarv']['val'][1])"
   ]
  },
  {
   "cell_type": "code",
   "execution_count": 41,
   "id": "8f532672-d6c4-4cc2-8def-fa8746341a14",
   "metadata": {},
   "outputs": [
    {
     "data": {
      "text/plain": [
       "6704"
      ]
     },
     "execution_count": 41,
     "metadata": {},
     "output_type": "execute_result"
    }
   ],
   "source": [
    "len(federated_image_ids_dict['jarv']['train'][1])"
   ]
  },
  {
   "cell_type": "code",
   "execution_count": 42,
   "id": "09373bbb-1eec-4144-8e5d-a3a0c0dae4b2",
   "metadata": {},
   "outputs": [
    {
     "data": {
      "text/plain": [
       "8380"
      ]
     },
     "execution_count": 42,
     "metadata": {},
     "output_type": "execute_result"
    }
   ],
   "source": [
    "len(federated_image_ids_dict['jarv']['val'][1])+len(federated_image_ids_dict['jarv']['train'][1])"
   ]
  },
  {
   "cell_type": "code",
   "execution_count": null,
   "id": "05c26316-4086-4685-bc37-112a588e2525",
   "metadata": {},
   "outputs": [],
   "source": [
    "'1.2.826.0.1.3680043.9.3218.1.1.1405750.1758.1511969095974.2523.0' in federated_image_ids_dict['jarv']['val'][1]"
   ]
  },
  {
   "cell_type": "code",
   "execution_count": null,
   "id": "a1e6c15a-4301-400c-ab93-a94ee205cb8b",
   "metadata": {},
   "outputs": [],
   "source": [
    "len(centralized_image_ids_dict['jarv']['val'][1])"
   ]
  },
  {
   "cell_type": "code",
   "execution_count": null,
   "id": "b3bda4bd-6a5f-44d2-83e7-8296440c12fc",
   "metadata": {},
   "outputs": [],
   "source": [
    "centralized_image_ids_dict['jarv']['val'][1][:5]"
   ]
  },
  {
   "cell_type": "code",
   "execution_count": 18,
   "id": "bf2df30b-fe84-4427-9a4e-f7745eae3daa",
   "metadata": {},
   "outputs": [],
   "source": [
    "jarv_csv=\"/home/akis-linardos/Datasets/OPTIMAM/jarv_info.csv\"\n",
    "stge_csv=\"/home/akis-linardos/Datasets/OPTIMAM/stge_info.csv\"\n",
    "inbreast_csv=\"/home/lidia-garrucho/datasets/INBREAST/INbreast_updated_cropped_breast.csv\"\n",
    "cmmd_csv='/home/akis-linardos/Datasets/CMMD/info.csv'\n",
    "bcdr_d01_csv=\"/home/lidia-garrucho/datasets/BCDR/cropped/BCDR-D01_dataset/dataset_info.csv\"\n",
    "bcdr_d02_csv=\"/home/lidia-garrucho/datasets/BCDR/cropped/BCDR-D02_dataset/dataset_info.csv\"\n",
    "bcdr_dn01_csv=\"/home/lidia-garrucho/datasets/BCDR/cropped/BCDR-DN01_dataset/dataset_info.csv\"\n",
    "\n",
    "j_csv=pd.read_csv(jarv_csv)\n",
    "s_csv=pd.read_csv(stge_csv)\n",
    "i_csv=pd.read_csv(inbreast_csv)\n",
    "c_csv=pd.read_csv(cmmd_csv)\n",
    "b_d01_csv=pd.read_csv(bcdr_d01_csv)\n",
    "b_d02_csv=pd.read_csv(bcdr_d02_csv)\n",
    "bcdr_csv = pd.concat([b_d01_csv, b_d02_csv])\n",
    "center_to_csv = {'jarv': j_csv, 'stge': s_csv, 'inbreast': i_csv, 'cmmd': c_csv, 'bcdr':bcdr_csv}"
   ]
  },
  {
   "cell_type": "code",
   "execution_count": null,
   "id": "dd4d987e-c741-49bf-84b9-3d1ec7b95779",
   "metadata": {},
   "outputs": [],
   "source": [
    "j_csv['study_id']=='1.2.826.0.1.3680043.9.3218.1.1.1447924.2040.1511973313408.4682.0'"
   ]
  },
  {
   "cell_type": "code",
   "execution_count": null,
   "id": "775ef975-b50a-4d9b-a4df-a7c3cb1a8bf0",
   "metadata": {},
   "outputs": [],
   "source": [
    "bcdr_csv"
   ]
  },
  {
   "cell_type": "code",
   "execution_count": null,
   "id": "47681ef3-a26d-48b4-a681-3cb70cf465e0",
   "metadata": {},
   "outputs": [],
   "source": [
    "j_csv.loc[j_csv['image_id'] == '1.2.826.0.1.3680043.9.3218.1.1.35791640.9441.1536882521446.102.0']['status'].item()"
   ]
  },
  {
   "cell_type": "code",
   "execution_count": null,
   "id": "5f4bd4df-17ae-455f-9b6b-903cb92ca22f",
   "metadata": {},
   "outputs": [],
   "source": [
    "type('jarv')==str"
   ]
  },
  {
   "cell_type": "code",
   "execution_count": null,
   "id": "53be0ee4-c06c-4141-a403-40b1089caeff",
   "metadata": {},
   "outputs": [],
   "source": [
    "len('BCDR-D01_dataset/')"
   ]
  },
  {
   "cell_type": "code",
   "execution_count": null,
   "id": "ee730577-a6a3-4d7a-a260-ed8f6534635b",
   "metadata": {},
   "outputs": [],
   "source": [
    "centralized_image_ids_dict[center]['val'][1][0][17:]"
   ]
  },
  {
   "cell_type": "code",
   "execution_count": null,
   "id": "092d534c-c143-41bd-955c-685b581cc684",
   "metadata": {},
   "outputs": [],
   "source": [
    "center_to_csv['bcdr']['scan_path']"
   ]
  },
  {
   "cell_type": "code",
   "execution_count": null,
   "id": "30fa10b0-a6c6-4647-8a8b-30c5170950b3",
   "metadata": {},
   "outputs": [],
   "source": [
    "center_to_csv['bcdr'].loc[center_to_csv['bcdr']['scan_path'] == 'patient_99/study_134/img_99_134_1_RCC.png']['classification'].iloc[0]"
   ]
  },
  {
   "cell_type": "code",
   "execution_count": null,
   "id": "1e74216a-78af-410b-a3ec-61078868edbd",
   "metadata": {},
   "outputs": [],
   "source": [
    "def label_for_ids(dataset_pd, list_of_ids, label_header='BIRADS', center='bcdr'):\n",
    "    benign, malign = 0, 0\n",
    "    for img_id in list_of_ids:\n",
    "        if center == 'bcdr':\n",
    "            the_status = dataset_pd.loc[dataset_pd['scan_path'][17:] == img_id[17:]]['classification'].iloc[0]\n",
    "        else:\n",
    "            the_status = dataset_pd.loc[dataset_pd['image_id'] == img_id][label_header].iloc[0]\n",
    "        if the_status == 'Benign' or (label=='BIRADS' and the_status in [2,3]):\n",
    "            benign+=1\n",
    "        elif the_status == 'Malignant' or the_status == 'Malign' or (label=='BIRADS' and the_status>3):\n",
    "            malign+=1\n",
    "    return {\"Benign\":benign, \"Malign\":malign}"
   ]
  },
  {
   "cell_type": "code",
   "execution_count": null,
   "id": "c0d0bc0c-c165-4d6a-ae3d-caeb930b96aa",
   "metadata": {},
   "outputs": [],
   "source": [
    "centers = ['jarv', 'stge', 'bcdr', 'cmmd', 'inbreast']\n",
    "\n",
    "validation_sizes, validation_labels = {}, {}\n",
    "\n",
    "for center in centers:\n",
    "    val_l = centralized_image_ids_dict[center]['val'][1]\n",
    "    validation_sizes[center]=len(val_l)\n",
    "    if center == 'inbreast':\n",
    "        label_header = 'BIRADS'\n",
    "    else:\n",
    "        label_header = 'status'\n",
    "        \n",
    "    validation_labels[center]=label_for_ids(center_to_csv[center], val_l, label_header=label_header, center=center)"
   ]
  },
  {
   "cell_type": "code",
   "execution_count": null,
   "id": "05441553-b759-4c9d-a7c6-7c1a3d58f60c",
   "metadata": {},
   "outputs": [],
   "source": [
    "center"
   ]
  },
  {
   "cell_type": "code",
   "execution_count": null,
   "id": "27a1070a-723a-4d0f-9409-e63c9ef2a712",
   "metadata": {},
   "outputs": [],
   "source": [
    "validation_sizes"
   ]
  },
  {
   "cell_type": "code",
   "execution_count": null,
   "id": "29e3f88e-d381-4880-bafa-db3199124cbd",
   "metadata": {},
   "outputs": [],
   "source": [
    "validation_labels"
   ]
  },
  {
   "cell_type": "code",
   "execution_count": null,
   "id": "3ba6cbe5-c1db-4898-a888-4ab8916e257e",
   "metadata": {},
   "outputs": [],
   "source": [
    "train_sizes, train_labels = {}, {}\n",
    "for center in centers:\n",
    "    train_l = centralized_image_ids_dict[center]['train'][1]\n",
    "    train_sizes[center]=len(train_l)"
   ]
  },
  {
   "cell_type": "code",
   "execution_count": null,
   "id": "bb448a26-0735-4eb8-9c11-c1ed227e828a",
   "metadata": {},
   "outputs": [],
   "source": [
    "train_sizes"
   ]
  }
 ],
 "metadata": {
  "kernelspec": {
   "display_name": "Python 3",
   "language": "python",
   "name": "python3"
  },
  "language_info": {
   "codemirror_mode": {
    "name": "ipython",
    "version": 3
   },
   "file_extension": ".py",
   "mimetype": "text/x-python",
   "name": "python",
   "nbconvert_exporter": "python",
   "pygments_lexer": "ipython3",
   "version": "3.7.6"
  }
 },
 "nbformat": 4,
 "nbformat_minor": 5
}
