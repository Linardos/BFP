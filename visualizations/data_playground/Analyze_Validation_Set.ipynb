{
 "cells": [
  {
   "cell_type": "code",
   "execution_count": 28,
   "id": "4d8ce842-0273-4061-8848-53c1c7b8d339",
   "metadata": {
    "tags": []
   },
   "outputs": [
    {
     "data": {
      "text/plain": [
       "<torch._C.Generator at 0x7f2e181bc930>"
      ]
     },
     "execution_count": 28,
     "metadata": {},
     "output_type": "execute_result"
    }
   ],
   "source": [
    "from collections import OrderedDict\n",
    "\n",
    "import yaml\n",
    "import torch\n",
    "import torch.nn as nn\n",
    "import torch.nn.functional as F\n",
    "import torchvision.transforms as transforms\n",
    "from torch.utils.data import DataLoader\n",
    "# from torchvision.datasets import CIFAR10\n",
    "import flwr as fl\n",
    "from datetime import datetime\n",
    "import importlib\n",
    "import os\n",
    "from pathlib import Path\n",
    "from tqdm import tqdm\n",
    "import numpy as np\n",
    "import pickle\n",
    "import sys\n",
    "import pandas as pd\n",
    "sys.path.append(str(Path().absolute().parent.parent))\n",
    "\n",
    "from src.models import nets\n",
    "from src.data_loader import ALLDataset\n",
    "torch.manual_seed(42)"
   ]
  },
  {
   "cell_type": "code",
   "execution_count": 29,
   "id": "607cd39d-ed65-4cde-a573-b56024f98f21",
   "metadata": {},
   "outputs": [],
   "source": [
    "with open('image_ids.pkl', 'rb') as handle:\n",
    "    image_ids = pickle.load(handle)"
   ]
  },
  {
   "cell_type": "code",
   "execution_count": 30,
   "id": "70786e60-400c-4c99-983c-4082fc6a4bdb",
   "metadata": {},
   "outputs": [
    {
     "data": {
      "text/plain": [
       "6704"
      ]
     },
     "execution_count": 30,
     "metadata": {},
     "output_type": "execute_result"
    }
   ],
   "source": [
    "len(image_ids['jarv']['train'])"
   ]
  },
  {
   "cell_type": "code",
   "execution_count": 4,
   "id": "19b09587-ccf6-49b5-bfcf-c0eb84fbca6d",
   "metadata": {},
   "outputs": [],
   "source": [
    "with open('image_ids_per_center/centralized_image_ids.pkl', 'rb') as handle:\n",
    "    centralized_image_ids_dict = pickle.load(handle)\n",
    "with open('image_ids_per_center/federated_image_ids.pkl', 'rb') as handle:\n",
    "    federated_image_ids_dict = pickle.load(handle)"
   ]
  },
  {
   "cell_type": "code",
   "execution_count": 5,
   "id": "4951b99f-e011-4c69-a880-c02a22245470",
   "metadata": {},
   "outputs": [
    {
     "data": {
      "text/plain": [
       "1676"
      ]
     },
     "execution_count": 5,
     "metadata": {},
     "output_type": "execute_result"
    }
   ],
   "source": [
    "len(federated_image_ids_dict['jarv']['val'][1])"
   ]
  },
  {
   "cell_type": "code",
   "execution_count": 6,
   "id": "8f532672-d6c4-4cc2-8def-fa8746341a14",
   "metadata": {},
   "outputs": [
    {
     "data": {
      "text/plain": [
       "6704"
      ]
     },
     "execution_count": 6,
     "metadata": {},
     "output_type": "execute_result"
    }
   ],
   "source": [
    "len(federated_image_ids_dict['jarv']['train'][1])"
   ]
  },
  {
   "cell_type": "code",
   "execution_count": 7,
   "id": "09373bbb-1eec-4144-8e5d-a3a0c0dae4b2",
   "metadata": {},
   "outputs": [
    {
     "data": {
      "text/plain": [
       "8380"
      ]
     },
     "execution_count": 7,
     "metadata": {},
     "output_type": "execute_result"
    }
   ],
   "source": [
    "len(federated_image_ids_dict['jarv']['val'][1])+len(federated_image_ids_dict['jarv']['train'][1])"
   ]
  },
  {
   "cell_type": "code",
   "execution_count": 8,
   "id": "05c26316-4086-4685-bc37-112a588e2525",
   "metadata": {},
   "outputs": [
    {
     "data": {
      "text/plain": [
       "True"
      ]
     },
     "execution_count": 8,
     "metadata": {},
     "output_type": "execute_result"
    }
   ],
   "source": [
    "'1.2.826.0.1.3680043.9.3218.1.1.1405750.1758.1511969095974.2523.0' in federated_image_ids_dict['jarv']['val'][1]"
   ]
  },
  {
   "cell_type": "code",
   "execution_count": 9,
   "id": "a1e6c15a-4301-400c-ab93-a94ee205cb8b",
   "metadata": {},
   "outputs": [
    {
     "data": {
      "text/plain": [
       "1676"
      ]
     },
     "execution_count": 9,
     "metadata": {},
     "output_type": "execute_result"
    }
   ],
   "source": [
    "len(centralized_image_ids_dict['jarv']['val'][1])"
   ]
  },
  {
   "cell_type": "code",
   "execution_count": 10,
   "id": "b3bda4bd-6a5f-44d2-83e7-8296440c12fc",
   "metadata": {},
   "outputs": [
    {
     "data": {
      "text/plain": [
       "['1.2.826.0.1.3680043.9.3218.1.1.3863114.4093.1511396668137.8431.0',\n",
       " '1.2.826.0.1.3680043.9.3218.1.1.11559392.1924.1547344198622.108.0',\n",
       " '1.2.826.0.1.3680043.9.3218.1.1.12104711.2124.1573168534259.420.0',\n",
       " '1.2.826.0.1.3680043.9.3218.1.1.123573073.9584.1573193793839.58.0',\n",
       " '1.2.826.0.1.3680043.9.3218.1.1.12374673.1803.1573195530496.236.0']"
      ]
     },
     "execution_count": 10,
     "metadata": {},
     "output_type": "execute_result"
    }
   ],
   "source": [
    "centralized_image_ids_dict['jarv']['val'][1][:5]"
   ]
  },
  {
   "cell_type": "code",
   "execution_count": 11,
   "id": "bf2df30b-fe84-4427-9a4e-f7745eae3daa",
   "metadata": {},
   "outputs": [],
   "source": [
    "jarv_csv=\"/home/akis-linardos/Datasets/OPTIMAM/jarv_info.csv\"\n",
    "stge_csv=\"/home/akis-linardos/Datasets/OPTIMAM/stge_info.csv\"\n",
    "inbreast_csv=\"/home/lidia-garrucho/datasets/INBREAST/INbreast_updated_cropped_breast.csv\"\n",
    "cmmd_csv='/home/akis-linardos/Datasets/CMMD/info.csv'\n",
    "bcdr_d01_csv=\"/home/lidia-garrucho/datasets/BCDR/cropped/BCDR-D01_dataset/dataset_info.csv\"\n",
    "bcdr_d02_csv=\"/home/lidia-garrucho/datasets/BCDR/cropped/BCDR-D02_dataset/dataset_info.csv\"\n",
    "bcdr_dn01_csv=\"/home/lidia-garrucho/datasets/BCDR/cropped/BCDR-DN01_dataset/dataset_info.csv\"\n",
    "\n",
    "j_csv=pd.read_csv(jarv_csv)\n",
    "s_csv=pd.read_csv(stge_csv)\n",
    "i_csv=pd.read_csv(inbreast_csv)\n",
    "c_csv=pd.read_csv(cmmd_csv)\n",
    "b_d01_csv=pd.read_csv(bcdr_d01_csv)\n",
    "b_d02_csv=pd.read_csv(bcdr_d02_csv)\n",
    "bcdr_csv = pd.concat([b_d01_csv, b_d02_csv])\n",
    "center_to_csv = {'jarv': j_csv, 'stge': s_csv, 'inbreast': i_csv, 'cmmd': c_csv, 'bcdr':bcdr_csv}"
   ]
  },
  {
   "cell_type": "code",
   "execution_count": 12,
   "id": "dd4d987e-c741-49bf-84b9-3d1ec7b95779",
   "metadata": {},
   "outputs": [
    {
     "data": {
      "text/plain": [
       "0        False\n",
       "1        False\n",
       "2        False\n",
       "3        False\n",
       "4        False\n",
       "         ...  \n",
       "25962    False\n",
       "25963    False\n",
       "25964    False\n",
       "25965    False\n",
       "25966    False\n",
       "Name: study_id, Length: 25967, dtype: bool"
      ]
     },
     "execution_count": 12,
     "metadata": {},
     "output_type": "execute_result"
    }
   ],
   "source": [
    "j_csv['study_id']=='1.2.826.0.1.3680043.9.3218.1.1.1447924.2040.1511973313408.4682.0'"
   ]
  },
  {
   "cell_type": "code",
   "execution_count": 13,
   "id": "775ef975-b50a-4d9b-a4df-a7c3cb1a8bf0",
   "metadata": {},
   "outputs": [
    {
     "data": {
      "text/html": [
       "<div>\n",
       "<style scoped>\n",
       "    .dataframe tbody tr th:only-of-type {\n",
       "        vertical-align: middle;\n",
       "    }\n",
       "\n",
       "    .dataframe tbody tr th {\n",
       "        vertical-align: top;\n",
       "    }\n",
       "\n",
       "    .dataframe thead th {\n",
       "        text-align: right;\n",
       "    }\n",
       "</style>\n",
       "<table border=\"1\" class=\"dataframe\">\n",
       "  <thead>\n",
       "    <tr style=\"text-align: right;\">\n",
       "      <th></th>\n",
       "      <th>patient_id</th>\n",
       "      <th>study_id</th>\n",
       "      <th>series</th>\n",
       "      <th>scan_path</th>\n",
       "      <th>laterality</th>\n",
       "      <th>view</th>\n",
       "      <th>density</th>\n",
       "      <th>age</th>\n",
       "      <th>classification</th>\n",
       "      <th>scan_width</th>\n",
       "      <th>...</th>\n",
       "      <th>lesion_id</th>\n",
       "      <th>segmentation_id</th>\n",
       "      <th>lesion_pathologies</th>\n",
       "      <th>mask_path</th>\n",
       "      <th>lesion_x1</th>\n",
       "      <th>lesion_x2</th>\n",
       "      <th>lesion_y1</th>\n",
       "      <th>lesion_y2</th>\n",
       "      <th>lw_x_points</th>\n",
       "      <th>lw_y_points</th>\n",
       "    </tr>\n",
       "  </thead>\n",
       "  <tbody>\n",
       "    <tr>\n",
       "      <th>0</th>\n",
       "      <td>105</td>\n",
       "      <td>143</td>\n",
       "      <td>1</td>\n",
       "      <td>patient_105/study_143/img_105_143_1_LCC.png</td>\n",
       "      <td>LEFT</td>\n",
       "      <td>CC</td>\n",
       "      <td>1</td>\n",
       "      <td>51</td>\n",
       "      <td>Normal</td>\n",
       "      <td>3328</td>\n",
       "      <td>...</td>\n",
       "      <td>NaN</td>\n",
       "      <td>NaN</td>\n",
       "      <td>NaN</td>\n",
       "      <td>NaN</td>\n",
       "      <td>NaN</td>\n",
       "      <td>NaN</td>\n",
       "      <td>NaN</td>\n",
       "      <td>NaN</td>\n",
       "      <td>NaN</td>\n",
       "      <td>NaN</td>\n",
       "    </tr>\n",
       "    <tr>\n",
       "      <th>1</th>\n",
       "      <td>105</td>\n",
       "      <td>143</td>\n",
       "      <td>1</td>\n",
       "      <td>patient_105/study_143/img_105_143_1_LO.png</td>\n",
       "      <td>LEFT</td>\n",
       "      <td>MLO</td>\n",
       "      <td>1</td>\n",
       "      <td>51</td>\n",
       "      <td>Normal</td>\n",
       "      <td>3328</td>\n",
       "      <td>...</td>\n",
       "      <td>NaN</td>\n",
       "      <td>NaN</td>\n",
       "      <td>NaN</td>\n",
       "      <td>NaN</td>\n",
       "      <td>NaN</td>\n",
       "      <td>NaN</td>\n",
       "      <td>NaN</td>\n",
       "      <td>NaN</td>\n",
       "      <td>NaN</td>\n",
       "      <td>NaN</td>\n",
       "    </tr>\n",
       "    <tr>\n",
       "      <th>2</th>\n",
       "      <td>105</td>\n",
       "      <td>143</td>\n",
       "      <td>1</td>\n",
       "      <td>patient_105/study_143/img_105_143_1_RCC.png</td>\n",
       "      <td>RIGHT</td>\n",
       "      <td>CC</td>\n",
       "      <td>1</td>\n",
       "      <td>51</td>\n",
       "      <td>Malign</td>\n",
       "      <td>3328</td>\n",
       "      <td>...</td>\n",
       "      <td>161.0</td>\n",
       "      <td>312.0</td>\n",
       "      <td>['nodule', 'microcalcification', 'stroma_disto...</td>\n",
       "      <td>patient_105/study_143/img_105_143_1_RCC_mask_i...</td>\n",
       "      <td>658.0</td>\n",
       "      <td>1292.0</td>\n",
       "      <td>1415.0</td>\n",
       "      <td>2013.0</td>\n",
       "      <td>2275 2276 2277 2278 2279 2280 2281 2281 2281 ...</td>\n",
       "      <td>2174 2174 2173 2172 2171 2170 2169 2168 2167 ...</td>\n",
       "    </tr>\n",
       "    <tr>\n",
       "      <th>3</th>\n",
       "      <td>105</td>\n",
       "      <td>143</td>\n",
       "      <td>1</td>\n",
       "      <td>patient_105/study_143/img_105_143_1_RO.png</td>\n",
       "      <td>RIGHT</td>\n",
       "      <td>MLO</td>\n",
       "      <td>1</td>\n",
       "      <td>51</td>\n",
       "      <td>Malign</td>\n",
       "      <td>3328</td>\n",
       "      <td>...</td>\n",
       "      <td>161.0</td>\n",
       "      <td>311.0</td>\n",
       "      <td>['nodule', 'microcalcification', 'stroma_disto...</td>\n",
       "      <td>patient_105/study_143/img_105_143_1_RO_mask_id...</td>\n",
       "      <td>423.0</td>\n",
       "      <td>1015.0</td>\n",
       "      <td>1752.0</td>\n",
       "      <td>2444.0</td>\n",
       "      <td>1826 1825 1824 1823 1822 1821 1820 1819 1818 ...</td>\n",
       "      <td>1813 1812 1812 1812 1812 1813 1814 1815 1816 ...</td>\n",
       "    </tr>\n",
       "    <tr>\n",
       "      <th>4</th>\n",
       "      <td>108</td>\n",
       "      <td>146</td>\n",
       "      <td>1</td>\n",
       "      <td>patient_108/study_146/img_108_146_1_LCC.png</td>\n",
       "      <td>LEFT</td>\n",
       "      <td>CC</td>\n",
       "      <td>1</td>\n",
       "      <td>55</td>\n",
       "      <td>Normal</td>\n",
       "      <td>3328</td>\n",
       "      <td>...</td>\n",
       "      <td>NaN</td>\n",
       "      <td>NaN</td>\n",
       "      <td>NaN</td>\n",
       "      <td>NaN</td>\n",
       "      <td>NaN</td>\n",
       "      <td>NaN</td>\n",
       "      <td>NaN</td>\n",
       "      <td>NaN</td>\n",
       "      <td>NaN</td>\n",
       "      <td>NaN</td>\n",
       "    </tr>\n",
       "    <tr>\n",
       "      <th>...</th>\n",
       "      <td>...</td>\n",
       "      <td>...</td>\n",
       "      <td>...</td>\n",
       "      <td>...</td>\n",
       "      <td>...</td>\n",
       "      <td>...</td>\n",
       "      <td>...</td>\n",
       "      <td>...</td>\n",
       "      <td>...</td>\n",
       "      <td>...</td>\n",
       "      <td>...</td>\n",
       "      <td>...</td>\n",
       "      <td>...</td>\n",
       "      <td>...</td>\n",
       "      <td>...</td>\n",
       "      <td>...</td>\n",
       "      <td>...</td>\n",
       "      <td>...</td>\n",
       "      <td>...</td>\n",
       "      <td>...</td>\n",
       "      <td>...</td>\n",
       "    </tr>\n",
       "    <tr>\n",
       "      <th>747</th>\n",
       "      <td>95</td>\n",
       "      <td>129</td>\n",
       "      <td>1</td>\n",
       "      <td>patient_95/study_129/img_95_129_1_RO.png</td>\n",
       "      <td>RIGHT</td>\n",
       "      <td>MLO</td>\n",
       "      <td>4</td>\n",
       "      <td>46</td>\n",
       "      <td>Normal</td>\n",
       "      <td>3328</td>\n",
       "      <td>...</td>\n",
       "      <td>NaN</td>\n",
       "      <td>NaN</td>\n",
       "      <td>NaN</td>\n",
       "      <td>NaN</td>\n",
       "      <td>NaN</td>\n",
       "      <td>NaN</td>\n",
       "      <td>NaN</td>\n",
       "      <td>NaN</td>\n",
       "      <td>NaN</td>\n",
       "      <td>NaN</td>\n",
       "    </tr>\n",
       "    <tr>\n",
       "      <th>748</th>\n",
       "      <td>98</td>\n",
       "      <td>133</td>\n",
       "      <td>1</td>\n",
       "      <td>patient_98/study_133/img_98_133_1_LCC.png</td>\n",
       "      <td>LEFT</td>\n",
       "      <td>CC</td>\n",
       "      <td>3</td>\n",
       "      <td>71</td>\n",
       "      <td>Benign</td>\n",
       "      <td>3328</td>\n",
       "      <td>...</td>\n",
       "      <td>156.0</td>\n",
       "      <td>300.0</td>\n",
       "      <td>['calcification']</td>\n",
       "      <td>patient_98/study_133/img_98_133_1_LCC_mask_id_...</td>\n",
       "      <td>1208.0</td>\n",
       "      <td>1223.0</td>\n",
       "      <td>2269.0</td>\n",
       "      <td>2285.0</td>\n",
       "      <td>1217 1216 1215 1214 1213 1212 1211 1210 1209 ...</td>\n",
       "      <td>2744 2744 2744 2745 2746 2747 2748 2749 2750 ...</td>\n",
       "    </tr>\n",
       "    <tr>\n",
       "      <th>749</th>\n",
       "      <td>98</td>\n",
       "      <td>133</td>\n",
       "      <td>1</td>\n",
       "      <td>patient_98/study_133/img_98_133_1_LO.png</td>\n",
       "      <td>LEFT</td>\n",
       "      <td>MLO</td>\n",
       "      <td>3</td>\n",
       "      <td>71</td>\n",
       "      <td>Benign</td>\n",
       "      <td>3328</td>\n",
       "      <td>...</td>\n",
       "      <td>156.0</td>\n",
       "      <td>299.0</td>\n",
       "      <td>['calcification']</td>\n",
       "      <td>patient_98/study_133/img_98_133_1_LO_mask_id_1...</td>\n",
       "      <td>1181.0</td>\n",
       "      <td>1193.0</td>\n",
       "      <td>3008.0</td>\n",
       "      <td>3022.0</td>\n",
       "      <td>1185 1186 1187 1188 1189 1190 1191 1192 1192 ...</td>\n",
       "      <td>3026 3027 3026 3025 3024 3023 3022 3021 3020 ...</td>\n",
       "    </tr>\n",
       "    <tr>\n",
       "      <th>750</th>\n",
       "      <td>98</td>\n",
       "      <td>133</td>\n",
       "      <td>1</td>\n",
       "      <td>patient_98/study_133/img_98_133_1_RCC.png</td>\n",
       "      <td>RIGHT</td>\n",
       "      <td>CC</td>\n",
       "      <td>3</td>\n",
       "      <td>71</td>\n",
       "      <td>Normal</td>\n",
       "      <td>3328</td>\n",
       "      <td>...</td>\n",
       "      <td>NaN</td>\n",
       "      <td>NaN</td>\n",
       "      <td>NaN</td>\n",
       "      <td>NaN</td>\n",
       "      <td>NaN</td>\n",
       "      <td>NaN</td>\n",
       "      <td>NaN</td>\n",
       "      <td>NaN</td>\n",
       "      <td>NaN</td>\n",
       "      <td>NaN</td>\n",
       "    </tr>\n",
       "    <tr>\n",
       "      <th>751</th>\n",
       "      <td>98</td>\n",
       "      <td>133</td>\n",
       "      <td>1</td>\n",
       "      <td>patient_98/study_133/img_98_133_1_RO.png</td>\n",
       "      <td>RIGHT</td>\n",
       "      <td>MLO</td>\n",
       "      <td>3</td>\n",
       "      <td>71</td>\n",
       "      <td>Normal</td>\n",
       "      <td>3328</td>\n",
       "      <td>...</td>\n",
       "      <td>NaN</td>\n",
       "      <td>NaN</td>\n",
       "      <td>NaN</td>\n",
       "      <td>NaN</td>\n",
       "      <td>NaN</td>\n",
       "      <td>NaN</td>\n",
       "      <td>NaN</td>\n",
       "      <td>NaN</td>\n",
       "      <td>NaN</td>\n",
       "      <td>NaN</td>\n",
       "    </tr>\n",
       "  </tbody>\n",
       "</table>\n",
       "<p>1018 rows × 27 columns</p>\n",
       "</div>"
      ],
      "text/plain": [
       "     patient_id  study_id  series  \\\n",
       "0           105       143       1   \n",
       "1           105       143       1   \n",
       "2           105       143       1   \n",
       "3           105       143       1   \n",
       "4           108       146       1   \n",
       "..          ...       ...     ...   \n",
       "747          95       129       1   \n",
       "748          98       133       1   \n",
       "749          98       133       1   \n",
       "750          98       133       1   \n",
       "751          98       133       1   \n",
       "\n",
       "                                       scan_path laterality view  density  \\\n",
       "0    patient_105/study_143/img_105_143_1_LCC.png       LEFT   CC        1   \n",
       "1     patient_105/study_143/img_105_143_1_LO.png       LEFT  MLO        1   \n",
       "2    patient_105/study_143/img_105_143_1_RCC.png      RIGHT   CC        1   \n",
       "3     patient_105/study_143/img_105_143_1_RO.png      RIGHT  MLO        1   \n",
       "4    patient_108/study_146/img_108_146_1_LCC.png       LEFT   CC        1   \n",
       "..                                           ...        ...  ...      ...   \n",
       "747     patient_95/study_129/img_95_129_1_RO.png      RIGHT  MLO        4   \n",
       "748    patient_98/study_133/img_98_133_1_LCC.png       LEFT   CC        3   \n",
       "749     patient_98/study_133/img_98_133_1_LO.png       LEFT  MLO        3   \n",
       "750    patient_98/study_133/img_98_133_1_RCC.png      RIGHT   CC        3   \n",
       "751     patient_98/study_133/img_98_133_1_RO.png      RIGHT  MLO        3   \n",
       "\n",
       "     age classification  scan_width  ...  lesion_id  segmentation_id  \\\n",
       "0     51         Normal        3328  ...        NaN              NaN   \n",
       "1     51         Normal        3328  ...        NaN              NaN   \n",
       "2     51         Malign        3328  ...      161.0            312.0   \n",
       "3     51         Malign        3328  ...      161.0            311.0   \n",
       "4     55         Normal        3328  ...        NaN              NaN   \n",
       "..   ...            ...         ...  ...        ...              ...   \n",
       "747   46         Normal        3328  ...        NaN              NaN   \n",
       "748   71         Benign        3328  ...      156.0            300.0   \n",
       "749   71         Benign        3328  ...      156.0            299.0   \n",
       "750   71         Normal        3328  ...        NaN              NaN   \n",
       "751   71         Normal        3328  ...        NaN              NaN   \n",
       "\n",
       "                                    lesion_pathologies  \\\n",
       "0                                                  NaN   \n",
       "1                                                  NaN   \n",
       "2    ['nodule', 'microcalcification', 'stroma_disto...   \n",
       "3    ['nodule', 'microcalcification', 'stroma_disto...   \n",
       "4                                                  NaN   \n",
       "..                                                 ...   \n",
       "747                                                NaN   \n",
       "748                                  ['calcification']   \n",
       "749                                  ['calcification']   \n",
       "750                                                NaN   \n",
       "751                                                NaN   \n",
       "\n",
       "                                             mask_path  lesion_x1  lesion_x2  \\\n",
       "0                                                  NaN        NaN        NaN   \n",
       "1                                                  NaN        NaN        NaN   \n",
       "2    patient_105/study_143/img_105_143_1_RCC_mask_i...      658.0     1292.0   \n",
       "3    patient_105/study_143/img_105_143_1_RO_mask_id...      423.0     1015.0   \n",
       "4                                                  NaN        NaN        NaN   \n",
       "..                                                 ...        ...        ...   \n",
       "747                                                NaN        NaN        NaN   \n",
       "748  patient_98/study_133/img_98_133_1_LCC_mask_id_...     1208.0     1223.0   \n",
       "749  patient_98/study_133/img_98_133_1_LO_mask_id_1...     1181.0     1193.0   \n",
       "750                                                NaN        NaN        NaN   \n",
       "751                                                NaN        NaN        NaN   \n",
       "\n",
       "     lesion_y1  lesion_y2                                        lw_x_points  \\\n",
       "0          NaN        NaN                                                NaN   \n",
       "1          NaN        NaN                                                NaN   \n",
       "2       1415.0     2013.0   2275 2276 2277 2278 2279 2280 2281 2281 2281 ...   \n",
       "3       1752.0     2444.0   1826 1825 1824 1823 1822 1821 1820 1819 1818 ...   \n",
       "4          NaN        NaN                                                NaN   \n",
       "..         ...        ...                                                ...   \n",
       "747        NaN        NaN                                                NaN   \n",
       "748     2269.0     2285.0   1217 1216 1215 1214 1213 1212 1211 1210 1209 ...   \n",
       "749     3008.0     3022.0   1185 1186 1187 1188 1189 1190 1191 1192 1192 ...   \n",
       "750        NaN        NaN                                                NaN   \n",
       "751        NaN        NaN                                                NaN   \n",
       "\n",
       "                                           lw_y_points  \n",
       "0                                                  NaN  \n",
       "1                                                  NaN  \n",
       "2     2174 2174 2173 2172 2171 2170 2169 2168 2167 ...  \n",
       "3     1813 1812 1812 1812 1812 1813 1814 1815 1816 ...  \n",
       "4                                                  NaN  \n",
       "..                                                 ...  \n",
       "747                                                NaN  \n",
       "748   2744 2744 2744 2745 2746 2747 2748 2749 2750 ...  \n",
       "749   3026 3027 3026 3025 3024 3023 3022 3021 3020 ...  \n",
       "750                                                NaN  \n",
       "751                                                NaN  \n",
       "\n",
       "[1018 rows x 27 columns]"
      ]
     },
     "execution_count": 13,
     "metadata": {},
     "output_type": "execute_result"
    }
   ],
   "source": [
    "bcdr_csv"
   ]
  },
  {
   "cell_type": "code",
   "execution_count": 14,
   "id": "47681ef3-a26d-48b4-a681-3cb70cf465e0",
   "metadata": {},
   "outputs": [
    {
     "data": {
      "text/plain": [
       "'Benign'"
      ]
     },
     "execution_count": 14,
     "metadata": {},
     "output_type": "execute_result"
    }
   ],
   "source": [
    "j_csv.loc[j_csv['image_id'] == '1.2.826.0.1.3680043.9.3218.1.1.35791640.9441.1536882521446.102.0']['status'].item()"
   ]
  },
  {
   "cell_type": "code",
   "execution_count": 15,
   "id": "5f4bd4df-17ae-455f-9b6b-903cb92ca22f",
   "metadata": {},
   "outputs": [
    {
     "data": {
      "text/plain": [
       "True"
      ]
     },
     "execution_count": 15,
     "metadata": {},
     "output_type": "execute_result"
    }
   ],
   "source": [
    "type('jarv')==str"
   ]
  },
  {
   "cell_type": "code",
   "execution_count": 16,
   "id": "53be0ee4-c06c-4141-a403-40b1089caeff",
   "metadata": {},
   "outputs": [
    {
     "data": {
      "text/plain": [
       "17"
      ]
     },
     "execution_count": 16,
     "metadata": {},
     "output_type": "execute_result"
    }
   ],
   "source": [
    "len('BCDR-D01_dataset/')"
   ]
  },
  {
   "cell_type": "code",
   "execution_count": 18,
   "id": "092d534c-c143-41bd-955c-685b581cc684",
   "metadata": {},
   "outputs": [
    {
     "data": {
      "text/plain": [
       "0      patient_105/study_143/img_105_143_1_LCC.png\n",
       "1       patient_105/study_143/img_105_143_1_LO.png\n",
       "2      patient_105/study_143/img_105_143_1_RCC.png\n",
       "3       patient_105/study_143/img_105_143_1_RO.png\n",
       "4      patient_108/study_146/img_108_146_1_LCC.png\n",
       "                          ...                     \n",
       "747       patient_95/study_129/img_95_129_1_RO.png\n",
       "748      patient_98/study_133/img_98_133_1_LCC.png\n",
       "749       patient_98/study_133/img_98_133_1_LO.png\n",
       "750      patient_98/study_133/img_98_133_1_RCC.png\n",
       "751       patient_98/study_133/img_98_133_1_RO.png\n",
       "Name: scan_path, Length: 1018, dtype: object"
      ]
     },
     "execution_count": 18,
     "metadata": {},
     "output_type": "execute_result"
    }
   ],
   "source": [
    "center_to_csv['bcdr']['scan_path']"
   ]
  },
  {
   "cell_type": "code",
   "execution_count": 19,
   "id": "30fa10b0-a6c6-4647-8a8b-30c5170950b3",
   "metadata": {},
   "outputs": [
    {
     "data": {
      "text/plain": [
       "'Benign'"
      ]
     },
     "execution_count": 19,
     "metadata": {},
     "output_type": "execute_result"
    }
   ],
   "source": [
    "center_to_csv['bcdr'].loc[center_to_csv['bcdr']['scan_path'] == 'patient_99/study_134/img_99_134_1_RCC.png']['classification'].iloc[0]"
   ]
  },
  {
   "cell_type": "code",
   "execution_count": 22,
   "id": "1e74216a-78af-410b-a3ec-61078868edbd",
   "metadata": {},
   "outputs": [],
   "source": [
    "def label_for_ids(dataset_pd, list_of_ids, label_header='BIRADS', center='bcdr'):\n",
    "    benign, malign = 0, 0\n",
    "    for img_id in list_of_ids:\n",
    "        if center == 'bcdr':\n",
    "            the_status = dataset_pd.loc[dataset_pd['scan_path'][17:] == img_id[17:]]['classification'].iloc[0]\n",
    "        else:\n",
    "            the_status = dataset_pd.loc[dataset_pd['image_id'] == img_id][label_header].iloc[0]\n",
    "        if the_status == 'Benign' or (label_header=='BIRADS' and the_status in [2,3]):\n",
    "            benign+=1\n",
    "        elif the_status == 'Malignant' or the_status == 'Malign' or (label_header=='BIRADS' and the_status>3):\n",
    "            malign+=1\n",
    "    return {\"Benign\":benign, \"Malign\":malign}"
   ]
  },
  {
   "cell_type": "code",
   "execution_count": 23,
   "id": "c0d0bc0c-c165-4d6a-ae3d-caeb930b96aa",
   "metadata": {},
   "outputs": [
    {
     "ename": "ValueError",
     "evalue": "cannot reindex from a duplicate axis",
     "output_type": "error",
     "traceback": [
      "\u001b[0;31m---------------------------------------------------------------------------\u001b[0m",
      "\u001b[0;31mValueError\u001b[0m                                Traceback (most recent call last)",
      "\u001b[0;32m/tmp/ipykernel_13149/310192572.py\u001b[0m in \u001b[0;36m<module>\u001b[0;34m\u001b[0m\n\u001b[1;32m     11\u001b[0m         \u001b[0mlabel_header\u001b[0m \u001b[0;34m=\u001b[0m \u001b[0;34m'status'\u001b[0m\u001b[0;34m\u001b[0m\u001b[0;34m\u001b[0m\u001b[0m\n\u001b[1;32m     12\u001b[0m \u001b[0;34m\u001b[0m\u001b[0m\n\u001b[0;32m---> 13\u001b[0;31m     \u001b[0mvalidation_labels\u001b[0m\u001b[0;34m[\u001b[0m\u001b[0mcenter\u001b[0m\u001b[0;34m]\u001b[0m\u001b[0;34m=\u001b[0m\u001b[0mlabel_for_ids\u001b[0m\u001b[0;34m(\u001b[0m\u001b[0mcenter_to_csv\u001b[0m\u001b[0;34m[\u001b[0m\u001b[0mcenter\u001b[0m\u001b[0;34m]\u001b[0m\u001b[0;34m,\u001b[0m \u001b[0mval_l\u001b[0m\u001b[0;34m,\u001b[0m \u001b[0mlabel_header\u001b[0m\u001b[0;34m=\u001b[0m\u001b[0mlabel_header\u001b[0m\u001b[0;34m,\u001b[0m \u001b[0mcenter\u001b[0m\u001b[0;34m=\u001b[0m\u001b[0mcenter\u001b[0m\u001b[0;34m)\u001b[0m\u001b[0;34m\u001b[0m\u001b[0;34m\u001b[0m\u001b[0m\n\u001b[0m",
      "\u001b[0;32m/tmp/ipykernel_13149/3477089945.py\u001b[0m in \u001b[0;36mlabel_for_ids\u001b[0;34m(dataset_pd, list_of_ids, label_header, center)\u001b[0m\n\u001b[1;32m      3\u001b[0m     \u001b[0;32mfor\u001b[0m \u001b[0mimg_id\u001b[0m \u001b[0;32min\u001b[0m \u001b[0mlist_of_ids\u001b[0m\u001b[0;34m:\u001b[0m\u001b[0;34m\u001b[0m\u001b[0;34m\u001b[0m\u001b[0m\n\u001b[1;32m      4\u001b[0m         \u001b[0;32mif\u001b[0m \u001b[0mcenter\u001b[0m \u001b[0;34m==\u001b[0m \u001b[0;34m'bcdr'\u001b[0m\u001b[0;34m:\u001b[0m\u001b[0;34m\u001b[0m\u001b[0;34m\u001b[0m\u001b[0m\n\u001b[0;32m----> 5\u001b[0;31m             \u001b[0mthe_status\u001b[0m \u001b[0;34m=\u001b[0m \u001b[0mdataset_pd\u001b[0m\u001b[0;34m.\u001b[0m\u001b[0mloc\u001b[0m\u001b[0;34m[\u001b[0m\u001b[0mdataset_pd\u001b[0m\u001b[0;34m[\u001b[0m\u001b[0;34m'scan_path'\u001b[0m\u001b[0;34m]\u001b[0m\u001b[0;34m[\u001b[0m\u001b[0;36m17\u001b[0m\u001b[0;34m:\u001b[0m\u001b[0;34m]\u001b[0m \u001b[0;34m==\u001b[0m \u001b[0mimg_id\u001b[0m\u001b[0;34m[\u001b[0m\u001b[0;36m17\u001b[0m\u001b[0;34m:\u001b[0m\u001b[0;34m]\u001b[0m\u001b[0;34m]\u001b[0m\u001b[0;34m[\u001b[0m\u001b[0;34m'classification'\u001b[0m\u001b[0;34m]\u001b[0m\u001b[0;34m.\u001b[0m\u001b[0miloc\u001b[0m\u001b[0;34m[\u001b[0m\u001b[0;36m0\u001b[0m\u001b[0;34m]\u001b[0m\u001b[0;34m\u001b[0m\u001b[0;34m\u001b[0m\u001b[0m\n\u001b[0m\u001b[1;32m      6\u001b[0m         \u001b[0;32melse\u001b[0m\u001b[0;34m:\u001b[0m\u001b[0;34m\u001b[0m\u001b[0;34m\u001b[0m\u001b[0m\n\u001b[1;32m      7\u001b[0m             \u001b[0mthe_status\u001b[0m \u001b[0;34m=\u001b[0m \u001b[0mdataset_pd\u001b[0m\u001b[0;34m.\u001b[0m\u001b[0mloc\u001b[0m\u001b[0;34m[\u001b[0m\u001b[0mdataset_pd\u001b[0m\u001b[0;34m[\u001b[0m\u001b[0;34m'image_id'\u001b[0m\u001b[0;34m]\u001b[0m \u001b[0;34m==\u001b[0m \u001b[0mimg_id\u001b[0m\u001b[0;34m]\u001b[0m\u001b[0;34m[\u001b[0m\u001b[0mlabel_header\u001b[0m\u001b[0;34m]\u001b[0m\u001b[0;34m.\u001b[0m\u001b[0miloc\u001b[0m\u001b[0;34m[\u001b[0m\u001b[0;36m0\u001b[0m\u001b[0;34m]\u001b[0m\u001b[0;34m\u001b[0m\u001b[0;34m\u001b[0m\u001b[0m\n",
      "\u001b[0;32m~/BFP/docker/fl_env/lib/python3.7/site-packages/pandas/core/indexing.py\u001b[0m in \u001b[0;36m__getitem__\u001b[0;34m(self, key)\u001b[0m\n\u001b[1;32m    929\u001b[0m \u001b[0;34m\u001b[0m\u001b[0m\n\u001b[1;32m    930\u001b[0m             \u001b[0mmaybe_callable\u001b[0m \u001b[0;34m=\u001b[0m \u001b[0mcom\u001b[0m\u001b[0;34m.\u001b[0m\u001b[0mapply_if_callable\u001b[0m\u001b[0;34m(\u001b[0m\u001b[0mkey\u001b[0m\u001b[0;34m,\u001b[0m \u001b[0mself\u001b[0m\u001b[0;34m.\u001b[0m\u001b[0mobj\u001b[0m\u001b[0;34m)\u001b[0m\u001b[0;34m\u001b[0m\u001b[0;34m\u001b[0m\u001b[0m\n\u001b[0;32m--> 931\u001b[0;31m             \u001b[0;32mreturn\u001b[0m \u001b[0mself\u001b[0m\u001b[0;34m.\u001b[0m\u001b[0m_getitem_axis\u001b[0m\u001b[0;34m(\u001b[0m\u001b[0mmaybe_callable\u001b[0m\u001b[0;34m,\u001b[0m \u001b[0maxis\u001b[0m\u001b[0;34m=\u001b[0m\u001b[0maxis\u001b[0m\u001b[0;34m)\u001b[0m\u001b[0;34m\u001b[0m\u001b[0;34m\u001b[0m\u001b[0m\n\u001b[0m\u001b[1;32m    932\u001b[0m \u001b[0;34m\u001b[0m\u001b[0m\n\u001b[1;32m    933\u001b[0m     \u001b[0;32mdef\u001b[0m \u001b[0m_is_scalar_access\u001b[0m\u001b[0;34m(\u001b[0m\u001b[0mself\u001b[0m\u001b[0;34m,\u001b[0m \u001b[0mkey\u001b[0m\u001b[0;34m:\u001b[0m \u001b[0mtuple\u001b[0m\u001b[0;34m)\u001b[0m\u001b[0;34m:\u001b[0m\u001b[0;34m\u001b[0m\u001b[0;34m\u001b[0m\u001b[0m\n",
      "\u001b[0;32m~/BFP/docker/fl_env/lib/python3.7/site-packages/pandas/core/indexing.py\u001b[0m in \u001b[0;36m_getitem_axis\u001b[0;34m(self, key, axis)\u001b[0m\n\u001b[1;32m   1142\u001b[0m             \u001b[0;32mreturn\u001b[0m \u001b[0mself\u001b[0m\u001b[0;34m.\u001b[0m\u001b[0m_get_slice_axis\u001b[0m\u001b[0;34m(\u001b[0m\u001b[0mkey\u001b[0m\u001b[0;34m,\u001b[0m \u001b[0maxis\u001b[0m\u001b[0;34m=\u001b[0m\u001b[0maxis\u001b[0m\u001b[0;34m)\u001b[0m\u001b[0;34m\u001b[0m\u001b[0;34m\u001b[0m\u001b[0m\n\u001b[1;32m   1143\u001b[0m         \u001b[0;32melif\u001b[0m \u001b[0mcom\u001b[0m\u001b[0;34m.\u001b[0m\u001b[0mis_bool_indexer\u001b[0m\u001b[0;34m(\u001b[0m\u001b[0mkey\u001b[0m\u001b[0;34m)\u001b[0m\u001b[0;34m:\u001b[0m\u001b[0;34m\u001b[0m\u001b[0;34m\u001b[0m\u001b[0m\n\u001b[0;32m-> 1144\u001b[0;31m             \u001b[0;32mreturn\u001b[0m \u001b[0mself\u001b[0m\u001b[0;34m.\u001b[0m\u001b[0m_getbool_axis\u001b[0m\u001b[0;34m(\u001b[0m\u001b[0mkey\u001b[0m\u001b[0;34m,\u001b[0m \u001b[0maxis\u001b[0m\u001b[0;34m=\u001b[0m\u001b[0maxis\u001b[0m\u001b[0;34m)\u001b[0m\u001b[0;34m\u001b[0m\u001b[0;34m\u001b[0m\u001b[0m\n\u001b[0m\u001b[1;32m   1145\u001b[0m         \u001b[0;32melif\u001b[0m \u001b[0mis_list_like_indexer\u001b[0m\u001b[0;34m(\u001b[0m\u001b[0mkey\u001b[0m\u001b[0;34m)\u001b[0m\u001b[0;34m:\u001b[0m\u001b[0;34m\u001b[0m\u001b[0;34m\u001b[0m\u001b[0m\n\u001b[1;32m   1146\u001b[0m \u001b[0;34m\u001b[0m\u001b[0m\n",
      "\u001b[0;32m~/BFP/docker/fl_env/lib/python3.7/site-packages/pandas/core/indexing.py\u001b[0m in \u001b[0;36m_getbool_axis\u001b[0;34m(self, key, axis)\u001b[0m\n\u001b[1;32m    946\u001b[0m         \u001b[0;31m# caller is responsible for ensuring non-None axis\u001b[0m\u001b[0;34m\u001b[0m\u001b[0;34m\u001b[0m\u001b[0;34m\u001b[0m\u001b[0m\n\u001b[1;32m    947\u001b[0m         \u001b[0mlabels\u001b[0m \u001b[0;34m=\u001b[0m \u001b[0mself\u001b[0m\u001b[0;34m.\u001b[0m\u001b[0mobj\u001b[0m\u001b[0;34m.\u001b[0m\u001b[0m_get_axis\u001b[0m\u001b[0;34m(\u001b[0m\u001b[0maxis\u001b[0m\u001b[0;34m)\u001b[0m\u001b[0;34m\u001b[0m\u001b[0;34m\u001b[0m\u001b[0m\n\u001b[0;32m--> 948\u001b[0;31m         \u001b[0mkey\u001b[0m \u001b[0;34m=\u001b[0m \u001b[0mcheck_bool_indexer\u001b[0m\u001b[0;34m(\u001b[0m\u001b[0mlabels\u001b[0m\u001b[0;34m,\u001b[0m \u001b[0mkey\u001b[0m\u001b[0;34m)\u001b[0m\u001b[0;34m\u001b[0m\u001b[0;34m\u001b[0m\u001b[0m\n\u001b[0m\u001b[1;32m    949\u001b[0m         \u001b[0minds\u001b[0m \u001b[0;34m=\u001b[0m \u001b[0mkey\u001b[0m\u001b[0;34m.\u001b[0m\u001b[0mnonzero\u001b[0m\u001b[0;34m(\u001b[0m\u001b[0;34m)\u001b[0m\u001b[0;34m[\u001b[0m\u001b[0;36m0\u001b[0m\u001b[0;34m]\u001b[0m\u001b[0;34m\u001b[0m\u001b[0;34m\u001b[0m\u001b[0m\n\u001b[1;32m    950\u001b[0m         \u001b[0;32mreturn\u001b[0m \u001b[0mself\u001b[0m\u001b[0;34m.\u001b[0m\u001b[0mobj\u001b[0m\u001b[0;34m.\u001b[0m\u001b[0m_take_with_is_copy\u001b[0m\u001b[0;34m(\u001b[0m\u001b[0minds\u001b[0m\u001b[0;34m,\u001b[0m \u001b[0maxis\u001b[0m\u001b[0;34m=\u001b[0m\u001b[0maxis\u001b[0m\u001b[0;34m)\u001b[0m\u001b[0;34m\u001b[0m\u001b[0;34m\u001b[0m\u001b[0m\n",
      "\u001b[0;32m~/BFP/docker/fl_env/lib/python3.7/site-packages/pandas/core/indexing.py\u001b[0m in \u001b[0;36mcheck_bool_indexer\u001b[0;34m(index, key)\u001b[0m\n\u001b[1;32m   2383\u001b[0m     \u001b[0mresult\u001b[0m \u001b[0;34m=\u001b[0m \u001b[0mkey\u001b[0m\u001b[0;34m\u001b[0m\u001b[0;34m\u001b[0m\u001b[0m\n\u001b[1;32m   2384\u001b[0m     \u001b[0;32mif\u001b[0m \u001b[0misinstance\u001b[0m\u001b[0;34m(\u001b[0m\u001b[0mkey\u001b[0m\u001b[0;34m,\u001b[0m \u001b[0mABCSeries\u001b[0m\u001b[0;34m)\u001b[0m \u001b[0;32mand\u001b[0m \u001b[0;32mnot\u001b[0m \u001b[0mkey\u001b[0m\u001b[0;34m.\u001b[0m\u001b[0mindex\u001b[0m\u001b[0;34m.\u001b[0m\u001b[0mequals\u001b[0m\u001b[0;34m(\u001b[0m\u001b[0mindex\u001b[0m\u001b[0;34m)\u001b[0m\u001b[0;34m:\u001b[0m\u001b[0;34m\u001b[0m\u001b[0;34m\u001b[0m\u001b[0m\n\u001b[0;32m-> 2385\u001b[0;31m         \u001b[0mresult\u001b[0m \u001b[0;34m=\u001b[0m \u001b[0mresult\u001b[0m\u001b[0;34m.\u001b[0m\u001b[0mreindex\u001b[0m\u001b[0;34m(\u001b[0m\u001b[0mindex\u001b[0m\u001b[0;34m)\u001b[0m\u001b[0;34m\u001b[0m\u001b[0;34m\u001b[0m\u001b[0m\n\u001b[0m\u001b[1;32m   2386\u001b[0m         \u001b[0mmask\u001b[0m \u001b[0;34m=\u001b[0m \u001b[0misna\u001b[0m\u001b[0;34m(\u001b[0m\u001b[0mresult\u001b[0m\u001b[0;34m.\u001b[0m\u001b[0m_values\u001b[0m\u001b[0;34m)\u001b[0m\u001b[0;34m\u001b[0m\u001b[0;34m\u001b[0m\u001b[0m\n\u001b[1;32m   2387\u001b[0m         \u001b[0;32mif\u001b[0m \u001b[0mmask\u001b[0m\u001b[0;34m.\u001b[0m\u001b[0many\u001b[0m\u001b[0;34m(\u001b[0m\u001b[0;34m)\u001b[0m\u001b[0;34m:\u001b[0m\u001b[0;34m\u001b[0m\u001b[0;34m\u001b[0m\u001b[0m\n",
      "\u001b[0;32m~/BFP/docker/fl_env/lib/python3.7/site-packages/pandas/core/series.py\u001b[0m in \u001b[0;36mreindex\u001b[0;34m(self, index, **kwargs)\u001b[0m\n\u001b[1;32m   4578\u001b[0m     )\n\u001b[1;32m   4579\u001b[0m     \u001b[0;32mdef\u001b[0m \u001b[0mreindex\u001b[0m\u001b[0;34m(\u001b[0m\u001b[0mself\u001b[0m\u001b[0;34m,\u001b[0m \u001b[0mindex\u001b[0m\u001b[0;34m=\u001b[0m\u001b[0;32mNone\u001b[0m\u001b[0;34m,\u001b[0m \u001b[0;34m**\u001b[0m\u001b[0mkwargs\u001b[0m\u001b[0;34m)\u001b[0m\u001b[0;34m:\u001b[0m\u001b[0;34m\u001b[0m\u001b[0;34m\u001b[0m\u001b[0m\n\u001b[0;32m-> 4580\u001b[0;31m         \u001b[0;32mreturn\u001b[0m \u001b[0msuper\u001b[0m\u001b[0;34m(\u001b[0m\u001b[0;34m)\u001b[0m\u001b[0;34m.\u001b[0m\u001b[0mreindex\u001b[0m\u001b[0;34m(\u001b[0m\u001b[0mindex\u001b[0m\u001b[0;34m=\u001b[0m\u001b[0mindex\u001b[0m\u001b[0;34m,\u001b[0m \u001b[0;34m**\u001b[0m\u001b[0mkwargs\u001b[0m\u001b[0;34m)\u001b[0m\u001b[0;34m\u001b[0m\u001b[0;34m\u001b[0m\u001b[0m\n\u001b[0m\u001b[1;32m   4581\u001b[0m \u001b[0;34m\u001b[0m\u001b[0m\n\u001b[1;32m   4582\u001b[0m     \u001b[0;34m@\u001b[0m\u001b[0mdeprecate_nonkeyword_arguments\u001b[0m\u001b[0;34m(\u001b[0m\u001b[0mversion\u001b[0m\u001b[0;34m=\u001b[0m\u001b[0;32mNone\u001b[0m\u001b[0;34m,\u001b[0m \u001b[0mallowed_args\u001b[0m\u001b[0;34m=\u001b[0m\u001b[0;34m[\u001b[0m\u001b[0;34m\"self\"\u001b[0m\u001b[0;34m,\u001b[0m \u001b[0;34m\"labels\"\u001b[0m\u001b[0;34m]\u001b[0m\u001b[0;34m)\u001b[0m\u001b[0;34m\u001b[0m\u001b[0;34m\u001b[0m\u001b[0m\n",
      "\u001b[0;32m~/BFP/docker/fl_env/lib/python3.7/site-packages/pandas/core/generic.py\u001b[0m in \u001b[0;36mreindex\u001b[0;34m(self, *args, **kwargs)\u001b[0m\n\u001b[1;32m   4817\u001b[0m         \u001b[0;31m# perform the reindex on the axes\u001b[0m\u001b[0;34m\u001b[0m\u001b[0;34m\u001b[0m\u001b[0;34m\u001b[0m\u001b[0m\n\u001b[1;32m   4818\u001b[0m         return self._reindex_axes(\n\u001b[0;32m-> 4819\u001b[0;31m             \u001b[0maxes\u001b[0m\u001b[0;34m,\u001b[0m \u001b[0mlevel\u001b[0m\u001b[0;34m,\u001b[0m \u001b[0mlimit\u001b[0m\u001b[0;34m,\u001b[0m \u001b[0mtolerance\u001b[0m\u001b[0;34m,\u001b[0m \u001b[0mmethod\u001b[0m\u001b[0;34m,\u001b[0m \u001b[0mfill_value\u001b[0m\u001b[0;34m,\u001b[0m \u001b[0mcopy\u001b[0m\u001b[0;34m\u001b[0m\u001b[0;34m\u001b[0m\u001b[0m\n\u001b[0m\u001b[1;32m   4820\u001b[0m         ).__finalize__(self, method=\"reindex\")\n\u001b[1;32m   4821\u001b[0m \u001b[0;34m\u001b[0m\u001b[0m\n",
      "\u001b[0;32m~/BFP/docker/fl_env/lib/python3.7/site-packages/pandas/core/generic.py\u001b[0m in \u001b[0;36m_reindex_axes\u001b[0;34m(self, axes, level, limit, tolerance, method, fill_value, copy)\u001b[0m\n\u001b[1;32m   4841\u001b[0m                 \u001b[0mfill_value\u001b[0m\u001b[0;34m=\u001b[0m\u001b[0mfill_value\u001b[0m\u001b[0;34m,\u001b[0m\u001b[0;34m\u001b[0m\u001b[0;34m\u001b[0m\u001b[0m\n\u001b[1;32m   4842\u001b[0m                 \u001b[0mcopy\u001b[0m\u001b[0;34m=\u001b[0m\u001b[0mcopy\u001b[0m\u001b[0;34m,\u001b[0m\u001b[0;34m\u001b[0m\u001b[0;34m\u001b[0m\u001b[0m\n\u001b[0;32m-> 4843\u001b[0;31m                 \u001b[0mallow_dups\u001b[0m\u001b[0;34m=\u001b[0m\u001b[0;32mFalse\u001b[0m\u001b[0;34m,\u001b[0m\u001b[0;34m\u001b[0m\u001b[0;34m\u001b[0m\u001b[0m\n\u001b[0m\u001b[1;32m   4844\u001b[0m             )\n\u001b[1;32m   4845\u001b[0m \u001b[0;34m\u001b[0m\u001b[0m\n",
      "\u001b[0;32m~/BFP/docker/fl_env/lib/python3.7/site-packages/pandas/core/generic.py\u001b[0m in \u001b[0;36m_reindex_with_indexers\u001b[0;34m(self, reindexers, fill_value, copy, allow_dups)\u001b[0m\n\u001b[1;32m   4887\u001b[0m                 \u001b[0mfill_value\u001b[0m\u001b[0;34m=\u001b[0m\u001b[0mfill_value\u001b[0m\u001b[0;34m,\u001b[0m\u001b[0;34m\u001b[0m\u001b[0;34m\u001b[0m\u001b[0m\n\u001b[1;32m   4888\u001b[0m                 \u001b[0mallow_dups\u001b[0m\u001b[0;34m=\u001b[0m\u001b[0mallow_dups\u001b[0m\u001b[0;34m,\u001b[0m\u001b[0;34m\u001b[0m\u001b[0;34m\u001b[0m\u001b[0m\n\u001b[0;32m-> 4889\u001b[0;31m                 \u001b[0mcopy\u001b[0m\u001b[0;34m=\u001b[0m\u001b[0mcopy\u001b[0m\u001b[0;34m,\u001b[0m\u001b[0;34m\u001b[0m\u001b[0;34m\u001b[0m\u001b[0m\n\u001b[0m\u001b[1;32m   4890\u001b[0m             )\n\u001b[1;32m   4891\u001b[0m             \u001b[0;31m# If we've made a copy once, no need to make another one\u001b[0m\u001b[0;34m\u001b[0m\u001b[0;34m\u001b[0m\u001b[0;34m\u001b[0m\u001b[0m\n",
      "\u001b[0;32m~/BFP/docker/fl_env/lib/python3.7/site-packages/pandas/core/internals/managers.py\u001b[0m in \u001b[0;36mreindex_indexer\u001b[0;34m(self, new_axis, indexer, axis, fill_value, allow_dups, copy, consolidate, only_slice)\u001b[0m\n\u001b[1;32m    668\u001b[0m         \u001b[0;31m# some axes don't allow reindexing with dups\u001b[0m\u001b[0;34m\u001b[0m\u001b[0;34m\u001b[0m\u001b[0;34m\u001b[0m\u001b[0m\n\u001b[1;32m    669\u001b[0m         \u001b[0;32mif\u001b[0m \u001b[0;32mnot\u001b[0m \u001b[0mallow_dups\u001b[0m\u001b[0;34m:\u001b[0m\u001b[0;34m\u001b[0m\u001b[0;34m\u001b[0m\u001b[0m\n\u001b[0;32m--> 670\u001b[0;31m             \u001b[0mself\u001b[0m\u001b[0;34m.\u001b[0m\u001b[0maxes\u001b[0m\u001b[0;34m[\u001b[0m\u001b[0maxis\u001b[0m\u001b[0;34m]\u001b[0m\u001b[0;34m.\u001b[0m\u001b[0m_validate_can_reindex\u001b[0m\u001b[0;34m(\u001b[0m\u001b[0mindexer\u001b[0m\u001b[0;34m)\u001b[0m\u001b[0;34m\u001b[0m\u001b[0;34m\u001b[0m\u001b[0m\n\u001b[0m\u001b[1;32m    671\u001b[0m \u001b[0;34m\u001b[0m\u001b[0m\n\u001b[1;32m    672\u001b[0m         \u001b[0;32mif\u001b[0m \u001b[0maxis\u001b[0m \u001b[0;34m>=\u001b[0m \u001b[0mself\u001b[0m\u001b[0;34m.\u001b[0m\u001b[0mndim\u001b[0m\u001b[0;34m:\u001b[0m\u001b[0;34m\u001b[0m\u001b[0;34m\u001b[0m\u001b[0m\n",
      "\u001b[0;32m~/BFP/docker/fl_env/lib/python3.7/site-packages/pandas/core/indexes/base.py\u001b[0m in \u001b[0;36m_validate_can_reindex\u001b[0;34m(self, indexer)\u001b[0m\n\u001b[1;32m   3783\u001b[0m         \u001b[0;31m# trying to reindex on an axis with duplicates\u001b[0m\u001b[0;34m\u001b[0m\u001b[0;34m\u001b[0m\u001b[0;34m\u001b[0m\u001b[0m\n\u001b[1;32m   3784\u001b[0m         \u001b[0;32mif\u001b[0m \u001b[0;32mnot\u001b[0m \u001b[0mself\u001b[0m\u001b[0;34m.\u001b[0m\u001b[0m_index_as_unique\u001b[0m \u001b[0;32mand\u001b[0m \u001b[0mlen\u001b[0m\u001b[0;34m(\u001b[0m\u001b[0mindexer\u001b[0m\u001b[0;34m)\u001b[0m\u001b[0;34m:\u001b[0m\u001b[0;34m\u001b[0m\u001b[0;34m\u001b[0m\u001b[0m\n\u001b[0;32m-> 3785\u001b[0;31m             \u001b[0;32mraise\u001b[0m \u001b[0mValueError\u001b[0m\u001b[0;34m(\u001b[0m\u001b[0;34m\"cannot reindex from a duplicate axis\"\u001b[0m\u001b[0;34m)\u001b[0m\u001b[0;34m\u001b[0m\u001b[0;34m\u001b[0m\u001b[0m\n\u001b[0m\u001b[1;32m   3786\u001b[0m \u001b[0;34m\u001b[0m\u001b[0m\n\u001b[1;32m   3787\u001b[0m     def reindex(\n",
      "\u001b[0;31mValueError\u001b[0m: cannot reindex from a duplicate axis"
     ]
    }
   ],
   "source": [
    "centers = ['jarv', 'stge', 'bcdr', 'cmmd', 'inbreast']\n",
    "\n",
    "validation_sizes, validation_labels = {}, {}\n",
    "\n",
    "for center in centers:\n",
    "    val_l = centralized_image_ids_dict[center]['val'][1]\n",
    "    validation_sizes[center]=len(val_l)\n",
    "    if center == 'inbreast':\n",
    "        label_header = 'BIRADS'\n",
    "    else:\n",
    "        label_header = 'status'\n",
    "        \n",
    "    validation_labels[center]=label_for_ids(center_to_csv[center], val_l, label_header=label_header, center=center)"
   ]
  },
  {
   "cell_type": "code",
   "execution_count": null,
   "id": "05441553-b759-4c9d-a7c6-7c1a3d58f60c",
   "metadata": {},
   "outputs": [],
   "source": [
    "center"
   ]
  },
  {
   "cell_type": "code",
   "execution_count": null,
   "id": "27a1070a-723a-4d0f-9409-e63c9ef2a712",
   "metadata": {},
   "outputs": [],
   "source": [
    "validation_sizes"
   ]
  },
  {
   "cell_type": "code",
   "execution_count": null,
   "id": "29e3f88e-d381-4880-bafa-db3199124cbd",
   "metadata": {},
   "outputs": [],
   "source": [
    "validation_labels"
   ]
  },
  {
   "cell_type": "code",
   "execution_count": null,
   "id": "3ba6cbe5-c1db-4898-a888-4ab8916e257e",
   "metadata": {},
   "outputs": [],
   "source": [
    "train_sizes, train_labels = {}, {}\n",
    "for center in centers:\n",
    "    train_l = centralized_image_ids_dict[center]['train'][1]\n",
    "    train_sizes[center]=len(train_l)"
   ]
  },
  {
   "cell_type": "code",
   "execution_count": null,
   "id": "bb448a26-0735-4eb8-9c11-c1ed227e828a",
   "metadata": {},
   "outputs": [],
   "source": [
    "train_sizes"
   ]
  }
 ],
 "metadata": {
  "kernelspec": {
   "display_name": "Python 3",
   "language": "python",
   "name": "python3"
  },
  "language_info": {
   "codemirror_mode": {
    "name": "ipython",
    "version": 3
   },
   "file_extension": ".py",
   "mimetype": "text/x-python",
   "name": "python",
   "nbconvert_exporter": "python",
   "pygments_lexer": "ipython3",
   "version": "3.7.6"
  }
 },
 "nbformat": 4,
 "nbformat_minor": 5
}
