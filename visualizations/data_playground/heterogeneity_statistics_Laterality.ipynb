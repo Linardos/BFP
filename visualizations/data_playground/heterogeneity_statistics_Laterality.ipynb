{
 "cells": [
  {
   "cell_type": "code",
   "execution_count": 1,
   "id": "4d8ce842-0273-4061-8848-53c1c7b8d339",
   "metadata": {
    "tags": []
   },
   "outputs": [],
   "source": [
    "import os\n",
    "import numpy as np\n",
    "import pandas as pd\n",
    "from PIL import Image"
   ]
  },
  {
   "cell_type": "code",
   "execution_count": 2,
   "id": "a7478c74-0a20-4af6-bbcd-19d9bdae467e",
   "metadata": {},
   "outputs": [],
   "source": [
    "jarv_csv=\"/home/akis-linardos/Datasets/OPTIMAM/jarv_info.csv\"\n",
    "stge_csv=\"/home/akis-linardos/Datasets/OPTIMAM/stge_info.csv\"\n",
    "inbreast_csv=\"/home/lidia-garrucho/datasets/INBREAST/INbreast_updated_cropped_breast.csv\"\n",
    "cmmd_csv='/home/akis-linardos/Datasets/CMMD/info.csv'\n",
    "bcdr_d01_csv=\"/home/lidia-garrucho/datasets/BCDR/cropped/BCDR-D01_dataset/dataset_info.csv\"\n",
    "bcdr_d02_csv=\"/home/lidia-garrucho/datasets/BCDR/cropped/BCDR-D02_dataset/dataset_info.csv\"\n",
    "bcdr_dn01_csv=\"/home/lidia-garrucho/datasets/BCDR/cropped/BCDR-DN01_dataset/dataset_info.csv\"\n",
    "\n",
    "b_d01_csv=pd.read_csv(bcdr_d01_csv)\n",
    "b_d02_csv=pd.read_csv(bcdr_d02_csv)\n",
    "b_dn01_csv=pd.read_csv(bcdr_dn01_csv)\n",
    "j_csv=pd.read_csv(jarv_csv)\n",
    "s_csv=pd.read_csv(stge_csv)\n",
    "i_csv=pd.read_csv(inbreast_csv)\n",
    "c_csv=pd.read_csv(cmmd_csv)"
   ]
  },
  {
   "cell_type": "code",
   "execution_count": 104,
   "id": "4b5bb0db-c61a-4061-9b76-889faf18b180",
   "metadata": {},
   "outputs": [
    {
     "data": {
      "text/plain": [
       "4"
      ]
     },
     "execution_count": 104,
     "metadata": {},
     "output_type": "execute_result"
    }
   ],
   "source": [
    "b_d01_csv['density'].max()"
   ]
  },
  {
   "cell_type": "code",
   "execution_count": 17,
   "id": "aaa4f190-dcbe-4350-8415-4483126836e2",
   "metadata": {},
   "outputs": [],
   "source": [
    "jarv = j_csv[['laterality','status']]\n",
    "stge = s_csv[['laterality','status']]\n",
    "inbr = i_csv[['laterality','BIRADS']]\n",
    "bcd1 = b_d01_csv[['laterality', 'classification']]\n",
    "bcd2 = b_d02_csv[['laterality', 'classification']]\n",
    "cmmd = c_csv[['laterality','status']]"
   ]
  },
  {
   "cell_type": "code",
   "execution_count": 20,
   "id": "89d26bce-f36a-4130-9b55-f570eac35e21",
   "metadata": {},
   "outputs": [
    {
     "data": {
      "text/plain": [
       "laterality            L\n",
       "status        Malignant\n",
       "Name: 0, dtype: object"
      ]
     },
     "execution_count": 20,
     "metadata": {},
     "output_type": "execute_result"
    }
   ],
   "source": [
    "jarv.iloc[0]"
   ]
  },
  {
   "cell_type": "code",
   "execution_count": 21,
   "id": "6eeca39a-ac42-49f6-a5ae-96e26b9a37e2",
   "metadata": {},
   "outputs": [
    {
     "data": {
      "text/plain": [
       "laterality         R\n",
       "status        Benign\n",
       "Name: 0, dtype: object"
      ]
     },
     "execution_count": 21,
     "metadata": {},
     "output_type": "execute_result"
    }
   ],
   "source": [
    "stge.iloc[0]"
   ]
  },
  {
   "cell_type": "code",
   "execution_count": 109,
   "id": "fb0dcc14-6638-4d0f-baa7-d989e971098d",
   "metadata": {},
   "outputs": [
    {
     "data": {
      "text/plain": [
       "{'GE MEDICAL SYSTEMS', 'HOLOGIC, Inc.', 'Philips Medical Systems', 'SIEMENS'}"
      ]
     },
     "execution_count": 109,
     "metadata": {},
     "output_type": "execute_result"
    }
   ],
   "source": [
    "set(s_csv['manufacturer'])"
   ]
  },
  {
   "cell_type": "markdown",
   "id": "8f58ab42-390c-4235-96b0-01f54f114b9e",
   "metadata": {},
   "source": [
    "## Laterality"
   ]
  },
  {
   "cell_type": "code",
   "execution_count": 82,
   "id": "f0e954a6-fce4-430b-b0f2-f5cb033c329d",
   "metadata": {},
   "outputs": [],
   "source": [
    "def laterality_stats(dataset_pd, label='status'):\n",
    "    r_benign, r_malign, l_benign, l_malign = 0, 0, 0, 0\n",
    "    for row in dataset_pd.iterrows():\n",
    "        if (row[1][label]=='Normal' or row[1][label]=='Interval Cancer'):\n",
    "            continue\n",
    "\n",
    "        if (row[1]['laterality']=='LEFT' or row[1]['laterality']=='L') and (row[1][label]=='Malignant' or row[1][label]=='Malign'):\n",
    "            l_malign += 1\n",
    "        elif (row[1]['laterality']=='RIGHT' or row[1]['laterality']=='R') and (row[1][label]=='Malignant' or row[1][label]=='Malign'):\n",
    "            r_malign += 1\n",
    "        elif (row[1]['laterality']=='LEFT' or row[1]['laterality']=='L') and (row[1][label]=='Benign' or row[1][label]=='Benign'):\n",
    "            l_benign += 1\n",
    "        elif (row[1]['laterality']=='RIGHT' or row[1]['laterality']=='R') and (row[1][label]=='Benign' or row[1][label]=='Benign'):\n",
    "            r_benign += 1\n",
    "        else:\n",
    "            print(\"ERROR One of the two not recognized: {} {}\".format(row[1]['laterality'], row[1][label]))\n",
    "            break\n",
    "    ml = l_malign/(l_malign+r_malign)\n",
    "    mr = r_malign/(l_malign+r_malign)\n",
    "    bl = l_benign/(l_benign+r_benign)\n",
    "    br = r_benign/(l_benign+r_benign)\n",
    "    return [ml, mr, bl, br]"
   ]
  },
  {
   "cell_type": "code",
   "execution_count": 79,
   "id": "091067e2-1a67-41bf-b991-5453f2cc9a16",
   "metadata": {},
   "outputs": [],
   "source": [
    "def laterality_stats_inbreast(dataset_pd, label='BIRADS'):\n",
    "    r_benign, r_malign, l_benign, l_malign = 0, 0, 0, 0\n",
    "    for row in dataset_pd.iterrows():\n",
    "        if (row[1][label]=='1'):\n",
    "            continue\n",
    "\n",
    "        if (row[1]['laterality']=='LEFT' or row[1]['laterality']=='L') and (row[1][label] == '4' or row[1][label]== '5' or row[1][label]=='6'):\n",
    "            l_malign += 1\n",
    "        elif (row[1]['laterality']=='RIGHT' or row[1]['laterality']=='R') and (row[1][label] == '4' or row[1][label]== '5' or row[1][label]=='6'):\n",
    "            r_malign += 1\n",
    "        elif (row[1]['laterality']=='LEFT' or row[1]['laterality']=='L') and (row[1][label]=='2' or row[1][label]=='3'):\n",
    "            l_benign += 1\n",
    "        elif (row[1]['laterality']=='RIGHT' or row[1]['laterality']=='R') and (row[1][label]=='2' or row[1][label]=='3'):\n",
    "            r_benign += 1\n",
    "        else:\n",
    "            print(\"ERROR One of the two not recognized: {} {}\".format(row[1]['laterality'], row[1][label]))\n",
    "            break\n",
    "    ml = l_malign/(l_malign+r_malign)\n",
    "    mr = r_malign/(l_malign+r_malign)\n",
    "    bl = l_benign/(l_benign+r_benign)\n",
    "    br = r_benign/(l_benign+r_benign)\n",
    "    return [ml, mr, bl, br]"
   ]
  },
  {
   "cell_type": "code",
   "execution_count": 43,
   "id": "c139b351-f560-4f30-8215-514d4f517582",
   "metadata": {},
   "outputs": [
    {
     "data": {
      "text/plain": [
       "(0.32525435811029746,\n",
       " 0.32693927807659906,\n",
       " 0.17380597498541897,\n",
       " 0.17400038882768454)"
      ]
     },
     "execution_count": 43,
     "metadata": {},
     "output_type": "execute_result"
    }
   ],
   "source": [
    "laterality_stats(stge)"
   ]
  },
  {
   "cell_type": "code",
   "execution_count": 63,
   "id": "dc7be8e8-4dca-454b-b034-0dc4d3f1b80e",
   "metadata": {},
   "outputs": [
    {
     "name": "stdout",
     "output_type": "stream",
     "text": [
      "ERROR One of the two not recognized: R 4a\n"
     ]
    },
    {
     "data": {
      "text/plain": [
       "[0.0, 0.2857142857142857, 0.7142857142857143, 0.0]"
      ]
     },
     "execution_count": 63,
     "metadata": {},
     "output_type": "execute_result"
    }
   ],
   "source": [
    "laterality_stats_inbreast(inbr, label='BIRADS')\n"
   ]
  },
  {
   "cell_type": "code",
   "execution_count": 83,
   "id": "71fe05ac-f8a6-4e7c-94c4-2b6df84e48bf",
   "metadata": {},
   "outputs": [
    {
     "name": "stdout",
     "output_type": "stream",
     "text": [
      "ERROR One of the two not recognized: R 4a\n"
     ]
    }
   ],
   "source": [
    "laterality_DF_stats = pd.DataFrame(np.array([laterality_stats(stge), laterality_stats(jarv), laterality_stats_inbreast(inbr, label='BIRADS')\n",
    ", laterality_stats(bcd1, 'classification'), laterality_stats(bcd2, 'classification'), laterality_stats(cmmd)]), columns=['Left+Malignant', 'Right+Malignant', 'Left+Benign', 'Right+Benign'], index=['jarv', 'stge', 'inbr', 'bcd1', 'bcd2', 'cmmd'])"
   ]
  },
  {
   "cell_type": "code",
   "execution_count": 84,
   "id": "eb63c367-2803-404b-ac5f-aba04c033ac7",
   "metadata": {},
   "outputs": [
    {
     "data": {
      "text/html": [
       "<div>\n",
       "<style scoped>\n",
       "    .dataframe tbody tr th:only-of-type {\n",
       "        vertical-align: middle;\n",
       "    }\n",
       "\n",
       "    .dataframe tbody tr th {\n",
       "        vertical-align: top;\n",
       "    }\n",
       "\n",
       "    .dataframe thead th {\n",
       "        text-align: right;\n",
       "    }\n",
       "</style>\n",
       "<table border=\"1\" class=\"dataframe\">\n",
       "  <thead>\n",
       "    <tr style=\"text-align: right;\">\n",
       "      <th></th>\n",
       "      <th>Left+Malignant</th>\n",
       "      <th>Right+Malignant</th>\n",
       "      <th>Left+Benign</th>\n",
       "      <th>Right+Benign</th>\n",
       "    </tr>\n",
       "  </thead>\n",
       "  <tbody>\n",
       "    <tr>\n",
       "      <th>jarv</th>\n",
       "      <td>0.498708</td>\n",
       "      <td>0.501292</td>\n",
       "      <td>0.499721</td>\n",
       "      <td>0.500279</td>\n",
       "    </tr>\n",
       "    <tr>\n",
       "      <th>stge</th>\n",
       "      <td>0.500385</td>\n",
       "      <td>0.499615</td>\n",
       "      <td>0.499166</td>\n",
       "      <td>0.500834</td>\n",
       "    </tr>\n",
       "    <tr>\n",
       "      <th>inbr</th>\n",
       "      <td>0.000000</td>\n",
       "      <td>1.000000</td>\n",
       "      <td>1.000000</td>\n",
       "      <td>0.000000</td>\n",
       "    </tr>\n",
       "    <tr>\n",
       "      <th>bcd1</th>\n",
       "      <td>0.666667</td>\n",
       "      <td>0.333333</td>\n",
       "      <td>0.453488</td>\n",
       "      <td>0.546512</td>\n",
       "    </tr>\n",
       "    <tr>\n",
       "      <th>bcd2</th>\n",
       "      <td>0.700000</td>\n",
       "      <td>0.300000</td>\n",
       "      <td>0.553086</td>\n",
       "      <td>0.446914</td>\n",
       "    </tr>\n",
       "    <tr>\n",
       "      <th>cmmd</th>\n",
       "      <td>0.539364</td>\n",
       "      <td>0.460636</td>\n",
       "      <td>0.642599</td>\n",
       "      <td>0.357401</td>\n",
       "    </tr>\n",
       "  </tbody>\n",
       "</table>\n",
       "</div>"
      ],
      "text/plain": [
       "      Left+Malignant  Right+Malignant  Left+Benign  Right+Benign\n",
       "jarv        0.498708         0.501292     0.499721      0.500279\n",
       "stge        0.500385         0.499615     0.499166      0.500834\n",
       "inbr        0.000000         1.000000     1.000000      0.000000\n",
       "bcd1        0.666667         0.333333     0.453488      0.546512\n",
       "bcd2        0.700000         0.300000     0.553086      0.446914\n",
       "cmmd        0.539364         0.460636     0.642599      0.357401"
      ]
     },
     "execution_count": 84,
     "metadata": {},
     "output_type": "execute_result"
    }
   ],
   "source": [
    "laterality_DF_stats"
   ]
  },
  {
   "cell_type": "code",
   "execution_count": 75,
   "id": "6729a04d-795b-4ac1-b328-26dff348fdf4",
   "metadata": {},
   "outputs": [],
   "source": [
    "bcdr = pd.concat([bcd1, bcd2])"
   ]
  },
  {
   "cell_type": "code",
   "execution_count": 85,
   "id": "babede70-c67d-4ed9-9eb8-2eacbad73d1b",
   "metadata": {},
   "outputs": [
    {
     "name": "stdout",
     "output_type": "stream",
     "text": [
      "ERROR One of the two not recognized: R 4a\n"
     ]
    }
   ],
   "source": [
    "laterality_DF_stats = pd.DataFrame(np.array([laterality_stats(stge), laterality_stats(jarv), laterality_stats_inbreast(inbr, label='BIRADS')\n",
    ", laterality_stats(bcdr, 'classification'), laterality_stats(cmmd)]), columns=['Left+Malignant', 'Right+Malignant', 'Left+Benign', 'Right+Benign'], index=['OPTIMAM(jarv)', 'OPTIMAM(stge)', 'InBreast', 'BCDR', 'CMMD'])"
   ]
  },
  {
   "cell_type": "code",
   "execution_count": 86,
   "id": "60e6205c-b226-4d31-a442-e7308f0041ff",
   "metadata": {},
   "outputs": [
    {
     "data": {
      "text/html": [
       "<div>\n",
       "<style scoped>\n",
       "    .dataframe tbody tr th:only-of-type {\n",
       "        vertical-align: middle;\n",
       "    }\n",
       "\n",
       "    .dataframe tbody tr th {\n",
       "        vertical-align: top;\n",
       "    }\n",
       "\n",
       "    .dataframe thead th {\n",
       "        text-align: right;\n",
       "    }\n",
       "</style>\n",
       "<table border=\"1\" class=\"dataframe\">\n",
       "  <thead>\n",
       "    <tr style=\"text-align: right;\">\n",
       "      <th></th>\n",
       "      <th>Left+Malignant</th>\n",
       "      <th>Right+Malignant</th>\n",
       "      <th>Left+Benign</th>\n",
       "      <th>Right+Benign</th>\n",
       "    </tr>\n",
       "  </thead>\n",
       "  <tbody>\n",
       "    <tr>\n",
       "      <th>OPTIMAM(jarv)</th>\n",
       "      <td>0.498708</td>\n",
       "      <td>0.501292</td>\n",
       "      <td>0.499721</td>\n",
       "      <td>0.500279</td>\n",
       "    </tr>\n",
       "    <tr>\n",
       "      <th>OPTIMAM(stge)</th>\n",
       "      <td>0.500385</td>\n",
       "      <td>0.499615</td>\n",
       "      <td>0.499166</td>\n",
       "      <td>0.500834</td>\n",
       "    </tr>\n",
       "    <tr>\n",
       "      <th>InBreast</th>\n",
       "      <td>0.000000</td>\n",
       "      <td>1.000000</td>\n",
       "      <td>1.000000</td>\n",
       "      <td>0.000000</td>\n",
       "    </tr>\n",
       "    <tr>\n",
       "      <th>BCDR</th>\n",
       "      <td>0.682243</td>\n",
       "      <td>0.317757</td>\n",
       "      <td>0.535642</td>\n",
       "      <td>0.464358</td>\n",
       "    </tr>\n",
       "    <tr>\n",
       "      <th>CMMD</th>\n",
       "      <td>0.539364</td>\n",
       "      <td>0.460636</td>\n",
       "      <td>0.642599</td>\n",
       "      <td>0.357401</td>\n",
       "    </tr>\n",
       "  </tbody>\n",
       "</table>\n",
       "</div>"
      ],
      "text/plain": [
       "               Left+Malignant  Right+Malignant  Left+Benign  Right+Benign\n",
       "OPTIMAM(jarv)        0.498708         0.501292     0.499721      0.500279\n",
       "OPTIMAM(stge)        0.500385         0.499615     0.499166      0.500834\n",
       "InBreast             0.000000         1.000000     1.000000      0.000000\n",
       "BCDR                 0.682243         0.317757     0.535642      0.464358\n",
       "CMMD                 0.539364         0.460636     0.642599      0.357401"
      ]
     },
     "execution_count": 86,
     "metadata": {},
     "output_type": "execute_result"
    }
   ],
   "source": [
    "laterality_DF_stats"
   ]
  },
  {
   "cell_type": "code",
   "execution_count": null,
   "id": "f9bd0b71-f4db-450d-a9d6-06e99adc8e1b",
   "metadata": {},
   "outputs": [],
   "source": [
    "df2 = pd.DataFrame(np.array([laterality_stats(stge)]), columns=[])"
   ]
  }
 ],
 "metadata": {
  "kernelspec": {
   "display_name": "Python 3",
   "language": "python",
   "name": "python3"
  },
  "language_info": {
   "codemirror_mode": {
    "name": "ipython",
    "version": 3
   },
   "file_extension": ".py",
   "mimetype": "text/x-python",
   "name": "python",
   "nbconvert_exporter": "python",
   "pygments_lexer": "ipython3",
   "version": "3.7.6"
  }
 },
 "nbformat": 4,
 "nbformat_minor": 5
}
