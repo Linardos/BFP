{
 "cells": [
  {
   "cell_type": "code",
   "execution_count": 1,
   "metadata": {},
   "outputs": [],
   "source": [
    "seed = 42  # for reproducibility\n",
    "\n",
    "import pickle\n",
    "import numpy as np\n",
    "from matplotlib import pyplot as plt\n",
    "plt.rcParams[\"axes.grid\"] = False\n",
    "%matplotlib inline\n",
    "\n",
    "import os\n",
    "import sys\n",
    "from pathlib import Path\n",
    "import torch\n",
    "import torch.nn.functional as F\n",
    "from torchvision.utils import make_grid, save_image\n",
    "from sklearn.metrics import plot_confusion_matrix\n",
    "torch.manual_seed(seed)\n",
    "sys.path.append(str(Path().absolute().parent))\n",
    "plt.style.use('seaborn')"
   ]
  },
  {
   "cell_type": "code",
   "execution_count": 2,
   "metadata": {},
   "outputs": [],
   "source": [
    "exp_path = Path().absolute().parent.parent.joinpath('src/experiments/0036_sanity_check_Everycenter_30epr1fr_BALANCED_ResNet18')\n",
    "stge_path = Path().absolute().parent.parent.joinpath('src/client_logs/stge')\n",
    "jarv_path = Path().absolute().parent.parent.joinpath('src/client_logs/jarv')\n",
    "bcdr_path = Path().absolute().parent.parent.joinpath('src/client_logs/bcdr')\n",
    "inbreast_path = Path().absolute().parent.parent.joinpath('src/client_logs/inbreast')\n",
    "cmmd_path = Path().absolute().parent.parent.joinpath('src/client_logs/cmmd')"
   ]
  },
  {
   "cell_type": "code",
   "execution_count": 3,
   "metadata": {},
   "outputs": [],
   "source": [
    "pickle_file = 'log.pkl'\n",
    "with open(exp_path.joinpath(pickle_file), 'rb') as handle:\n",
    "    aggregated_metrics = pickle.load(handle)\n",
    "    \n",
    "with open(stge_path.joinpath(pickle_file), 'rb') as handle:\n",
    "    stge_metrics = pickle.load(handle)\n",
    "with open(jarv_path.joinpath(pickle_file), 'rb') as handle:\n",
    "    jarv_metrics = pickle.load(handle)\n",
    "    \n",
    "with open(inbreast_path.joinpath(pickle_file), 'rb') as handle:\n",
    "    inbreast_metrics = pickle.load(handle)\n",
    "    \n",
    "with open(bcdr_path.joinpath(pickle_file), 'rb') as handle:\n",
    "    bcdr_metrics = pickle.load(handle)\n",
    "    \n",
    "with open(cmmd_path.joinpath(pickle_file), 'rb') as handle:\n",
    "    cmmd_metrics = pickle.load(handle)"
   ]
  },
  {
   "cell_type": "code",
   "execution_count": 4,
   "metadata": {},
   "outputs": [
    {
     "data": {
      "text/plain": [
       "dict_keys(['local_loss', 'local_val_loss', 'local_accuracy', 'local_sensitivity', 'local_specificity', 'local_val_predictions', 'GMLD_accuracy', 'GMLD_true_positives', 'GMLD_false_positives', 'GMLD_false_negatives', 'GMLD_true_negatives', 'LMLD_train_accuracy', 'LMLD_val_accuracy', 'LMLD_train_true_positives', 'LMLD_train_false_positives', 'LMLD_train_false_negatives', 'LMLD_train_true_negatives', 'LMLD_val_true_positives', 'LMLD_val_false_positives', 'LMLD_val_false_negatives', 'LMLD_val_true_negatives'])"
      ]
     },
     "execution_count": 4,
     "metadata": {},
     "output_type": "execute_result"
    }
   ],
   "source": [
    "cmmd_metrics.keys()"
   ]
  },
  {
   "cell_type": "markdown",
   "metadata": {},
   "source": [
    "# Accuracies, 5 folds, 100 epochs. Average so that you get 1,100 np array (averaged across folds)"
   ]
  },
  {
   "cell_type": "code",
   "execution_count": 5,
   "metadata": {},
   "outputs": [
    {
     "data": {
      "text/plain": [
       "{0: []}"
      ]
     },
     "execution_count": 5,
     "metadata": {},
     "output_type": "execute_result"
    }
   ],
   "source": [
    "inbreast_metrics['local_loss']"
   ]
  },
  {
   "cell_type": "code",
   "execution_count": 6,
   "metadata": {},
   "outputs": [
    {
     "data": {
      "text/plain": [
       "{0: []}"
      ]
     },
     "execution_count": 6,
     "metadata": {},
     "output_type": "execute_result"
    }
   ],
   "source": [
    "cmmd_metrics['local_loss']"
   ]
  },
  {
   "cell_type": "code",
   "execution_count": 7,
   "metadata": {},
   "outputs": [
    {
     "data": {
      "text/plain": [
       "{0: []}"
      ]
     },
     "execution_count": 7,
     "metadata": {},
     "output_type": "execute_result"
    }
   ],
   "source": [
    "bcdr_metrics['local_val_loss']"
   ]
  },
  {
   "cell_type": "code",
   "execution_count": 8,
   "metadata": {},
   "outputs": [
    {
     "data": {
      "text/plain": [
       "[]"
      ]
     },
     "execution_count": 8,
     "metadata": {},
     "output_type": "execute_result"
    }
   ],
   "source": [
    "cmmd_metrics['LMLD_train_accuracy']"
   ]
  },
  {
   "cell_type": "code",
   "execution_count": 9,
   "metadata": {},
   "outputs": [
    {
     "data": {
      "text/plain": [
       "[]"
      ]
     },
     "execution_count": 9,
     "metadata": {},
     "output_type": "execute_result"
    }
   ],
   "source": [
    "cmmd_metrics['LMLD_val_accuracy']"
   ]
  },
  {
   "cell_type": "markdown",
   "metadata": {
    "tags": []
   },
   "source": [
    "## Curve"
   ]
  },
  {
   "cell_type": "code",
   "execution_count": 10,
   "metadata": {},
   "outputs": [],
   "source": [
    "cmmd_losses_local_round1 = np.array(cmmd_metrics['local_loss'][0])\n",
    "inbreast_losses_local_round1 = np.array(inbreast_metrics['local_loss'][0])\n",
    "stge_losses_local_round1 = np.array(stge_metrics['local_loss'][0])\n",
    "jarv_losses_local_round1 = np.array(jarv_metrics['local_loss'][0])\n",
    "bcdr_losses_local_round1 = np.array(bcdr_metrics['local_loss'][0])\n",
    "steps = range(len(cmmd_losses_local_round1))"
   ]
  },
  {
   "cell_type": "code",
   "execution_count": 11,
   "metadata": {},
   "outputs": [
    {
     "data": {
      "text/plain": [
       "range(0, 0)"
      ]
     },
     "execution_count": 11,
     "metadata": {},
     "output_type": "execute_result"
    }
   ],
   "source": [
    "steps"
   ]
  },
  {
   "cell_type": "code",
   "execution_count": 12,
   "metadata": {},
   "outputs": [
    {
     "data": {
      "image/png": "[encoded data removed]",
      "text/plain": [
       "<Figure size 576x396 with 1 Axes>"
      ]
     },
     "metadata": {},
     "output_type": "display_data"
    }
   ],
   "source": [
    "plt.plot(steps, cmmd_losses_local_round1,'-o', label='CMMD')\n",
    "plt.plot(steps, inbreast_losses_local_round1,'-o', label='InBreast')\n",
    "plt.plot(steps, bcdr_losses_local_round1,'-o', label='BCDR')\n",
    "plt.plot(steps, jarv_losses_local_round1,'-o', label='OPTIMAM (jarv)')\n",
    "plt.plot(steps, stge_losses_local_round1,'-o', label='OPTIMAM (stge)')\n",
    "plt.legend()\n",
    "plt.xlabel('Iteration')\n",
    "plt.ylim(0,1)\n",
    "plt.ylabel('BCELoss')\n",
    "plt.title('Training Each Center Isolation')\n",
    "plt.savefig('./plots/sanity_check_success30EPR1FR.png')"
   ]
  },
  {
   "cell_type": "code",
   "execution_count": 13,
   "metadata": {},
   "outputs": [],
   "source": [
    "cmmd_f1 = [2 * cmmd_metrics['GMLD_true_positives'][i] / (2 * cmmd_metrics['GMLD_true_positives'][i] + cmmd_metrics['GMLD_false_positives'][i] + cmmd_metrics['GMLD_false_negatives'][i]) for i in range(len(cmmd_metrics['GMLD_true_positives']))]\n"
   ]
  },
  {
   "cell_type": "markdown",
   "metadata": {},
   "source": [
    "# Sanity check Success!"
   ]
  }
 ],
 "metadata": {
  "kernelspec": {
   "display_name": "Python 3",
   "language": "python",
   "name": "python3"
  },
  "language_info": {
   "codemirror_mode": {
    "name": "ipython",
    "version": 3
   },
   "file_extension": ".py",
   "mimetype": "text/x-python",
   "name": "python",
   "nbconvert_exporter": "python",
   "pygments_lexer": "ipython3",
   "version": "3.7.6"
  }
 },
 "nbformat": 4,
 "nbformat_minor": 4
}
