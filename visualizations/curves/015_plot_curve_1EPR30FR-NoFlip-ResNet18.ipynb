{
 "cells": [
  {
   "cell_type": "code",
   "execution_count": 49,
   "metadata": {},
   "outputs": [],
   "source": [
    "seed = 42  # for reproducibility\n",
    "\n",
    "import pickle\n",
    "import numpy as np\n",
    "from matplotlib import pyplot as plt\n",
    "plt.rcParams[\"axes.grid\"] = False\n",
    "%matplotlib inline\n",
    "\n",
    "import os\n",
    "import sys\n",
    "from pathlib import Path\n",
    "import torch\n",
    "import torch.nn.functional as F\n",
    "from torchvision.utils import make_grid, save_image\n",
    "from sklearn.metrics import plot_confusion_matrix\n",
    "torch.manual_seed(seed)\n",
    "sys.path.append(str(Path().absolute().parent))\n",
    "plt.style.use('seaborn')"
   ]
  },
  {
   "cell_type": "code",
   "execution_count": 50,
   "metadata": {},
   "outputs": [],
   "source": [
    "exp_path = Path().absolute().parent.parent.joinpath('src/experiments/0131_5centers_1epr30fr_BALANCED_ResNet18_Median_LateralityFixThenFlipAgainBACKTORANDOM')\n",
    "clog_path = 'experiments/0132_5centers_1epr30fr_BALANCED_ResNet18_Median_LateralityFixThenFlipAgainBACKTORANDOMClient_Logs'\n",
    "stge_path = Path().absolute().parent.parent.joinpath(f'src/{clog_path}/client_logs/stge')\n",
    "jarv_path = Path().absolute().parent.parent.joinpath(f'src/{clog_path}/client_logs/jarv')\n",
    "bcdr_path = Path().absolute().parent.parent.joinpath(f'src/{clog_path}/client_logs/bcdr')\n",
    "inbreast_path = Path().absolute().parent.parent.joinpath(f'src/{clog_path}/client_logs/inbreast')\n",
    "cmmd_path = Path().absolute().parent.parent.joinpath(f'src/{clog_path}/client_logs/cmmd')"
   ]
  },
  {
   "cell_type": "code",
   "execution_count": 51,
   "metadata": {},
   "outputs": [],
   "source": [
    "pickle_file = 'log.pkl'\n",
    "with open(exp_path.joinpath(pickle_file), 'rb') as handle:\n",
    "    aggregated_metrics = pickle.load(handle)\n",
    "    \n",
    "with open(stge_path.joinpath(pickle_file), 'rb') as handle:\n",
    "    stge_metrics = pickle.load(handle)\n",
    "with open(jarv_path.joinpath(pickle_file), 'rb') as handle:\n",
    "    jarv_metrics = pickle.load(handle)\n",
    "    \n",
    "with open(inbreast_path.joinpath(pickle_file), 'rb') as handle:\n",
    "    inbreast_metrics = pickle.load(handle)\n",
    "    \n",
    "with open(bcdr_path.joinpath(pickle_file), 'rb') as handle:\n",
    "    bcdr_metrics = pickle.load(handle)\n",
    "    \n",
    "with open(cmmd_path.joinpath(pickle_file), 'rb') as handle:\n",
    "    cmmd_metrics = pickle.load(handle)"
   ]
  },
  {
   "cell_type": "code",
   "execution_count": 52,
   "metadata": {},
   "outputs": [
    {
     "name": "stdout",
     "output_type": "stream",
     "text": [
      "0.9275 0.9061784897025171 0.67232693351656 0.6559983481313236 0.8214957859422307\n"
     ]
    }
   ],
   "source": [
    "print(inbreast_metrics['GMLD_AUC'][-1], bcdr_metrics['GMLD_AUC'][-1], stge_metrics['GMLD_AUC'][-1], jarv_metrics['GMLD_AUC'][-1], cmmd_metrics['GMLD_AUC'][-1]) "
   ]
  },
  {
   "cell_type": "code",
   "execution_count": 53,
   "metadata": {},
   "outputs": [
    {
     "name": "stdout",
     "output_type": "stream",
     "text": [
      "0.9475 0.9153318077803204 0.6934827818616203 0.6394583009961052 0.743740283119221\n"
     ]
    }
   ],
   "source": [
    "print(inbreast_metrics['LMLD_val_AUC'][-1], bcdr_metrics['LMLD_val_AUC'][-1], stge_metrics['LMLD_val_AUC'][-1], jarv_metrics['LMLD_val_AUC'][-1], cmmd_metrics['LMLD_val_AUC'][-1]) "
   ]
  },
  {
   "cell_type": "markdown",
   "metadata": {
    "tags": []
   },
   "source": [
    "## Curve"
   ]
  },
  {
   "cell_type": "code",
   "execution_count": 10,
   "metadata": {},
   "outputs": [],
   "source": [
    "cmmd_accuracy = [cmmd_metrics['GMLD_true_positives'][i] / (cmmd_metrics['GMLD_true_positives'][i] + cmmd_metrics['GMLD_false_negatives'][i]) for i in range(len(cmmd_metrics['GMLD_true_positives']))]\n",
    "cmmd_sensitivity = [cmmd_metrics['GMLD_true_positives'][i] / (cmmd_metrics['GMLD_true_positives'][i] + cmmd_metrics['GMLD_false_negatives'][i]) for i in range(len(cmmd_metrics['GMLD_true_positives']))]\n",
    "cmmd_specificity = [cmmd_metrics['GMLD_true_negatives'][i] / (cmmd_metrics['GMLD_true_negatives'][i] + cmmd_metrics['GMLD_false_positives'][i]) for i in range(len(cmmd_metrics['GMLD_true_negatives']))]\n",
    "cmmd_f1 = [2 * cmmd_metrics['GMLD_true_positives'][i] / (2 * cmmd_metrics['GMLD_true_positives'][i] + cmmd_metrics['GMLD_false_positives'][i] + cmmd_metrics['GMLD_false_negatives'][i]) for i in range(len(cmmd_metrics['GMLD_true_positives']))]\n",
    "# cmmd_AUC = [sklearn.metrics.roc_auc_score(cmmd_metrics['GMLD_labels'][i].detach().numpy(), cmmd_metrics['GMLD_predictions'][i].detach().numpy()) for i in range(len(cmmd_metrics['GMLD_true_positives']))]\n"
   ]
  },
  {
   "cell_type": "code",
   "execution_count": null,
   "metadata": {},
   "outputs": [],
   "source": [
    "cmmd_f1"
   ]
  },
  {
   "cell_type": "code",
   "execution_count": 11,
   "metadata": {},
   "outputs": [],
   "source": [
    "stge_f1 = [2 * stge_metrics['GMLD_true_positives'][i] / (2 * stge_metrics['GMLD_true_positives'][i] + stge_metrics['GMLD_false_positives'][i] + stge_metrics['GMLD_false_negatives'][i]) for i in range(len(stge_metrics['GMLD_true_positives']))]\n",
    "jarv_f1 = [2 * jarv_metrics['GMLD_true_positives'][i] / (2 * jarv_metrics['GMLD_true_positives'][i] + jarv_metrics['GMLD_false_positives'][i] + jarv_metrics['GMLD_false_negatives'][i]) for i in range(len(jarv_metrics['GMLD_true_positives']))]\n",
    "bcdr_f1 = [2 * bcdr_metrics['GMLD_true_positives'][i] / (2 * bcdr_metrics['GMLD_true_positives'][i] + bcdr_metrics['GMLD_false_positives'][i] + bcdr_metrics['GMLD_false_negatives'][i]) for i in range(len(bcdr_metrics['GMLD_true_positives']))]\n",
    "inbreast_f1 = [2 * inbreast_metrics['GMLD_true_positives'][i] / (2 * inbreast_metrics['GMLD_true_positives'][i] + inbreast_metrics['GMLD_false_positives'][i] + inbreast_metrics['GMLD_false_negatives'][i]) for i in range(len(inbreast_metrics['GMLD_true_positives']))]"
   ]
  },
  {
   "cell_type": "code",
   "execution_count": 12,
   "metadata": {},
   "outputs": [],
   "source": [
    "all_true_positives = inbreast_metrics['GMLD_true_positives'][-1] + stge_metrics['GMLD_true_positives'][-1] + jarv_metrics['GMLD_true_positives'][-1] + bcdr_metrics['GMLD_true_positives'][-1] + cmmd_metrics['GMLD_true_positives'][-1]\n",
    "all_false_positives = inbreast_metrics['GMLD_false_positives'][-1] + stge_metrics['GMLD_false_positives'][-1] + jarv_metrics['GMLD_false_positives'][-1] + bcdr_metrics['GMLD_false_positives'][-1] + cmmd_metrics['GMLD_false_positives'][-1]\n",
    "all_false_negatives = inbreast_metrics['GMLD_false_negatives'][-1] + stge_metrics['GMLD_false_negatives'][-1] + jarv_metrics['GMLD_false_negatives'][-1] + bcdr_metrics['GMLD_false_negatives'][-1] + cmmd_metrics['GMLD_false_negatives'][-1]\n",
    "all_f1 = 2 * all_true_positives / (2 * all_true_positives + all_false_positives + all_false_negatives)"
   ]
  },
  {
   "cell_type": "code",
   "execution_count": 13,
   "metadata": {},
   "outputs": [
    {
     "name": "stdout",
     "output_type": "stream",
     "text": [
      "0.47368421052631576 0.5263157894736842 0.7761194029850746 0.8123791102514507 0.6190476190476191 0.7883967883967884\n"
     ]
    }
   ],
   "source": [
    "print(inbreast_f1[-1], cmmd_f1[-1], jarv_f1[-1], stge_f1[-1], bcdr_f1[-1], all_f1) "
   ]
  },
  {
   "cell_type": "code",
   "execution_count": null,
   "metadata": {},
   "outputs": [],
   "source": [
    "print(inbreast_metrics[-1], cmmd_f1[-1], jarv_f1[-1], stge_f1[-1], bcdr_f1[-1], all_f1) "
   ]
  }
 ],
 "metadata": {
  "kernelspec": {
   "display_name": "Python 3",
   "language": "python",
   "name": "python3"
  },
  "language_info": {
   "codemirror_mode": {
    "name": "ipython",
    "version": 3
   },
   "file_extension": ".py",
   "mimetype": "text/x-python",
   "name": "python",
   "nbconvert_exporter": "python",
   "pygments_lexer": "ipython3",
   "version": "3.7.6"
  }
 },
 "nbformat": 4,
 "nbformat_minor": 4
}
