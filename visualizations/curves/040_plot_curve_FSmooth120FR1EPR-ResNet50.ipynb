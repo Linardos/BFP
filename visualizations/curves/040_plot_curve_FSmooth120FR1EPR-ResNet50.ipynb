{
 "cells": [
  {
   "cell_type": "code",
   "execution_count": 43,
   "metadata": {},
   "outputs": [],
   "source": [
    "seed = 42  # for reproducibility\n",
    "\n",
    "import pickle\n",
    "import numpy as np\n",
    "from matplotlib import pyplot as plt\n",
    "plt.rcParams[\"axes.grid\"] = False\n",
    "%matplotlib inline\n",
    "\n",
    "import os\n",
    "import sys\n",
    "from pathlib import Path\n",
    "import torch\n",
    "import torch.nn.functional as F\n",
    "from torchvision.utils import make_grid, save_image\n",
    "from sklearn.metrics import plot_confusion_matrix\n",
    "torch.manual_seed(seed)\n",
    "sys.path.append(str(Path().absolute().parent))\n",
    "plt.style.use('seaborn')"
   ]
  },
  {
   "cell_type": "code",
   "execution_count": 93,
   "metadata": {},
   "outputs": [],
   "source": [
    "exp_path = Path().absolute().parent.parent.joinpath('src/experiments/0281_FSmooth120FR1EPR_ResNet50')\n",
    "clog_path = 'experiments/0282_FSmooth120FR1EPR_ResNet50Client_Logs'\n",
    "stge_path = Path().absolute().parent.parent.joinpath(f'src/{clog_path}/client_logs/stge')\n",
    "jarv_path = Path().absolute().parent.parent.joinpath(f'src/{clog_path}/client_logs/jarv')\n",
    "bcdr_path = Path().absolute().parent.parent.joinpath(f'src/{clog_path}/client_logs/bcdr')\n",
    "inbreast_path = Path().absolute().parent.parent.joinpath(f'src/{clog_path}/client_logs/inbreast')\n",
    "cmmd_path = Path().absolute().parent.parent.joinpath(f'src/{clog_path}/client_logs/cmmd')"
   ]
  },
  {
   "cell_type": "code",
   "execution_count": 94,
   "metadata": {},
   "outputs": [],
   "source": [
    "s_value = str(exp_path).split('/')[-1][12:14]"
   ]
  },
  {
   "cell_type": "code",
   "execution_count": 95,
   "metadata": {},
   "outputs": [],
   "source": [
    "s_value='10'"
   ]
  },
  {
   "cell_type": "code",
   "execution_count": 5,
   "metadata": {},
   "outputs": [],
   "source": [
    "# pickle_file = 'smoothing_results.pkl'\n",
    "# with open(pickle_file, 'wb') as handle:\n",
    "#     pickle.dump({}, handle, protocol=pickle.HIGHEST_PROTOCOL)\n",
    "    "
   ]
  },
  {
   "cell_type": "code",
   "execution_count": 96,
   "metadata": {},
   "outputs": [],
   "source": [
    "pickle_file = 'log.pkl'\n",
    "with open(exp_path.joinpath(pickle_file), 'rb') as handle:\n",
    "    aggregated_metrics = pickle.load(handle)\n",
    "    \n",
    "with open(stge_path.joinpath(pickle_file), 'rb') as handle:\n",
    "    stge_metrics = pickle.load(handle)\n",
    "with open(jarv_path.joinpath(pickle_file), 'rb') as handle:\n",
    "    jarv_metrics = pickle.load(handle)\n",
    "    \n",
    "with open(inbreast_path.joinpath(pickle_file), 'rb') as handle:\n",
    "    inbreast_metrics = pickle.load(handle)\n",
    "    \n",
    "with open(bcdr_path.joinpath(pickle_file), 'rb') as handle:\n",
    "    bcdr_metrics = pickle.load(handle)\n",
    "    \n",
    "with open(cmmd_path.joinpath(pickle_file), 'rb') as handle:\n",
    "    cmmd_metrics = pickle.load(handle)"
   ]
  },
  {
   "cell_type": "code",
   "execution_count": 97,
   "metadata": {},
   "outputs": [
    {
     "data": {
      "text/plain": [
       "dict_keys(['local_loss', 'GMLD_val_loss', 'LMLD_val_loss', 'local_accuracy', 'local_sensitivity', 'local_specificity', 'local_val_predictions', 'LMLD_val_outputs', 'LMLD_val_labels', 'GMLD_outputs', 'GMLD_labels', 'GMLD_accuracy', 'GMLD_true_positives', 'GMLD_false_positives', 'GMLD_false_negatives', 'GMLD_true_negatives', 'GMLD_AUC', 'LMLD_train_true_positives', 'LMLD_train_false_positives', 'LMLD_train_false_negatives', 'LMLD_train_true_negatives', 'LMLD_val_true_positives', 'LMLD_val_false_positives', 'LMLD_val_false_negatives', 'LMLD_val_true_negatives', 'LMLD_val_AUC'])"
      ]
     },
     "execution_count": 97,
     "metadata": {},
     "output_type": "execute_result"
    }
   ],
   "source": [
    "inbreast_metrics.keys()"
   ]
  },
  {
   "cell_type": "markdown",
   "metadata": {},
   "source": [
    "# Accuracy of the consensus model of a center (Inbreast) on last 10 federated rounds"
   ]
  },
  {
   "cell_type": "code",
   "execution_count": 98,
   "metadata": {},
   "outputs": [],
   "source": [
    "pickle_file = 'smoothing_results.pkl'\n",
    "with open(pickle_file, 'rb') as handle:\n",
    "    smoothing_dict = pickle.load(handle)"
   ]
  },
  {
   "cell_type": "code",
   "execution_count": 99,
   "metadata": {},
   "outputs": [
    {
     "name": "stdout",
     "output_type": "stream",
     "text": [
      "0.8772378516624041 0.9560185185185186 0.9403378515319243 0.9439267443715249 0.9258378554153203\n"
     ]
    }
   ],
   "source": [
    "print(inbreast_metrics['GMLD_AUC'][-3], bcdr_metrics['GMLD_AUC'][-3], stge_metrics['GMLD_AUC'][-3], jarv_metrics['GMLD_AUC'][-2], cmmd_metrics['GMLD_AUC'][-2]) "
   ]
  },
  {
   "cell_type": "code",
   "execution_count": 100,
   "metadata": {},
   "outputs": [],
   "source": [
    "avg_of_centers = np.mean([inbreast_metrics['GMLD_AUC'][-1], bcdr_metrics['GMLD_AUC'][-1], stge_metrics['GMLD_AUC'][-1], jarv_metrics['GMLD_AUC'][-1], cmmd_metrics['GMLD_AUC'][-1]])"
   ]
  },
  {
   "cell_type": "code",
   "execution_count": 101,
   "metadata": {},
   "outputs": [],
   "source": [
    "smoothing_dict[s_value]={'inbreast':inbreast_metrics['GMLD_AUC'][-1], 'bcdr':bcdr_metrics['GMLD_AUC'][-1], 'stge':stge_metrics['GMLD_AUC'][-1], 'jarv':jarv_metrics['GMLD_AUC'][-1], 'cmmd':cmmd_metrics['GMLD_AUC'][-1], 'average':avg_of_centers}"
   ]
  },
  {
   "cell_type": "code",
   "execution_count": 102,
   "metadata": {},
   "outputs": [],
   "source": [
    "pickle_file = 'smoothing_results.pkl'\n",
    "with open(pickle_file, 'wb') as handle:\n",
    "    pickle.dump(smoothing_dict, handle, protocol=pickle.HIGHEST_PROTOCOL)"
   ]
  },
  {
   "cell_type": "code",
   "execution_count": 103,
   "metadata": {},
   "outputs": [
    {
     "data": {
      "text/plain": [
       "{'05': {'inbreast': 0.8248081841432224,\n",
       "  'bcdr': 0.9340277777777779,\n",
       "  'stge': 0.945918770267248,\n",
       "  'jarv': 0.9523245943851973,\n",
       "  'cmmd': 0.9306952828079589,\n",
       "  'average': 0.9175549218762808},\n",
       " '03': {'inbreast': 0.8657289002557544,\n",
       "  'bcdr': 0.974537037037037,\n",
       "  'stge': 0.9522798033378062,\n",
       "  'jarv': 0.9503577613708869,\n",
       "  'cmmd': 0.915096640448753,\n",
       "  'average': 0.9316000284900474},\n",
       " '02': {'inbreast': 0.8184143222506394,\n",
       "  'bcdr': 0.9502314814814815,\n",
       "  'stge': 0.9527672655987922,\n",
       "  'jarv': 0.9496470809406617,\n",
       "  'cmmd': 0.917972481352763,\n",
       "  'average': 0.9178065263248676},\n",
       " '04': {'inbreast': 0.8887468030690537,\n",
       "  'bcdr': 0.962962962962963,\n",
       "  'stge': 0.9454094682992285,\n",
       "  'jarv': 0.9444850344088963,\n",
       "  'cmmd': 0.9137654208076744,\n",
       "  'average': 0.9310739379095633},\n",
       " '01': {'inbreast': 0.8324808184143223,\n",
       "  'bcdr': 0.8865740740740741,\n",
       "  'stge': 0.9451858296992062,\n",
       "  'jarv': 0.9495780067906299,\n",
       "  'cmmd': 0.9337743633518281,\n",
       "  'average': 0.9095186184660122},\n",
       " '08': {'inbreast': 0.8721227621483376,\n",
       "  'bcdr': 0.9178240740740741,\n",
       "  'stge': 0.9405959968690596,\n",
       "  'jarv': 0.9489121889526936,\n",
       "  'cmmd': 0.9282970550576185,\n",
       "  'average': 0.9319753262264114},\n",
       " '07': {'inbreast': 0.8849104859335039,\n",
       "  'bcdr': 0.9363425925925926,\n",
       "  'stge': 0.9402260322319133,\n",
       "  'jarv': 0.9447492252301521,\n",
       "  'cmmd': 0.9243542060443468,\n",
       "  'average': 0.9261165084065016},\n",
       " '09': {'inbreast': 0.9002557544757032,\n",
       "  'bcdr': 0.9444444444444444,\n",
       "  'stge': 0.9471845996869059,\n",
       "  'jarv': 0.9434432253213015,\n",
       "  'cmmd': 0.9274028006422372,\n",
       "  'average': 0.9325461649141185},\n",
       " '06': {'inbreast': 0.8823529411764706,\n",
       "  'bcdr': 0.9375,\n",
       "  'stge': 0.9418011119031644,\n",
       "  'jarv': 0.9430124020144015,\n",
       "  'cmmd': 0.9300449159604088,\n",
       "  'average': 0.926942274210889},\n",
       " '00': {'inbreast': 0.8618925831202047,\n",
       "  'bcdr': 0.9166666666666667,\n",
       "  'stge': 0.9498870450352231,\n",
       "  'jarv': 0.9497054735211012,\n",
       "  'cmmd': 0.928774668211288,\n",
       "  'average': 0.9213852873108968},\n",
       " '10': {'inbreast': 0.8823529411764706,\n",
       "  'bcdr': 0.9513888888888888,\n",
       "  'stge': 0.9433539150732417,\n",
       "  'jarv': 0.9176144779418465,\n",
       "  'cmmd': 0.9277483080299982,\n",
       "  'average': 0.9244917062220892}}"
      ]
     },
     "execution_count": 103,
     "metadata": {},
     "output_type": "execute_result"
    }
   ],
   "source": [
    "smoothing_dict"
   ]
  },
  {
   "cell_type": "code",
   "execution_count": 149,
   "metadata": {},
   "outputs": [
    {
     "data": {
      "text/plain": [
       "120"
      ]
     },
     "execution_count": 149,
     "metadata": {},
     "output_type": "execute_result"
    }
   ],
   "source": [
    "list(inbreast_metrics['LMLD_val_AUC'].keys())[-1]"
   ]
  },
  {
   "cell_type": "code",
   "execution_count": 218,
   "metadata": {},
   "outputs": [
    {
     "name": "stdout",
     "output_type": "stream",
     "text": [
      "0.9156010230179028 0.9398148148148149 0.9496987867605948 0.9513126936924621 0.9285307806434567\n"
     ]
    }
   ],
   "source": [
    "print(inbreast_metrics['LMLD_val_AUC'][final_r][-1], bcdr_metrics['LMLD_val_AUC'][final_r][-1], stge_metrics['LMLD_val_AUC'][final_r][-1], jarv_metrics['LMLD_val_AUC'][final_r][-1], cmmd_metrics['LMLD_val_AUC'][final_r][-1]) "
   ]
  },
  {
   "cell_type": "code",
   "execution_count": 219,
   "metadata": {},
   "outputs": [
    {
     "name": "stdout",
     "output_type": "stream",
     "text": [
      "0.9156010230179028 0.9398148148148149 0.9496987867605948 0.9513126936924621 0.9285307806434567\n"
     ]
    }
   ],
   "source": [
    "print(max(inbreast_metrics['LMLD_val_AUC'][final_r]), max(bcdr_metrics['LMLD_val_AUC'][final_r]), max(stge_metrics['LMLD_val_AUC'][final_r]), max(jarv_metrics['LMLD_val_AUC'][final_r]), max(cmmd_metrics['LMLD_val_AUC'][final_r])) "
   ]
  },
  {
   "cell_type": "code",
   "execution_count": null,
   "metadata": {},
   "outputs": [
    {
     "data": {
      "text/plain": [
       "{1: [0.5897332410824108],\n",
       " 2: [0.6525101685675947],\n",
       " 3: [0.665727559264229],\n",
       " 4: [0.6737007995079951],\n",
       " 5: [0.6810747581907638],\n",
       " 6: [0.672317909258638],\n",
       " 7: [0.7091842083193558],\n",
       " 8: [0.7313951903723583],\n",
       " 9: [0.7176789807670805],\n",
       " 10: [0.7545802233590517],\n",
       " 11: [0.7606735016213798],\n",
       " 12: [0.7736611386000224],\n",
       " 13: [0.7429230613328861],\n",
       " 14: [0.8006113370792798],\n",
       " 15: [0.7596618863915912],\n",
       " 16: [0.7747618598345076],\n",
       " 17: [0.7953261279771888],\n",
       " 18: [0.7793420831935591],\n",
       " 19: [0.8126782120093927],\n",
       " 20: [0.8237623001230013],\n",
       " 21: [0.8064084689142347],\n",
       " 22: [0.7959018226545902],\n",
       " 23: [0.8056222394610311],\n",
       " 24: [0.8381140452029521],\n",
       " 25: [0.8281389774125012],\n",
       " 26: [0.8424361232248685],\n",
       " 27: [0.8384101916303254],\n",
       " 28: [0.8503342348764398],\n",
       " 29: [0.8306370031029856],\n",
       " 30: [0.8369705181426814],\n",
       " 31: [0.8426759232080956],\n",
       " 32: [0.8567406945376271],\n",
       " 33: [0.828558736581684],\n",
       " 34: [0.8682694390864364],\n",
       " 35: [0.8513655058425584],\n",
       " 36: [0.8720599386391592],\n",
       " 37: [0.8378908433970704],\n",
       " 38: [0.8094035663367999],\n",
       " 39: [0.8629160900984011],\n",
       " 40: [0.8599349700883373],\n",
       " 41: [0.8592710429945208],\n",
       " 42: [0.8802000342446606],\n",
       " 43: [0.861858611483842],\n",
       " 44: [0.8668979054847366],\n",
       " 45: [0.8839931545622275],\n",
       " 46: [0.8590303694230124],\n",
       " 47: [0.8670276333445153],\n",
       " 48: [0.869879462288941],\n",
       " 49: [0.9095194041429051],\n",
       " 50: [0.8850890710611651],\n",
       " 51: [0.903416953203623],\n",
       " 52: [0.9162525858213127],\n",
       " 53: [0.9108411432125685],\n",
       " 54: [0.8952576386559321],\n",
       " 55: [0.8871009448730851],\n",
       " 56: [0.9256502117577994],\n",
       " 57: [0.8961866997931343],\n",
       " 58: [0.9237029834786985],\n",
       " 59: [0.9093499280163255],\n",
       " 60: [0.8925918840154311],\n",
       " 61: [0.8872372246449736],\n",
       " 62: [0.9179953944425808],\n",
       " 63: [0.9263739796488875],\n",
       " 64: [0.8743251530526669],\n",
       " 65: [0.8833436416750531],\n",
       " 66: [0.9242970235100079],\n",
       " 67: [0.9216653388124791],\n",
       " 68: [0.9047727622162585],\n",
       " 69: [0.8892674438108017],\n",
       " 70: [0.892304473470871],\n",
       " 71: [0.8987410719277648],\n",
       " 72: [0.8829741138320474],\n",
       " 73: [0.9073764920887846],\n",
       " 74: [0.9084706614111596],\n",
       " 75: [0.9190083200547914],\n",
       " 76: [0.936061636894778],\n",
       " 77: [0.9356458088728615],\n",
       " 78: [0.9352238657329754],\n",
       " 79: [0.9403304260315329],\n",
       " 80: [0.9428328196634239],\n",
       " 81: [0.9455138620988482],\n",
       " 82: [0.9465267877110589],\n",
       " 83: [0.9459528402102203],\n",
       " 84: [0.9445122931342951],\n",
       " 85: [0.9436343369115509],\n",
       " 86: [0.9494502508945544],\n",
       " 87: [0.9482154338588841],\n",
       " 88: [0.9446787117018898],\n",
       " 89: [0.9443664038913117],\n",
       " 90: [0.9448477510343285],\n",
       " 91: [0.9439483918986917],\n",
       " 92: [0.9465883756848933],\n",
       " 93: [0.9428039912501398],\n",
       " 94: [0.9457759385832495],\n",
       " 95: [0.9466805392485744],\n",
       " 96: [0.9431800710052555],\n",
       " 97: [0.9392873616236163],\n",
       " 98: [0.9417456390472996],\n",
       " 99: [0.9457759385832495],\n",
       " 100: [0.9452670734093704],\n",
       " 101: [0.9457073619031644],\n",
       " 102: [0.9467342649278766],\n",
       " 103: [0.9449089022140221],\n",
       " 104: [0.946696700631779],\n",
       " 105: [0.9468281756681203],\n",
       " 106: [0.9454806657441575],\n",
       " 107: [0.9471417938611204],\n",
       " 108: [0.9459585185340489],\n",
       " 109: [0.9470007093536845],\n",
       " 110: [0.9446223652577436],\n",
       " 111: [0.9428079223974057],\n",
       " 112: [0.9459781742703791],\n",
       " 113: [0.946247239461031],\n",
       " 114: [0.9457340063457453],\n",
       " 115: [0.9455710821312757],\n",
       " 116: [0.9449635014816058],\n",
       " 117: [0.9450486763390362]}"
      ]
     },
     "execution_count": 12,
     "metadata": {},
     "output_type": "execute_result"
    }
   ],
   "source": [
    "stge_metrics['LMLD_val_AUC']"
   ]
  }
 ],
 "metadata": {
  "kernelspec": {
   "display_name": "Python 3",
   "language": "python",
   "name": "python3"
  },
  "language_info": {
   "codemirror_mode": {
    "name": "ipython",
    "version": 3
   },
   "file_extension": ".py",
   "mimetype": "text/x-python",
   "name": "python",
   "nbconvert_exporter": "python",
   "pygments_lexer": "ipython3",
   "version": "3.7.6"
  }
 },
 "nbformat": 4,
 "nbformat_minor": 4
}
