{
 "cells": [
  {
   "cell_type": "code",
   "execution_count": 1,
   "metadata": {},
   "outputs": [],
   "source": [
    "seed = 42  # for reproducibility\n",
    "\n",
    "import pickle\n",
    "import numpy as np\n",
    "from matplotlib import pyplot as plt\n",
    "plt.rcParams[\"axes.grid\"] = False\n",
    "%matplotlib inline\n",
    "\n",
    "import os\n",
    "import sys\n",
    "from pathlib import Path\n",
    "import torch\n",
    "import torch.nn.functional as F\n",
    "from torchvision.utils import make_grid, save_image\n",
    "from sklearn.metrics import plot_confusion_matrix\n",
    "torch.manual_seed(seed)\n",
    "sys.path.append(str(Path().absolute().parent))\n",
    "plt.style.use('seaborn')"
   ]
  },
  {
   "cell_type": "code",
   "execution_count": 2,
   "metadata": {},
   "outputs": [],
   "source": [
    "exp_path = Path().absolute().parent.parent.joinpath('src/experiments/0069_5centers_1epr30fr_BALANCED_AlexNetClassifier_Median_LateralityFixThenFlipAgain')\n",
    "clog_path = 'experiments/0070_5centers_1epr30fr_BALANCED_AlexNetClassifier_Median_LateralityFixThenFlipAgainClient_Logs'\n",
    "stge_path = Path().absolute().parent.parent.joinpath(f'src/{clog_path}/client_logs/stge')\n",
    "jarv_path = Path().absolute().parent.parent.joinpath(f'src/{clog_path}/client_logs/jarv')\n",
    "bcdr_path = Path().absolute().parent.parent.joinpath(f'src/{clog_path}/client_logs/bcdr')\n",
    "inbreast_path = Path().absolute().parent.parent.joinpath(f'src/{clog_path}/client_logs/inbreast')\n",
    "cmmd_path = Path().absolute().parent.parent.joinpath(f'src/{clog_path}/client_logs/cmmd')"
   ]
  },
  {
   "cell_type": "code",
   "execution_count": 3,
   "metadata": {},
   "outputs": [],
   "source": [
    "pickle_file = 'log.pkl'\n",
    "with open(exp_path.joinpath(pickle_file), 'rb') as handle:\n",
    "    aggregated_metrics = pickle.load(handle)\n",
    "    \n",
    "with open(stge_path.joinpath(pickle_file), 'rb') as handle:\n",
    "    stge_metrics = pickle.load(handle)\n",
    "with open(jarv_path.joinpath(pickle_file), 'rb') as handle:\n",
    "    jarv_metrics = pickle.load(handle)\n",
    "    \n",
    "with open(inbreast_path.joinpath(pickle_file), 'rb') as handle:\n",
    "    inbreast_metrics = pickle.load(handle)\n",
    "    \n",
    "with open(bcdr_path.joinpath(pickle_file), 'rb') as handle:\n",
    "    bcdr_metrics = pickle.load(handle)\n",
    "    \n",
    "with open(cmmd_path.joinpath(pickle_file), 'rb') as handle:\n",
    "    cmmd_metrics = pickle.load(handle)"
   ]
  },
  {
   "cell_type": "code",
   "execution_count": 4,
   "metadata": {},
   "outputs": [
    {
     "data": {
      "text/plain": [
       "dict_keys(['local_loss', 'GMLD_val_loss', 'LMLD_val_loss', 'local_accuracy', 'local_sensitivity', 'local_specificity', 'local_val_predictions', 'GMLD_accuracy', 'GMLD_true_positives', 'GMLD_false_positives', 'GMLD_false_negatives', 'GMLD_true_negatives', 'LMLD_train_accuracy', 'LMLD_val_accuracy', 'LMLD_train_true_positives', 'LMLD_train_false_positives', 'LMLD_train_false_negatives', 'LMLD_train_true_negatives', 'LMLD_val_true_positives', 'LMLD_val_false_positives', 'LMLD_val_false_negatives', 'LMLD_val_true_negatives'])"
      ]
     },
     "execution_count": 4,
     "metadata": {},
     "output_type": "execute_result"
    }
   ],
   "source": [
    "cmmd_metrics.keys()"
   ]
  },
  {
   "cell_type": "markdown",
   "metadata": {},
   "source": [
    "# Accuracies, 5 folds, 100 epochs. Average so that you get 1,100 np array (averaged across folds)"
   ]
  },
  {
   "cell_type": "code",
   "execution_count": 5,
   "metadata": {},
   "outputs": [
    {
     "data": {
      "text/plain": [
       "dict_keys(['accuracies_aggregated', 'total_val_loss', 'time_spent'])"
      ]
     },
     "execution_count": 5,
     "metadata": {},
     "output_type": "execute_result"
    }
   ],
   "source": [
    "aggregated_metrics.keys()"
   ]
  },
  {
   "cell_type": "code",
   "execution_count": 6,
   "metadata": {},
   "outputs": [
    {
     "data": {
      "text/plain": [
       "[0.4619045949761048,\n",
       " 0.4619045949761048,\n",
       " 0.4619045949761048,\n",
       " 0.4619045949761048,\n",
       " 0.4619045949761048,\n",
       " 0.4619045949761048,\n",
       " 0.4619045949761048,\n",
       " 0.4619045949761048,\n",
       " 0.4619045949761048,\n",
       " 0.4619045949761048,\n",
       " 0.4619045949761048,\n",
       " 0.4619045949761048,\n",
       " 0.4619045949761048,\n",
       " 0.4619045949761048,\n",
       " 0.4619045949761048,\n",
       " 0.4619045949761048,\n",
       " 0.4619045949761048,\n",
       " 0.46190459497610475,\n",
       " 0.4619045949761048,\n",
       " 0.4619045949761048,\n",
       " 0.4619045949761048,\n",
       " 0.4619045949761048,\n",
       " 0.4619045949761048,\n",
       " 0.4619045949761048,\n",
       " 0.4619045949761048,\n",
       " 0.4619045949761048,\n",
       " 0.4619045949761048,\n",
       " 0.4619045949761048,\n",
       " 0.4619045949761048,\n",
       " 0.4619045949761048]"
      ]
     },
     "execution_count": 6,
     "metadata": {},
     "output_type": "execute_result"
    }
   ],
   "source": [
    "aggregated_metrics['accuracies_aggregated']"
   ]
  },
  {
   "cell_type": "code",
   "execution_count": 7,
   "metadata": {},
   "outputs": [
    {
     "data": {
      "text/plain": [
       "{0: [50.0],\n",
       " 1: [50.0],\n",
       " 2: [50.0],\n",
       " 3: [50.0],\n",
       " 4: [50.0],\n",
       " 5: [50.0],\n",
       " 6: [50.0],\n",
       " 7: [50.0],\n",
       " 8: [50.0],\n",
       " 9: [50.0],\n",
       " 10: [50.0],\n",
       " 11: [50.0],\n",
       " 12: [50.0],\n",
       " 13: [50.0],\n",
       " 14: [50.0],\n",
       " 15: [50.0],\n",
       " 16: [50.0],\n",
       " 17: [50.0],\n",
       " 18: [50.0],\n",
       " 19: [50.0],\n",
       " 20: [50.0],\n",
       " 21: [50.0],\n",
       " 22: [50.0],\n",
       " 23: [50.0],\n",
       " 24: [50.0],\n",
       " 25: [50.0],\n",
       " 26: [50.0],\n",
       " 27: [50.0],\n",
       " 28: [50.0],\n",
       " 29: [50.0],\n",
       " 30: []}"
      ]
     },
     "execution_count": 7,
     "metadata": {},
     "output_type": "execute_result"
    }
   ],
   "source": [
    "inbreast_metrics['local_loss']"
   ]
  },
  {
   "cell_type": "markdown",
   "metadata": {
    "tags": []
   },
   "source": [
    "## Curve"
   ]
  },
  {
   "cell_type": "code",
   "execution_count": 8,
   "metadata": {},
   "outputs": [
    {
     "data": {
      "text/plain": [
       "[0.0,\n",
       " 0.0,\n",
       " 0.0,\n",
       " 0.0,\n",
       " 0.0,\n",
       " 0.0,\n",
       " 0.0,\n",
       " 0.0,\n",
       " 0.0,\n",
       " 0.0,\n",
       " 0.0,\n",
       " 0.0,\n",
       " 0.0,\n",
       " 0.0,\n",
       " 0.0,\n",
       " 0.0,\n",
       " 0.0,\n",
       " 0.0,\n",
       " 0.0,\n",
       " 0.0,\n",
       " 0.0,\n",
       " 0.0,\n",
       " 0.0,\n",
       " 0.0,\n",
       " 0.0,\n",
       " 0.0,\n",
       " 0.0,\n",
       " 0.0,\n",
       " 0.0,\n",
       " 0.0]"
      ]
     },
     "execution_count": 8,
     "metadata": {},
     "output_type": "execute_result"
    }
   ],
   "source": [
    "[cmmd_metrics['local_loss'][i][0] for i in range(len(cmmd_metrics['local_loss'])-1)]"
   ]
  },
  {
   "cell_type": "code",
   "execution_count": 9,
   "metadata": {},
   "outputs": [],
   "source": [
    "cmmd_losses_local = np.array([cmmd_metrics['local_loss'][i][0] for i in range(len(cmmd_metrics['local_loss'])-1)])\n",
    "inbreast_losses_local = np.array([inbreast_metrics['local_loss'][i][0] for i in range(len(inbreast_metrics['local_loss'])-1)])\n",
    "stge_losses_local = np.array([stge_metrics['local_loss'][i][0] for i in range(len(stge_metrics['local_loss'])-1)])\n",
    "jarv_losses_local = np.array([jarv_metrics['local_loss'][i][0] for i in range(len(jarv_metrics['local_loss'])-1)])\n",
    "bcdr_losses_local = np.array([bcdr_metrics['local_loss'][i][0] for i in range(len(bcdr_metrics['local_loss'])-1)])\n",
    "steps = range(len(cmmd_losses_local))"
   ]
  },
  {
   "cell_type": "code",
   "execution_count": 10,
   "metadata": {},
   "outputs": [
    {
     "data": {
      "image/png": "[encoded data removed]",
      "text/plain": [
       "<Figure size 576x396 with 1 Axes>"
      ]
     },
     "metadata": {},
     "output_type": "display_data"
    }
   ],
   "source": [
    "plt.plot(steps, cmmd_losses_local,'-o', label='CMMD')\n",
    "plt.plot(steps, inbreast_losses_local,'-o', label='InBreast')\n",
    "plt.plot(steps, bcdr_losses_local,'-o', label='BCDR')\n",
    "plt.plot(steps, jarv_losses_local,'-o', label='OPTIMAM (jarv)')\n",
    "plt.plot(steps, stge_losses_local,'-o', label='OPTIMAM (stge)')\n",
    "plt.legend()\n",
    "plt.xlabel('Iteration')\n",
    "plt.ylim(0,1)\n",
    "plt.ylabel('BCELoss')\n",
    "plt.title('Training Loss Federated')\n",
    "plt.savefig('./plots/train_loss_per_center_30EPR1FR_MEDIAN.png')"
   ]
  },
  {
   "cell_type": "code",
   "execution_count": 11,
   "metadata": {},
   "outputs": [
    {
     "ename": "KeyError",
     "evalue": "'local_val_loss'",
     "output_type": "error",
     "traceback": [
      "\u001b[0;31m---------------------------------------------------------------------------\u001b[0m",
      "\u001b[0;31mKeyError\u001b[0m                                  Traceback (most recent call last)",
      "\u001b[0;32m/tmp/ipykernel_37283/2523701859.py\u001b[0m in \u001b[0;36m<module>\u001b[0;34m\u001b[0m\n\u001b[0;32m----> 1\u001b[0;31m \u001b[0;32mfor\u001b[0m \u001b[0mi\u001b[0m \u001b[0;32min\u001b[0m \u001b[0mrange\u001b[0m\u001b[0;34m(\u001b[0m\u001b[0mlen\u001b[0m\u001b[0;34m(\u001b[0m\u001b[0mcmmd_metrics\u001b[0m\u001b[0;34m[\u001b[0m\u001b[0;34m'local_val_loss'\u001b[0m\u001b[0;34m]\u001b[0m\u001b[0;34m)\u001b[0m\u001b[0;34m-\u001b[0m\u001b[0;36m1\u001b[0m\u001b[0;34m)\u001b[0m\u001b[0;34m:\u001b[0m\u001b[0;34m\u001b[0m\u001b[0;34m\u001b[0m\u001b[0m\n\u001b[0m\u001b[1;32m      2\u001b[0m     \u001b[0mprint\u001b[0m\u001b[0;34m(\u001b[0m\u001b[0mi\u001b[0m\u001b[0;34m)\u001b[0m\u001b[0;34m\u001b[0m\u001b[0;34m\u001b[0m\u001b[0m\n",
      "\u001b[0;31mKeyError\u001b[0m: 'local_val_loss'"
     ]
    }
   ],
   "source": [
    "for i in range(len(cmmd_metrics['local_val_loss'])-1):\n",
    "    print(i)"
   ]
  },
  {
   "cell_type": "code",
   "execution_count": null,
   "metadata": {},
   "outputs": [],
   "source": [
    "[cmmd_metrics['local_val_loss'][i] for i in range(len(cmmd_metrics['local_val_loss'])-1)]"
   ]
  },
  {
   "cell_type": "code",
   "execution_count": null,
   "metadata": {},
   "outputs": [],
   "source": [
    "cmmd_losses_local = np.array([cmmd_metrics['local_val_loss'][i] for i in range(len(cmmd_metrics['local_val_loss'])-1)])\n",
    "inbreast_losses_local = np.array([inbreast_metrics['local_val_loss'][i] for i in range(len(inbreast_metrics['local_val_loss'])-1)])\n",
    "stge_losses_local = np.array([stge_metrics['local_val_loss'][i] for i in range(len(stge_metrics['local_val_loss'])-1)])\n",
    "jarv_losses_local = np.array([jarv_metrics['local_val_loss'][i] for i in range(len(jarv_metrics['local_val_loss'])-1)])\n",
    "bcdr_losses_local = np.array([bcdr_metrics['local_val_loss'][i] for i in range(len(bcdr_metrics['local_val_loss'])-1)])\n",
    "steps = range(len(cmmd_losses_local))"
   ]
  },
  {
   "cell_type": "code",
   "execution_count": null,
   "metadata": {},
   "outputs": [],
   "source": [
    "plt.plot(steps, cmmd_losses_local,'-o', label='CMMD')\n",
    "plt.plot(steps, inbreast_losses_local,'-o', label='InBreast')\n",
    "plt.plot(steps, bcdr_losses_local,'-o', label='BCDR')\n",
    "plt.plot(steps, jarv_losses_local,'-o', label='OPTIMAM (jarv)')\n",
    "plt.plot(steps, stge_losses_local,'-o', label='OPTIMAM (stge)')\n",
    "plt.legend()\n",
    "plt.xlabel('Iteration')\n",
    "plt.ylim(0,1)\n",
    "plt.ylabel('BCELoss')\n",
    "plt.title('Validation Loss Federated')\n",
    "plt.savefig('./plots/val_loss_per_center_30EPR1FR_MEDIAN_Laterality.png')"
   ]
  },
  {
   "cell_type": "code",
   "execution_count": null,
   "metadata": {},
   "outputs": [],
   "source": [
    "plt.plot(steps, aggregated_metrics,'-o', label='aggregated')\n",
    "plt.legend()\n",
    "plt.xlabel('Iteration')\n",
    "plt.ylim(0,1)\n",
    "plt.ylabel('BCELoss')\n",
    "plt.title('Training Each Center Isolation')\n",
    "plt.savefig('./plots/sanity_check_success1EPR30FR.png')"
   ]
  },
  {
   "cell_type": "code",
   "execution_count": 12,
   "metadata": {},
   "outputs": [],
   "source": [
    "cmmd_accuracy = [cmmd_metrics['GMLD_true_positives'][i] / (cmmd_metrics['GMLD_true_positives'][i] + cmmd_metrics['GMLD_false_negatives'][i]) for i in range(len(cmmd_metrics['GMLD_true_positives']))]\n",
    "cmmd_sensitivity = [cmmd_metrics['GMLD_true_positives'][i] / (cmmd_metrics['GMLD_true_positives'][i] + cmmd_metrics['GMLD_false_negatives'][i]) for i in range(len(cmmd_metrics['GMLD_true_positives']))]\n",
    "cmmd_specificity = [cmmd_metrics['GMLD_true_negatives'][i] / (cmmd_metrics['GMLD_true_negatives'][i] + cmmd_metrics['GMLD_false_positives'][i]) for i in range(len(cmmd_metrics['GMLD_true_negatives']))]\n",
    "cmmd_f1 = [2 * cmmd_metrics['GMLD_true_positives'][i] / (2 * cmmd_metrics['GMLD_true_positives'][i] + cmmd_metrics['GMLD_false_positives'][i] + cmmd_metrics['GMLD_false_negatives'][i]) for i in range(len(cmmd_metrics['GMLD_true_positives']))]\n",
    "# cmmd_AUC = [sklearn.metrics.roc_auc_score(cmmd_metrics['GMLD_labels'][i].detach().numpy(), cmmd_metrics['GMLD_predictions'][i].detach().numpy()) for i in range(len(cmmd_metrics['GMLD_true_positives']))]\n"
   ]
  },
  {
   "cell_type": "code",
   "execution_count": 13,
   "metadata": {},
   "outputs": [],
   "source": [
    "stge_f1 = [2 * stge_metrics['GMLD_true_positives'][i] / (2 * stge_metrics['GMLD_true_positives'][i] + stge_metrics['GMLD_false_positives'][i] + stge_metrics['GMLD_false_negatives'][i]) for i in range(len(stge_metrics['GMLD_true_positives']))]\n",
    "jarv_f1 = [2 * jarv_metrics['GMLD_true_positives'][i] / (2 * jarv_metrics['GMLD_true_positives'][i] + jarv_metrics['GMLD_false_positives'][i] + jarv_metrics['GMLD_false_negatives'][i]) for i in range(len(jarv_metrics['GMLD_true_positives']))]\n",
    "bcdr_f1 = [2 * bcdr_metrics['GMLD_true_positives'][i] / (2 * bcdr_metrics['GMLD_true_positives'][i] + bcdr_metrics['GMLD_false_positives'][i] + bcdr_metrics['GMLD_false_negatives'][i]) for i in range(len(jarv_metrics['GMLD_true_positives']))]\n",
    "inbreast_f1 = [2 * inbreast_metrics['GMLD_true_positives'][i] / (2 * inbreast_metrics['GMLD_true_positives'][i] + inbreast_metrics['GMLD_false_positives'][i] + inbreast_metrics['GMLD_false_negatives'][i]) for i in range(len(jarv_metrics['GMLD_true_positives']))]"
   ]
  },
  {
   "cell_type": "code",
   "execution_count": 14,
   "metadata": {},
   "outputs": [],
   "source": [
    "all_true_positives = inbreast_metrics['GMLD_true_positives'][-1] + stge_metrics['GMLD_true_positives'][-1] + jarv_metrics['GMLD_true_positives'][-1] + bcdr_metrics['GMLD_true_positives'][-1] + cmmd_metrics['GMLD_true_positives'][-1]\n",
    "all_false_positives = inbreast_metrics['GMLD_false_positives'][-1] + stge_metrics['GMLD_false_positives'][-1] + jarv_metrics['GMLD_false_positives'][-1] + bcdr_metrics['GMLD_false_positives'][-1] + cmmd_metrics['GMLD_false_positives'][-1]\n",
    "all_false_negatives = inbreast_metrics['GMLD_false_negatives'][-1] + stge_metrics['GMLD_false_negatives'][-1] + jarv_metrics['GMLD_false_negatives'][-1] + bcdr_metrics['GMLD_false_negatives'][-1] + cmmd_metrics['GMLD_false_negatives'][-1]\n",
    "all_f1 = 2 * all_true_positives / (2 * all_true_positives + all_false_positives + all_false_negatives)"
   ]
  },
  {
   "cell_type": "code",
   "execution_count": null,
   "metadata": {},
   "outputs": [],
   "source": [
    "plt.plot(steps, jarv_f1,'-o', label='jarv')\n",
    "plt.plot(steps, stge_f1,'-o', label='stge')\n",
    "plt.plot(steps, bcdr_f1,'-o', label='bcdr')\n",
    "plt.plot(steps, inbreast_f1,'-o', label='inbreast')\n",
    "plt.plot(steps, cmmd_f1,'-o', label='cmmd')\n",
    "plt.legend()\n",
    "plt.xlabel('Iteration')\n",
    "plt.ylim(0.2,1)\n",
    "plt.ylabel('F1 Score')\n",
    "plt.title('Federated Median F1 Score per Center')\n",
    "plt.savefig('./plots/FMedian_F1_LateralityFlipAgainDense.png')"
   ]
  },
  {
   "cell_type": "code",
   "execution_count": 15,
   "metadata": {},
   "outputs": [
    {
     "name": "stdout",
     "output_type": "stream",
     "text": [
      "0.5454545454545454 0.672645739910314 0.6671968190854871 0.6654193950732772 0.6 0.665232093452198\n"
     ]
    }
   ],
   "source": [
    "print(inbreast_f1[-1], cmmd_f1[-1], jarv_f1[-1], stge_f1[-1], bcdr_f1[-1], all_f1) "
   ]
  },
  {
   "cell_type": "code",
   "execution_count": null,
   "metadata": {},
   "outputs": [],
   "source": [
    "all_true_positives = inbreast_metrics['GMLD_true_positives'][-1] + bcdr_metrics['GMLD_true_positives'][-1] + cmmd_metrics['GMLD_true_positives'][-1]\n",
    "all_false_positives = inbreast_metrics['GMLD_false_positives'][-1] + bcdr_metrics['GMLD_false_positives'][-1] + cmmd_metrics['GMLD_false_positives'][-1]\n",
    "all_false_negatives = inbreast_metrics['GMLD_false_negatives'][-1] + bcdr_metrics['GMLD_false_negatives'][-1] + cmmd_metrics['GMLD_false_negatives'][-1]\n",
    "no_optimam_f1 = 2 * all_true_positives / (2 * all_true_positives + all_false_positives + all_false_negatives)"
   ]
  },
  {
   "cell_type": "code",
   "execution_count": null,
   "metadata": {},
   "outputs": [],
   "source": [
    "no_optimam_f1"
   ]
  },
  {
   "cell_type": "code",
   "execution_count": null,
   "metadata": {},
   "outputs": [],
   "source": [
    "inbreast_accuracy = [inbreast_metrics['GMLD_true_positives'][i] / (inbreast_metrics['GMLD_true_positives'][i] + inbreast_metrics['GMLD_false_negatives'][i]) for i in range(len(inbreast_metrics['GMLD_true_positives']))]\n"
   ]
  },
  {
   "cell_type": "code",
   "execution_count": null,
   "metadata": {},
   "outputs": [],
   "source": [
    "cmmd_accuracy"
   ]
  }
 ],
 "metadata": {
  "kernelspec": {
   "display_name": "Python 3",
   "language": "python",
   "name": "python3"
  },
  "language_info": {
   "codemirror_mode": {
    "name": "ipython",
    "version": 3
   },
   "file_extension": ".py",
   "mimetype": "text/x-python",
   "name": "python",
   "nbconvert_exporter": "python",
   "pygments_lexer": "ipython3",
   "version": "3.7.6"
  }
 },
 "nbformat": 4,
 "nbformat_minor": 4
}
