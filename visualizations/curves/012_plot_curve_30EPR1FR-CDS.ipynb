{
 "cells": [
  {
   "cell_type": "code",
   "execution_count": 1,
   "metadata": {},
   "outputs": [],
   "source": [
    "seed = 42  # for reproducibility\n",
    "\n",
    "import pickle\n",
    "import numpy as np\n",
    "from matplotlib import pyplot as plt\n",
    "plt.rcParams[\"axes.grid\"] = False\n",
    "%matplotlib inline\n",
    "\n",
    "import os\n",
    "import sys\n",
    "from pathlib import Path\n",
    "import torch\n",
    "import torch.nn.functional as F\n",
    "from torchvision.utils import make_grid, save_image\n",
    "from sklearn.metrics import plot_confusion_matrix\n",
    "torch.manual_seed(seed)\n",
    "sys.path.append(str(Path().absolute().parent))\n",
    "plt.style.use('seaborn')"
   ]
  },
  {
   "cell_type": "code",
   "execution_count": 2,
   "metadata": {},
   "outputs": [],
   "source": [
    "exp_path = Path().absolute().parent.parent.joinpath('src/experiments/0085_CDS_30epr1fr_BALANCED_ResNet18_LateralityFixThenFlipAgain')\n",
    "clog_path = 'experiments/0086_CDS_30epr1fr_BALANCED_ResNet18_LateralityFixThenFlipAgainClient_Logs'\n",
    "all_path = Path().absolute().parent.parent.joinpath(f'src/{clog_path}/client_logs/all')"
   ]
  },
  {
   "cell_type": "code",
   "execution_count": 3,
   "metadata": {},
   "outputs": [],
   "source": [
    "pickle_file = 'log.pkl'\n",
    "with open(all_path.joinpath(pickle_file), 'rb') as handle:\n",
    "    CDS_metrics = pickle.load(handle)\n",
    "    "
   ]
  },
  {
   "cell_type": "markdown",
   "metadata": {},
   "source": [
    "# Accuracies, 5 folds, 100 epochs. Average so that you get 1,100 np array (averaged across folds)"
   ]
  },
  {
   "cell_type": "code",
   "execution_count": 5,
   "metadata": {},
   "outputs": [
    {
     "data": {
      "text/plain": [
       "[]"
      ]
     },
     "execution_count": 5,
     "metadata": {},
     "output_type": "execute_result"
    }
   ],
   "source": [
    "CDS_metrics['LMLD_train_accuracy']"
   ]
  },
  {
   "cell_type": "code",
   "execution_count": 6,
   "metadata": {},
   "outputs": [
    {
     "data": {
      "text/plain": [
       "{'local_loss': {0: [0.6158488988876343,\n",
       "   0.6063615083694458,\n",
       "   0.5416576862335205,\n",
       "   0.6445496082305908,\n",
       "   0.3643622100353241,\n",
       "   0.2579294741153717,\n",
       "   0.700147271156311,\n",
       "   0.4053659737110138,\n",
       "   0.410591185092926,\n",
       "   0.2677077353000641,\n",
       "   0.348111629486084,\n",
       "   0.1776287853717804,\n",
       "   0.0879649743437767,\n",
       "   0.11994063854217529,\n",
       "   0.10884536802768707,\n",
       "   0.31825530529022217,\n",
       "   0.0852564200758934,\n",
       "   0.11232945322990417,\n",
       "   0.018561696633696556,\n",
       "   0.11367371678352356,\n",
       "   0.014866726472973824,\n",
       "   0.05621230974793434,\n",
       "   0.27562105655670166,\n",
       "   0.019831912592053413,\n",
       "   0.02475341409444809,\n",
       "   0.03317424654960632,\n",
       "   0.0587800107896328,\n",
       "   0.004321357700973749,\n",
       "   0.01790335215628147,\n",
       "   0.0737544521689415],\n",
       "  1: []},\n",
       " 'GMLD_val_loss': {0: 0.7255603711324177, 1: []},\n",
       " 'LMLD_val_loss': {0: [1.775765299797058], 1: []},\n",
       " 'local_accuracy': [],\n",
       " 'local_sensitivity': [],\n",
       " 'local_specificity': [],\n",
       " 'local_val_predictions': [],\n",
       " 'GMLD_accuracy': [0.6936895439889452],\n",
       " 'GMLD_true_positives': [1770],\n",
       " 'GMLD_false_positives': [904],\n",
       " 'GMLD_false_negatives': [426],\n",
       " 'GMLD_true_negatives': [1242],\n",
       " 'GMLD_AUC': [0.774454782651504],\n",
       " 'LMLD_train_accuracy': [],\n",
       " 'LMLD_val_accuracy': [0.7646245969599264],\n",
       " 'LMLD_train_true_positives': [],\n",
       " 'LMLD_train_false_positives': [],\n",
       " 'LMLD_train_false_negatives': [],\n",
       " 'LMLD_train_true_negatives': [],\n",
       " 'LMLD_val_true_positives': [{'jarv': 690,\n",
       "   'stge': 854,\n",
       "   'inbreast': 18,\n",
       "   'bcdr': 18,\n",
       "   'cmmd': 172}],\n",
       " 'LMLD_val_false_positives': [{'jarv': 234,\n",
       "   'stge': 315,\n",
       "   'inbreast': 3,\n",
       "   'bcdr': 0,\n",
       "   'cmmd': 26}],\n",
       " 'LMLD_val_false_negatives': [{'jarv': 151,\n",
       "   'stge': 214,\n",
       "   'inbreast': 6,\n",
       "   'bcdr': 9,\n",
       "   'cmmd': 64}],\n",
       " 'LMLD_val_true_negatives': [{'jarv': 605,\n",
       "   'stge': 757,\n",
       "   'inbreast': 13,\n",
       "   'bcdr': 13,\n",
       "   'cmmd': 180}],\n",
       " 'LMLD_val_AUC': [{'jarv': 0.845385268403158,\n",
       "   'stge': 0.8289250726703561,\n",
       "   'inbreast': 0.8463541666666667,\n",
       "   'bcdr': 0.8945868945868946,\n",
       "   'cmmd': 0.8772626295869673}]}"
      ]
     },
     "execution_count": 6,
     "metadata": {},
     "output_type": "execute_result"
    }
   ],
   "source": [
    "CDS_metrics"
   ]
  },
  {
   "cell_type": "code",
   "execution_count": 13,
   "metadata": {},
   "outputs": [
    {
     "data": {
      "text/plain": [
       "[0.7554122524182404]"
      ]
     },
     "execution_count": 13,
     "metadata": {},
     "output_type": "execute_result"
    }
   ],
   "source": [
    "CDS_metrics['LMLD_val_accuracy']"
   ]
  },
  {
   "cell_type": "markdown",
   "metadata": {
    "tags": []
   },
   "source": [
    "## Curve"
   ]
  },
  {
   "cell_type": "code",
   "execution_count": null,
   "metadata": {},
   "outputs": [],
   "source": [
    "plt.plot(steps, cmmd_losses_local,'-o', label='CMMD')\n",
    "plt.plot(steps, inbreast_losses_local,'-o', label='InBreast')\n",
    "plt.plot(steps, bcdr_losses_local,'-o', label='BCDR')\n",
    "plt.plot(steps, jarv_losses_local,'-o', label='OPTIMAM (jarv)')\n",
    "plt.plot(steps, stge_losses_local,'-o', label='OPTIMAM (stge)')\n",
    "plt.legend()\n",
    "plt.xlabel('Iteration')\n",
    "plt.ylim(0,1)\n",
    "plt.ylabel('BCELoss')\n",
    "plt.title('Training Loss Isolated')\n",
    "plt.savefig('./plots/train_loss_per_center_30EPR1FR_isolated.png')"
   ]
  },
  {
   "cell_type": "code",
   "execution_count": null,
   "metadata": {},
   "outputs": [],
   "source": [
    "cmmd_metrics['local_val_loss']"
   ]
  },
  {
   "cell_type": "code",
   "execution_count": null,
   "metadata": {},
   "outputs": [],
   "source": [
    "for i in range(len(cmmd_metrics['local_val_loss'])-1):\n",
    "    print(i)"
   ]
  },
  {
   "cell_type": "code",
   "execution_count": 20,
   "metadata": {},
   "outputs": [
    {
     "data": {
      "image/png": "[encoded data removed]",
      "text/plain": [
       "<Figure size 576x396 with 1 Axes>"
      ]
     },
     "metadata": {},
     "output_type": "display_data"
    }
   ],
   "source": [
    "plt.plot(steps, cmmd_losses_local,'-o', label='CMMD')\n",
    "plt.plot(steps, inbreast_losses_local,'-o', label='InBreast')\n",
    "plt.plot(steps, bcdr_losses_local,'-o', label='BCDR')\n",
    "plt.plot(steps, jarv_losses_local,'-o', label='OPTIMAM (jarv)')\n",
    "plt.plot(steps, stge_losses_local,'-o', label='OPTIMAM (stge)')\n",
    "plt.legend()\n",
    "plt.xlabel('Iteration')\n",
    "plt.ylim(0,1)\n",
    "plt.ylabel('BCELoss')\n",
    "plt.title('Validation Loss Federated')\n",
    "plt.savefig('./plots/val_loss_per_center_30EPR1FR_MEDIAN.png')"
   ]
  },
  {
   "cell_type": "code",
   "execution_count": 20,
   "metadata": {},
   "outputs": [
    {
     "ename": "NameError",
     "evalue": "name 'cmmd_f1' is not defined",
     "output_type": "error",
     "traceback": [
      "\u001b[0;31m---------------------------------------------------------------------------\u001b[0m",
      "\u001b[0;31mNameError\u001b[0m                                 Traceback (most recent call last)",
      "\u001b[0;32m/tmp/ipykernel_35728/2665153844.py\u001b[0m in \u001b[0;36m<module>\u001b[0;34m\u001b[0m\n\u001b[1;32m      3\u001b[0m \u001b[0mplt\u001b[0m\u001b[0;34m.\u001b[0m\u001b[0mplot\u001b[0m\u001b[0;34m(\u001b[0m\u001b[0msteps\u001b[0m\u001b[0;34m,\u001b[0m \u001b[0mbcdr_f1\u001b[0m\u001b[0;34m,\u001b[0m\u001b[0;34m'-o'\u001b[0m\u001b[0;34m,\u001b[0m \u001b[0mlabel\u001b[0m\u001b[0;34m=\u001b[0m\u001b[0;34m'bcdr'\u001b[0m\u001b[0;34m)\u001b[0m\u001b[0;34m\u001b[0m\u001b[0;34m\u001b[0m\u001b[0m\n\u001b[1;32m      4\u001b[0m \u001b[0mplt\u001b[0m\u001b[0;34m.\u001b[0m\u001b[0mplot\u001b[0m\u001b[0;34m(\u001b[0m\u001b[0msteps\u001b[0m\u001b[0;34m,\u001b[0m \u001b[0minbreast_f1\u001b[0m\u001b[0;34m,\u001b[0m\u001b[0;34m'-o'\u001b[0m\u001b[0;34m,\u001b[0m \u001b[0mlabel\u001b[0m\u001b[0;34m=\u001b[0m\u001b[0;34m'inbreast'\u001b[0m\u001b[0;34m)\u001b[0m\u001b[0;34m\u001b[0m\u001b[0;34m\u001b[0m\u001b[0m\n\u001b[0;32m----> 5\u001b[0;31m \u001b[0mplt\u001b[0m\u001b[0;34m.\u001b[0m\u001b[0mplot\u001b[0m\u001b[0;34m(\u001b[0m\u001b[0msteps\u001b[0m\u001b[0;34m,\u001b[0m \u001b[0mcmmd_f1\u001b[0m\u001b[0;34m,\u001b[0m\u001b[0;34m'-o'\u001b[0m\u001b[0;34m,\u001b[0m \u001b[0mlabel\u001b[0m\u001b[0;34m=\u001b[0m\u001b[0;34m'cmmd'\u001b[0m\u001b[0;34m)\u001b[0m\u001b[0;34m\u001b[0m\u001b[0;34m\u001b[0m\u001b[0m\n\u001b[0m\u001b[1;32m      6\u001b[0m \u001b[0mplt\u001b[0m\u001b[0;34m.\u001b[0m\u001b[0mlegend\u001b[0m\u001b[0;34m(\u001b[0m\u001b[0;34m)\u001b[0m\u001b[0;34m\u001b[0m\u001b[0;34m\u001b[0m\u001b[0m\n\u001b[1;32m      7\u001b[0m \u001b[0mplt\u001b[0m\u001b[0;34m.\u001b[0m\u001b[0mxlabel\u001b[0m\u001b[0;34m(\u001b[0m\u001b[0;34m'Iteration'\u001b[0m\u001b[0;34m)\u001b[0m\u001b[0;34m\u001b[0m\u001b[0;34m\u001b[0m\u001b[0m\n",
      "\u001b[0;31mNameError\u001b[0m: name 'cmmd_f1' is not defined"
     ]
    },
    {
     "data": {
      "image/png": "[encoded data removed]",
      "text/plain": [
       "<Figure size 576x396 with 1 Axes>"
      ]
     },
     "metadata": {},
     "output_type": "display_data"
    }
   ],
   "source": [
    "plt.plot(steps, jarv_f1,'-o', label='jarv')\n",
    "plt.plot(steps, stge_f1,'-o', label='stge')\n",
    "plt.plot(steps, bcdr_f1,'-o', label='bcdr')\n",
    "plt.plot(steps, inbreast_f1,'-o', label='inbreast')\n",
    "plt.plot(steps, cmmd_f1,'-o', label='cmmd')\n",
    "plt.legend()\n",
    "plt.xlabel('Iteration')\n",
    "plt.ylim(0.2,1)\n",
    "plt.ylabel('F1 Score')\n",
    "plt.title('F1 Score per Center')\n",
    "plt.savefig('./plots/FMedian_F1_Isolated.png')"
   ]
  }
 ],
 "metadata": {
  "kernelspec": {
   "display_name": "Python 3",
   "language": "python",
   "name": "python3"
  },
  "language_info": {
   "codemirror_mode": {
    "name": "ipython",
    "version": 3
   },
   "file_extension": ".py",
   "mimetype": "text/x-python",
   "name": "python",
   "nbconvert_exporter": "python",
   "pygments_lexer": "ipython3",
   "version": "3.7.6"
  }
 },
 "nbformat": 4,
 "nbformat_minor": 4
}
