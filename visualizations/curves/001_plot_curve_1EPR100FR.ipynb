{
 "cells": [
  {
   "cell_type": "code",
   "execution_count": 13,
   "metadata": {},
   "outputs": [],
   "source": [
    "seed = 42  # for reproducibility\n",
    "\n",
    "import pickle\n",
    "import numpy as np\n",
    "from matplotlib import pyplot as plt\n",
    "plt.rcParams[\"axes.grid\"] = False\n",
    "%matplotlib inline\n",
    "\n",
    "import os\n",
    "import sys\n",
    "from pathlib import Path\n",
    "import torch\n",
    "import torch.nn.functional as F\n",
    "from torchvision.utils import make_grid, save_image\n",
    "from sklearn.metrics import plot_confusion_matrix\n",
    "torch.manual_seed(seed)\n",
    "sys.path.append(str(Path().absolute().parent))\n",
    "plt.style.use('seaborn')"
   ]
  },
  {
   "cell_type": "code",
   "execution_count": 23,
   "metadata": {},
   "outputs": [],
   "source": [
    "exp_path = Path().absolute().parent.parent.joinpath('BFP/src/experiments/0024_sanity_check_Everycenter_30epr1fr_BALANCED')\n",
    "optimam_path = Path().absolute().parent.parent.joinpath('BFP/src/client_logs/optimam')\n",
    "bcdr_path = Path().absolute().parent.parent.joinpath('BFP/src/client_logs/bcdr')\n",
    "inbreast_path = Path().absolute().parent.parent.joinpath('BFP/src/client_logs/inbreast')\n",
    "cmmd_path = Path().absolute().parent.parent.joinpath('BFP/src/client_logs/cmmd')"
   ]
  },
  {
   "cell_type": "code",
   "execution_count": 31,
   "metadata": {},
   "outputs": [],
   "source": [
    "pickle_file = 'log.pkl'\n",
    "with open(exp_path.joinpath(pickle_file), 'rb') as handle:\n",
    "    aggregated_metrics = pickle.load(handle)\n",
    "    \n",
    "with open(optimam_path.joinpath(pickle_file), 'rb') as handle:\n",
    "    optimam_metrics = pickle.load(handle)\n",
    "    \n",
    "with open(inbreast_path.joinpath(pickle_file), 'rb') as handle:\n",
    "    inbreast_metrics = pickle.load(handle)\n",
    "    \n",
    "with open(bcdr_path.joinpath(pickle_file), 'rb') as handle:\n",
    "    bcdr_metrics = pickle.load(handle)\n",
    "    \n",
    "with open(cmmd_path.joinpath(pickle_file), 'rb') as handle:\n",
    "    cmmd_metrics = pickle.load(handle)"
   ]
  },
  {
   "cell_type": "code",
   "execution_count": 25,
   "metadata": {},
   "outputs": [
    {
     "data": {
      "text/plain": [
       "dict_keys(['accuracies_aggregated', 'total_val_loss', 'time_spent'])"
      ]
     },
     "execution_count": 25,
     "metadata": {},
     "output_type": "execute_result"
    }
   ],
   "source": [
    "aggregated_metrics.keys()"
   ]
  },
  {
   "cell_type": "markdown",
   "metadata": {},
   "source": [
    "# Accuracies, 5 folds, 100 epochs. Average so that you get 1,100 np array (averaged across folds)"
   ]
  },
  {
   "cell_type": "code",
   "execution_count": 26,
   "metadata": {},
   "outputs": [
    {
     "data": {
      "text/plain": [
       "[0.670109395109395]"
      ]
     },
     "execution_count": 26,
     "metadata": {},
     "output_type": "execute_result"
    }
   ],
   "source": [
    "aggregated_metrics['accuracies_aggregated']"
   ]
  },
  {
   "cell_type": "code",
   "execution_count": 27,
   "metadata": {},
   "outputs": [
    {
     "data": {
      "text/plain": [
       "dict_keys(['local_loss', 'local_val_loss', 'local_accuracy', 'local_sensitivity', 'local_specificity', 'local_val_predictions', 'local_true_positives', 'local_false_positives', 'local_false_negatives', 'local_true_negatives'])"
      ]
     },
     "execution_count": 27,
     "metadata": {},
     "output_type": "execute_result"
    }
   ],
   "source": [
    "optimam_metrics.keys()"
   ]
  },
  {
   "cell_type": "code",
   "execution_count": 28,
   "metadata": {},
   "outputs": [
    {
     "data": {
      "text/plain": [
       "{0: []}"
      ]
     },
     "execution_count": 28,
     "metadata": {},
     "output_type": "execute_result"
    }
   ],
   "source": [
    "optimam_metrics['local_val_loss']"
   ]
  },
  {
   "cell_type": "code",
   "execution_count": 33,
   "metadata": {},
   "outputs": [
    {
     "data": {
      "text/plain": [
       "{0: [0.6593803763389587,\n",
       "  0.8103154301643372,\n",
       "  0.6082522869110107,\n",
       "  0.7287551760673523,\n",
       "  0.6363247036933899,\n",
       "  0.5892325639724731,\n",
       "  0.5501851439476013,\n",
       "  0.5078692436218262,\n",
       "  0.5249414443969727,\n",
       "  0.6755378246307373,\n",
       "  2.143693685531616,\n",
       "  0.9283223152160645,\n",
       "  1.055700659751892,\n",
       "  10.559627532958984,\n",
       "  0.6870673298835754,\n",
       "  0.9872264266014099,\n",
       "  0.29089128971099854,\n",
       "  0.4279891550540924,\n",
       "  0.2974512577056885,\n",
       "  0.5197098255157471,\n",
       "  0.1319233626127243,\n",
       "  0.02381478250026703,\n",
       "  0.04585299640893936,\n",
       "  0.01844809204339981,\n",
       "  0.025888917967677116,\n",
       "  0.012332305312156677,\n",
       "  0.0073725455440580845,\n",
       "  0.004618621896952391,\n",
       "  0.0031365149188786745,\n",
       "  0.002430347492918372],\n",
       " 1: []}"
      ]
     },
     "execution_count": 33,
     "metadata": {},
     "output_type": "execute_result"
    }
   ],
   "source": [
    "inbreast_metrics['local_loss']"
   ]
  },
  {
   "cell_type": "code",
   "execution_count": 32,
   "metadata": {},
   "outputs": [
    {
     "data": {
      "text/plain": [
       "{0: [0.345918208360672,\n",
       "  0.4137171506881714,\n",
       "  0.3277084529399872,\n",
       "  0.2851947247982025,\n",
       "  0.2927807569503784,\n",
       "  0.5418614745140076,\n",
       "  0.3821336627006531,\n",
       "  0.23696359992027283,\n",
       "  0.13516458868980408,\n",
       "  0.016445616260170937,\n",
       "  0.02777411788702011,\n",
       "  0.02578839287161827,\n",
       "  0.049116350710392,\n",
       "  0.036436017602682114,\n",
       "  0.06845282018184662,\n",
       "  0.06736395508050919,\n",
       "  0.23223380744457245,\n",
       "  0.0002107648178935051,\n",
       "  0.00022710418852511793,\n",
       "  7.039770571282133e-05,\n",
       "  0.005727535113692284,\n",
       "  0.00017419172218069434,\n",
       "  0.006696635857224464,\n",
       "  1.9997718482045457e-05,\n",
       "  0.0004603825800586492,\n",
       "  8.938487735576928e-05,\n",
       "  3.603220102377236e-05,\n",
       "  0.000723659002687782,\n",
       "  1.1712442756106611e-05,\n",
       "  2.1726284103351645e-05],\n",
       " 1: []}"
      ]
     },
     "execution_count": 32,
     "metadata": {},
     "output_type": "execute_result"
    }
   ],
   "source": [
    "cmmd_metrics['local_loss']"
   ]
  },
  {
   "cell_type": "code",
   "execution_count": 21,
   "metadata": {},
   "outputs": [
    {
     "data": {
      "text/plain": [
       "{0: 1.8485529720783234, 1: []}"
      ]
     },
     "execution_count": 21,
     "metadata": {},
     "output_type": "execute_result"
    }
   ],
   "source": [
    "inbreast_metrics['local_val_loss']"
   ]
  },
  {
   "cell_type": "code",
   "execution_count": 22,
   "metadata": {},
   "outputs": [
    {
     "data": {
      "text/plain": [
       "{0: 1.9693209409713746, 1: []}"
      ]
     },
     "execution_count": 22,
     "metadata": {},
     "output_type": "execute_result"
    }
   ],
   "source": [
    "bcdr_metrics['local_val_loss']"
   ]
  },
  {
   "cell_type": "markdown",
   "metadata": {},
   "source": [
    "## Confusion Matrix"
   ]
  },
  {
   "cell_type": "code",
   "execution_count": 8,
   "metadata": {},
   "outputs": [
    {
     "data": {
      "text/plain": [
       "(5, 2, 2)"
      ]
     },
     "execution_count": 8,
     "metadata": {},
     "output_type": "execute_result"
    }
   ],
   "source": [
    "confusion_matrices = np.array(train_val_losses['final_confusion_matrices']) \n",
    "confusion_matrices.shape # (folds, epochs, h, w)"
   ]
  },
  {
   "cell_type": "code",
   "execution_count": 11,
   "metadata": {},
   "outputs": [],
   "source": [
    "avg_cmatrix_across_folds = np.sum(confusion_matrices,0)"
   ]
  },
  {
   "cell_type": "code",
   "execution_count": null,
   "metadata": {},
   "outputs": [
    {
     "data": {
      "text/plain": [
       "<AxesSubplot:>"
      ]
     },
     "execution_count": 12,
     "metadata": {},
     "output_type": "execute_result"
    },
    {
     "data": {
      "image/png": "[encoded data removed]",
      "text/plain": [
       "<Figure size 576x396 with 2 Axes>"
      ]
     },
     "metadata": {},
     "output_type": "display_data"
    }
   ],
   "source": [
    "sns.heatmap(avg_cmatrix_across_folds, annot=True,  cmap=\"YlGnBu\")"
   ]
  },
  {
   "cell_type": "markdown",
   "metadata": {},
   "source": [
    "## Performance across folds"
   ]
  },
  {
   "cell_type": "code",
   "execution_count": null,
   "metadata": {},
   "outputs": [],
   "source": []
  },
  {
   "cell_type": "code",
   "execution_count": 26,
   "metadata": {},
   "outputs": [
    {
     "data": {
      "text/plain": [
       "0.7305"
      ]
     },
     "execution_count": 26,
     "metadata": {},
     "output_type": "execute_result"
    }
   ],
   "source": [
    "final_accuracy_v[-1]"
   ]
  },
  {
   "cell_type": "code",
   "execution_count": 27,
   "metadata": {},
   "outputs": [],
   "source": [
    "steps = range(len(final_train))"
   ]
  },
  {
   "cell_type": "code",
   "execution_count": 28,
   "metadata": {},
   "outputs": [],
   "source": [
    "train_performances = final_train #train_val_losses['train_losses']\n",
    "val_performances = final_val #train_val_losses['val_losses']\n",
    "train = np.array(train_performances)#[1:])\n",
    "val = np.array(val_performances)#[1:])"
   ]
  },
  {
   "cell_type": "code",
   "execution_count": 29,
   "metadata": {},
   "outputs": [],
   "source": [
    "y1,y2,x = train.squeeze()[:steps[-1]+1], val.squeeze()[:steps[-1]+1], steps"
   ]
  },
  {
   "cell_type": "code",
   "execution_count": 38,
   "metadata": {},
   "outputs": [
    {
     "data": {
      "text/plain": [
       "range(0, 2)"
      ]
     },
     "execution_count": 38,
     "metadata": {},
     "output_type": "execute_result"
    }
   ],
   "source": [
    "steps"
   ]
  },
  {
   "cell_type": "code",
   "execution_count": 47,
   "metadata": {},
   "outputs": [],
   "source": [
    "cmmd_losses_local_round1 = np.array(cmmd_metrics['local_loss'][0])\n",
    "inbreast_losses_local_round1 = np.array(inbreast_metrics['local_loss'][0])\n",
    "optimam_losses_local_round1 = np.array(optimam_metrics['local_loss'][0])\n",
    "bcdr_losses_local_round1 = np.array(bcdr_metrics['local_loss'][0])\n",
    "steps = range(len(cmmd_losses_local_round1))"
   ]
  },
  {
   "cell_type": "code",
   "execution_count": 48,
   "metadata": {},
   "outputs": [
    {
     "data": {
      "text/plain": [
       "range(0, 30)"
      ]
     },
     "execution_count": 48,
     "metadata": {},
     "output_type": "execute_result"
    }
   ],
   "source": [
    "steps"
   ]
  },
  {
   "cell_type": "code",
   "execution_count": 52,
   "metadata": {},
   "outputs": [
    {
     "data": {
      "text/plain": [
       "Text(0, 0.5, 'BCELoss')"
      ]
     },
     "execution_count": 52,
     "metadata": {},
     "output_type": "execute_result"
    },
    {
     "data": {
      "image/png": "[encoded data removed]",
      "text/plain": [
       "<Figure size 576x396 with 1 Axes>"
      ]
     },
     "metadata": {},
     "output_type": "display_data"
    }
   ],
   "source": [
    "plt.plot(steps, cmmd_losses_local_round1,'-o', label='CMMD')\n",
    "plt.plot(steps, inbreast_losses_local_round1,'-o', label='InBreast')\n",
    "plt.plot(steps, inbreast_losses_local_round1,'-o', label='InBreast')\n",
    "plt.legend()\n",
    "plt.xlabel('Iteration')\n",
    "plt.ylim(0,1)\n",
    "plt.ylabel('BCELoss')\n",
    "# plt.savefig(exp_path.joinpath('./plots/learning_curve.png'))"
   ]
  },
  {
   "cell_type": "code",
   "execution_count": 31,
   "metadata": {},
   "outputs": [],
   "source": [
    "train_performances = final_accuracy_t #train_val_losses['train_losses']\n",
    "val_performances = final_accuracy_v #train_val_losses['val_losses']\n",
    "train = np.array(train_performances)#[1:])\n",
    "val = np.array(val_performances)#[1:])\n",
    "y1,y2,x = train.squeeze()[:steps[-1]+1], val.squeeze()[:steps[-1]+1], steps"
   ]
  },
  {
   "cell_type": "code",
   "execution_count": 32,
   "metadata": {},
   "outputs": [
    {
     "data": {
      "image/png": "[encoded data removed]",
      "text/plain": [
       "<Figure size 576x396 with 1 Axes>"
      ]
     },
     "metadata": {},
     "output_type": "display_data"
    }
   ],
   "source": [
    "plt.plot(x,y1,'-o', label='Train Accuracy')\n",
    "plt.plot(x,y2,'-o', label='Validation Accuracy')\n",
    "plt.legend()\n",
    "plt.xlabel('Iteration')\n",
    "plt.ylim(0,1)\n",
    "plt.ylabel('Accuracy')\n",
    "plt.savefig(exp_path.joinpath('variables/learning_curve_accuracy.png'))"
   ]
  }
 ],
 "metadata": {
  "kernelspec": {
   "display_name": "Python 3",
   "language": "python",
   "name": "python3"
  },
  "language_info": {
   "codemirror_mode": {
    "name": "ipython",
    "version": 3
   },
   "file_extension": ".py",
   "mimetype": "text/x-python",
   "name": "python",
   "nbconvert_exporter": "python",
   "pygments_lexer": "ipython3",
   "version": "3.7.6"
  }
 },
 "nbformat": 4,
 "nbformat_minor": 4
}
