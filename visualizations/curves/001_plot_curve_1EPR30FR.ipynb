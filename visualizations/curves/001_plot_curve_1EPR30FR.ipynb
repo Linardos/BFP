{
 "cells": [
  {
   "cell_type": "code",
   "execution_count": 1,
   "metadata": {},
   "outputs": [],
   "source": [
    "seed = 42  # for reproducibility\n",
    "\n",
    "import pickle\n",
    "import numpy as np\n",
    "from matplotlib import pyplot as plt\n",
    "plt.rcParams[\"axes.grid\"] = False\n",
    "%matplotlib inline\n",
    "\n",
    "import os\n",
    "import sys\n",
    "from pathlib import Path\n",
    "import torch\n",
    "import torch.nn.functional as F\n",
    "from torchvision.utils import make_grid, save_image\n",
    "from sklearn.metrics import plot_confusion_matrix\n",
    "torch.manual_seed(seed)\n",
    "sys.path.append(str(Path().absolute().parent))\n",
    "plt.style.use('seaborn')"
   ]
  },
  {
   "cell_type": "code",
   "execution_count": 2,
   "metadata": {},
   "outputs": [],
   "source": [
    "exp_path = Path().absolute().parent.parent.joinpath('src/experiments/0037_Everycenter_1epr30fr_BALANCED_ResNet18')\n",
    "clog_path = 'experiments/0038_Everycenter_1epr30fr_BALANCED_ResNet18Client_Logs'\n",
    "stge_path = Path().absolute().parent.parent.joinpath(f'src/{clog_path}/client_logs/stge')\n",
    "jarv_path = Path().absolute().parent.parent.joinpath(f'src/{clog_path}/client_logs/jarv')\n",
    "bcdr_path = Path().absolute().parent.parent.joinpath(f'src/{clog_path}/client_logs/bcdr')\n",
    "inbreast_path = Path().absolute().parent.parent.joinpath(f'src/{clog_path}/client_logs/inbreast')\n",
    "cmmd_path = Path().absolute().parent.parent.joinpath(f'src/{clog_path}/client_logs/cmmd')"
   ]
  },
  {
   "cell_type": "code",
   "execution_count": 3,
   "metadata": {},
   "outputs": [],
   "source": [
    "pickle_file = 'log.pkl'\n",
    "with open(exp_path.joinpath(pickle_file), 'rb') as handle:\n",
    "    aggregated_metrics = pickle.load(handle)\n",
    "    \n",
    "with open(stge_path.joinpath(pickle_file), 'rb') as handle:\n",
    "    stge_metrics = pickle.load(handle)\n",
    "with open(jarv_path.joinpath(pickle_file), 'rb') as handle:\n",
    "    jarv_metrics = pickle.load(handle)\n",
    "    \n",
    "with open(inbreast_path.joinpath(pickle_file), 'rb') as handle:\n",
    "    inbreast_metrics = pickle.load(handle)\n",
    "    \n",
    "with open(bcdr_path.joinpath(pickle_file), 'rb') as handle:\n",
    "    bcdr_metrics = pickle.load(handle)\n",
    "    \n",
    "with open(cmmd_path.joinpath(pickle_file), 'rb') as handle:\n",
    "    cmmd_metrics = pickle.load(handle)"
   ]
  },
  {
   "cell_type": "code",
   "execution_count": 4,
   "metadata": {},
   "outputs": [
    {
     "data": {
      "text/plain": [
       "dict_keys(['local_loss', 'local_val_loss', 'local_accuracy', 'local_sensitivity', 'local_specificity', 'local_val_predictions', 'GMLD_accuracy', 'GMLD_true_positives', 'GMLD_false_positives', 'GMLD_false_negatives', 'GMLD_true_negatives', 'LMLD_train_accuracy', 'LMLD_val_accuracy', 'LMLD_train_true_positives', 'LMLD_train_false_positives', 'LMLD_train_false_negatives', 'LMLD_train_true_negatives', 'LMLD_val_true_positives', 'LMLD_val_false_positives', 'LMLD_val_false_negatives', 'LMLD_val_true_negatives'])"
      ]
     },
     "execution_count": 4,
     "metadata": {},
     "output_type": "execute_result"
    }
   ],
   "source": [
    "cmmd_metrics.keys()"
   ]
  },
  {
   "cell_type": "markdown",
   "metadata": {},
   "source": [
    "# Accuracies, 5 folds, 100 epochs. Average so that you get 1,100 np array (averaged across folds)"
   ]
  },
  {
   "cell_type": "code",
   "execution_count": 5,
   "metadata": {},
   "outputs": [
    {
     "data": {
      "text/plain": [
       "dict_keys(['accuracies_aggregated', 'total_val_loss', 'time_spent'])"
      ]
     },
     "execution_count": 5,
     "metadata": {},
     "output_type": "execute_result"
    }
   ],
   "source": [
    "aggregated_metrics.keys()"
   ]
  },
  {
   "cell_type": "code",
   "execution_count": 6,
   "metadata": {},
   "outputs": [
    {
     "data": {
      "text/plain": [
       "[0.5193827328480374,\n",
       " 0.5193827328480374,\n",
       " 0.5193827328480374,\n",
       " 0.5193827328480374,\n",
       " 0.5203014757383191,\n",
       " 0.5100428356445129,\n",
       " 0.5226810876663665,\n",
       " 0.4954225657574753,\n",
       " 0.5161480499015351,\n",
       " 0.5118808649838249,\n",
       " 0.5188698305546386,\n",
       " 0.5158546059721534,\n",
       " 0.512297290694788,\n",
       " 0.5302477172470258,\n",
       " 0.5175842591414825,\n",
       " 0.5132876386587938,\n",
       " 0.5292003906331522,\n",
       " 0.5090498106500828,\n",
       " 0.5328658774027142,\n",
       " 0.5238208578778025,\n",
       " 0.5321573404645026,\n",
       " 0.5515979710029851,\n",
       " 0.5254120812598944,\n",
       " 0.5225929728747966,\n",
       " 0.547192412993497,\n",
       " 0.5480511679250332,\n",
       " 0.5438273626411828,\n",
       " 0.5600304913923231,\n",
       " 0.5483674185001333,\n",
       " 0.561431681641014]"
      ]
     },
     "execution_count": 6,
     "metadata": {},
     "output_type": "execute_result"
    }
   ],
   "source": [
    "aggregated_metrics['accuracies_aggregated']"
   ]
  },
  {
   "cell_type": "code",
   "execution_count": 7,
   "metadata": {},
   "outputs": [
    {
     "data": {
      "text/plain": [
       "{0: [1.1443427801132202],\n",
       " 1: [0.9325849413871765],\n",
       " 2: [0.8701678514480591],\n",
       " 3: [0.8588899970054626],\n",
       " 4: [0.8528121113777161],\n",
       " 5: [0.7745046615600586],\n",
       " 6: [0.7385277152061462],\n",
       " 7: [0.7805755734443665],\n",
       " 8: [0.7584271430969238],\n",
       " 9: [0.7637662887573242],\n",
       " 10: [0.7540178298950195],\n",
       " 11: [0.7403079867362976],\n",
       " 12: [0.7441143989562988],\n",
       " 13: [0.7287701368331909],\n",
       " 14: [0.736424446105957],\n",
       " 15: [0.7235462069511414],\n",
       " 16: [0.721449077129364],\n",
       " 17: [0.7450446486473083],\n",
       " 18: [0.7187865376472473],\n",
       " 19: [0.7310479283332825],\n",
       " 20: [0.7154788970947266],\n",
       " 21: [0.6801043748855591],\n",
       " 22: [0.7082082033157349],\n",
       " 23: [0.7041675448417664],\n",
       " 24: [0.7367733120918274],\n",
       " 25: [0.7287675738334656],\n",
       " 26: [0.698555052280426],\n",
       " 27: [0.6521283984184265],\n",
       " 28: [0.6675334572792053],\n",
       " 29: [0.637397825717926],\n",
       " 30: []}"
      ]
     },
     "execution_count": 7,
     "metadata": {},
     "output_type": "execute_result"
    }
   ],
   "source": [
    "inbreast_metrics['local_loss']"
   ]
  },
  {
   "cell_type": "code",
   "execution_count": 8,
   "metadata": {},
   "outputs": [
    {
     "data": {
      "text/plain": [
       "{0: 0.8523129224777222,\n",
       " 1: 0.8203821629285812,\n",
       " 2: 0.7584989964962006,\n",
       " 3: 0.7079827934503555,\n",
       " 4: 0.6984523832798004,\n",
       " 5: 0.7012461125850677,\n",
       " 6: 0.6994884014129639,\n",
       " 7: 0.7070190161466599,\n",
       " 8: 0.7026475667953491,\n",
       " 9: 0.6998789310455322,\n",
       " 10: 0.7025073766708374,\n",
       " 11: 0.6962396800518036,\n",
       " 12: 0.7033772170543671,\n",
       " 13: 0.697287380695343,\n",
       " 14: 0.6975992023944855,\n",
       " 15: 0.7013732343912125,\n",
       " 16: 0.7128267884254456,\n",
       " 17: 0.7154164612293243,\n",
       " 18: 0.7114220261573792,\n",
       " 19: 0.717315673828125,\n",
       " 20: 0.6920034289360046,\n",
       " 21: 0.708725094795227,\n",
       " 22: 0.7244410812854767,\n",
       " 23: 0.7376985400915146,\n",
       " 24: 0.7255562841892242,\n",
       " 25: 0.7488965392112732,\n",
       " 26: 0.7555104494094849,\n",
       " 27: 0.7291366904973984,\n",
       " 28: 0.6958761364221573,\n",
       " 29: 0.7323072999715805,\n",
       " 30: []}"
      ]
     },
     "execution_count": 8,
     "metadata": {},
     "output_type": "execute_result"
    }
   ],
   "source": [
    "inbreast_metrics['local_val_loss']"
   ]
  },
  {
   "cell_type": "code",
   "execution_count": 9,
   "metadata": {},
   "outputs": [
    {
     "data": {
      "text/plain": [
       "{0: [3.005345344543457],\n",
       " 1: [2.3839781284332275],\n",
       " 2: [1.8987641334533691],\n",
       " 3: [1.4021074771881104],\n",
       " 4: [1.0845551490783691],\n",
       " 5: [1.0304367542266846],\n",
       " 6: [0.8168535232543945],\n",
       " 7: [0.8624017238616943],\n",
       " 8: [0.7981051802635193],\n",
       " 9: [0.7729936838150024],\n",
       " 10: [0.802237331867218],\n",
       " 11: [0.8140895366668701],\n",
       " 12: [0.8201922178268433],\n",
       " 13: [0.824570894241333],\n",
       " 14: [0.8206600546836853],\n",
       " 15: [0.7767572999000549],\n",
       " 16: [0.844875693321228],\n",
       " 17: [0.8004847764968872],\n",
       " 18: [0.8271381855010986],\n",
       " 19: [0.864345133304596],\n",
       " 20: [0.9075708389282227],\n",
       " 21: [0.8475119471549988],\n",
       " 22: [0.8439980745315552],\n",
       " 23: [0.7985549569129944],\n",
       " 24: [0.8513363599777222],\n",
       " 25: [0.8581637144088745],\n",
       " 26: [0.8487894535064697],\n",
       " 27: [0.8973938226699829],\n",
       " 28: [1.0515248775482178],\n",
       " 29: [1.02197265625],\n",
       " 30: []}"
      ]
     },
     "execution_count": 9,
     "metadata": {},
     "output_type": "execute_result"
    }
   ],
   "source": [
    "cmmd_metrics['local_loss']"
   ]
  },
  {
   "cell_type": "code",
   "execution_count": 10,
   "metadata": {},
   "outputs": [
    {
     "data": {
      "text/plain": [
       "{0: 1.0885679841041564,\n",
       " 1: 1.030191457271576,\n",
       " 2: 0.8970690131187439,\n",
       " 3: 0.7913832187652587,\n",
       " 4: 0.7460411429405213,\n",
       " 5: 0.7098162770271301,\n",
       " 6: 0.693239951133728,\n",
       " 7: 0.6926138401031494,\n",
       " 8: 0.6943698525428772,\n",
       " 9: 0.7005934953689575,\n",
       " 10: 0.7034425973892212,\n",
       " 11: 0.7055813431739807,\n",
       " 12: 0.7052080035209656,\n",
       " 13: 0.7029374003410339,\n",
       " 14: 0.7077769279479981,\n",
       " 15: 0.7102268218994141,\n",
       " 16: 0.7004337430000305,\n",
       " 17: 0.7067001223564148,\n",
       " 18: 0.7098592281341553,\n",
       " 19: 0.7170848608016968,\n",
       " 20: 0.7122958421707153,\n",
       " 21: 0.6929834961891175,\n",
       " 22: 0.6945363402366638,\n",
       " 23: 0.6799372553825378,\n",
       " 24: 0.677348792552948,\n",
       " 25: 0.6962828516960144,\n",
       " 26: 0.7019909381866455,\n",
       " 27: 0.7061091542243958,\n",
       " 28: 0.6892595291137695,\n",
       " 29: 0.6992909193038941,\n",
       " 30: []}"
      ]
     },
     "execution_count": 10,
     "metadata": {},
     "output_type": "execute_result"
    }
   ],
   "source": [
    "bcdr_metrics['local_val_loss']"
   ]
  },
  {
   "cell_type": "code",
   "execution_count": 11,
   "metadata": {},
   "outputs": [
    {
     "data": {
      "text/plain": [
       "[0.494920993227991,\n",
       " 0.494920993227991,\n",
       " 0.494920993227991,\n",
       " 0.494920993227991,\n",
       " 0.4994356659142212,\n",
       " 0.5468397291196389,\n",
       " 0.6066591422121896,\n",
       " 0.6139954853273137,\n",
       " 0.6241534988713319,\n",
       " 0.6128668171557562,\n",
       " 0.6207674943566591,\n",
       " 0.6258465011286681,\n",
       " 0.6258465011286681,\n",
       " 0.6252821670428894,\n",
       " 0.6343115124153499,\n",
       " 0.65744920993228,\n",
       " 0.6529345372460497,\n",
       " 0.6670428893905191,\n",
       " 0.6602708803611738,\n",
       " 0.6709932279909706,\n",
       " 0.6732505643340858,\n",
       " 0.6845372460496614,\n",
       " 0.7059819413092551,\n",
       " 0.7020316027088036,\n",
       " 0.6997742663656885,\n",
       " 0.7262979683972912,\n",
       " 0.7054176072234764,\n",
       " 0.7195259593679458,\n",
       " 0.7409706546275395,\n",
       " 0.7483069977426636]"
      ]
     },
     "execution_count": 11,
     "metadata": {},
     "output_type": "execute_result"
    }
   ],
   "source": [
    "cmmd_metrics['LMLD_train_accuracy']"
   ]
  },
  {
   "cell_type": "code",
   "execution_count": 12,
   "metadata": {},
   "outputs": [
    {
     "data": {
      "text/plain": [
       "[0.5292792792792793,\n",
       " 0.5292792792792793,\n",
       " 0.5292792792792793,\n",
       " 0.5292792792792793,\n",
       " 0.5315315315315315,\n",
       " 0.5067567567567568,\n",
       " 0.5923423423423423,\n",
       " 0.6103603603603603,\n",
       " 0.5743243243243243,\n",
       " 0.5540540540540541,\n",
       " 0.5788288288288288,\n",
       " 0.5675675675675675,\n",
       " 0.5630630630630631,\n",
       " 0.5900900900900901,\n",
       " 0.5788288288288288,\n",
       " 0.5945945945945946,\n",
       " 0.6013513513513513,\n",
       " 0.6058558558558559,\n",
       " 0.6193693693693694,\n",
       " 0.6013513513513513,\n",
       " 0.6148648648648649,\n",
       " 0.6171171171171171,\n",
       " 0.6283783783783784,\n",
       " 0.6216216216216216,\n",
       " 0.6216216216216216,\n",
       " 0.6238738738738738,\n",
       " 0.6261261261261262,\n",
       " 0.6103603603603603,\n",
       " 0.6261261261261262,\n",
       " 0.6351351351351351]"
      ]
     },
     "execution_count": 12,
     "metadata": {},
     "output_type": "execute_result"
    }
   ],
   "source": [
    "cmmd_metrics['LMLD_val_accuracy']"
   ]
  },
  {
   "cell_type": "markdown",
   "metadata": {
    "tags": []
   },
   "source": [
    "## Curve"
   ]
  },
  {
   "cell_type": "code",
   "execution_count": 13,
   "metadata": {},
   "outputs": [
    {
     "data": {
      "text/plain": [
       "[3.005345344543457,\n",
       " 2.3839781284332275,\n",
       " 1.8987641334533691,\n",
       " 1.4021074771881104,\n",
       " 1.0845551490783691,\n",
       " 1.0304367542266846,\n",
       " 0.8168535232543945,\n",
       " 0.8624017238616943,\n",
       " 0.7981051802635193,\n",
       " 0.7729936838150024,\n",
       " 0.802237331867218,\n",
       " 0.8140895366668701,\n",
       " 0.8201922178268433,\n",
       " 0.824570894241333,\n",
       " 0.8206600546836853,\n",
       " 0.7767572999000549,\n",
       " 0.844875693321228,\n",
       " 0.8004847764968872,\n",
       " 0.8271381855010986,\n",
       " 0.864345133304596,\n",
       " 0.9075708389282227,\n",
       " 0.8475119471549988,\n",
       " 0.8439980745315552,\n",
       " 0.7985549569129944,\n",
       " 0.8513363599777222,\n",
       " 0.8581637144088745,\n",
       " 0.8487894535064697,\n",
       " 0.8973938226699829,\n",
       " 1.0515248775482178,\n",
       " 1.02197265625]"
      ]
     },
     "execution_count": 13,
     "metadata": {},
     "output_type": "execute_result"
    }
   ],
   "source": [
    "[cmmd_metrics['local_loss'][i][0] for i in range(len(cmmd_metrics['local_loss'])-1)]"
   ]
  },
  {
   "cell_type": "code",
   "execution_count": 14,
   "metadata": {},
   "outputs": [],
   "source": [
    "cmmd_losses_local = np.array([cmmd_metrics['local_loss'][i][0] for i in range(len(cmmd_metrics['local_loss'])-1)])\n",
    "inbreast_losses_local = np.array([inbreast_metrics['local_loss'][i][0] for i in range(len(inbreast_metrics['local_loss'])-1)])\n",
    "stge_losses_local = np.array([stge_metrics['local_loss'][i][0] for i in range(len(stge_metrics['local_loss'])-1)])\n",
    "jarv_losses_local = np.array([jarv_metrics['local_loss'][i][0] for i in range(len(jarv_metrics['local_loss'])-1)])\n",
    "bcdr_losses_local = np.array([bcdr_metrics['local_loss'][i][0] for i in range(len(bcdr_metrics['local_loss'])-1)])\n",
    "steps = range(len(cmmd_losses_local))"
   ]
  },
  {
   "cell_type": "code",
   "execution_count": 15,
   "metadata": {},
   "outputs": [
    {
     "data": {
      "image/png": "[encoded data removed]",
      "text/plain": [
       "<Figure size 576x396 with 1 Axes>"
      ]
     },
     "metadata": {},
     "output_type": "display_data"
    }
   ],
   "source": [
    "plt.plot(steps, cmmd_losses_local,'-o', label='CMMD')\n",
    "plt.plot(steps, inbreast_losses_local,'-o', label='InBreast')\n",
    "plt.plot(steps, bcdr_losses_local,'-o', label='BCDR')\n",
    "plt.plot(steps, jarv_losses_local,'-o', label='OPTIMAM (jarv)')\n",
    "plt.plot(steps, stge_losses_local,'-o', label='OPTIMAM (stge)')\n",
    "plt.legend()\n",
    "plt.xlabel('Iteration')\n",
    "plt.ylim(0,1)\n",
    "plt.ylabel('BCELoss')\n",
    "plt.title('Training Loss Federated')\n",
    "plt.savefig('./plots/train_loss_per_center_30EPR1FR.png')"
   ]
  },
  {
   "cell_type": "code",
   "execution_count": 16,
   "metadata": {},
   "outputs": [
    {
     "data": {
      "text/plain": [
       "{0: 0.8182924873299069,\n",
       " 1: 0.7788127746846941,\n",
       " 2: 0.7331956790553199,\n",
       " 3: 0.6929238928688897,\n",
       " 4: 0.6911925382084316,\n",
       " 5: 0.6905094093746609,\n",
       " 6: 0.6926990548769633,\n",
       " 7: 0.6946257525020175,\n",
       " 8: 0.6965444684028625,\n",
       " 9: 0.693476574950748,\n",
       " 10: 0.6925204886330498,\n",
       " 11: 0.6921423104074266,\n",
       " 12: 0.6919877078798082,\n",
       " 13: 0.6939246031973098,\n",
       " 14: 0.69211532274882,\n",
       " 15: 0.6903212653266059,\n",
       " 16: 0.6963187098503113,\n",
       " 17: 0.6955286502838135,\n",
       " 18: 0.6906786719957988,\n",
       " 19: 0.6968067288398743,\n",
       " 20: 0.6947979874081082,\n",
       " 21: 0.6946406854523552,\n",
       " 22: 0.6929506950908237,\n",
       " 23: 0.700464853975508,\n",
       " 24: 0.7035677684677972,\n",
       " 25: 0.6950653658972846,\n",
       " 26: 0.695431731806861,\n",
       " 27: 0.7094229406780667,\n",
       " 28: 0.7024073322614034,\n",
       " 29: 0.708160196410285,\n",
       " 30: []}"
      ]
     },
     "execution_count": 16,
     "metadata": {},
     "output_type": "execute_result"
    }
   ],
   "source": [
    "cmmd_metrics['local_val_loss']"
   ]
  },
  {
   "cell_type": "code",
   "execution_count": 17,
   "metadata": {},
   "outputs": [
    {
     "name": "stdout",
     "output_type": "stream",
     "text": [
      "0\n",
      "1\n",
      "2\n",
      "3\n",
      "4\n",
      "5\n",
      "6\n",
      "7\n",
      "8\n",
      "9\n",
      "10\n",
      "11\n",
      "12\n",
      "13\n",
      "14\n",
      "15\n",
      "16\n",
      "17\n",
      "18\n",
      "19\n",
      "20\n",
      "21\n",
      "22\n",
      "23\n",
      "24\n",
      "25\n",
      "26\n",
      "27\n",
      "28\n",
      "29\n"
     ]
    }
   ],
   "source": [
    "for i in range(len(cmmd_metrics['local_val_loss'])-1):\n",
    "    print(i)"
   ]
  },
  {
   "cell_type": "code",
   "execution_count": 18,
   "metadata": {},
   "outputs": [
    {
     "data": {
      "text/plain": [
       "[0.8182924873299069,\n",
       " 0.7788127746846941,\n",
       " 0.7331956790553199,\n",
       " 0.6929238928688897,\n",
       " 0.6911925382084316,\n",
       " 0.6905094093746609,\n",
       " 0.6926990548769633,\n",
       " 0.6946257525020175,\n",
       " 0.6965444684028625,\n",
       " 0.693476574950748,\n",
       " 0.6925204886330498,\n",
       " 0.6921423104074266,\n",
       " 0.6919877078798082,\n",
       " 0.6939246031973098,\n",
       " 0.69211532274882,\n",
       " 0.6903212653266059,\n",
       " 0.6963187098503113,\n",
       " 0.6955286502838135,\n",
       " 0.6906786719957988,\n",
       " 0.6968067288398743,\n",
       " 0.6947979874081082,\n",
       " 0.6946406854523552,\n",
       " 0.6929506950908237,\n",
       " 0.700464853975508,\n",
       " 0.7035677684677972,\n",
       " 0.6950653658972846,\n",
       " 0.695431731806861,\n",
       " 0.7094229406780667,\n",
       " 0.7024073322614034,\n",
       " 0.708160196410285]"
      ]
     },
     "execution_count": 18,
     "metadata": {},
     "output_type": "execute_result"
    }
   ],
   "source": [
    "[cmmd_metrics['local_val_loss'][i] for i in range(len(cmmd_metrics['local_val_loss'])-1)]"
   ]
  },
  {
   "cell_type": "code",
   "execution_count": 19,
   "metadata": {},
   "outputs": [],
   "source": [
    "cmmd_losses_local = np.array([cmmd_metrics['local_val_loss'][i] for i in range(len(cmmd_metrics['local_val_loss'])-1)])\n",
    "inbreast_losses_local = np.array([inbreast_metrics['local_val_loss'][i] for i in range(len(inbreast_metrics['local_val_loss'])-1)])\n",
    "stge_losses_local = np.array([stge_metrics['local_val_loss'][i] for i in range(len(stge_metrics['local_val_loss'])-1)])\n",
    "jarv_losses_local = np.array([jarv_metrics['local_val_loss'][i] for i in range(len(jarv_metrics['local_val_loss'])-1)])\n",
    "bcdr_losses_local = np.array([bcdr_metrics['local_val_loss'][i] for i in range(len(bcdr_metrics['local_val_loss'])-1)])\n",
    "steps = range(len(cmmd_losses_local))"
   ]
  },
  {
   "cell_type": "code",
   "execution_count": 20,
   "metadata": {},
   "outputs": [
    {
     "data": {
      "image/png": "[encoded data removed]",
      "text/plain": [
       "<Figure size 576x396 with 1 Axes>"
      ]
     },
     "metadata": {},
     "output_type": "display_data"
    }
   ],
   "source": [
    "plt.plot(steps, cmmd_losses_local,'-o', label='CMMD')\n",
    "plt.plot(steps, inbreast_losses_local,'-o', label='InBreast')\n",
    "plt.plot(steps, bcdr_losses_local,'-o', label='BCDR')\n",
    "plt.plot(steps, jarv_losses_local,'-o', label='OPTIMAM (jarv)')\n",
    "plt.plot(steps, stge_losses_local,'-o', label='OPTIMAM (stge)')\n",
    "plt.legend()\n",
    "plt.xlabel('Iteration')\n",
    "plt.ylim(0,1)\n",
    "plt.ylabel('BCELoss')\n",
    "plt.title('Validation Loss Federated')\n",
    "plt.savefig('./plots/val_loss_per_center_30EPR1FR.png')"
   ]
  },
  {
   "cell_type": "code",
   "execution_count": 28,
   "metadata": {},
   "outputs": [],
   "source": [
    "stge_f1 = [2 * stge_metrics['GMLD_true_positives'][i] / (2 * stge_metrics['GMLD_true_positives'][i] + stge_metrics['GMLD_false_positives'][i] + stge_metrics['GMLD_false_negatives'][i]) for i in range(len(stge_metrics['GMLD_true_positives']))]\n",
    "jarv_f1 = [2 * jarv_metrics['GMLD_true_positives'][i] / (2 * jarv_metrics['GMLD_true_positives'][i] + jarv_metrics['GMLD_false_positives'][i] + jarv_metrics['GMLD_false_negatives'][i]) for i in range(len(jarv_metrics['GMLD_true_positives']))]\n",
    "bcdr_f1 = [2 * bcdr_metrics['GMLD_true_positives'][i] / (2 * bcdr_metrics['GMLD_true_positives'][i] + bcdr_metrics['GMLD_false_positives'][i] + bcdr_metrics['GMLD_false_negatives'][i]) for i in range(len(jarv_metrics['GMLD_true_positives']))]\n",
    "inbreast_f1 = [2 * inbreast_metrics['GMLD_true_positives'][i] / (2 * inbreast_metrics['GMLD_true_positives'][i] + inbreast_metrics['GMLD_false_positives'][i] + inbreast_metrics['GMLD_false_negatives'][i]) for i in range(len(jarv_metrics['GMLD_true_positives']))]\n",
    "cmmd_f1 = [2 * cmmd_metrics['GMLD_true_positives'][i] / (2 * cmmd_metrics['GMLD_true_positives'][i] + cmmd_metrics['GMLD_false_positives'][i] + cmmd_metrics['GMLD_false_negatives'][i]) for i in range(len(cmmd_metrics['GMLD_true_positives']))]"
   ]
  },
  {
   "cell_type": "code",
   "execution_count": 29,
   "metadata": {},
   "outputs": [
    {
     "data": {
      "text/plain": [
       "[0.6921944035346097,\n",
       " 0.6921944035346097,\n",
       " 0.6921944035346097,\n",
       " 0.6921944035346097,\n",
       " 0.6921944035346097,\n",
       " 0.6580645161290323,\n",
       " 0.5139186295503212,\n",
       " 0.4835164835164835,\n",
       " 0.4896073903002309,\n",
       " 0.5687022900763359,\n",
       " 0.5703564727954972,\n",
       " 0.5781818181818181,\n",
       " 0.5927272727272728,\n",
       " 0.599640933572711,\n",
       " 0.6028880866425993,\n",
       " 0.6093189964157706,\n",
       " 0.5798165137614679,\n",
       " 0.5767097966728281,\n",
       " 0.6077348066298343,\n",
       " 0.5741811175337187,\n",
       " 0.5606361829025845,\n",
       " 0.5880077369439072,\n",
       " 0.5621181262729125,\n",
       " 0.5553470919324578,\n",
       " 0.5633270321361059,\n",
       " 0.592156862745098,\n",
       " 0.5912698412698413,\n",
       " 0.5593869731800766,\n",
       " 0.5535353535353535,\n",
       " 0.5737704918032787]"
      ]
     },
     "execution_count": 29,
     "metadata": {},
     "output_type": "execute_result"
    }
   ],
   "source": [
    "cmmd_f1"
   ]
  }
 ],
 "metadata": {
  "kernelspec": {
   "display_name": "Python 3",
   "language": "python",
   "name": "python3"
  },
  "language_info": {
   "codemirror_mode": {
    "name": "ipython",
    "version": 3
   },
   "file_extension": ".py",
   "mimetype": "text/x-python",
   "name": "python",
   "nbconvert_exporter": "python",
   "pygments_lexer": "ipython3",
   "version": "3.7.6"
  }
 },
 "nbformat": 4,
 "nbformat_minor": 4
}
