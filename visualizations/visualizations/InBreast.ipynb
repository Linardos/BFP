{
 "cells": [
  {
   "cell_type": "code",
   "execution_count": 1,
   "id": "4d8ce842-0273-4061-8848-53c1c7b8d339",
   "metadata": {
    "tags": []
   },
   "outputs": [
    {
     "name": "stdout",
     "output_type": "stream",
     "text": [
      "Total clients selected by status (Normal): 29\n",
      "Total clients selected by status (Benign): 85\n",
      "Total clients selected by status (Malignant): 49\n"
     ]
    }
   ],
   "source": [
    "import os\n",
    "import numpy as np\n",
    "from PIL import Image\n",
    "from src.data_handling.mmg_detection_datasets import *\n",
    "from src.visualizations.plot_image import plot_image_opencv_fit_window\n",
    "from src.data_augmentation.breast_density.data.resize_image import *\n",
    "import torch\n",
    "\n",
    "from src.preprocessing.histogram_standardization import get_hist_stand_landmarks, apply_hist_stand_landmarks\n",
    "\n",
    "\n",
    "\n",
    "pathologies = None #['mass', 'calcifications', 'suspicious_calcifications', 'architectural_distortion'] # None to select all\n",
    "status = ['Normal', 'Benign', 'Malignant'] #['Normal'] \n",
    "# Resize images keeping aspect ratio\n",
    "\n",
    "# Call to the OPTIMAM Dataloader\n",
    "csv_path = '/home/lidia-garrucho/datasets/INBREAST/INbreast_updated_cropped_breast.csv'\n",
    "dataset_path = '/home/lidia-garrucho/datasets/INBREAST/AllPNG_cropped'\n",
    "inbreast_clients = INBreastDataset(csv_path, dataset_path, detection=False, load_max=-1, \n",
    "                                cropped_to_breast=True)\n",
    "\n",
    "\n",
    "for status in ['Normal', 'Benign', 'Malignant']:\n",
    "    clients_selected = inbreast_clients.get_clients_by_status(status)\n",
    "    print(f'Total clients selected by status ({status}): {len(clients_selected)}')"
   ]
  },
  {
   "cell_type": "code",
   "execution_count": 3,
   "id": "b2aa942c-4882-4bc0-8722-8e3b3f1d02cf",
   "metadata": {},
   "outputs": [
    {
     "name": "stdout",
     "output_type": "stream",
     "text": [
      "Total clients selected by status (Normal): 29, with total images: Benign, Normal, Malignant: 32, 67, 20\n",
      "Total clients selected by status (Benign): 85, with total images: Benign, Normal, Malignant: 242, 25, 70\n",
      "Total clients selected by status (Malignant): 49, with total images: Benign, Normal, Malignant: 74, 23, 100\n"
     ]
    }
   ],
   "source": [
    "for status in ['Normal', 'Benign', 'Malignant']:\n",
    "    m, b, n = 0,0,0\n",
    "    clients_selected = inbreast_clients.get_clients_by_status(status)\n",
    "    \n",
    "    for client in clients_selected:\n",
    "        b+=client.total_images(status='Benign')\n",
    "        n+=client.total_images(status='Normal')\n",
    "        m+=client.total_images(status='Malignant')\n",
    "    print(f'Total clients selected by status ({status}): {len(clients_selected)}, with total images: Benign, Normal, Malignant: {b}, {n}, {m}')\n",
    "    # print(f'Total clients selected by site ({site}): {len(clients_selected)}')\n",
    "    # print(f'Total clients selected by status at site ({site}) Benign, Normal, Malignant: {b}, {n}, {m}')"
   ]
  }
 ],
 "metadata": {
  "kernelspec": {
   "display_name": "Python 3",
   "language": "python",
   "name": "python3"
  },
  "language_info": {
   "codemirror_mode": {
    "name": "ipython",
    "version": 3
   },
   "file_extension": ".py",
   "mimetype": "text/x-python",
   "name": "python",
   "nbconvert_exporter": "python",
   "pygments_lexer": "ipython3",
   "version": "3.7.6"
  }
 },
 "nbformat": 4,
 "nbformat_minor": 5
}
