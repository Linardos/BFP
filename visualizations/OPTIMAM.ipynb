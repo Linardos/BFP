{
 "cells": [
  {
   "cell_type": "code",
   "execution_count": 1,
   "id": "4d8ce842-0273-4061-8848-53c1c7b8d339",
   "metadata": {
    "tags": []
   },
   "outputs": [
    {
     "name": "stdout",
     "output_type": "stream",
     "text": [
      "Total clients selected by status (Normal): 1030\n",
      "Total clients selected by status (Benign): 970\n",
      "Total clients selected by status (Malignant): 4000\n"
     ]
    }
   ],
   "source": [
    "import os\n",
    "import numpy as np\n",
    "from PIL import Image\n",
    "from src.data_handling.mmg_detection_datasets import *\n",
    "from src.visualizations.plot_image import plot_image_opencv_fit_window\n",
    "from src.data_augmentation.breast_density.data.resize_image import *\n",
    "import torch\n",
    "\n",
    "from src.preprocessing.histogram_standardization import get_hist_stand_landmarks, apply_hist_stand_landmarks\n",
    "\n",
    "# Cropped scans GPU Server\n",
    "# info_csv='/home/lidia-garrucho/datasets/OPTIMAM/png_screening_cropped_fixed/client_images_screening.csv'\n",
    "# dataset_path='/home/lidia-garrucho/datasets/OPTIMAM/png_screening_cropped_fixed/images'\n",
    "\n",
    "info_csv='/home/lidia-garrucho/datasets/OPTIMAM/png_screening_cropped_fixed/client_images_screening.csv'\n",
    "dataset_path='/home/lidia-garrucho/datasets/OPTIMAM/png_screening_cropped_fixed/images'\n",
    "\n",
    "pathologies = None #['mass', 'calcifications', 'suspicious_calcifications', 'architectural_distortion'] # None to select all\n",
    "status = ['Normal', 'Benign', 'Malignant'] #['Normal'] \n",
    "# Resize images keeping aspect ratio\n",
    "rescale_height = 224 #1333\n",
    "rescale_width = 224 #800\n",
    "plot_images = True\n",
    "\n",
    "# Call to the OPTIMAM Dataloader\n",
    "optimam_clients = OPTIMAMDataset(info_csv, dataset_path,detection=False, load_max=-1, \n",
    "                        cropped_to_breast=True)\n",
    "\n",
    "for status in ['Normal', 'Benign', 'Malignant']:\n",
    "    clients_selected = optimam_clients.get_clients_by_status(status)\n",
    "    print(f'Total clients selected by status ({status}): {len(clients_selected)}')"
   ]
  },
  {
   "cell_type": "code",
   "execution_count": 15,
   "id": "f2f93f3e-6b7b-43cf-a050-7153418e05e3",
   "metadata": {},
   "outputs": [
    {
     "data": {
      "text/plain": [
       "6000"
      ]
     },
     "execution_count": 15,
     "metadata": {},
     "output_type": "execute_result"
    }
   ],
   "source": [
    "4000+1030+970"
   ]
  },
  {
   "cell_type": "code",
   "execution_count": 16,
   "id": "fefd572a-44df-4020-9a3d-eca20ce5589d",
   "metadata": {},
   "outputs": [
    {
     "data": {
      "text/plain": [
       "6000"
      ]
     },
     "execution_count": 16,
     "metadata": {},
     "output_type": "execute_result"
    }
   ],
   "source": [
    "2468+361+3171"
   ]
  },
  {
   "cell_type": "code",
   "execution_count": 3,
   "id": "50234882-a147-4e1d-a4c1-c46b8a7aa9fa",
   "metadata": {},
   "outputs": [
    {
     "name": "stdout",
     "output_type": "stream",
     "text": [
      "Total clients selected by status (stge): 2468\n",
      "Total clients selected by status (adde): 361\n",
      "Total clients selected by status (jarv): 3171\n"
     ]
    }
   ],
   "source": [
    "for site in ['stge', 'adde', 'jarv']:\n",
    "    clients_selected = optimam_clients.get_images_by_site(site)\n",
    "    print(f'Total clients selected by status ({site}): {len(clients_selected)}')"
   ]
  },
  {
   "cell_type": "code",
   "execution_count": 20,
   "id": "c4caef7b-e50d-40af-8eee-5c5508f7b138",
   "metadata": {},
   "outputs": [
    {
     "ename": "AttributeError",
     "evalue": "'list' object has no attribute 'total_images'",
     "output_type": "error",
     "traceback": [
      "\u001b[0;31m---------------------------------------------------------------------------\u001b[0m",
      "\u001b[0;31mAttributeError\u001b[0m                            Traceback (most recent call last)",
      "\u001b[0;32m/tmp/ipykernel_18207/1029005865.py\u001b[0m in \u001b[0;36m<module>\u001b[0;34m\u001b[0m\n\u001b[0;32m----> 1\u001b[0;31m \u001b[0mclients_selected\u001b[0m\u001b[0;34m.\u001b[0m\u001b[0mtotal_images\u001b[0m\u001b[0;34m(\u001b[0m\u001b[0mstatus\u001b[0m\u001b[0;34m=\u001b[0m\u001b[0;34m'Benign'\u001b[0m\u001b[0;34m)\u001b[0m\u001b[0;34m\u001b[0m\u001b[0;34m\u001b[0m\u001b[0m\n\u001b[0m",
      "\u001b[0;31mAttributeError\u001b[0m: 'list' object has no attribute 'total_images'"
     ]
    }
   ],
   "source": [
    "clients_selected.total_images(status='Benign')"
   ]
  },
  {
   "cell_type": "code",
   "execution_count": 14,
   "id": "b2aa942c-4882-4bc0-8722-8e3b3f1d02cf",
   "metadata": {},
   "outputs": [
    {
     "name": "stdout",
     "output_type": "stream",
     "text": [
      "Total clients selected by site (stge): 2468\n",
      "Total clients selected by status at site (stge) Benign, Normal, Malignant: 5350, 4624, 9847\n",
      "Total clients selected by site (adde): 361\n",
      "Total clients selected by status at site (adde) Benign, Normal, Malignant: 0, 0, 1455\n",
      "Total clients selected by site (jarv): 3171\n",
      "Total clients selected by status at site (jarv) Benign, Normal, Malignant: 4190, 6021, 15401\n"
     ]
    }
   ],
   "source": [
    "for site in ['stge', 'adde', 'jarv']:\n",
    "    m, b, n = 0,0,0\n",
    "    clients_selected = optimam_clients.get_images_by_site(site)\n",
    "    for client in clients_selected:\n",
    "        b+=client.total_images(status='Benign')\n",
    "        n+=client.total_images(status='Normal')\n",
    "        m+=client.total_images(status='Malignant')\n",
    "    print(f'Total clients selected by site ({site}): {len(clients_selected)}')\n",
    "    print(f'Total clients selected by status at site ({site}) Benign, Normal, Malignant: {b}, {n}, {m}')"
   ]
  }
 ],
 "metadata": {
  "kernelspec": {
   "display_name": "Python 3",
   "language": "python",
   "name": "python3"
  },
  "language_info": {
   "codemirror_mode": {
    "name": "ipython",
    "version": 3
   },
   "file_extension": ".py",
   "mimetype": "text/x-python",
   "name": "python",
   "nbconvert_exporter": "python",
   "pygments_lexer": "ipython3",
   "version": "3.7.6"
  }
 },
 "nbformat": 4,
 "nbformat_minor": 5
}
