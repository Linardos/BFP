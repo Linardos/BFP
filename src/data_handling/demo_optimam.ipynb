{
 "cells": [
  {
   "cell_type": "code",
<<<<<<< HEAD
   "execution_count": 25,
   "metadata": {},
   "outputs": [
    {
     "name": "stdout",
     "output_type": "stream",
     "text": [
      "load them clients\n",
      "load them clients\n",
      "Total clients in loaded dataset: 3975\n",
      "Pahologies selected: ['mass']\n",
      "-----------------------------------\n",
      "Clients: 2251 - Images: 4069 - Annotations: 4248\n"
     ]
    }
   ],
=======
   "execution_count": null,
   "metadata": {},
   "outputs": [],
>>>>>>> 920121b20b0a49286324ef4318f59f9635848c5b
   "source": [
    "import os\n",
    "import numpy as np\n",
    "from PIL import Image\n",
    "from src.data_handling.optimam_dataset import OPTIMAMDataset\n",
    "from src.data_augmentation.breast_density.data.resize_image import *\n",
    "from tqdm import tqdm\n",
    "\n",
    "# Cropped scans GPU Server\n",
    "info_csv='/home/lidia-garrucho/datasets/OPTIMAM/png_screening_cropped_fixed/client_images_screening.csv'\n",
    "dataset_path='/home/lidia-garrucho/datasets/OPTIMAM/png_screening_cropped_fixed/images'\n",
    "output_path = '/home/lidia-garrucho/datasets/OPTIMAM/png_screening_cropped_fixed/detection/mask_rcnn'\n",
    "cropped_scans = True\n",
    "fit_to_breast = True\n",
    "\n",
    "detection = False\n",
    "load_max = -1\n",
    "pathologies = ['mass'] #['mass', 'calcifications', 'suspicious_calcifications', 'architectural_distortion'] # None to select all\n",
    "# Resize images keeping aspect ratio\n",
    "rescale_height = 224\n",
    "rescale_width = 224\n",
    "plot_images = False\n",
    "print(\"load them clients\")\n",
    "\n",
    "optimam_clients = OPTIMAMDataset(info_csv, dataset_path, detection=True, load_max=-1, \n",
    "                            cropped_scans=cropped_scans)\n",
    "# clients_selected = optimam_clients.get_clients_by_pathology_and_status(pathologies)\n",
    "print(\"load them clients\")\n",
<<<<<<< HEAD
    "clients_selected = optimam_clients.get_clients_by_site(['adde', 'stge', 'jarv'])\n",
=======
    "clients_selected = optimam_clients.get_clients_by_site(['adde', 'stge'])\n",
>>>>>>> 920121b20b0a49286324ef4318f59f9635848c5b
    "print(f'Total clients in loaded dataset: {len(optimam_clients)}')\n",
    "print(f'Pahologies selected: {pathologies}')\n",
    "print('-----------------------------------')\n",
    "print(f'Clients: {optimam_clients.total_clients(pathologies)} - Images: {optimam_clients.total_images(pathologies)} - Annotations: {optimam_clients.total_annotations(pathologies)}')\n",
    "\n",
    "manufacturer = 'HOLOGIC, Inc.'\n",
    "\n",
    "image_ctr = 0"
   ]
  },
  {
   "cell_type": "code",
<<<<<<< HEAD
   "execution_count": 36,
   "metadata": {},
   "outputs": [
    {
     "name": "stderr",
     "output_type": "stream",
     "text": [
      "100%|██████████| 3975/3975 [00:00<00:00, 84967.68it/s]\n"
     ]
    },
    {
     "data": {
      "text/plain": [
       "{'Benign': 345, 'Malignant': 3724, 'Interval Cancer': 0, 'Normal': 0}"
      ]
     },
     "execution_count": 36,
     "metadata": {},
     "output_type": "execute_result"
    }
   ],
   "source": [
    "statuscounts = dict.fromkeys(['Benign', 'Malignant', 'Interval Cancer', 'Normal'], 0)\n",
    "for client in tqdm(clients_selected):\n",
    "    images = client.get_images_by_pathology(pathologies)\n",
    "    for image in images:\n",
    "        statuscounts[image.status]+=1\n",
    "statuscounts"
   ]
  },
  {
   "cell_type": "code",
   "execution_count": 27,
   "metadata": {},
   "outputs": [],
   "source": [
    "import torch\n",
    "import yaml\n",
    "import importlib\n",
    "from pathlib import Path\n",
    "\n",
    "config_file = Path('config.yaml')\n",
    "with open(config_file) as file:\n",
    "  config = yaml.safe_load(file)\n",
    "all_centers = config['data']['centers']\n",
    "all_manufacturers = config['data']['manufacturers']\n",
    "all_partitions = [(c,m) for c in all_centers for m in all_manufacturers]"
   ]
  },
  {
   "cell_type": "code",
   "execution_count": 28,
   "metadata": {},
   "outputs": [],
   "source": [
    "all_partitions\n",
    "dcounts = dict.fromkeys(all_partitions, 0)"
   ]
  },
  {
   "cell_type": "code",
   "execution_count": 29,
   "metadata": {},
   "outputs": [
    {
     "data": {
      "text/plain": [
       "{('adde', 'HOLOGIC, Inc.'): 0,\n",
       " ('adde', 'Philips Digital Mammography Sweden AB'): 0,\n",
       " ('adde', 'GE MEDICAL SYSTEMS'): 0,\n",
       " ('adde', 'Philips Medical Systems'): 0,\n",
       " ('adde', 'SIEMENS'): 0,\n",
       " ('jarv', 'HOLOGIC, Inc.'): 0,\n",
       " ('jarv', 'Philips Digital Mammography Sweden AB'): 0,\n",
       " ('jarv', 'GE MEDICAL SYSTEMS'): 0,\n",
       " ('jarv', 'Philips Medical Systems'): 0,\n",
       " ('jarv', 'SIEMENS'): 0,\n",
       " ('stge', 'HOLOGIC, Inc.'): 0,\n",
       " ('stge', 'Philips Digital Mammography Sweden AB'): 0,\n",
       " ('stge', 'GE MEDICAL SYSTEMS'): 0,\n",
       " ('stge', 'Philips Medical Systems'): 0,\n",
       " ('stge', 'SIEMENS'): 0}"
      ]
     },
     "execution_count": 29,
     "metadata": {},
     "output_type": "execute_result"
    }
   ],
   "source": [
    "dcounts"
=======
   "execution_count": null,
   "metadata": {},
   "outputs": [],
   "source": [
    "print(clients_selected)"
>>>>>>> 920121b20b0a49286324ef4318f59f9635848c5b
   ]
  },
  {
   "cell_type": "code",
<<<<<<< HEAD
   "execution_count": 30,
   "metadata": {},
   "outputs": [],
   "source": [
    "for site in all_centers:\n",
    "    dcounts[site]=0"
   ]
  },
  {
   "cell_type": "code",
   "execution_count": 31,
   "metadata": {},
   "outputs": [
    {
     "name": "stderr",
     "output_type": "stream",
     "text": [
      "100%|██████████| 3975/3975 [00:00<00:00, 97860.86it/s]\n"
     ]
    }
   ],
   "source": [
=======
   "execution_count": null,
   "metadata": {},
   "outputs": [],
   "source": [
>>>>>>> 920121b20b0a49286324ef4318f59f9635848c5b
    "for client in tqdm(clients_selected):\n",
    "    images = client.get_images_by_pathology(pathologies)\n",
    "    for image in images:\n",
    "        status = image.status # ['Benign', 'Malignant', 'Interval Cancer', 'Normal']\n",
    "        site = image.site # ['adde', 'jarv', 'stge']\n",
    "        manufacturer = image.manufacturer # ['HOLOGIC, Inc.', 'Philips Digital Mammography Sweden AB', 'GE MEDICAL SYSTEMS', 'Philips Medical Systems', 'SIEMENS']\n",
<<<<<<< HEAD
    "        dcounts[(site, manufacturer)]+=1\n",
    "        dcounts[site]+=1\n",
    "        continue\n",
    "#         print(site, manufacturer)\n",
    "#         view = image.view # MLO_VIEW = ['MLO','LMLO','RMLO', 'LMO', 'ML'] CC_VIEW = ['CC','LCC','RCC', 'XCCL', 'XCCM']\n",
    "#         laterality = image.laterality # L R\n",
    "\n",
    "#         img_pil = Image.open(image.path).convert('RGB')\n",
    "#         img_np = np.array(img_pil)\n",
    "#         scale_size = (rescale_height, rescale_width)\n",
    "#         img_np = np.uint8(img_np) if img_np.dtype != np.uint8 else img_np.copy()\n",
    "#         rescaled_img, scale_factor = imrescale(img_np, scale_size, return_scale=True, backend='pillow')"
=======
    "        view = image.view # MLO_VIEW = ['MLO','LMLO','RMLO', 'LMO', 'ML'] CC_VIEW = ['CC','LCC','RCC', 'XCCL', 'XCCM']\n",
    "        laterality = image.laterality # L R\n",
    "\n",
    "        img_pil = Image.open(image.path).convert('RGB')\n",
    "        img_np = np.array(img_pil)\n",
    "        scale_size = (rescale_height, rescale_width)\n",
    "        img_np = np.uint8(img_np) if img_np.dtype != np.uint8 else img_np.copy()\n",
    "        rescaled_img, scale_factor = imrescale(img_np, scale_size, return_scale=True, backend='pillow')"
>>>>>>> 920121b20b0a49286324ef4318f59f9635848c5b
   ]
  },
  {
   "cell_type": "code",
<<<<<<< HEAD
   "execution_count": 32,
   "metadata": {},
   "outputs": [
    {
     "data": {
      "text/plain": [
       "{('adde', 'HOLOGIC, Inc.'): 20,\n",
       " ('adde', 'Philips Digital Mammography Sweden AB'): 407,\n",
       " ('adde', 'GE MEDICAL SYSTEMS'): 14,\n",
       " ('adde', 'Philips Medical Systems'): 0,\n",
       " ('adde', 'SIEMENS'): 0,\n",
       " ('jarv', 'HOLOGIC, Inc.'): 1979,\n",
       " ('jarv', 'Philips Digital Mammography Sweden AB'): 0,\n",
       " ('jarv', 'GE MEDICAL SYSTEMS'): 57,\n",
       " ('jarv', 'Philips Medical Systems'): 0,\n",
       " ('jarv', 'SIEMENS'): 0,\n",
       " ('stge', 'HOLOGIC, Inc.'): 1452,\n",
       " ('stge', 'Philips Digital Mammography Sweden AB'): 0,\n",
       " ('stge', 'GE MEDICAL SYSTEMS'): 13,\n",
       " ('stge', 'Philips Medical Systems'): 4,\n",
       " ('stge', 'SIEMENS'): 123,\n",
       " 'adde': 441,\n",
       " 'jarv': 2036,\n",
       " 'stge': 1592}"
      ]
     },
     "execution_count": 32,
     "metadata": {},
     "output_type": "execute_result"
    }
   ],
   "source": [
    "dcounts"
   ]
  },
  {
   "cell_type": "code",
   "execution_count": 79,
   "metadata": {},
   "outputs": [],
   "source": [
    "\n",
    "# site_status_counts = dict.fromkeys(['adde','jarv','stge'], dict.fromkeys(['Benign', 'Malignant'], 0))\n",
    "site_status_counts = {'adde': {'Benign': 0, 'Malignant': 0},\n",
    " 'jarv': {'Benign': 0, 'Malignant': 0},\n",
    " 'stge': {'Benign': 0, 'Malignant': 0}}"
   ]
  },
  {
   "cell_type": "code",
   "execution_count": 80,
   "metadata": {},
   "outputs": [
    {
     "data": {
      "text/plain": [
       "{'adde': {'Benign': 0, 'Malignant': 0},\n",
       " 'jarv': {'Benign': 0, 'Malignant': 0},\n",
       " 'stge': {'Benign': 0, 'Malignant': 0}}"
      ]
     },
     "execution_count": 80,
     "metadata": {},
     "output_type": "execute_result"
    }
   ],
   "source": [
    "site_status_counts"
   ]
  },
  {
   "cell_type": "code",
   "execution_count": 84,
   "metadata": {},
   "outputs": [
    {
     "name": "stderr",
     "output_type": "stream",
     "text": [
      "100%|██████████| 3975/3975 [00:00<00:00, 116814.56it/s]\n"
     ]
    }
   ],
   "source": [
    "\n",
    "site_status_counts = {'adde': {'Benign': 0, 'Malignant': 0},\n",
    " 'jarv': {'Benign': 0, 'Malignant': 0},\n",
    " 'stge': {'Benign': 0, 'Malignant': 0}}\n",
    "for client in tqdm(clients_selected):\n",
    "    images = client.get_images_by_pathology(pathologies)\n",
    "    for image in images:\n",
    "        status = image.status \n",
    "        site = image.site # ['adde', 'jarv', 'stge']\n",
    "        site_status_counts[site][status]+=1"
   ]
  },
  {
   "cell_type": "code",
   "execution_count": 85,
   "metadata": {},
   "outputs": [
    {
     "data": {
      "text/plain": [
       "{'adde': {'Benign': 0, 'Malignant': 441},\n",
       " 'jarv': {'Benign': 136, 'Malignant': 1900},\n",
       " 'stge': {'Benign': 209, 'Malignant': 1383}}"
      ]
     },
     "execution_count": 85,
     "metadata": {},
     "output_type": "execute_result"
    }
   ],
   "source": [
    "site_status_counts"
   ]
  },
  {
   "cell_type": "code",
   "execution_count": 91,
   "metadata": {},
   "outputs": [
    {
     "name": "stderr",
     "output_type": "stream",
     "text": [
      "100%|██████████| 3975/3975 [00:00<00:00, 96774.21it/s]\n"
     ]
    }
   ],
   "source": [
    "manufacturer_status_counts={'HOLOGIC, Inc.': {'Benign': 0, 'Malignant': 0},\n",
    " 'Philips Digital Mammography Sweden AB': {'Benign': 0, 'Malignant': 0},\n",
    " 'GE MEDICAL SYSTEMS': {'Benign': 0, 'Malignant': 0},\n",
    " 'Philips Medical Systems': {'Benign': 0, 'Malignant': 0},\n",
    " 'SIEMENS': {'Benign': 0, 'Malignant': 0}}\n",
    "\n",
    "for client in tqdm(clients_selected):\n",
    "    images = client.get_images_by_pathology(pathologies)\n",
    "    for image in images:\n",
    "        status = image.status \n",
    "        manufacturer = image.manufacturer # ['adde', 'jarv', 'stge']\n",
    "        manufacturer_status_counts[manufacturer][status]+=1"
   ]
  },
  {
   "cell_type": "code",
   "execution_count": 92,
   "metadata": {},
   "outputs": [
    {
     "data": {
      "text/plain": [
       "{'HOLOGIC, Inc.': {'Benign': 332, 'Malignant': 3119},\n",
       " 'Philips Digital Mammography Sweden AB': {'Benign': 0, 'Malignant': 407},\n",
       " 'GE MEDICAL SYSTEMS': {'Benign': 2, 'Malignant': 82},\n",
       " 'Philips Medical Systems': {'Benign': 0, 'Malignant': 4},\n",
       " 'SIEMENS': {'Benign': 11, 'Malignant': 112}}"
      ]
     },
     "execution_count": 92,
     "metadata": {},
     "output_type": "execute_result"
    }
   ],
   "source": [
    "manufacturer_status_counts"
   ]
  },
  {
   "cell_type": "code",
   "execution_count": 93,
   "metadata": {},
   "outputs": [
    {
     "ename": "NameError",
     "evalue": "name 'rescaled_img' is not defined",
     "output_type": "error",
     "traceback": [
      "\u001b[0;31m---------------------------------------------------------------------------\u001b[0m",
      "\u001b[0;31mNameError\u001b[0m                                 Traceback (most recent call last)",
      "\u001b[0;32m<ipython-input-93-b43997b3edee>\u001b[0m in \u001b[0;36m<module>\u001b[0;34m\u001b[0m\n\u001b[0;32m----> 1\u001b[0;31m \u001b[0mtype\u001b[0m\u001b[0;34m(\u001b[0m\u001b[0mrescaled_img\u001b[0m\u001b[0;34m)\u001b[0m\u001b[0;34m\u001b[0m\u001b[0;34m\u001b[0m\u001b[0m\n\u001b[0m",
      "\u001b[0;31mNameError\u001b[0m: name 'rescaled_img' is not defined"
     ]
    }
   ],
   "source": [
=======
   "execution_count": null,
   "metadata": {},
   "outputs": [],
   "source": [
>>>>>>> 920121b20b0a49286324ef4318f59f9635848c5b
    "type(rescaled_img)"
   ]
  },
  {
   "cell_type": "code",
   "execution_count": null,
   "metadata": {},
   "outputs": [],
   "source": []
  },
  {
   "cell_type": "code",
   "execution_count": null,
   "metadata": {},
   "outputs": [],
   "source": [
    "import torch\n",
    "import matplotlib.pyplot as plt\n",
    "torch.from_numpy(img_np)\n",
    "plt.imshow(img_np)"
   ]
  },
  {
   "cell_type": "code",
   "execution_count": null,
   "metadata": {},
   "outputs": [],
   "source": [
    "torch.from_numpy(rescaled_img).type()"
   ]
  },
  {
   "cell_type": "code",
   "execution_count": null,
   "metadata": {},
   "outputs": [],
   "source": [
    "\n",
    "plt.imshow(rescaled_img)"
   ]
  },
  {
   "cell_type": "code",
   "execution_count": null,
   "metadata": {},
   "outputs": [],
   "source": [
    "rescaled_img.shape"
   ]
  }
 ],
 "metadata": {
  "kernelspec": {
   "display_name": "Python 3",
   "language": "python",
   "name": "python3"
  },
  "language_info": {
   "codemirror_mode": {
    "name": "ipython",
    "version": 3
   },
   "file_extension": ".py",
   "mimetype": "text/x-python",
   "name": "python",
   "nbconvert_exporter": "python",
   "pygments_lexer": "ipython3",
   "version": "3.7.9"
  }
 },
 "nbformat": 4,
 "nbformat_minor": 4
}
