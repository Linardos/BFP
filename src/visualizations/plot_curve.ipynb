{
 "cells": [
  {
   "cell_type": "code",
   "execution_count": 1,
   "metadata": {},
   "outputs": [],
   "source": [
    "seed = 42  # for reproducibility\n",
    "\n",
    "import pickle\n",
    "import numpy as np\n",
    "from matplotlib import pyplot as plt\n",
    "plt.rcParams[\"axes.grid\"] = False\n",
    "%matplotlib inline\n",
    "\n",
    "import seaborn as sns\n",
    "import os\n",
    "import sys\n",
    "from pathlib import Path\n",
    "import torch\n",
    "import torch.nn.functional as F\n",
    "from torchvision.utils import make_grid, save_image\n",
    "from sklearn.metrics import plot_confusion_matrix\n",
    "torch.manual_seed(seed)\n",
    "sys.path.append(str(Path().absolute().parent))\n",
    "plt.style.use('seaborn')"
   ]
  },
  {
   "cell_type": "code",
   "execution_count": 2,
   "metadata": {},
   "outputs": [],
   "source": [
    "exp_path = Path().absolute().parent.parent.joinpath('experiments/0070_ResNet3D_18_K400_BC_FragmentedHeart_2MNM_federated_masktexture_1e-5earlyLR')\n",
    "# exp_path = Path().absolute().parent.parent.joinpath('experiments/0067_ResNet3D_18_K400_BC_FragmentedHeart_2MNM_federated_justmask_1e-7earlyLR')\n",
    "# exp_path = Path().absolute().parent.parent.joinpath('experiments/0008_ResNet3D_18_K400_withaugmentation_BC_1ch')\n",
    "# exp_path = Path().absolute().parent.parent.joinpath('experiments/0072_ResNet3D_18_K400_BC_FragmentedHeart_2MNM1ACDC_federated_masktexture_1e-5earlyLR_roinorm')\n",
    "# exp_path = Path().absolute().parent.parent.joinpath('experiments/0071_ResNet3D_18_K400_BC_FragmentedHeart_2MNM_federated_masktexture_1e-5earlyLR_roinorm')\n",
    "# exp_path = Path().absolute().parent.parent.joinpath('experiments/X0007_ResNet3D_18_K400_BC_FragmentedHeart_2MNM_federated_justmask_1e-6earlyLR')\n",
    "# exp_path = Path().absolute().parent.parent.joinpath('experiments/0068_ResNet3D_18_K400_BC_FragmentedHeart_2MNM_federated_mask&texture_1e-7earlyLR')\n",
    "# exp_path = Path().absolute().parent.parent.joinpath('experiments/0052_ResNet3D_18_K400_BC_1ch_Centralized_FragmentedHeart_2MNM_federated_justmask')\n",
    "exp_path = Path().absolute().parent.parent.joinpath('experiments/0093_3D_centersSD_federated_1e-5earlyLR_shapeAugs')\n",
    "exp_path = Path().absolute().parent.parent.joinpath('experiments/0097_3D_centersVSDSA_centralized_1e-5earlyLR_shapeAugs')\n",
    "exp_path = Path().absolute().parent.parent.joinpath('experiments/0088_3D_centersVSS_centralized_1e-5earlyLR_noAugs')\n",
    "exp_path = Path().absolute().parent.parent.joinpath('experiments/0084_AugmentationExperiments_ResNet3D_18_K400_BC_2MNM_centralized_1e-5earlyLR_shapeAugs')\n",
    "exp_path = Path().absolute().parent.parent.joinpath('experiments/0093_3D_centersVSDSA_federated_1e-5earlyLR_shapeAugs')\n",
    "exp_path = Path().absolute().parent.parent.joinpath('experiments/0121_3D_centersVSSA_FL_noAugs')"
   ]
  },
  {
   "cell_type": "code",
   "execution_count": 3,
   "metadata": {},
   "outputs": [],
   "source": [
    "pickle_file = 'variables/log.pkl'\n",
    "with open(exp_path.joinpath(pickle_file), 'rb') as handle:\n",
    "    train_val_losses = pickle.load(handle)"
   ]
  },
  {
   "cell_type": "code",
   "execution_count": 4,
   "metadata": {},
   "outputs": [
    {
     "data": {
      "text/plain": [
       "dict_keys([\"folds_indices_Vall d'Hebron\", 'folds_indices_Sagrada Familia', 'folds_indices_ACDC', 'folds_indices_SantPau', 'next_fold', 'test_predictions', 'final_train', 'final_val', 'final_confusion_matrices', 'sample_batch', 'val_predictions_SantPau', \"confusion_matrix_Vall d'Hebron\", \"test_predictions_Vall d'Hebron\", 'confusion_matrix_Sagrada Familia', 'test_predictions_Sagrada Familia', 'confusion_matrix_ACDC', 'test_predictions_ACDC', 'confusion_matrix_SantPau', 'test_predictions_SantPau'])"
      ]
     },
     "execution_count": 4,
     "metadata": {},
     "output_type": "execute_result"
    }
   ],
   "source": [
    "train_val_losses.keys()"
   ]
  },
  {
   "cell_type": "markdown",
   "metadata": {},
   "source": [
    "# Accuracies, 5 folds, 100 epochs. Average so that you get 1,100 np array (averaged across folds)"
   ]
  },
  {
   "cell_type": "code",
   "execution_count": 7,
   "metadata": {},
   "outputs": [
    {
     "data": {
      "text/plain": [
       "(5, 2, 2)"
      ]
     },
     "execution_count": 7,
     "metadata": {},
     "output_type": "execute_result"
    }
   ],
   "source": [
    "np.array(train_val_losses['final_confusion_matrices']).shape"
   ]
  },
  {
   "cell_type": "code",
   "execution_count": null,
   "metadata": {},
   "outputs": [],
   "source": []
  },
  {
   "cell_type": "code",
   "execution_count": 12,
   "metadata": {},
   "outputs": [
    {
     "data": {
      "text/plain": [
       "array([0.82      , 0.67      , 0.70166667, 0.78833333, 0.6725    ])"
      ]
     },
     "execution_count": 12,
     "metadata": {},
     "output_type": "execute_result"
    }
   ],
   "source": [
    "tenfolds[:,-1]"
   ]
  },
  {
   "cell_type": "code",
   "execution_count": 13,
   "metadata": {},
   "outputs": [],
   "source": [
    "# std_final_train = np.std(np.array(train_val_losses['final_train']), 0)\n",
    "# std_final_val = np.std(np.array(train_val_losses['final_val']), 0)\n",
    "# std_final_accuracy_t = np.std(np.array(train_val_losses['final_accuracy_t']), 0)\n",
    "# std_final_accuracy_v = np.std(np.array(train_val_losses['final_accuracy_v']), 0)"
   ]
  },
  {
   "cell_type": "code",
   "execution_count": 14,
   "metadata": {},
   "outputs": [],
   "source": [
    "# final_train = np.mean(np.array(train_val_losses['final_train']), 0)\n",
    "# final_val = np.mean(np.array(train_val_losses['final_val']), 0)\n",
    "# final_accuracy_t = np.mean(np.array(train_val_losses['final_accuracy_t']), 0)\n",
    "# final_accuracy_v = np.mean(np.array(train_val_losses['final_accuracy_v']), 0)"
   ]
  },
  {
   "cell_type": "code",
   "execution_count": 15,
   "metadata": {},
   "outputs": [
    {
     "name": "stdout",
     "output_type": "stream",
     "text": [
      "Train, Validation: 1.0+/-0.001, 0.73+/-0.062, -1\n"
     ]
    }
   ],
   "source": [
    "# print(f'Train, Validation: {round(final_accuracy_t[-1],3)}+/-{round(std_final_accuracy_t[-1],3)}, {round(final_accuracy_v[-1],3)}+/-{round(std_final_accuracy_v[-1],3)}, {-1}')\n",
    "# # print(f'Stdev Train: {std_final_accuracy_t[-1]}, Validation: {std_final_accuracy_v[-1]}')"
   ]
  },
  {
   "cell_type": "code",
   "execution_count": 16,
   "metadata": {},
   "outputs": [
    {
     "name": "stdout",
     "output_type": "stream",
     "text": [
      "Train, Validation, Epoch: 1.0+/-0.001, 0.738+/-0.055, 92\n"
     ]
    }
   ],
   "source": [
    "# best_epoch = 90+final_accuracy_v[90:].argmax()\n",
    "# print(f'Train, Validation, Epoch: {round(final_accuracy_t[best_epoch],3)}+/-{round(std_final_accuracy_t[best_epoch],3)}, {round(final_accuracy_v[best_epoch],3)}+/-{round(std_final_accuracy_v[best_epoch],3)}, {best_epoch}')\n",
    "# # print(f'Stdev Train: {std_final_accuracy_t[best_epoch]}, Validation: {std_final_accuracy_v[best_epoch]}')"
   ]
  },
  {
   "cell_type": "code",
   "execution_count": null,
   "metadata": {},
   "outputs": [],
   "source": []
  },
  {
   "cell_type": "markdown",
   "metadata": {},
   "source": [
    "## Confusion Matrix"
   ]
  },
  {
   "cell_type": "code",
   "execution_count": 8,
   "metadata": {},
   "outputs": [
    {
     "data": {
      "text/plain": [
       "(5, 2, 2)"
      ]
     },
     "execution_count": 8,
     "metadata": {},
     "output_type": "execute_result"
    }
   ],
   "source": [
    "confusion_matrices = np.array(train_val_losses['final_confusion_matrices']) \n",
    "confusion_matrices.shape # (folds, epochs, h, w)"
   ]
  },
  {
   "cell_type": "code",
   "execution_count": 11,
   "metadata": {},
   "outputs": [],
   "source": [
    "avg_cmatrix_across_folds = np.sum(confusion_matrices,0)"
   ]
  },
  {
   "cell_type": "code",
   "execution_count": 12,
   "metadata": {},
   "outputs": [
    {
     "data": {
      "text/plain": [
       "<AxesSubplot:>"
      ]
     },
     "execution_count": 12,
     "metadata": {},
     "output_type": "execute_result"
    },
    {
     "data": {
      "image/png": "[encoded data removed]",
      "text/plain": [
       "<Figure size 576x396 with 2 Axes>"
      ]
     },
     "metadata": {},
     "output_type": "display_data"
    }
   ],
   "source": [
    "sns.heatmap(avg_cmatrix_across_folds, annot=True,  cmap=\"YlGnBu\")"
   ]
  },
  {
   "cell_type": "markdown",
   "metadata": {},
   "source": [
    "## Performance across folds"
   ]
  },
  {
   "cell_type": "code",
   "execution_count": null,
   "metadata": {},
   "outputs": [],
   "source": []
  },
  {
   "cell_type": "code",
   "execution_count": 26,
   "metadata": {},
   "outputs": [
    {
     "data": {
      "text/plain": [
       "0.7305"
      ]
     },
     "execution_count": 26,
     "metadata": {},
     "output_type": "execute_result"
    }
   ],
   "source": [
    "final_accuracy_v[-1]"
   ]
  },
  {
   "cell_type": "code",
   "execution_count": 27,
   "metadata": {},
   "outputs": [],
   "source": [
    "steps = range(len(final_train))"
   ]
  },
  {
   "cell_type": "code",
   "execution_count": 28,
   "metadata": {},
   "outputs": [],
   "source": [
    "train_performances = final_train #train_val_losses['train_losses']\n",
    "val_performances = final_val #train_val_losses['val_losses']\n",
    "train = np.array(train_performances)#[1:])\n",
    "val = np.array(val_performances)#[1:])"
   ]
  },
  {
   "cell_type": "code",
   "execution_count": 29,
   "metadata": {},
   "outputs": [],
   "source": [
    "y1,y2,x = train.squeeze()[:steps[-1]+1], val.squeeze()[:steps[-1]+1], steps"
   ]
  },
  {
   "cell_type": "code",
   "execution_count": 30,
   "metadata": {},
   "outputs": [
    {
     "data": {
      "image/png": "[encoded data removed]",
      "text/plain": [
       "<Figure size 576x396 with 1 Axes>"
      ]
     },
     "metadata": {},
     "output_type": "display_data"
    }
   ],
   "source": [
    "plt.plot(x,y1,'-o', label='Train Loss')\n",
    "plt.plot(x,y2,'-o', label='Validation Loss')\n",
    "plt.legend()\n",
    "plt.xlabel('Iteration')\n",
    "plt.ylim(0,1)\n",
    "plt.ylabel('BCELoss')\n",
    "plt.savefig(exp_path.joinpath('variables/learning_curve.png'))"
   ]
  },
  {
   "cell_type": "code",
   "execution_count": 31,
   "metadata": {},
   "outputs": [],
   "source": [
    "train_performances = final_accuracy_t #train_val_losses['train_losses']\n",
    "val_performances = final_accuracy_v #train_val_losses['val_losses']\n",
    "train = np.array(train_performances)#[1:])\n",
    "val = np.array(val_performances)#[1:])\n",
    "y1,y2,x = train.squeeze()[:steps[-1]+1], val.squeeze()[:steps[-1]+1], steps"
   ]
  },
  {
   "cell_type": "code",
   "execution_count": 32,
   "metadata": {},
   "outputs": [
    {
     "data": {
      "image/png": "[encoded data removed]",
      "text/plain": [
       "<Figure size 576x396 with 1 Axes>"
      ]
     },
     "metadata": {},
     "output_type": "display_data"
    }
   ],
   "source": [
    "plt.plot(x,y1,'-o', label='Train Accuracy')\n",
    "plt.plot(x,y2,'-o', label='Validation Accuracy')\n",
    "plt.legend()\n",
    "plt.xlabel('Iteration')\n",
    "plt.ylim(0,1)\n",
    "plt.ylabel('Accuracy')\n",
    "plt.savefig(exp_path.joinpath('variables/learning_curve_accuracy.png'))"
   ]
  }
 ],
 "metadata": {
  "kernelspec": {
   "display_name": "Python 3",
   "language": "python",
   "name": "python3"
  },
  "language_info": {
   "codemirror_mode": {
    "name": "ipython",
    "version": 3
   },
   "file_extension": ".py",
   "mimetype": "text/x-python",
   "name": "python",
   "nbconvert_exporter": "python",
   "pygments_lexer": "ipython3",
   "version": "3.7.9"
  }
 },
 "nbformat": 4,
 "nbformat_minor": 4
}
